{
 "cells": [
  {
   "cell_type": "code",
   "execution_count": 1,
   "metadata": {},
   "outputs": [],
   "source": [
    "import nltk\n",
    "import pandas as pd\n",
    "import numpy as np\n",
    "import os\n",
    "\n",
    "from keras.preprocessing.text import Tokenizer\n",
    "from sklearn.linear_model import LogisticRegression\n",
    "from sklearn.metrics import accuracy_score, classification_report\n",
    "from sklearn.model_selection import train_test_split \n",
    "\n",
    "import pickle\n",
    "\n",
    "pd.set_option('display.max_columns', None)\n",
    "pd.set_option('display.max_colwidth', None)"
   ]
  },
  {
   "attachments": {},
   "cell_type": "markdown",
   "metadata": {},
   "source": [
    "# Dataset "
   ]
  },
  {
   "cell_type": "code",
   "execution_count": 2,
   "metadata": {},
   "outputs": [],
   "source": [
    "path = \"d:/01. sem1-22.23/NLP/dataset/sentiment-analysis/ntc-scv/data_train/\""
   ]
  },
  {
   "cell_type": "code",
   "execution_count": 3,
   "metadata": {},
   "outputs": [],
   "source": [
    "train_path = path + \"train\"\n",
    "test_path = path + \"test\""
   ]
  },
  {
   "cell_type": "code",
   "execution_count": 4,
   "metadata": {},
   "outputs": [],
   "source": [
    "train_neg, train_pos = [], []\n",
    "test_neg, test_pos = [], []\n",
    "\n",
    "train_neg = os.listdir(train_path + \"/neg\")\n",
    "train_pos = os.listdir(train_path + \"/pos\")\n",
    "test_neg = os.listdir(test_path + \"/neg\")\n",
    "test_pos = os.listdir(test_path + \"/pos\")"
   ]
  },
  {
   "cell_type": "code",
   "execution_count": 5,
   "metadata": {},
   "outputs": [
    {
     "data": {
      "text/plain": [
       "(15000, 15000, 5000, 5000)"
      ]
     },
     "execution_count": 5,
     "metadata": {},
     "output_type": "execute_result"
    }
   ],
   "source": [
    "len(train_neg),len(train_pos), len(test_neg),len(test_pos)"
   ]
  },
  {
   "attachments": {},
   "cell_type": "markdown",
   "metadata": {},
   "source": [
    "## Trainset"
   ]
  },
  {
   "cell_type": "code",
   "execution_count": 6,
   "metadata": {},
   "outputs": [],
   "source": [
    "trainset = []\n",
    "train_len_class = 10000\n",
    "# train neg\n",
    "for file in train_neg[:train_len_class]:\n",
    "    with open(train_path + \"/neg/\" + file, \"r\", encoding = \"utf-8\") as f:\n",
    "        trainset.append(f.read())\n",
    "\n",
    "# train pos\n",
    "for file in train_pos[:train_len_class]:\n",
    "    with open(train_path + \"/pos/\" + file, \"r\", encoding = \"utf-8\") as f:\n",
    "        trainset.append(f.read())"
   ]
  },
  {
   "attachments": {},
   "cell_type": "markdown",
   "metadata": {},
   "source": [
    "## Testset"
   ]
  },
  {
   "cell_type": "code",
   "execution_count": 7,
   "metadata": {},
   "outputs": [],
   "source": [
    "testset = []\n",
    "test_len_class = 1000\n",
    "# test neg\n",
    "for file in test_neg[:test_len_class]:\n",
    "    with open(test_path + \"/neg/\" + file, \"r\", encoding = \"utf-8\") as f:\n",
    "        testset.append(f.read())\n",
    "\n",
    "# test pos\n",
    "for file in test_pos[:test_len_class]:\n",
    "    with open(test_path + \"/pos/\" + file, \"r\", encoding = \"utf-8\") as f:\n",
    "        testset.append(f.read())"
   ]
  },
  {
   "cell_type": "code",
   "execution_count": 8,
   "metadata": {},
   "outputs": [],
   "source": [
    "y_train_neg = np.zeros(train_len_class)\n",
    "y_train_pos = np.ones(train_len_class)\n",
    "y_test_neg = np.zeros(test_len_class)\n",
    "y_test_pos = np.ones(test_len_class)\n",
    "\n",
    "y_train = np.concatenate([y_train_neg, y_train_pos])\n",
    "y_test = np.concatenate([y_test_neg, y_test_pos])"
   ]
  },
  {
   "cell_type": "code",
   "execution_count": 9,
   "metadata": {},
   "outputs": [
    {
     "data": {
      "text/html": [
       "<div>\n",
       "<style scoped>\n",
       "    .dataframe tbody tr th:only-of-type {\n",
       "        vertical-align: middle;\n",
       "    }\n",
       "\n",
       "    .dataframe tbody tr th {\n",
       "        vertical-align: top;\n",
       "    }\n",
       "\n",
       "    .dataframe thead th {\n",
       "        text-align: right;\n",
       "    }\n",
       "</style>\n",
       "<table border=\"1\" class=\"dataframe\">\n",
       "  <thead>\n",
       "    <tr style=\"text-align: right;\">\n",
       "      <th></th>\n",
       "      <th>cmt</th>\n",
       "      <th>class</th>\n",
       "    </tr>\n",
       "  </thead>\n",
       "  <tbody>\n",
       "    <tr>\n",
       "      <th>83</th>\n",
       "      <td>Thiết_kế : dạng giống bên quán urban station\\nGiá : tương_đối mềm\\nPhục_vụ : bình_thường\\nThức uống : đã thử trà đào và vanilla coffee . cực dở . trà thì hok ngọt , hok chát hay chua gì hết , kiểu cứ lợ lợ chắc do mình uống bên Phúc_Long quen rồi . cà_phê vị cũng lợ lợ , mà hok hiểu sao mình nó đặc lắm , hok phải vì đá , có cảm_giác bột bột .\\nNói_chung tiền nào cuả nấy . Mình thì chắc hok quay lại . Mà hok hiêủ sao quán đông dã_man . Chắc là_lạ khẩu_vị vs mấy em teen ở đây . mà vào đây toàn thấy \" nam thanh_nữ tú \" , ai cũng chu mỏ phồng má trợn mắt hết .\\nChắc do đã đi nhiều quán kiểu thiếu kế như_vậy nên thấy cũng bt .\\n</td>\n",
       "      <td>0.0</td>\n",
       "    </tr>\n",
       "    <tr>\n",
       "      <th>120</th>\n",
       "      <td>Quán dễ tìm trang_trí khá bắt_mắt đồ uống cũng khá ngon nhưng nhân_viên bảo_vệ quá tệ làm vỡ đèn_pha xe_khách không xin_lỗi thì_thôi còn tỏ_vẻ không liên_quan đến mình và thái_độ với khách_hàng quá tệ cho một ngày đẹp trời như hôm_nay lãng_phí 3 tiếng cuộc_đời\\n</td>\n",
       "      <td>0.0</td>\n",
       "    </tr>\n",
       "    <tr>\n",
       "      <th>463</th>\n",
       "      <td>Đây là toàn_bộ hình_hộp bánh mình mua .\\nHình thực_tế chứ không phải mình cố_tình dìm hàng .\\nBánh mới mua chưa mở hộp nhìn rất đẹp và ngon_mắt , nhưng chất_lượng bên trong hoàn_toàn khác .\\n</td>\n",
       "      <td>0.0</td>\n",
       "    </tr>\n",
       "  </tbody>\n",
       "</table>\n",
       "</div>"
      ],
      "text/plain": [
       "                                                                                                                                                                                                                                                                                                                                                                                                                                                                                                                                                                                                                                                         cmt  \\\n",
       "83   Thiết_kế : dạng giống bên quán urban station\\nGiá : tương_đối mềm\\nPhục_vụ : bình_thường\\nThức uống : đã thử trà đào và vanilla coffee . cực dở . trà thì hok ngọt , hok chát hay chua gì hết , kiểu cứ lợ lợ chắc do mình uống bên Phúc_Long quen rồi . cà_phê vị cũng lợ lợ , mà hok hiểu sao mình nó đặc lắm , hok phải vì đá , có cảm_giác bột bột .\\nNói_chung tiền nào cuả nấy . Mình thì chắc hok quay lại . Mà hok hiêủ sao quán đông dã_man . Chắc là_lạ khẩu_vị vs mấy em teen ở đây . mà vào đây toàn thấy \" nam thanh_nữ tú \" , ai cũng chu mỏ phồng má trợn mắt hết .\\nChắc do đã đi nhiều quán kiểu thiếu kế như_vậy nên thấy cũng bt .\\n   \n",
       "120                                                                                                                                                                                                                                                                                                                                                                                   Quán dễ tìm trang_trí khá bắt_mắt đồ uống cũng khá ngon nhưng nhân_viên bảo_vệ quá tệ làm vỡ đèn_pha xe_khách không xin_lỗi thì_thôi còn tỏ_vẻ không liên_quan đến mình và thái_độ với khách_hàng quá tệ cho một ngày đẹp trời như hôm_nay lãng_phí 3 tiếng cuộc_đời\\n   \n",
       "463                                                                                                                                                                                                                                                                                                                                                                                                                                                          Đây là toàn_bộ hình_hộp bánh mình mua .\\nHình thực_tế chứ không phải mình cố_tình dìm hàng .\\nBánh mới mua chưa mở hộp nhìn rất đẹp và ngon_mắt , nhưng chất_lượng bên trong hoàn_toàn khác .\\n   \n",
       "\n",
       "     class  \n",
       "83     0.0  \n",
       "120    0.0  \n",
       "463    0.0  "
      ]
     },
     "execution_count": 9,
     "metadata": {},
     "output_type": "execute_result"
    }
   ],
   "source": [
    "cols = [\"cmt\", \"class\"]\n",
    "train = pd.DataFrame(data = zip(trainset, y_train), columns=cols)\n",
    "test = pd.DataFrame(data = zip(testset, y_test), columns=cols)\n",
    "dataset = pd.concat([train, test])\n",
    "dataset.sample(3)"
   ]
  },
  {
   "cell_type": "code",
   "execution_count": 10,
   "metadata": {},
   "outputs": [
    {
     "name": "stdout",
     "output_type": "stream",
     "text": [
      "(22000, 2)\n"
     ]
    }
   ],
   "source": [
    "print(dataset.shape)"
   ]
  },
  {
   "cell_type": "code",
   "execution_count": 18,
   "metadata": {},
   "outputs": [],
   "source": [
    "modes = [\n",
    "    \"binary\",\n",
    "    \"tfidf\",\n",
    "    \"count\",\n",
    "    \"freq\"\n",
    "]\n",
    "model_names = [\"LGR_\" + mode for mode in modes]"
   ]
  },
  {
   "attachments": {},
   "cell_type": "markdown",
   "metadata": {},
   "source": [
    "# Word Tokenizer"
   ]
  },
  {
   "cell_type": "code",
   "execution_count": 12,
   "metadata": {},
   "outputs": [],
   "source": [
    "tokenizer = Tokenizer()\n",
    "tokenizer.fit_on_texts(texts=dataset.cmt)"
   ]
  },
  {
   "cell_type": "code",
   "execution_count": 13,
   "metadata": {},
   "outputs": [],
   "source": [
    "save_path = \"saved_models/\""
   ]
  },
  {
   "cell_type": "code",
   "execution_count": 14,
   "metadata": {},
   "outputs": [],
   "source": [
    "# save our tokenizer\n",
    "pickle.dump(tokenizer, open(\"tokenizer.sav\", 'wb'))"
   ]
  },
  {
   "attachments": {},
   "cell_type": "markdown",
   "metadata": {},
   "source": [
    "# Modeling"
   ]
  },
  {
   "cell_type": "code",
   "execution_count": 19,
   "metadata": {},
   "outputs": [
    {
     "name": "stderr",
     "output_type": "stream",
     "text": [
      "c:\\Users\\ASUS\\AppData\\Local\\Programs\\Python\\Python310\\lib\\site-packages\\sklearn\\linear_model\\_logistic.py:444: ConvergenceWarning: lbfgs failed to converge (status=1):\n",
      "STOP: TOTAL NO. of ITERATIONS REACHED LIMIT.\n",
      "\n",
      "Increase the number of iterations (max_iter) or scale the data as shown in:\n",
      "    https://scikit-learn.org/stable/modules/preprocessing.html\n",
      "Please also refer to the documentation for alternative solver options:\n",
      "    https://scikit-learn.org/stable/modules/linear_model.html#logistic-regression\n",
      "  n_iter_i = _check_optimize_result(\n"
     ]
    },
    {
     "name": "stdout",
     "output_type": "stream",
     "text": [
      "LGR_binary\n",
      "0.8690909090909091\n"
     ]
    },
    {
     "name": "stderr",
     "output_type": "stream",
     "text": [
      "c:\\Users\\ASUS\\AppData\\Local\\Programs\\Python\\Python310\\lib\\site-packages\\sklearn\\linear_model\\_logistic.py:444: ConvergenceWarning: lbfgs failed to converge (status=1):\n",
      "STOP: TOTAL NO. of ITERATIONS REACHED LIMIT.\n",
      "\n",
      "Increase the number of iterations (max_iter) or scale the data as shown in:\n",
      "    https://scikit-learn.org/stable/modules/preprocessing.html\n",
      "Please also refer to the documentation for alternative solver options:\n",
      "    https://scikit-learn.org/stable/modules/linear_model.html#logistic-regression\n",
      "  n_iter_i = _check_optimize_result(\n"
     ]
    },
    {
     "name": "stdout",
     "output_type": "stream",
     "text": [
      "LGR_tfidf\n",
      "0.8358181818181818\n"
     ]
    },
    {
     "name": "stderr",
     "output_type": "stream",
     "text": [
      "c:\\Users\\ASUS\\AppData\\Local\\Programs\\Python\\Python310\\lib\\site-packages\\sklearn\\linear_model\\_logistic.py:444: ConvergenceWarning: lbfgs failed to converge (status=1):\n",
      "STOP: TOTAL NO. of ITERATIONS REACHED LIMIT.\n",
      "\n",
      "Increase the number of iterations (max_iter) or scale the data as shown in:\n",
      "    https://scikit-learn.org/stable/modules/preprocessing.html\n",
      "Please also refer to the documentation for alternative solver options:\n",
      "    https://scikit-learn.org/stable/modules/linear_model.html#logistic-regression\n",
      "  n_iter_i = _check_optimize_result(\n"
     ]
    },
    {
     "name": "stdout",
     "output_type": "stream",
     "text": [
      "LGR_count\n",
      "0.8727272727272727\n",
      "LGR_freq\n",
      "0.8263636363636364\n"
     ]
    }
   ],
   "source": [
    "models = []\n",
    "\n",
    "for i in range(4):\n",
    "    # word vector\n",
    "    X = tokenizer.texts_to_matrix(texts=dataset.cmt, mode=modes[i])\n",
    "    x_train, x_test, y_train, y_test = train_test_split(X, dataset[\"class\"], random_state=1)\n",
    "    \n",
    "    # logistic regression\n",
    "    model = LogisticRegression()\n",
    "    model.fit(x_train, y_train)\n",
    "\n",
    "    # save model\n",
    "    models.append(model)\n",
    "    filename =  save_path + model_names[i] + \".sav\"\n",
    "    pickle.dump(model, open(filename, 'wb'))\n",
    "\n",
    "    # testing model \n",
    "    print(model_names[i])\n",
    "    y_pred = model.predict(x_test)\n",
    "    print(accuracy_score(y_pred=y_pred, y_true=y_test))"
   ]
  },
  {
   "cell_type": "code",
   "execution_count": 20,
   "metadata": {},
   "outputs": [],
   "source": [
    "import matplotlib.pyplot as plt"
   ]
  },
  {
   "cell_type": "code",
   "execution_count": 21,
   "metadata": {},
   "outputs": [],
   "source": [
    "acc = {\n",
    "    \"LGR_binary\": 0.8690909090909091,\n",
    "    \"LGR_tfidf\": 0.8358181818181818,\n",
    "    \"LGR_count\": 0.8727272727272727,\n",
    "    \"LGR_freq\": 0.8263636363636364\n",
    "}"
   ]
  },
  {
   "cell_type": "code",
   "execution_count": 24,
   "metadata": {},
   "outputs": [
    {
     "data": {
      "text/plain": [
       "<BarContainer object of 4 artists>"
      ]
     },
     "execution_count": 24,
     "metadata": {},
     "output_type": "execute_result"
    },
    {
     "data": {
      "image/png": "[encoded data removed]",
      "text/plain": [
       "<Figure size 640x480 with 1 Axes>"
      ]
     },
     "metadata": {},
     "output_type": "display_data"
    }
   ],
   "source": [
    "plt.bar(acc.keys(), acc.values())"
   ]
  }
 ],
 "metadata": {
  "kernelspec": {
   "display_name": "Python 3",
   "language": "python",
   "name": "python3"
  },
  "language_info": {
   "codemirror_mode": {
    "name": "ipython",
    "version": 3
   },
   "file_extension": ".py",
   "mimetype": "text/x-python",
   "name": "python",
   "nbconvert_exporter": "python",
   "pygments_lexer": "ipython3",
   "version": "3.10.6 (tags/v3.10.6:9c7b4bd, Aug  1 2022, 21:53:49) [MSC v.1932 64 bit (AMD64)]"
  },
  "orig_nbformat": 4,
  "vscode": {
   "interpreter": {
    "hash": "27f6fea6f47ae512550f0b8facdbd035a93e1dd89633f7bf2dd00a2502c71d0d"
   }
  }
 },
 "nbformat": 4,
 "nbformat_minor": 2
}
