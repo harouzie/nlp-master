{
 "cells": [
  {
   "cell_type": "code",
   "execution_count": 14,
   "id": "90489c52",
   "metadata": {},
   "outputs": [],
   "source": [
    "# !pip install sklearn_crfsuite"
   ]
  },
  {
   "cell_type": "code",
   "execution_count": 15,
   "id": "3a121633",
   "metadata": {},
   "outputs": [],
   "source": [
    "import pandas as pd\n",
    "import numpy as np\n",
    "import re\n",
    "from sklearn_crfsuite import CRF"
   ]
  },
  {
   "cell_type": "code",
   "execution_count": null,
   "id": "f129df23",
   "metadata": {},
   "outputs": [],
   "source": [
    "\n",
    "data = pd.read_csv(\"abc.csv\")\n",
    "print(data.shape)\n",
    "data.head(5)"
   ]
  },
  {
   "cell_type": "code",
   "execution_count": 3,
   "id": "3459fb07",
   "metadata": {},
   "outputs": [
    {
     "name": "stdout",
     "output_type": "stream",
     "text": [
      "13690\n",
      "13690\n"
     ]
    }
   ],
   "source": [
    "sentences = []\n",
    "tags = []\n",
    "i=0\n",
    "while i<len(data):\n",
    "    words=[]\n",
    "    t=[]\n",
    "    while (data.iloc[i,0])!=\".\" and data.iloc[i,1] !='.':\n",
    "        words.append(str(data.iloc[i,0]).lower())\n",
    "        t.append(data.iloc[i,1])\n",
    "        i=i+1\n",
    "    words.append('.')\n",
    "    t.append('.')\n",
    "    sentences.append(np.array(words))\n",
    "    tags.append(np.array(t))\n",
    "    i=i+1\n",
    "print(len(sentences))\n",
    "print(len(tags))"
   ]
  },
  {
   "cell_type": "code",
   "execution_count": 4,
   "id": "7722bf07",
   "metadata": {},
   "outputs": [
    {
     "name": "stdout",
     "output_type": "stream",
     "text": [
      "13690\n",
      "['thousands' 'of' 'demonstrators' 'have' 'marched' 'through' 'london' 'to'\n",
      " 'protest' 'the' 'war' 'in' 'iraq' 'and' 'demand' 'the' 'withdrawal' 'of'\n",
      " 'british' 'troops' 'from' 'that' 'country' '.']\n",
      "['NNS' 'IN' 'NNS' 'VBP' 'VBN' 'IN' 'NNP' 'TO' 'VB' 'DT' 'NN' 'IN' 'NNP'\n",
      " 'CC' 'VB' 'DT' 'NN' 'IN' 'JJ' 'NNS' 'IN' 'DT' 'NN' '.']\n",
      "['families' 'of' 'soldiers' 'killed' 'in' 'the' 'conflict' 'joined' 'the'\n",
      " 'protesters' 'who' 'carried' 'banners' 'with' 'such' 'slogans' 'as' '\"'\n",
      " 'bush' 'number' 'one' 'terrorist' '\"' 'and' '\"' 'stop' 'the' 'bombings'\n",
      " '\"' '.']\n",
      "['NNS' 'IN' 'NNS' 'VBN' 'IN' 'DT' 'NN' 'VBD' 'DT' 'NNS' 'WP' 'VBD' 'NNS'\n",
      " 'IN' 'JJ' 'NNS' 'IN' '``' 'NNP' 'NN' 'CD' 'NN' '``' 'CC' '``' 'VB' 'DT'\n",
      " 'NNS' '``' '.']\n",
      "['they' 'marched' 'from' 'the' 'houses' 'of' 'parliament' 'to' 'a' 'rally'\n",
      " 'in' 'hyde' 'park' '.']\n",
      "['PRP' 'VBD' 'IN' 'DT' 'NNS' 'IN' 'NN' 'TO' 'DT' 'NN' 'IN' 'NNP' 'NNP' '.']\n",
      "['police' 'put' 'the' 'number' 'of' 'marchers' 'at' '10,000' 'while'\n",
      " 'organizers' 'claimed' 'it' 'was' '1,00,000' '.']\n",
      "['NNS' 'VBD' 'DT' 'NN' 'IN' 'NNS' 'IN' 'CD' 'IN' 'NNS' 'VBD' 'PRP' 'VBD'\n",
      " 'CD' '.']\n",
      "['the' 'protest' 'comes' 'on' 'the' 'eve' 'of' 'the' 'annual' 'conference'\n",
      " 'of' 'britain' \"'s\" 'ruling' 'labor' 'party' 'in' 'the' 'southern'\n",
      " 'english' 'seaside' 'resort' 'of' 'brighton' '.']\n",
      "['DT' 'NN' 'VBZ' 'IN' 'DT' 'NN' 'IN' 'DT' 'JJ' 'NN' 'IN' 'NNP' 'POS' 'VBG'\n",
      " 'NNP' 'NNP' 'IN' 'DT' 'JJ' 'JJ' 'NN' 'NN' 'IN' 'NNP' '.']\n"
     ]
    }
   ],
   "source": [
    "print(len(sentences))\n",
    "for i in range(5):\n",
    "    print(sentences[i])\n",
    "    print(tags[i])"
   ]
  },
  {
   "cell_type": "code",
   "execution_count": 5,
   "id": "d823c316",
   "metadata": {},
   "outputs": [
    {
     "name": "stdout",
     "output_type": "stream",
     "text": [
      "[24, 30, 14, 15, 25, 24, 21, 28, 15, 25]\n",
      "Counter({20: 725, 21: 685, 22: 683, 25: 649, 18: 642, 24: 638, 23: 624, 19: 621, 17: 571, 27: 541, 16: 538, 15: 536, 26: 535, 28: 480, 14: 477, 29: 449, 13: 408, 30: 365, 12: 356, 31: 350, 11: 334, 32: 281, 10: 280, 9: 227, 34: 209, 33: 208, 8: 160, 35: 158, 36: 138, 7: 120, 37: 99, 6: 98, 38: 91, 39: 88, 40: 60, 41: 45, 5: 41, 43: 30, 42: 27, 44: 18, 46: 15, 4: 13, 45: 12, 47: 11, 48: 11, 49: 9, 50: 7, 52: 5, 59: 3, 61: 3, 60: 3, 56: 3, 55: 2, 3: 2, 70: 1, 1: 1, 51: 1, 57: 1, 53: 1, 65: 1})\n"
     ]
    },
    {
     "data": {
      "text/plain": [
       "<BarContainer object of 60 artists>"
      ]
     },
     "execution_count": 5,
     "metadata": {},
     "output_type": "execute_result"
    },
    {
     "data": {
      "image/png": "[encoded data removed]",
      "text/plain": [
       "<Figure size 640x480 with 1 Axes>"
      ]
     },
     "metadata": {},
     "output_type": "display_data"
    }
   ],
   "source": [
    "#statistics on sentences \n",
    "from collections import Counter \n",
    "import matplotlib.pyplot as plt\n",
    "\n",
    "len_sentences = [len(s) for s in sentences]\n",
    "print(len_sentences[:10])\n",
    "counter = Counter(len_sentences)\n",
    "print(counter)\n",
    "plt.bar(counter.keys(), counter.values())"
   ]
  },
  {
   "cell_type": "code",
   "execution_count": 6,
   "id": "72cca1f1",
   "metadata": {},
   "outputs": [],
   "source": [
    "from sklearn.model_selection import train_test_split\n",
    " \n",
    "train_sentences, test_sentences, train_tags, test_tags = train_test_split(sentences, tags, test_size=0.2)"
   ]
  },
  {
   "cell_type": "code",
   "execution_count": 7,
   "id": "3bfe6ea6",
   "metadata": {},
   "outputs": [],
   "source": [
    "def features(sentence,index):\n",
    "    return {\n",
    "        'is_first_capital':int(sentence[index][0].isupper()),\n",
    "        'is_first_word': int(index==0),\n",
    "        'is_last_word':int(index==len(sentence)-1),\n",
    "        'is_complete_capital': int(sentence[index].upper()==sentence[index]),\n",
    "        'prev_word':'' if index==0 else sentence[index-1],\n",
    "        'next_word':'' if index==len(sentence)-1 else sentence[index+1],\n",
    "        'is_numeric':int(sentence[index].isdigit()),\n",
    "        'is_alphanumeric': int(bool((re.match('^(?=.*[0-9]$)(?=.*[a-zA-Z])',sentence[index])))),\n",
    "        'prefix_1':sentence[index][0],\n",
    "        'prefix_2': sentence[index][:2],\n",
    "        'prefix_3':sentence[index][:3],\n",
    "        'prefix_4':sentence[index][:4],\n",
    "        'suffix_1':sentence[index][-1],\n",
    "        'suffix_2':sentence[index][-2:],\n",
    "        'suffix_3':sentence[index][-3:],\n",
    "        'suffix_4':sentence[index][-4:],\n",
    "        'word_has_hyphen': 1 if '-' in sentence[index] else 0\n",
    "    }"
   ]
  },
  {
   "cell_type": "code",
   "execution_count": 8,
   "id": "37052765",
   "metadata": {},
   "outputs": [],
   "source": [
    "def prepareData(tagged_sentences):\n",
    "    X=[]\n",
    "    for sentences in tagged_sentences:\n",
    "        X.append([features(sentences, index) for index in range(len(sentences))])\n",
    "    return X"
   ]
  },
  {
   "cell_type": "code",
   "execution_count": 11,
   "id": "6f739aa4",
   "metadata": {},
   "outputs": [],
   "source": [
    "X_train = prepareData(train_sentences)\n",
    "y_train = train_tags\n",
    "X_test = prepareData(test_sentences)\n",
    "y_test =  test_tags"
   ]
  },
  {
   "cell_type": "code",
   "execution_count": 12,
   "id": "2eab7698",
   "metadata": {},
   "outputs": [
    {
     "data": {
      "text/plain": [
       "{'is_first_capital': 0,\n",
       " 'is_first_word': 1,\n",
       " 'is_last_word': 0,\n",
       " 'is_complete_capital': 0,\n",
       " 'prev_word': '',\n",
       " 'next_word': 'officials',\n",
       " 'is_numeric': 0,\n",
       " 'is_alphanumeric': 0,\n",
       " 'prefix_1': 'i',\n",
       " 'prefix_2': 'ir',\n",
       " 'prefix_3': 'ira',\n",
       " 'prefix_4': 'iraq',\n",
       " 'suffix_1': 'i',\n",
       " 'suffix_2': 'qi',\n",
       " 'suffix_3': 'aqi',\n",
       " 'suffix_4': 'raqi',\n",
       " 'word_has_hyphen': 0}"
      ]
     },
     "execution_count": 12,
     "metadata": {},
     "output_type": "execute_result"
    }
   ],
   "source": [
    "X_train[1][0]"
   ]
  },
  {
   "cell_type": "code",
   "execution_count": 16,
   "id": "aebda401",
   "metadata": {},
   "outputs": [],
   "source": [
    "crf = CRF(\n",
    "    algorithm='lbfgs',\n",
    "    c1=0.01,\n",
    "    c2=0.1,\n",
    "    max_iterations=100,\n",
    "    all_possible_transitions=True\n",
    ")\n",
    "#crf.fit(X_train, y_train)\n",
    "try:\n",
    "    crf.fit(X_train, y_train)\n",
    "except AttributeError:\n",
    "    pass\n"
   ]
  },
  {
   "cell_type": "code",
   "execution_count": 17,
   "id": "f01803e2",
   "metadata": {},
   "outputs": [],
   "source": [
    "y_pred=crf.predict(X_test)\n",
    "y_pred_train=crf.predict(X_train)"
   ]
  },
  {
   "cell_type": "code",
   "execution_count": 18,
   "id": "e568a581",
   "metadata": {},
   "outputs": [
    {
     "name": "stdout",
     "output_type": "stream",
     "text": [
      "0.9697085825718667\n",
      "0.969761264346693\n"
     ]
    }
   ],
   "source": [
    "from sklearn_crfsuite import metrics\n",
    "from sklearn_crfsuite import scorers\n",
    "\n",
    "#F1 score test\n",
    "print(metrics.flat_f1_score(y_test, y_pred,average='weighted',labels=crf.classes_))\n",
    "#Accuracy score test\n",
    "print(metrics.flat_accuracy_score(y_test,y_pred))"
   ]
  },
  {
   "cell_type": "code",
   "execution_count": 19,
   "id": "61c45ab4",
   "metadata": {},
   "outputs": [
    {
     "name": "stdout",
     "output_type": "stream",
     "text": [
      "0.9931257023869586\n",
      "0.9931316850488154\n"
     ]
    }
   ],
   "source": [
    "#F1 score train\n",
    "print(metrics.flat_f1_score(y_train, y_pred_train,average='weighted',labels=crf.classes_))\n",
    "#Accuracy score train\n",
    "print(metrics.flat_accuracy_score(y_train,y_pred_train))"
   ]
  },
  {
   "cell_type": "code",
   "execution_count": 20,
   "id": "32e8665f",
   "metadata": {},
   "outputs": [
    {
     "data": {
      "text/plain": [
       "['DT',\n",
       " 'JJ',\n",
       " 'NN',\n",
       " 'VBD',\n",
       " 'VBN',\n",
       " '.',\n",
       " 'NNS',\n",
       " 'VBP',\n",
       " 'IN',\n",
       " 'CD',\n",
       " 'JJS',\n",
       " ',',\n",
       " 'VBG',\n",
       " 'NNP',\n",
       " 'RB',\n",
       " 'VBZ',\n",
       " 'PRP',\n",
       " 'MD',\n",
       " 'VB',\n",
       " 'TO',\n",
       " 'CC',\n",
       " 'WDT',\n",
       " 'PRP$',\n",
       " 'WP',\n",
       " 'LRB',\n",
       " 'POS',\n",
       " 'RRB',\n",
       " 'RP',\n",
       " '``',\n",
       " 'NNPS',\n",
       " 'JJR',\n",
       " 'PDT',\n",
       " 'RBR',\n",
       " 'EX',\n",
       " ':',\n",
       " '$',\n",
       " 'WRB',\n",
       " 'RBS',\n",
       " ';',\n",
       " 'WP$',\n",
       " 'UH']"
      ]
     },
     "execution_count": 20,
     "metadata": {},
     "output_type": "execute_result"
    }
   ],
   "source": [
    "labels1=crf.classes_\n",
    "labels1"
   ]
  },
  {
   "cell_type": "code",
   "execution_count": 29,
   "id": "c8f694d2",
   "metadata": {},
   "outputs": [],
   "source": [
    "from underthesea import word_tokenize"
   ]
  },
  {
   "cell_type": "code",
   "execution_count": 35,
   "id": "0752d82e",
   "metadata": {},
   "outputs": [
    {
     "data": {
      "text/plain": [
       "[['``', 'MD', 'VB', 'TO', 'VB', 'IN', 'NNP']]"
      ]
     },
     "execution_count": 35,
     "metadata": {},
     "output_type": "execute_result"
    }
   ],
   "source": [
    "sent = \"I would love to travel in Vietnam\"\n",
    "\n",
    "senft = prepareData([word_tokenize(sent)])\n",
    "crf.predict(senft)"
   ]
  },
  {
   "cell_type": "code",
   "execution_count": 34,
   "id": "e82b41a3",
   "metadata": {},
   "outputs": [
    {
     "data": {
      "text/plain": [
       "[['DT', 'NN', 'VBZ', 'PRP', 'RB', 'VBD', 'IN', 'JJ', 'NN', 'NNS', '.']]"
      ]
     },
     "execution_count": 34,
     "metadata": {},
     "output_type": "execute_result"
    }
   ],
   "source": [
    "import nltk\n",
    "\n",
    "def postager(sent):\n",
    "    sent = nltk.word_tokenize(sent.lower())\n",
    "    x_data = prepareData([sent])\n",
    "    y_pred = crf.predict(x_data)\n",
    "    return y_pred\n",
    "\n",
    "sent = 'the report says he also suffered from other heart ailments .'\n",
    "postager(sent)"
   ]
  },
  {
   "cell_type": "code",
   "execution_count": null,
   "id": "858914d3",
   "metadata": {},
   "outputs": [],
   "source": []
  }
 ],
 "metadata": {
  "kernelspec": {
   "display_name": "Python 3",
   "language": "python",
   "name": "python3"
  },
  "language_info": {
   "codemirror_mode": {
    "name": "ipython",
    "version": 3
   },
   "file_extension": ".py",
   "mimetype": "text/x-python",
   "name": "python",
   "nbconvert_exporter": "python",
   "pygments_lexer": "ipython3",
   "version": "3.10.6"
  },
  "vscode": {
   "interpreter": {
    "hash": "27f6fea6f47ae512550f0b8facdbd035a93e1dd89633f7bf2dd00a2502c71d0d"
   }
  }
 },
 "nbformat": 4,
 "nbformat_minor": 5
}
