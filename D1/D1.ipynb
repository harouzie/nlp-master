{
 "cells": [
  {
   "cell_type": "code",
   "execution_count": 1,
   "metadata": {},
   "outputs": [],
   "source": [
    "import nltk\n",
    "from nltk import ngrams\n",
    "from collections import Counter"
   ]
  },
  {
   "cell_type": "code",
   "execution_count": 2,
   "metadata": {},
   "outputs": [
    {
     "name": "stdout",
     "output_type": "stream",
     "text": [
      "16382\n"
     ]
    }
   ],
   "source": [
    "filename='train.txt'\n",
    "with open(filename,'r', encoding='utf-8') as f:\n",
    "    lines = f.readlines()\n",
    "\n",
    "print(len(lines))"
   ]
  },
  {
   "attachments": {},
   "cell_type": "markdown",
   "metadata": {},
   "source": [
    "# Unigram"
   ]
  },
  {
   "cell_type": "code",
   "execution_count": 3,
   "metadata": {},
   "outputs": [
    {
     "name": "stdout",
     "output_type": "stream",
     "text": [
      "all token counted 321717\n",
      "V= 16681\n",
      "10 most common word [(',', 19071), ('<s>', 16328), ('the', 13061), ('and', 9306), ('to', 8222), ('of', 7082), ('a', 6577), ('that', 5681), ('i', 5302), ('in', 4981)]\n"
     ]
    }
   ],
   "source": [
    "counter_unigram = Counter()\n",
    "all_tokens_count = 0\n",
    "for line in lines:\n",
    "    tokens = nltk.word_tokenize(line.lower())\n",
    "    if len(tokens) == 0:\n",
    "        continue\n",
    "    tokens = [\"<s>\"]  + tokens\n",
    "    all_tokens_count += len(tokens)\n",
    "    counter_unigram.update(tokens)\n",
    "\n",
    "\n",
    "print(\"all token counted\", all_tokens_count)\n",
    "V = len(counter_unigram)\n",
    "print(\"V=\", V)\n",
    "print (\"10 most common word\", counter_unigram.most_common(10))"
   ]
  },
  {
   "attachments": {},
   "cell_type": "markdown",
   "metadata": {},
   "source": [
    "# Bigram"
   ]
  },
  {
   "cell_type": "code",
   "execution_count": 4,
   "metadata": {},
   "outputs": [
    {
     "name": "stdout",
     "output_type": "stream",
     "text": [
      "bigram count 111438\n",
      "10 most common bigram [(',_and', 2308), ('<s>_and', 2169), ('of_the', 1363), ('in_the', 1357), (\"it_'s\", 1205), ('<s>_i', 1178), ('<s>_so', 1120), (',_i', 977), (',_the', 965), ('<s>_it', 885)]\n"
     ]
    }
   ],
   "source": [
    "counter_bigram = Counter()\n",
    "for sent in lines:\n",
    "    tokens = nltk.word_tokenize(sent.lower())\n",
    "    tokens = [\"<s>\"]  + tokens\n",
    "    gram2 = ngrams(tokens, 2)\n",
    "    join_grams = ['_'.join(list(gram)) for gram in gram2]\n",
    "    counter_bigram.update(join_grams)\n",
    "\n",
    "\n",
    "print(\"bigram count\", len(counter_bigram))\n",
    "print(\"10 most common bigram\", counter_bigram.most_common(10))"
   ]
  },
  {
   "attachments": {},
   "cell_type": "markdown",
   "metadata": {},
   "source": [
    "probability of a sentence"
   ]
  },
  {
   "cell_type": "code",
   "execution_count": 26,
   "metadata": {},
   "outputs": [],
   "source": [
    "def bi_prob(word1,word2):\n",
    "    two_words = \"_\".join([word1,word2])\n",
    "    return (counter_bigram[two_words])/(counter_unigram[word1])\n",
    "\n",
    "def sentence_prob(sent_tokens):\n",
    "    P = 1\n",
    "    sent_tokens = [\"<s>\"] + sent_tokens\n",
    "    print(sent_tokens)\n",
    "    for i in range(1, len(sent_tokens)):\n",
    "        P *= bi_prob(word1=sent_tokens[i-1], word2=sent_tokens[i])\n",
    "        # print(P)\n",
    "        \n",
    "    return P"
   ]
  },
  {
   "cell_type": "code",
   "execution_count": 27,
   "metadata": {},
   "outputs": [
    {
     "name": "stdout",
     "output_type": "stream",
     "text": [
      "['i', 'like', 'this']\n",
      "['<s>', 'i', 'like', 'this']\n",
      "0.0000201750\n"
     ]
    }
   ],
   "source": [
    "# test_sent = 'I love you'\n",
    "test_sent = \"I like this\"\n",
    "test_token = nltk.word_tokenize(test_sent.lower())\n",
    "print(test_token)\n",
    "print(f\"{sentence_prob(test_token):.10f}\")"
   ]
  },
  {
   "attachments": {},
   "cell_type": "markdown",
   "metadata": {},
   "source": [
    "# Trigram"
   ]
  },
  {
   "cell_type": "code",
   "execution_count": null,
   "metadata": {},
   "outputs": [],
   "source": []
  }
 ],
 "metadata": {
  "kernelspec": {
   "display_name": "Python 3",
   "language": "python",
   "name": "python3"
  },
  "language_info": {
   "codemirror_mode": {
    "name": "ipython",
    "version": 3
   },
   "file_extension": ".py",
   "mimetype": "text/x-python",
   "name": "python",
   "nbconvert_exporter": "python",
   "pygments_lexer": "ipython3",
   "version": "3.10.6"
  },
  "orig_nbformat": 4,
  "vscode": {
   "interpreter": {
    "hash": "27f6fea6f47ae512550f0b8facdbd035a93e1dd89633f7bf2dd00a2502c71d0d"
   }
  }
 },
 "nbformat": 4,
 "nbformat_minor": 2
}
