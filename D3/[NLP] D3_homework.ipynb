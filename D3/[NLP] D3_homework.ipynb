{
 "cells": [
  {
   "cell_type": "code",
   "execution_count": 2,
   "metadata": {},
   "outputs": [],
   "source": [
    "import nltk\n",
    "import numpy as np\n",
    "import pandas as pd\n",
    "import underthesea\n",
    "import re\n",
    "from collections import Counter"
   ]
  },
  {
   "attachments": {},
   "cell_type": "markdown",
   "metadata": {},
   "source": [
    "# Utils"
   ]
  },
  {
   "cell_type": "code",
   "execution_count": null,
   "metadata": {},
   "outputs": [],
   "source": [
    "def read_file(file_name):\n",
    "    return open(file_name, 'r', encoding='utf-8').read().split('\\n')\n",
    "\n",
    "def write_file(file_name, text):\n",
    "    file = open(file_name, 'w', encoding='utf-8')\n",
    "    for sentences in text:\n",
    "        file.writelines(sentences + '\\n')"
   ]
  },
  {
   "cell_type": "code",
   "execution_count": 3,
   "metadata": {},
   "outputs": [],
   "source": [
    "def inspect_tag(tag) -> bool:\n",
    "    pattern = re.compile(r'^[A-Z][a-z]?$')\n",
    "    return bool(pattern.search(tag))"
   ]
  },
  {
   "cell_type": "code",
   "execution_count": 4,
   "metadata": {},
   "outputs": [],
   "source": [
    "def inspect_word(word) -> bool:\n",
    "    pattern = re.compile(r'[!\"#$%&\\'()*+,-./:;<=>?@\\[\\]^`{|}~“”\\\\]+')\n",
    "    return not(bool(pattern.search(word)))"
   ]
  },
  {
   "cell_type": "code",
   "execution_count": null,
   "metadata": {},
   "outputs": [],
   "source": [
    "def get_raw_text(filename):\n",
    "    \"\"\"\n",
    "    - trả về data nguyên bản (kể cả các invalid word, tag) trong file\n",
    "    - bên cạnh đó, xử lí word và tag -> tách tag và word sau đó kẹp thành 1 tuple như này (word, tag)\n",
    "    - loại bỏ các word không tag hoặc word có nhiều hơn 1 tag\n",
    "    \"\"\" \n",
    "    text = read_file(filename)\n",
    "    data = []\n",
    "\n",
    "    for sentence in text:\n",
    "        for duo in sentence.strip().split(' '):\n",
    "            data.append(tuple(duo.split('/')))\n",
    "\n",
    "    data = [duo for duo in data if len(duo) == 2]\n",
    "    return data"
   ]
  },
  {
   "cell_type": "code",
   "execution_count": null,
   "metadata": {},
   "outputs": [],
   "source": [
    "def get_processed_data(filename):\n",
    "    opening = ('<s>', '<s>')\n",
    "    ending = ('</s>', '</s>')\n",
    "\n",
    "    corpus = get_raw_text(filename)\n",
    "    refreshed_data = []\n",
    "    sentence = []\n",
    "\n",
    "    for word, tag in corpus:\n",
    "        if inspect_word(word) and inspect_tag(tag):\n",
    "            sentence.append((word, tag))\n",
    "        elif word in ['.', '...', ':', '!', '?', '-', '\"']:\n",
    "            \n",
    "            refreshed_data.append([opening] + sentence + [ending])\n",
    "            sentence.clear()\n",
    "\n",
    "    return refreshed_data"
   ]
  },
  {
   "cell_type": "code",
   "execution_count": null,
   "metadata": {},
   "outputs": [],
   "source": [
    "def load_corpus(filename):\n",
    "    data = get_processed_data(filename)\n",
    "    corpus = []\n",
    "    for sentence in data:\n",
    "        corpus.extend(sentence)\n",
    "    return corpus"
   ]
  },
  {
   "attachments": {},
   "cell_type": "markdown",
   "metadata": {},
   "source": [
    "# Viterbi Algorithm"
   ]
  },
  {
   "cell_type": "markdown",
   "metadata": {},
   "source": []
  }
 ],
 "metadata": {
  "kernelspec": {
   "display_name": "Python 3",
   "language": "python",
   "name": "python3"
  },
  "language_info": {
   "codemirror_mode": {
    "name": "ipython",
    "version": 3
   },
   "file_extension": ".py",
   "mimetype": "text/x-python",
   "name": "python",
   "nbconvert_exporter": "python",
   "pygments_lexer": "ipython3",
   "version": "3.10.6"
  },
  "orig_nbformat": 4,
  "vscode": {
   "interpreter": {
    "hash": "27f6fea6f47ae512550f0b8facdbd035a93e1dd89633f7bf2dd00a2502c71d0d"
   }
  }
 },
 "nbformat": 4,
 "nbformat_minor": 2
}
