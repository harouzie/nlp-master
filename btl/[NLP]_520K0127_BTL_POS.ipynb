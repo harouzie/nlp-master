{
  "cells": [
    {
      "cell_type": "code",
      "execution_count": 64,
      "metadata": {
        "id": "QTUxfRkbDj06"
      },
      "outputs": [
        {
          "name": "stderr",
          "output_type": "stream",
          "text": [
            "\n",
            "[notice] A new release of pip available: 22.3.1 -> 23.0\n",
            "[notice] To update, run: python.exe -m pip install --upgrade pip\n",
            "\n",
            "[notice] A new release of pip available: 22.3.1 -> 23.0\n",
            "[notice] To update, run: python.exe -m pip install --upgrade pip\n"
          ]
        }
      ],
      "source": [
        "!pip install underthesea --quiet\n",
        "!pip install sklearn_crfsuite --quiet"
      ]
    },
    {
      "cell_type": "code",
      "execution_count": 65,
      "metadata": {
        "id": "q0jWNpVhCqYO"
      },
      "outputs": [],
      "source": [
        "import nltk\n",
        "import numpy as np\n",
        "import pandas as pd\n",
        "import underthesea\n",
        "import re\n",
        "import matplotlib.pyplot as plt \n",
        "from collections import Counter\n",
        "from sklearn.model_selection import train_test_split\n",
        "from sklearn.metrics import accuracy_score, f1_score\n",
        "from sklearn_crfsuite import CRF"
      ]
    },
    {
      "cell_type": "code",
      "execution_count": 66,
      "metadata": {
        "colab": {
          "base_uri": "https://localhost:8080/"
        },
        "id": "08PcNgbxDhX-",
        "outputId": "0ab7602a-1006-44df-e156-a024bd3cdfcb"
      },
      "outputs": [],
      "source": [
        "# from google.colab import drive\n",
        "# drive.mount('/content/drive')"
      ]
    },
    {
      "cell_type": "markdown",
      "metadata": {
        "id": "wFF9SjdMCqYS"
      },
      "source": [
        "# Utils"
      ]
    },
    {
      "cell_type": "code",
      "execution_count": 67,
      "metadata": {
        "id": "AFGNdquMCqYV"
      },
      "outputs": [],
      "source": [
        "def read_file(file_name):\n",
        "    return open(file_name, 'r', encoding='utf-8').read().split('\\n')\n",
        "\n",
        "def write_file(file_name, text):\n",
        "    file = open(file_name, 'w', encoding='utf-8')\n",
        "    for sentences in text:\n",
        "        file.writelines(sentences + '\\n')"
      ]
    },
    {
      "cell_type": "code",
      "execution_count": 68,
      "metadata": {
        "id": "lx_XeQNMCqYW"
      },
      "outputs": [],
      "source": [
        "def inspect_tag(tag) -> bool:\n",
        "    pattern = re.compile(r'^[A-Z][a-z]?$')\n",
        "    return bool(pattern.search(tag))"
      ]
    },
    {
      "cell_type": "code",
      "execution_count": 69,
      "metadata": {
        "id": "FgKX773nCqYX"
      },
      "outputs": [],
      "source": [
        "def inspect_word(word) -> bool:\n",
        "    pattern = re.compile(r'[!\"#$%&\\'()*+,-./:;<=>?@\\[\\]^`{|}~“”\\\\]+')\n",
        "    return not(bool(pattern.search(word)))"
      ]
    },
    {
      "cell_type": "code",
      "execution_count": 70,
      "metadata": {
        "id": "qocj2O96CqYY"
      },
      "outputs": [],
      "source": [
        "def get_raw_text(filename):\n",
        "    \"\"\"\n",
        "    - trả về data nguyên bản (kể cả các invalid word, tag) trong file\n",
        "    - bên cạnh đó, xử lí word và tag -> tách tag và word sau đó kẹp thành 1 tuple như này (word, tag)\n",
        "    - loại bỏ các word không tag hoặc word có nhiều hơn 1 tag\n",
        "    \"\"\" \n",
        "    text = read_file(filename)\n",
        "    data = []\n",
        "\n",
        "    for sentence in text:\n",
        "        for duo in sentence.strip().split(' '):\n",
        "            data.append(tuple(duo.split('/')))\n",
        "\n",
        "    data = [duo for duo in data if len(duo) == 2]\n",
        "    return data"
      ]
    },
    {
      "cell_type": "code",
      "execution_count": 71,
      "metadata": {
        "id": "aPap1kZZCqYa"
      },
      "outputs": [],
      "source": [
        "def get_processed_data(filename):\n",
        "    opening = ('<s>', '<s>')\n",
        "    ending = ('</s>', '</s>')\n",
        "\n",
        "    corpus = get_raw_text(filename)\n",
        "    refreshed_data = []\n",
        "    sentence = []\n",
        "\n",
        "    for word, tag in corpus:\n",
        "        if inspect_word(word) and inspect_tag(tag):\n",
        "            sentence.append((word, tag))\n",
        "        elif word in ['.', '...', ':', '!', '?', '-', '\"']:\n",
        "            \n",
        "            refreshed_data.append([opening] + sentence + [ending])\n",
        "            sentence.clear()\n",
        "\n",
        "    return refreshed_data"
      ]
    },
    {
      "cell_type": "code",
      "execution_count": 72,
      "metadata": {
        "id": "PVtYD5_GCqYb"
      },
      "outputs": [],
      "source": [
        "def load_corpus(filename):\n",
        "    data = get_processed_data(filename)\n",
        "    corpus = []\n",
        "    for sentence in data:\n",
        "        corpus.extend(sentence)\n",
        "    return corpus"
      ]
    },
    {
      "cell_type": "code",
      "execution_count": 73,
      "metadata": {
        "id": "hyEPUe0DCqYc"
      },
      "outputs": [],
      "source": [
        "path = \"D:/01A. sem1-22.23/NLP/dataset/pos-tagging/data.pos\"\n",
        "corpus = load_corpus(path)"
      ]
    },
    {
      "cell_type": "code",
      "execution_count": 74,
      "metadata": {
        "colab": {
          "base_uri": "https://localhost:8080/"
        },
        "id": "OAHHrmJlCqYd",
        "outputId": "b495f8fa-553f-4477-f9f9-cdcf424e3abc"
      },
      "outputs": [
        {
          "data": {
            "text/plain": [
              "[('<s>', '<s>'),\n",
              " ('Hải_tặc', 'N'),\n",
              " ('eo_biển', 'N'),\n",
              " ('Malacca', 'Np'),\n",
              " ('kỳ', 'N')]"
            ]
          },
          "execution_count": 74,
          "metadata": {},
          "output_type": "execute_result"
        }
      ],
      "source": [
        "corpus[:5]"
      ]
    },
    {
      "cell_type": "markdown",
      "metadata": {
        "id": "X7FcLCyPCqYe"
      },
      "source": [
        "## train test split "
      ]
    },
    {
      "cell_type": "code",
      "execution_count": 75,
      "metadata": {
        "id": "H6qaWt2mCqYf"
      },
      "outputs": [],
      "source": [
        "train_set, test_set = train_test_split(corpus, test_size=0.2, random_state=0, shuffle=False)"
      ]
    },
    {
      "cell_type": "code",
      "execution_count": 76,
      "metadata": {
        "colab": {
          "base_uri": "https://localhost:8080/"
        },
        "id": "-Og_-L4uCqYf",
        "outputId": "c06f441e-5573-48b1-e116-0832cd6cbecb"
      },
      "outputs": [
        {
          "name": "stdout",
          "output_type": "stream",
          "text": [
            "trainset size 172512\n",
            "testset size 43129\n"
          ]
        }
      ],
      "source": [
        "print(\"trainset size\",len(train_set))\n",
        "print(\"testset size\",len(test_set))"
      ]
    },
    {
      "cell_type": "code",
      "execution_count": 77,
      "metadata": {},
      "outputs": [
        {
          "data": {
            "text/plain": [
              "[('<s>', '<s>'),\n",
              " ('Hải_tặc', 'N'),\n",
              " ('eo_biển', 'N'),\n",
              " ('Malacca', 'Np'),\n",
              " ('kỳ', 'N'),\n",
              " ('1', 'M'),\n",
              " ('</s>', '</s>'),\n",
              " ('<s>', '<s>'),\n",
              " ('Eo_biển', 'N'),\n",
              " ('không', 'R')]"
            ]
          },
          "execution_count": 77,
          "metadata": {},
          "output_type": "execute_result"
        }
      ],
      "source": [
        "train_set[:10]"
      ]
    },
    {
      "cell_type": "markdown",
      "metadata": {
        "id": "fvK7M1ZgCqYg"
      },
      "source": [
        "## dictionary parameters "
      ]
    },
    {
      "cell_type": "code",
      "execution_count": 78,
      "metadata": {
        "id": "dsYx0_BhCqYg"
      },
      "outputs": [],
      "source": [
        "emission_count = Counter(train_set)\n",
        "all_tags = [tag for _,tag in train_set]\n",
        "all_words = [word for word,_ in train_set]\n",
        "tag_count = Counter(all_tags)\n",
        "transition_count = Counter(nltk.bigrams(all_tags))"
      ]
    },
    {
      "cell_type": "code",
      "execution_count": 79,
      "metadata": {
        "colab": {
          "base_uri": "https://localhost:8080/"
        },
        "id": "sciALhnqhBf7",
        "outputId": "aa339a2b-2726-4c02-9ef5-23ab5f47e792"
      },
      "outputs": [
        {
          "data": {
            "text/plain": [
              "172512"
            ]
          },
          "execution_count": 79,
          "metadata": {},
          "output_type": "execute_result"
        }
      ],
      "source": [
        "len(all_words)"
      ]
    },
    {
      "cell_type": "code",
      "execution_count": 80,
      "metadata": {
        "colab": {
          "base_uri": "https://localhost:8080/"
        },
        "id": "PeV9UjjDCqYh",
        "outputId": "70db2017-ed44-4e24-fe81-b0963a11b6c7"
      },
      "outputs": [
        {
          "name": "stdout",
          "output_type": "stream",
          "text": [
            "there're 29 tags, including opening and closing tags\n",
            "they're ['</s>', '<s>', 'A', 'Ab', 'Ap', 'B', 'C', 'E', 'Eb', 'H', 'I', 'L', 'M', 'Mb', 'N', 'Nb', 'Nc', 'Np', 'Nu', 'Ny', 'P', 'R', 'S', 'T', 'V', 'Vb', 'Vy', 'X', 'Y']\n"
          ]
        }
      ],
      "source": [
        "tags = set(all_tags)\n",
        "vocab = set(all_words)\n",
        "\n",
        "print(f\"there're {len(tags)} tags, including opening and closing tags\")\n",
        "print(f\"they're {sorted(tags)}\")"
      ]
    },
    {
      "cell_type": "markdown",
      "metadata": {
        "id": "ldn362cACqYh"
      },
      "source": [
        "# Hidden Markov Model with Viterbi algorithm"
      ]
    },
    {
      "cell_type": "code",
      "execution_count": 81,
      "metadata": {
        "id": "Vd8SrPDYCqYi"
      },
      "outputs": [],
      "source": [
        "def P_t2_given_t1(t2, t1): # kết hợp Laplace smoothing\n",
        "    alpha = 0.001\n",
        "    return (transition_count[(t2, t1)]+ alpha)/ (tag_count[t1]+ alpha * len(tags))"
      ]
    },
    {
      "cell_type": "code",
      "execution_count": 82,
      "metadata": {
        "id": "-TZtbRtMCqYi"
      },
      "outputs": [],
      "source": [
        "def P_w_given_t(word, tag):\n",
        "    return (emission_count[(word, tag)])/(tag_count[tag])"
      ]
    },
    {
      "cell_type": "code",
      "execution_count": 83,
      "metadata": {
        "id": "aivUNnS9CqYi"
      },
      "outputs": [],
      "source": [
        "transition_probability = np.zeros((len(tags), len(tags)), dtype='float32')\n",
        "for i, t1 in enumerate(tags):\n",
        "    for j, t2 in enumerate(tags):\n",
        "        transition_probability[i, j] = P_t2_given_t1(t2, t1)"
      ]
    },
    {
      "cell_type": "code",
      "execution_count": 84,
      "metadata": {
        "id": "3oqBShTtCqYi"
      },
      "outputs": [],
      "source": [
        "# transition_table\n",
        "transition_table = pd.DataFrame(transition_probability, columns = tags, index=tags)"
      ]
    },
    {
      "cell_type": "code",
      "execution_count": 85,
      "metadata": {
        "colab": {
          "base_uri": "https://localhost:8080/",
          "height": 1000
        },
        "id": "r8pr5PpPCqYj",
        "outputId": "8ed131ad-e1a4-4073-832b-6e057c5097d6"
      },
      "outputs": [
        {
          "data": {
            "text/html": [
              "<div>\n",
              "<style scoped>\n",
              "    .dataframe tbody tr th:only-of-type {\n",
              "        vertical-align: middle;\n",
              "    }\n",
              "\n",
              "    .dataframe tbody tr th {\n",
              "        vertical-align: top;\n",
              "    }\n",
              "\n",
              "    .dataframe thead th {\n",
              "        text-align: right;\n",
              "    }\n",
              "</style>\n",
              "<table border=\"1\" class=\"dataframe\">\n",
              "  <thead>\n",
              "    <tr style=\"text-align: right;\">\n",
              "      <th></th>\n",
              "      <th>C</th>\n",
              "      <th>Vb</th>\n",
              "      <th>B</th>\n",
              "      <th>Np</th>\n",
              "      <th>E</th>\n",
              "      <th>Ap</th>\n",
              "      <th>Vy</th>\n",
              "      <th>I</th>\n",
              "      <th>X</th>\n",
              "      <th>L</th>\n",
              "      <th>...</th>\n",
              "      <th>Nb</th>\n",
              "      <th>&lt;s&gt;</th>\n",
              "      <th>Nc</th>\n",
              "      <th>N</th>\n",
              "      <th>Mb</th>\n",
              "      <th>T</th>\n",
              "      <th>V</th>\n",
              "      <th>&lt;/s&gt;</th>\n",
              "      <th>Ab</th>\n",
              "      <th>Y</th>\n",
              "    </tr>\n",
              "  </thead>\n",
              "  <tbody>\n",
              "    <tr>\n",
              "      <th>C</th>\n",
              "      <td>1.382059e-02</td>\n",
              "      <td>1.588555e-07</td>\n",
              "      <td>4.767254e-04</td>\n",
              "      <td>7.005543e-02</td>\n",
              "      <td>2.541847e-03</td>\n",
              "      <td>1.588555e-07</td>\n",
              "      <td>1.588555e-07</td>\n",
              "      <td>4.767254e-04</td>\n",
              "      <td>1.080233e-02</td>\n",
              "      <td>1.747569e-03</td>\n",
              "      <td>...</td>\n",
              "      <td>4.606968e-03</td>\n",
              "      <td>1.216835e-01</td>\n",
              "      <td>2.065280e-03</td>\n",
              "      <td>2.713253e-01</td>\n",
              "      <td>1.588555e-07</td>\n",
              "      <td>1.350288e-02</td>\n",
              "      <td>1.933273e-01</td>\n",
              "      <td>1.588555e-07</td>\n",
              "      <td>1.590144e-04</td>\n",
              "      <td>6.355809e-04</td>\n",
              "    </tr>\n",
              "    <tr>\n",
              "      <th>Vb</th>\n",
              "      <td>3.995365e-05</td>\n",
              "      <td>1.598546e-01</td>\n",
              "      <td>3.995365e-05</td>\n",
              "      <td>3.999361e-02</td>\n",
              "      <td>7.994726e-02</td>\n",
              "      <td>3.995365e-05</td>\n",
              "      <td>3.995365e-05</td>\n",
              "      <td>3.995365e-05</td>\n",
              "      <td>3.995365e-05</td>\n",
              "      <td>3.995365e-05</td>\n",
              "      <td>...</td>\n",
              "      <td>7.994726e-02</td>\n",
              "      <td>3.999361e-02</td>\n",
              "      <td>3.999361e-02</td>\n",
              "      <td>1.598546e-01</td>\n",
              "      <td>3.995365e-05</td>\n",
              "      <td>3.995365e-05</td>\n",
              "      <td>2.397619e-01</td>\n",
              "      <td>3.995365e-05</td>\n",
              "      <td>3.995365e-05</td>\n",
              "      <td>3.995365e-05</td>\n",
              "    </tr>\n",
              "    <tr>\n",
              "      <th>B</th>\n",
              "      <td>4.539471e-05</td>\n",
              "      <td>4.539471e-05</td>\n",
              "      <td>4.539471e-05</td>\n",
              "      <td>4.544010e-02</td>\n",
              "      <td>1.362295e-01</td>\n",
              "      <td>4.539471e-05</td>\n",
              "      <td>4.539471e-05</td>\n",
              "      <td>4.539471e-05</td>\n",
              "      <td>4.539471e-05</td>\n",
              "      <td>4.539471e-05</td>\n",
              "      <td>...</td>\n",
              "      <td>4.539471e-05</td>\n",
              "      <td>1.362295e-01</td>\n",
              "      <td>4.539471e-05</td>\n",
              "      <td>1.362295e-01</td>\n",
              "      <td>4.539471e-05</td>\n",
              "      <td>4.539471e-05</td>\n",
              "      <td>2.724136e-01</td>\n",
              "      <td>4.539471e-05</td>\n",
              "      <td>4.539471e-05</td>\n",
              "      <td>4.539471e-05</td>\n",
              "    </tr>\n",
              "    <tr>\n",
              "      <th>Np</th>\n",
              "      <td>3.340441e-02</td>\n",
              "      <td>1.421458e-07</td>\n",
              "      <td>1.422880e-04</td>\n",
              "      <td>8.983631e-02</td>\n",
              "      <td>1.194026e-01</td>\n",
              "      <td>1.421458e-07</td>\n",
              "      <td>1.421458e-07</td>\n",
              "      <td>1.422880e-04</td>\n",
              "      <td>7.108712e-04</td>\n",
              "      <td>8.530171e-04</td>\n",
              "      <td>...</td>\n",
              "      <td>2.274475e-03</td>\n",
              "      <td>8.287116e-02</td>\n",
              "      <td>1.519540e-01</td>\n",
              "      <td>3.567862e-01</td>\n",
              "      <td>1.421458e-07</td>\n",
              "      <td>1.848038e-03</td>\n",
              "      <td>9.410068e-02</td>\n",
              "      <td>1.421458e-07</td>\n",
              "      <td>1.421458e-07</td>\n",
              "      <td>2.844338e-04</td>\n",
              "    </tr>\n",
              "    <tr>\n",
              "      <th>E</th>\n",
              "      <td>2.207244e-02</td>\n",
              "      <td>3.695040e-04</td>\n",
              "      <td>9.235291e-08</td>\n",
              "      <td>4.211302e-02</td>\n",
              "      <td>9.050678e-03</td>\n",
              "      <td>9.235291e-08</td>\n",
              "      <td>9.244526e-05</td>\n",
              "      <td>1.847982e-04</td>\n",
              "      <td>5.818326e-03</td>\n",
              "      <td>6.465627e-04</td>\n",
              "      <td>...</td>\n",
              "      <td>4.155973e-03</td>\n",
              "      <td>7.397477e-02</td>\n",
              "      <td>1.477739e-03</td>\n",
              "      <td>2.941441e-01</td>\n",
              "      <td>9.235291e-08</td>\n",
              "      <td>4.525385e-03</td>\n",
              "      <td>3.106753e-01</td>\n",
              "      <td>9.235291e-08</td>\n",
              "      <td>9.244526e-05</td>\n",
              "      <td>5.542098e-04</td>\n",
              "    </tr>\n",
              "    <tr>\n",
              "      <th>Ap</th>\n",
              "      <td>9.718173e-04</td>\n",
              "      <td>9.718173e-04</td>\n",
              "      <td>9.718173e-04</td>\n",
              "      <td>9.718173e-04</td>\n",
              "      <td>9.718173e-04</td>\n",
              "      <td>9.718173e-04</td>\n",
              "      <td>9.718173e-04</td>\n",
              "      <td>9.718173e-04</td>\n",
              "      <td>9.718173e-04</td>\n",
              "      <td>9.718173e-04</td>\n",
              "      <td>...</td>\n",
              "      <td>9.718173e-04</td>\n",
              "      <td>9.718173e-04</td>\n",
              "      <td>9.718173e-04</td>\n",
              "      <td>9.718173e-04</td>\n",
              "      <td>9.718173e-04</td>\n",
              "      <td>9.718173e-04</td>\n",
              "      <td>9.718173e-04</td>\n",
              "      <td>9.718173e-04</td>\n",
              "      <td>9.718173e-04</td>\n",
              "      <td>9.718173e-04</td>\n",
              "    </tr>\n",
              "    <tr>\n",
              "      <th>Vy</th>\n",
              "      <td>1.658650e-04</td>\n",
              "      <td>1.658650e-04</td>\n",
              "      <td>1.658650e-04</td>\n",
              "      <td>1.658650e-04</td>\n",
              "      <td>1.658650e-04</td>\n",
              "      <td>1.658650e-04</td>\n",
              "      <td>1.658650e-04</td>\n",
              "      <td>1.658650e-04</td>\n",
              "      <td>1.658650e-04</td>\n",
              "      <td>1.658650e-04</td>\n",
              "      <td>...</td>\n",
              "      <td>1.658650e-04</td>\n",
              "      <td>1.658650e-04</td>\n",
              "      <td>1.658650e-04</td>\n",
              "      <td>3.318958e-01</td>\n",
              "      <td>1.658650e-04</td>\n",
              "      <td>1.658650e-04</td>\n",
              "      <td>6.636258e-01</td>\n",
              "      <td>1.658650e-04</td>\n",
              "      <td>1.658650e-04</td>\n",
              "      <td>1.658650e-04</td>\n",
              "    </tr>\n",
              "    <tr>\n",
              "      <th>I</th>\n",
              "      <td>1.234126e-05</td>\n",
              "      <td>1.234126e-05</td>\n",
              "      <td>1.234126e-05</td>\n",
              "      <td>4.937738e-02</td>\n",
              "      <td>1.234126e-05</td>\n",
              "      <td>1.234126e-05</td>\n",
              "      <td>1.234126e-05</td>\n",
              "      <td>4.937738e-02</td>\n",
              "      <td>1.234126e-05</td>\n",
              "      <td>1.234126e-05</td>\n",
              "      <td>...</td>\n",
              "      <td>1.235360e-02</td>\n",
              "      <td>3.455676e-01</td>\n",
              "      <td>1.234126e-05</td>\n",
              "      <td>3.208851e-01</td>\n",
              "      <td>1.234126e-05</td>\n",
              "      <td>1.234126e-05</td>\n",
              "      <td>3.703612e-02</td>\n",
              "      <td>1.234126e-05</td>\n",
              "      <td>1.234126e-05</td>\n",
              "      <td>1.234126e-05</td>\n",
              "    </tr>\n",
              "    <tr>\n",
              "      <th>X</th>\n",
              "      <td>7.471097e-02</td>\n",
              "      <td>1.436722e-06</td>\n",
              "      <td>1.436722e-06</td>\n",
              "      <td>2.586243e-02</td>\n",
              "      <td>1.724210e-02</td>\n",
              "      <td>1.436722e-06</td>\n",
              "      <td>1.436722e-06</td>\n",
              "      <td>1.438158e-03</td>\n",
              "      <td>4.311602e-03</td>\n",
              "      <td>2.874880e-03</td>\n",
              "      <td>...</td>\n",
              "      <td>4.311602e-03</td>\n",
              "      <td>1.795917e-01</td>\n",
              "      <td>1.438158e-03</td>\n",
              "      <td>2.471176e-01</td>\n",
              "      <td>1.436722e-06</td>\n",
              "      <td>1.580538e-02</td>\n",
              "      <td>2.097628e-01</td>\n",
              "      <td>1.436722e-06</td>\n",
              "      <td>1.436722e-06</td>\n",
              "      <td>1.436722e-06</td>\n",
              "    </tr>\n",
              "    <tr>\n",
              "      <th>L</th>\n",
              "      <td>7.649700e-02</td>\n",
              "      <td>3.255178e-07</td>\n",
              "      <td>3.255178e-07</td>\n",
              "      <td>1.171897e-02</td>\n",
              "      <td>2.526021e-01</td>\n",
              "      <td>3.255178e-07</td>\n",
              "      <td>3.255178e-07</td>\n",
              "      <td>3.255178e-07</td>\n",
              "      <td>8.463787e-03</td>\n",
              "      <td>3.255503e-03</td>\n",
              "      <td>...</td>\n",
              "      <td>3.258433e-04</td>\n",
              "      <td>1.178378e-01</td>\n",
              "      <td>1.953432e-03</td>\n",
              "      <td>1.061191e-01</td>\n",
              "      <td>3.255178e-07</td>\n",
              "      <td>8.789305e-03</td>\n",
              "      <td>2.724587e-01</td>\n",
              "      <td>3.255178e-07</td>\n",
              "      <td>3.255178e-07</td>\n",
              "      <td>3.255178e-07</td>\n",
              "    </tr>\n",
              "    <tr>\n",
              "      <th>Eb</th>\n",
              "      <td>3.301419e-04</td>\n",
              "      <td>6.606141e-01</td>\n",
              "      <td>3.301419e-04</td>\n",
              "      <td>3.301419e-04</td>\n",
              "      <td>3.301419e-04</td>\n",
              "      <td>3.301419e-04</td>\n",
              "      <td>3.301419e-04</td>\n",
              "      <td>3.301419e-04</td>\n",
              "      <td>3.301419e-04</td>\n",
              "      <td>3.301419e-04</td>\n",
              "      <td>...</td>\n",
              "      <td>3.304721e-01</td>\n",
              "      <td>3.301419e-04</td>\n",
              "      <td>3.301419e-04</td>\n",
              "      <td>3.301419e-04</td>\n",
              "      <td>3.301419e-04</td>\n",
              "      <td>3.301419e-04</td>\n",
              "      <td>3.301419e-04</td>\n",
              "      <td>3.301419e-04</td>\n",
              "      <td>3.301419e-04</td>\n",
              "      <td>3.301419e-04</td>\n",
              "    </tr>\n",
              "    <tr>\n",
              "      <th>R</th>\n",
              "      <td>6.809804e-02</td>\n",
              "      <td>7.844195e-05</td>\n",
              "      <td>7.844195e-05</td>\n",
              "      <td>6.864658e-02</td>\n",
              "      <td>9.873890e-03</td>\n",
              "      <td>7.836358e-08</td>\n",
              "      <td>7.836358e-08</td>\n",
              "      <td>1.568055e-04</td>\n",
              "      <td>5.798984e-03</td>\n",
              "      <td>4.702599e-04</td>\n",
              "      <td>...</td>\n",
              "      <td>1.880804e-03</td>\n",
              "      <td>5.273877e-02</td>\n",
              "      <td>1.488987e-03</td>\n",
              "      <td>2.431623e-01</td>\n",
              "      <td>7.836358e-08</td>\n",
              "      <td>4.153349e-03</td>\n",
              "      <td>2.453565e-01</td>\n",
              "      <td>7.836358e-08</td>\n",
              "      <td>7.844195e-05</td>\n",
              "      <td>6.269871e-04</td>\n",
              "    </tr>\n",
              "    <tr>\n",
              "      <th>P</th>\n",
              "      <td>6.515181e-02</td>\n",
              "      <td>1.368733e-07</td>\n",
              "      <td>1.368733e-07</td>\n",
              "      <td>2.039425e-02</td>\n",
              "      <td>1.227755e-01</td>\n",
              "      <td>1.368733e-07</td>\n",
              "      <td>1.368733e-07</td>\n",
              "      <td>5.476299e-04</td>\n",
              "      <td>5.064447e-03</td>\n",
              "      <td>7.117546e-03</td>\n",
              "      <td>...</td>\n",
              "      <td>2.053236e-03</td>\n",
              "      <td>1.235967e-01</td>\n",
              "      <td>1.409808e-02</td>\n",
              "      <td>3.153561e-01</td>\n",
              "      <td>1.368733e-07</td>\n",
              "      <td>6.570053e-03</td>\n",
              "      <td>1.713655e-01</td>\n",
              "      <td>1.368733e-07</td>\n",
              "      <td>1.368733e-07</td>\n",
              "      <td>2.738834e-04</td>\n",
              "    </tr>\n",
              "    <tr>\n",
              "      <th>Nu</th>\n",
              "      <td>3.477287e-03</td>\n",
              "      <td>1.158710e-06</td>\n",
              "      <td>1.158710e-06</td>\n",
              "      <td>1.159868e-03</td>\n",
              "      <td>6.953416e-03</td>\n",
              "      <td>1.158710e-06</td>\n",
              "      <td>1.158710e-06</td>\n",
              "      <td>1.158710e-06</td>\n",
              "      <td>2.318578e-03</td>\n",
              "      <td>1.969922e-02</td>\n",
              "      <td>...</td>\n",
              "      <td>1.158710e-06</td>\n",
              "      <td>2.665148e-02</td>\n",
              "      <td>2.318578e-03</td>\n",
              "      <td>7.299986e-02</td>\n",
              "      <td>1.158710e-06</td>\n",
              "      <td>9.270836e-03</td>\n",
              "      <td>6.257148e-02</td>\n",
              "      <td>1.158710e-06</td>\n",
              "      <td>1.158710e-06</td>\n",
              "      <td>1.158710e-06</td>\n",
              "    </tr>\n",
              "    <tr>\n",
              "      <th>Ny</th>\n",
              "      <td>1.731092e-02</td>\n",
              "      <td>1.331506e-06</td>\n",
              "      <td>1.332838e-03</td>\n",
              "      <td>6.125063e-02</td>\n",
              "      <td>1.344835e-01</td>\n",
              "      <td>1.331506e-06</td>\n",
              "      <td>1.331506e-06</td>\n",
              "      <td>1.331506e-06</td>\n",
              "      <td>2.664345e-03</td>\n",
              "      <td>1.331640e-02</td>\n",
              "      <td>...</td>\n",
              "      <td>1.198489e-02</td>\n",
              "      <td>8.122323e-02</td>\n",
              "      <td>3.328899e-02</td>\n",
              "      <td>2.916013e-01</td>\n",
              "      <td>1.331506e-06</td>\n",
              "      <td>1.331506e-06</td>\n",
              "      <td>1.571191e-01</td>\n",
              "      <td>1.331506e-06</td>\n",
              "      <td>1.331506e-06</td>\n",
              "      <td>1.331506e-06</td>\n",
              "    </tr>\n",
              "    <tr>\n",
              "      <th>S</th>\n",
              "      <td>2.941285e-02</td>\n",
              "      <td>7.351374e-06</td>\n",
              "      <td>7.351374e-06</td>\n",
              "      <td>1.764403e-01</td>\n",
              "      <td>2.206147e-02</td>\n",
              "      <td>7.351374e-06</td>\n",
              "      <td>7.351374e-06</td>\n",
              "      <td>7.351374e-06</td>\n",
              "      <td>7.351374e-06</td>\n",
              "      <td>3.676422e-02</td>\n",
              "      <td>...</td>\n",
              "      <td>7.351374e-06</td>\n",
              "      <td>1.470348e-01</td>\n",
              "      <td>4.411559e-02</td>\n",
              "      <td>3.822788e-01</td>\n",
              "      <td>7.351374e-06</td>\n",
              "      <td>7.351374e-06</td>\n",
              "      <td>1.029266e-01</td>\n",
              "      <td>7.351374e-06</td>\n",
              "      <td>7.351374e-06</td>\n",
              "      <td>7.351374e-06</td>\n",
              "    </tr>\n",
              "    <tr>\n",
              "      <th>M</th>\n",
              "      <td>3.347281e-02</td>\n",
              "      <td>1.549660e-07</td>\n",
              "      <td>4.650529e-04</td>\n",
              "      <td>4.044628e-02</td>\n",
              "      <td>8.817580e-02</td>\n",
              "      <td>1.549660e-07</td>\n",
              "      <td>1.549660e-07</td>\n",
              "      <td>1.551210e-04</td>\n",
              "      <td>3.099475e-03</td>\n",
              "      <td>1.053784e-02</td>\n",
              "      <td>...</td>\n",
              "      <td>1.394849e-03</td>\n",
              "      <td>1.380748e-01</td>\n",
              "      <td>1.549815e-03</td>\n",
              "      <td>2.595682e-01</td>\n",
              "      <td>1.549660e-07</td>\n",
              "      <td>1.270737e-02</td>\n",
              "      <td>1.802256e-01</td>\n",
              "      <td>1.549660e-07</td>\n",
              "      <td>1.549660e-07</td>\n",
              "      <td>4.650529e-04</td>\n",
              "    </tr>\n",
              "    <tr>\n",
              "      <th>H</th>\n",
              "      <td>9.718173e-04</td>\n",
              "      <td>9.718173e-04</td>\n",
              "      <td>9.718173e-04</td>\n",
              "      <td>9.718173e-04</td>\n",
              "      <td>9.718173e-04</td>\n",
              "      <td>9.718173e-04</td>\n",
              "      <td>9.718173e-04</td>\n",
              "      <td>9.718173e-04</td>\n",
              "      <td>9.718173e-04</td>\n",
              "      <td>9.718173e-04</td>\n",
              "      <td>...</td>\n",
              "      <td>9.718173e-04</td>\n",
              "      <td>9.718173e-04</td>\n",
              "      <td>9.718173e-04</td>\n",
              "      <td>9.718173e-04</td>\n",
              "      <td>9.718173e-04</td>\n",
              "      <td>9.718173e-04</td>\n",
              "      <td>9.727891e-01</td>\n",
              "      <td>9.718173e-04</td>\n",
              "      <td>9.718173e-04</td>\n",
              "      <td>9.718173e-04</td>\n",
              "    </tr>\n",
              "    <tr>\n",
              "      <th>A</th>\n",
              "      <td>4.056645e-02</td>\n",
              "      <td>9.145704e-05</td>\n",
              "      <td>9.145704e-05</td>\n",
              "      <td>2.192785e-02</td>\n",
              "      <td>2.603931e-02</td>\n",
              "      <td>9.136568e-08</td>\n",
              "      <td>9.145704e-05</td>\n",
              "      <td>9.145704e-05</td>\n",
              "      <td>3.106524e-03</td>\n",
              "      <td>7.310168e-04</td>\n",
              "      <td>...</td>\n",
              "      <td>2.375599e-03</td>\n",
              "      <td>3.782548e-02</td>\n",
              "      <td>1.114670e-02</td>\n",
              "      <td>3.782540e-01</td>\n",
              "      <td>9.136568e-08</td>\n",
              "      <td>5.847495e-03</td>\n",
              "      <td>2.148008e-01</td>\n",
              "      <td>9.136568e-08</td>\n",
              "      <td>9.136568e-08</td>\n",
              "      <td>9.145704e-05</td>\n",
              "    </tr>\n",
              "    <tr>\n",
              "      <th>Nb</th>\n",
              "      <td>1.370028e-02</td>\n",
              "      <td>2.742248e-03</td>\n",
              "      <td>8.221265e-03</td>\n",
              "      <td>3.561635e-02</td>\n",
              "      <td>8.492750e-02</td>\n",
              "      <td>2.742248e-03</td>\n",
              "      <td>2.739508e-06</td>\n",
              "      <td>2.739508e-06</td>\n",
              "      <td>2.742248e-03</td>\n",
              "      <td>4.931389e-02</td>\n",
              "      <td>...</td>\n",
              "      <td>2.465831e-02</td>\n",
              "      <td>3.287684e-02</td>\n",
              "      <td>6.849045e-02</td>\n",
              "      <td>3.643574e-01</td>\n",
              "      <td>2.739508e-06</td>\n",
              "      <td>5.481756e-03</td>\n",
              "      <td>2.273819e-01</td>\n",
              "      <td>2.739508e-06</td>\n",
              "      <td>2.742248e-03</td>\n",
              "      <td>2.742248e-03</td>\n",
              "    </tr>\n",
              "    <tr>\n",
              "      <th>&lt;s&gt;</th>\n",
              "      <td>8.759613e-08</td>\n",
              "      <td>8.759613e-08</td>\n",
              "      <td>8.759613e-08</td>\n",
              "      <td>8.759613e-08</td>\n",
              "      <td>8.759613e-08</td>\n",
              "      <td>8.759613e-08</td>\n",
              "      <td>8.759613e-08</td>\n",
              "      <td>8.759613e-08</td>\n",
              "      <td>8.759613e-08</td>\n",
              "      <td>8.759613e-08</td>\n",
              "      <td>...</td>\n",
              "      <td>8.759613e-08</td>\n",
              "      <td>8.759613e-08</td>\n",
              "      <td>8.759613e-08</td>\n",
              "      <td>8.759613e-08</td>\n",
              "      <td>8.759613e-08</td>\n",
              "      <td>8.759613e-08</td>\n",
              "      <td>8.759613e-08</td>\n",
              "      <td>9.999099e-01</td>\n",
              "      <td>8.759613e-08</td>\n",
              "      <td>8.759613e-08</td>\n",
              "    </tr>\n",
              "    <tr>\n",
              "      <th>Nc</th>\n",
              "      <td>5.159806e-02</td>\n",
              "      <td>2.283090e-07</td>\n",
              "      <td>2.283090e-07</td>\n",
              "      <td>1.689509e-02</td>\n",
              "      <td>1.504558e-01</td>\n",
              "      <td>2.283090e-07</td>\n",
              "      <td>2.283090e-07</td>\n",
              "      <td>2.285373e-04</td>\n",
              "      <td>3.653172e-03</td>\n",
              "      <td>1.091319e-01</td>\n",
              "      <td>...</td>\n",
              "      <td>2.283090e-07</td>\n",
              "      <td>1.340176e-01</td>\n",
              "      <td>3.881481e-03</td>\n",
              "      <td>1.070771e-01</td>\n",
              "      <td>2.283090e-07</td>\n",
              "      <td>7.077807e-03</td>\n",
              "      <td>1.735151e-01</td>\n",
              "      <td>2.283090e-07</td>\n",
              "      <td>2.283090e-07</td>\n",
              "      <td>2.285373e-04</td>\n",
              "    </tr>\n",
              "    <tr>\n",
              "      <th>N</th>\n",
              "      <td>3.741957e-02</td>\n",
              "      <td>7.125384e-05</td>\n",
              "      <td>7.125384e-05</td>\n",
              "      <td>1.783129e-02</td>\n",
              "      <td>1.302799e-01</td>\n",
              "      <td>2.374336e-08</td>\n",
              "      <td>2.376711e-05</td>\n",
              "      <td>3.799176e-04</td>\n",
              "      <td>2.469334e-03</td>\n",
              "      <td>5.525083e-02</td>\n",
              "      <td>...</td>\n",
              "      <td>1.519599e-03</td>\n",
              "      <td>6.904573e-02</td>\n",
              "      <td>5.845619e-02</td>\n",
              "      <td>2.120758e-01</td>\n",
              "      <td>2.376711e-05</td>\n",
              "      <td>6.030838e-03</td>\n",
              "      <td>2.305006e-01</td>\n",
              "      <td>2.374336e-08</td>\n",
              "      <td>2.374336e-08</td>\n",
              "      <td>4.751048e-05</td>\n",
              "    </tr>\n",
              "    <tr>\n",
              "      <th>Mb</th>\n",
              "      <td>9.718173e-04</td>\n",
              "      <td>9.718173e-04</td>\n",
              "      <td>9.718173e-04</td>\n",
              "      <td>9.718173e-04</td>\n",
              "      <td>9.718173e-04</td>\n",
              "      <td>9.718173e-04</td>\n",
              "      <td>9.718173e-04</td>\n",
              "      <td>9.718173e-04</td>\n",
              "      <td>9.718173e-04</td>\n",
              "      <td>9.718173e-04</td>\n",
              "      <td>...</td>\n",
              "      <td>9.727891e-01</td>\n",
              "      <td>9.718173e-04</td>\n",
              "      <td>9.718173e-04</td>\n",
              "      <td>9.718173e-04</td>\n",
              "      <td>9.718173e-04</td>\n",
              "      <td>9.718173e-04</td>\n",
              "      <td>9.718173e-04</td>\n",
              "      <td>9.718173e-04</td>\n",
              "      <td>9.718173e-04</td>\n",
              "      <td>9.718173e-04</td>\n",
              "    </tr>\n",
              "    <tr>\n",
              "      <th>T</th>\n",
              "      <td>3.919849e-02</td>\n",
              "      <td>1.742987e-03</td>\n",
              "      <td>8.710581e-07</td>\n",
              "      <td>3.048791e-02</td>\n",
              "      <td>4.790907e-02</td>\n",
              "      <td>8.710581e-07</td>\n",
              "      <td>8.710581e-07</td>\n",
              "      <td>8.710581e-07</td>\n",
              "      <td>9.582510e-03</td>\n",
              "      <td>8.719292e-04</td>\n",
              "      <td>...</td>\n",
              "      <td>8.719292e-04</td>\n",
              "      <td>1.053989e-01</td>\n",
              "      <td>1.742987e-03</td>\n",
              "      <td>1.724704e-01</td>\n",
              "      <td>8.710581e-07</td>\n",
              "      <td>2.787473e-02</td>\n",
              "      <td>2.369287e-01</td>\n",
              "      <td>8.710581e-07</td>\n",
              "      <td>8.719292e-04</td>\n",
              "      <td>8.710581e-07</td>\n",
              "    </tr>\n",
              "    <tr>\n",
              "      <th>V</th>\n",
              "      <td>4.366061e-02</td>\n",
              "      <td>5.828207e-05</td>\n",
              "      <td>5.828207e-05</td>\n",
              "      <td>5.504906e-02</td>\n",
              "      <td>2.370898e-02</td>\n",
              "      <td>2.912647e-08</td>\n",
              "      <td>2.912647e-08</td>\n",
              "      <td>2.912938e-04</td>\n",
              "      <td>3.058309e-03</td>\n",
              "      <td>9.320762e-04</td>\n",
              "      <td>...</td>\n",
              "      <td>1.718491e-03</td>\n",
              "      <td>4.127224e-02</td>\n",
              "      <td>1.342733e-02</td>\n",
              "      <td>2.902453e-01</td>\n",
              "      <td>2.912647e-08</td>\n",
              "      <td>3.291321e-03</td>\n",
              "      <td>2.035067e-01</td>\n",
              "      <td>2.912647e-08</td>\n",
              "      <td>2.912647e-08</td>\n",
              "      <td>2.621674e-04</td>\n",
              "    </tr>\n",
              "    <tr>\n",
              "      <th>&lt;/s&gt;</th>\n",
              "      <td>6.132354e-03</td>\n",
              "      <td>4.381067e-04</td>\n",
              "      <td>3.505028e-04</td>\n",
              "      <td>9.505022e-02</td>\n",
              "      <td>3.767051e-03</td>\n",
              "      <td>8.760381e-08</td>\n",
              "      <td>2.628990e-04</td>\n",
              "      <td>3.066221e-03</td>\n",
              "      <td>1.095056e-02</td>\n",
              "      <td>1.226541e-03</td>\n",
              "      <td>...</td>\n",
              "      <td>4.117467e-03</td>\n",
              "      <td>6.272441e-02</td>\n",
              "      <td>1.664560e-03</td>\n",
              "      <td>2.536131e-01</td>\n",
              "      <td>8.760381e-08</td>\n",
              "      <td>2.417874e-02</td>\n",
              "      <td>1.915896e-01</td>\n",
              "      <td>8.760381e-08</td>\n",
              "      <td>1.752952e-04</td>\n",
              "      <td>7.885219e-04</td>\n",
              "    </tr>\n",
              "    <tr>\n",
              "      <th>Ab</th>\n",
              "      <td>1.422677e-04</td>\n",
              "      <td>1.422677e-04</td>\n",
              "      <td>1.422677e-04</td>\n",
              "      <td>1.424100e-01</td>\n",
              "      <td>1.422677e-04</td>\n",
              "      <td>1.422677e-04</td>\n",
              "      <td>1.422677e-04</td>\n",
              "      <td>1.422677e-04</td>\n",
              "      <td>1.422677e-04</td>\n",
              "      <td>1.422677e-04</td>\n",
              "      <td>...</td>\n",
              "      <td>1.424100e-01</td>\n",
              "      <td>1.422677e-04</td>\n",
              "      <td>1.422677e-04</td>\n",
              "      <td>4.269455e-01</td>\n",
              "      <td>1.422677e-04</td>\n",
              "      <td>1.422677e-04</td>\n",
              "      <td>2.846778e-01</td>\n",
              "      <td>1.422677e-04</td>\n",
              "      <td>1.422677e-04</td>\n",
              "      <td>1.422677e-04</td>\n",
              "    </tr>\n",
              "    <tr>\n",
              "      <th>Y</th>\n",
              "      <td>2.000839e-02</td>\n",
              "      <td>1.998841e-05</td>\n",
              "      <td>1.998841e-05</td>\n",
              "      <td>1.998841e-05</td>\n",
              "      <td>9.996202e-02</td>\n",
              "      <td>1.998841e-05</td>\n",
              "      <td>1.998841e-05</td>\n",
              "      <td>1.998841e-05</td>\n",
              "      <td>1.998841e-05</td>\n",
              "      <td>1.998841e-05</td>\n",
              "      <td>...</td>\n",
              "      <td>3.999680e-02</td>\n",
              "      <td>2.000839e-02</td>\n",
              "      <td>2.000839e-02</td>\n",
              "      <td>5.996722e-01</td>\n",
              "      <td>1.998841e-05</td>\n",
              "      <td>1.998841e-05</td>\n",
              "      <td>9.996202e-02</td>\n",
              "      <td>1.998841e-05</td>\n",
              "      <td>1.998841e-05</td>\n",
              "      <td>3.999680e-02</td>\n",
              "    </tr>\n",
              "  </tbody>\n",
              "</table>\n",
              "<p>29 rows × 29 columns</p>\n",
              "</div>"
            ],
            "text/plain": [
              "                 C            Vb             B            Np             E  \\\n",
              "C     1.382059e-02  1.588555e-07  4.767254e-04  7.005543e-02  2.541847e-03   \n",
              "Vb    3.995365e-05  1.598546e-01  3.995365e-05  3.999361e-02  7.994726e-02   \n",
              "B     4.539471e-05  4.539471e-05  4.539471e-05  4.544010e-02  1.362295e-01   \n",
              "Np    3.340441e-02  1.421458e-07  1.422880e-04  8.983631e-02  1.194026e-01   \n",
              "E     2.207244e-02  3.695040e-04  9.235291e-08  4.211302e-02  9.050678e-03   \n",
              "Ap    9.718173e-04  9.718173e-04  9.718173e-04  9.718173e-04  9.718173e-04   \n",
              "Vy    1.658650e-04  1.658650e-04  1.658650e-04  1.658650e-04  1.658650e-04   \n",
              "I     1.234126e-05  1.234126e-05  1.234126e-05  4.937738e-02  1.234126e-05   \n",
              "X     7.471097e-02  1.436722e-06  1.436722e-06  2.586243e-02  1.724210e-02   \n",
              "L     7.649700e-02  3.255178e-07  3.255178e-07  1.171897e-02  2.526021e-01   \n",
              "Eb    3.301419e-04  6.606141e-01  3.301419e-04  3.301419e-04  3.301419e-04   \n",
              "R     6.809804e-02  7.844195e-05  7.844195e-05  6.864658e-02  9.873890e-03   \n",
              "P     6.515181e-02  1.368733e-07  1.368733e-07  2.039425e-02  1.227755e-01   \n",
              "Nu    3.477287e-03  1.158710e-06  1.158710e-06  1.159868e-03  6.953416e-03   \n",
              "Ny    1.731092e-02  1.331506e-06  1.332838e-03  6.125063e-02  1.344835e-01   \n",
              "S     2.941285e-02  7.351374e-06  7.351374e-06  1.764403e-01  2.206147e-02   \n",
              "M     3.347281e-02  1.549660e-07  4.650529e-04  4.044628e-02  8.817580e-02   \n",
              "H     9.718173e-04  9.718173e-04  9.718173e-04  9.718173e-04  9.718173e-04   \n",
              "A     4.056645e-02  9.145704e-05  9.145704e-05  2.192785e-02  2.603931e-02   \n",
              "Nb    1.370028e-02  2.742248e-03  8.221265e-03  3.561635e-02  8.492750e-02   \n",
              "<s>   8.759613e-08  8.759613e-08  8.759613e-08  8.759613e-08  8.759613e-08   \n",
              "Nc    5.159806e-02  2.283090e-07  2.283090e-07  1.689509e-02  1.504558e-01   \n",
              "N     3.741957e-02  7.125384e-05  7.125384e-05  1.783129e-02  1.302799e-01   \n",
              "Mb    9.718173e-04  9.718173e-04  9.718173e-04  9.718173e-04  9.718173e-04   \n",
              "T     3.919849e-02  1.742987e-03  8.710581e-07  3.048791e-02  4.790907e-02   \n",
              "V     4.366061e-02  5.828207e-05  5.828207e-05  5.504906e-02  2.370898e-02   \n",
              "</s>  6.132354e-03  4.381067e-04  3.505028e-04  9.505022e-02  3.767051e-03   \n",
              "Ab    1.422677e-04  1.422677e-04  1.422677e-04  1.424100e-01  1.422677e-04   \n",
              "Y     2.000839e-02  1.998841e-05  1.998841e-05  1.998841e-05  9.996202e-02   \n",
              "\n",
              "                Ap            Vy             I             X             L  \\\n",
              "C     1.588555e-07  1.588555e-07  4.767254e-04  1.080233e-02  1.747569e-03   \n",
              "Vb    3.995365e-05  3.995365e-05  3.995365e-05  3.995365e-05  3.995365e-05   \n",
              "B     4.539471e-05  4.539471e-05  4.539471e-05  4.539471e-05  4.539471e-05   \n",
              "Np    1.421458e-07  1.421458e-07  1.422880e-04  7.108712e-04  8.530171e-04   \n",
              "E     9.235291e-08  9.244526e-05  1.847982e-04  5.818326e-03  6.465627e-04   \n",
              "Ap    9.718173e-04  9.718173e-04  9.718173e-04  9.718173e-04  9.718173e-04   \n",
              "Vy    1.658650e-04  1.658650e-04  1.658650e-04  1.658650e-04  1.658650e-04   \n",
              "I     1.234126e-05  1.234126e-05  4.937738e-02  1.234126e-05  1.234126e-05   \n",
              "X     1.436722e-06  1.436722e-06  1.438158e-03  4.311602e-03  2.874880e-03   \n",
              "L     3.255178e-07  3.255178e-07  3.255178e-07  8.463787e-03  3.255503e-03   \n",
              "Eb    3.301419e-04  3.301419e-04  3.301419e-04  3.301419e-04  3.301419e-04   \n",
              "R     7.836358e-08  7.836358e-08  1.568055e-04  5.798984e-03  4.702599e-04   \n",
              "P     1.368733e-07  1.368733e-07  5.476299e-04  5.064447e-03  7.117546e-03   \n",
              "Nu    1.158710e-06  1.158710e-06  1.158710e-06  2.318578e-03  1.969922e-02   \n",
              "Ny    1.331506e-06  1.331506e-06  1.331506e-06  2.664345e-03  1.331640e-02   \n",
              "S     7.351374e-06  7.351374e-06  7.351374e-06  7.351374e-06  3.676422e-02   \n",
              "M     1.549660e-07  1.549660e-07  1.551210e-04  3.099475e-03  1.053784e-02   \n",
              "H     9.718173e-04  9.718173e-04  9.718173e-04  9.718173e-04  9.718173e-04   \n",
              "A     9.136568e-08  9.145704e-05  9.145704e-05  3.106524e-03  7.310168e-04   \n",
              "Nb    2.742248e-03  2.739508e-06  2.739508e-06  2.742248e-03  4.931389e-02   \n",
              "<s>   8.759613e-08  8.759613e-08  8.759613e-08  8.759613e-08  8.759613e-08   \n",
              "Nc    2.283090e-07  2.283090e-07  2.285373e-04  3.653172e-03  1.091319e-01   \n",
              "N     2.374336e-08  2.376711e-05  3.799176e-04  2.469334e-03  5.525083e-02   \n",
              "Mb    9.718173e-04  9.718173e-04  9.718173e-04  9.718173e-04  9.718173e-04   \n",
              "T     8.710581e-07  8.710581e-07  8.710581e-07  9.582510e-03  8.719292e-04   \n",
              "V     2.912647e-08  2.912647e-08  2.912938e-04  3.058309e-03  9.320762e-04   \n",
              "</s>  8.760381e-08  2.628990e-04  3.066221e-03  1.095056e-02  1.226541e-03   \n",
              "Ab    1.422677e-04  1.422677e-04  1.422677e-04  1.422677e-04  1.422677e-04   \n",
              "Y     1.998841e-05  1.998841e-05  1.998841e-05  1.998841e-05  1.998841e-05   \n",
              "\n",
              "      ...            Nb           <s>            Nc             N  \\\n",
              "C     ...  4.606968e-03  1.216835e-01  2.065280e-03  2.713253e-01   \n",
              "Vb    ...  7.994726e-02  3.999361e-02  3.999361e-02  1.598546e-01   \n",
              "B     ...  4.539471e-05  1.362295e-01  4.539471e-05  1.362295e-01   \n",
              "Np    ...  2.274475e-03  8.287116e-02  1.519540e-01  3.567862e-01   \n",
              "E     ...  4.155973e-03  7.397477e-02  1.477739e-03  2.941441e-01   \n",
              "Ap    ...  9.718173e-04  9.718173e-04  9.718173e-04  9.718173e-04   \n",
              "Vy    ...  1.658650e-04  1.658650e-04  1.658650e-04  3.318958e-01   \n",
              "I     ...  1.235360e-02  3.455676e-01  1.234126e-05  3.208851e-01   \n",
              "X     ...  4.311602e-03  1.795917e-01  1.438158e-03  2.471176e-01   \n",
              "L     ...  3.258433e-04  1.178378e-01  1.953432e-03  1.061191e-01   \n",
              "Eb    ...  3.304721e-01  3.301419e-04  3.301419e-04  3.301419e-04   \n",
              "R     ...  1.880804e-03  5.273877e-02  1.488987e-03  2.431623e-01   \n",
              "P     ...  2.053236e-03  1.235967e-01  1.409808e-02  3.153561e-01   \n",
              "Nu    ...  1.158710e-06  2.665148e-02  2.318578e-03  7.299986e-02   \n",
              "Ny    ...  1.198489e-02  8.122323e-02  3.328899e-02  2.916013e-01   \n",
              "S     ...  7.351374e-06  1.470348e-01  4.411559e-02  3.822788e-01   \n",
              "M     ...  1.394849e-03  1.380748e-01  1.549815e-03  2.595682e-01   \n",
              "H     ...  9.718173e-04  9.718173e-04  9.718173e-04  9.718173e-04   \n",
              "A     ...  2.375599e-03  3.782548e-02  1.114670e-02  3.782540e-01   \n",
              "Nb    ...  2.465831e-02  3.287684e-02  6.849045e-02  3.643574e-01   \n",
              "<s>   ...  8.759613e-08  8.759613e-08  8.759613e-08  8.759613e-08   \n",
              "Nc    ...  2.283090e-07  1.340176e-01  3.881481e-03  1.070771e-01   \n",
              "N     ...  1.519599e-03  6.904573e-02  5.845619e-02  2.120758e-01   \n",
              "Mb    ...  9.727891e-01  9.718173e-04  9.718173e-04  9.718173e-04   \n",
              "T     ...  8.719292e-04  1.053989e-01  1.742987e-03  1.724704e-01   \n",
              "V     ...  1.718491e-03  4.127224e-02  1.342733e-02  2.902453e-01   \n",
              "</s>  ...  4.117467e-03  6.272441e-02  1.664560e-03  2.536131e-01   \n",
              "Ab    ...  1.424100e-01  1.422677e-04  1.422677e-04  4.269455e-01   \n",
              "Y     ...  3.999680e-02  2.000839e-02  2.000839e-02  5.996722e-01   \n",
              "\n",
              "                Mb             T             V          </s>            Ab  \\\n",
              "C     1.588555e-07  1.350288e-02  1.933273e-01  1.588555e-07  1.590144e-04   \n",
              "Vb    3.995365e-05  3.995365e-05  2.397619e-01  3.995365e-05  3.995365e-05   \n",
              "B     4.539471e-05  4.539471e-05  2.724136e-01  4.539471e-05  4.539471e-05   \n",
              "Np    1.421458e-07  1.848038e-03  9.410068e-02  1.421458e-07  1.421458e-07   \n",
              "E     9.235291e-08  4.525385e-03  3.106753e-01  9.235291e-08  9.244526e-05   \n",
              "Ap    9.718173e-04  9.718173e-04  9.718173e-04  9.718173e-04  9.718173e-04   \n",
              "Vy    1.658650e-04  1.658650e-04  6.636258e-01  1.658650e-04  1.658650e-04   \n",
              "I     1.234126e-05  1.234126e-05  3.703612e-02  1.234126e-05  1.234126e-05   \n",
              "X     1.436722e-06  1.580538e-02  2.097628e-01  1.436722e-06  1.436722e-06   \n",
              "L     3.255178e-07  8.789305e-03  2.724587e-01  3.255178e-07  3.255178e-07   \n",
              "Eb    3.301419e-04  3.301419e-04  3.301419e-04  3.301419e-04  3.301419e-04   \n",
              "R     7.836358e-08  4.153349e-03  2.453565e-01  7.836358e-08  7.844195e-05   \n",
              "P     1.368733e-07  6.570053e-03  1.713655e-01  1.368733e-07  1.368733e-07   \n",
              "Nu    1.158710e-06  9.270836e-03  6.257148e-02  1.158710e-06  1.158710e-06   \n",
              "Ny    1.331506e-06  1.331506e-06  1.571191e-01  1.331506e-06  1.331506e-06   \n",
              "S     7.351374e-06  7.351374e-06  1.029266e-01  7.351374e-06  7.351374e-06   \n",
              "M     1.549660e-07  1.270737e-02  1.802256e-01  1.549660e-07  1.549660e-07   \n",
              "H     9.718173e-04  9.718173e-04  9.727891e-01  9.718173e-04  9.718173e-04   \n",
              "A     9.136568e-08  5.847495e-03  2.148008e-01  9.136568e-08  9.136568e-08   \n",
              "Nb    2.739508e-06  5.481756e-03  2.273819e-01  2.739508e-06  2.742248e-03   \n",
              "<s>   8.759613e-08  8.759613e-08  8.759613e-08  9.999099e-01  8.759613e-08   \n",
              "Nc    2.283090e-07  7.077807e-03  1.735151e-01  2.283090e-07  2.283090e-07   \n",
              "N     2.376711e-05  6.030838e-03  2.305006e-01  2.374336e-08  2.374336e-08   \n",
              "Mb    9.718173e-04  9.718173e-04  9.718173e-04  9.718173e-04  9.718173e-04   \n",
              "T     8.710581e-07  2.787473e-02  2.369287e-01  8.710581e-07  8.719292e-04   \n",
              "V     2.912647e-08  3.291321e-03  2.035067e-01  2.912647e-08  2.912647e-08   \n",
              "</s>  8.760381e-08  2.417874e-02  1.915896e-01  8.760381e-08  1.752952e-04   \n",
              "Ab    1.422677e-04  1.422677e-04  2.846778e-01  1.422677e-04  1.422677e-04   \n",
              "Y     1.998841e-05  1.998841e-05  9.996202e-02  1.998841e-05  1.998841e-05   \n",
              "\n",
              "                 Y  \n",
              "C     6.355809e-04  \n",
              "Vb    3.995365e-05  \n",
              "B     4.539471e-05  \n",
              "Np    2.844338e-04  \n",
              "E     5.542098e-04  \n",
              "Ap    9.718173e-04  \n",
              "Vy    1.658650e-04  \n",
              "I     1.234126e-05  \n",
              "X     1.436722e-06  \n",
              "L     3.255178e-07  \n",
              "Eb    3.301419e-04  \n",
              "R     6.269871e-04  \n",
              "P     2.738834e-04  \n",
              "Nu    1.158710e-06  \n",
              "Ny    1.331506e-06  \n",
              "S     7.351374e-06  \n",
              "M     4.650529e-04  \n",
              "H     9.718173e-04  \n",
              "A     9.145704e-05  \n",
              "Nb    2.742248e-03  \n",
              "<s>   8.759613e-08  \n",
              "Nc    2.285373e-04  \n",
              "N     4.751048e-05  \n",
              "Mb    9.718173e-04  \n",
              "T     8.710581e-07  \n",
              "V     2.621674e-04  \n",
              "</s>  7.885219e-04  \n",
              "Ab    1.422677e-04  \n",
              "Y     3.999680e-02  \n",
              "\n",
              "[29 rows x 29 columns]"
            ]
          },
          "execution_count": 85,
          "metadata": {},
          "output_type": "execute_result"
        }
      ],
      "source": [
        "transition_table"
      ]
    },
    {
      "cell_type": "markdown",
      "metadata": {
        "id": "z76ITGahCqYj"
      },
      "source": [
        "## HMM + viterbi"
      ]
    },
    {
      "cell_type": "code",
      "execution_count": 86,
      "metadata": {
        "id": "p82UItYrCqYk"
      },
      "outputs": [],
      "source": [
        "def viterbi(tokens):\n",
        "    pred = []\n",
        "    T = list(tags)\n",
        "    for idx in range(len(tokens)):\n",
        "        #initialise list of probability column for a given observation\n",
        "        p = []\n",
        "        for tag in T:\n",
        "            if idx == 0:\n",
        "                transition_p = transition_table.loc['<s>', tag]\n",
        "            else:\n",
        "                transition_p = transition_table.loc[pred[-1], tag]\n",
        "            # compute emission and state probabilities\n",
        "            emission_p = P_w_given_t(tokens[idx], tag)\n",
        "            state_probability = emission_p * transition_p\n",
        "            p.append(state_probability)\n",
        "\n",
        "        argmax = max(p)\n",
        "        # getting state for which probability is maximum\n",
        "        state_max = T[p.index(argmax)]\n",
        "        pred.append(state_max)\n",
        "    return pred"
      ]
    },
    {
      "cell_type": "code",
      "execution_count": 87,
      "metadata": {
        "id": "2eeyHWm1CqYk"
      },
      "outputs": [],
      "source": [
        "test_word = [duo[0] for duo in test_set]\n",
        "test_tag= [duo[1] for duo in test_set]"
      ]
    },
    {
      "cell_type": "code",
      "execution_count": 88,
      "metadata": {},
      "outputs": [
        {
          "data": {
            "text/plain": [
              "['em',\n",
              " 'mới',\n",
              " 'thật_sự',\n",
              " 'hiểu',\n",
              " 'có',\n",
              " 'những',\n",
              " 'cái',\n",
              " 'sống',\n",
              " 'còn',\n",
              " 'đau_đớn',\n",
              " 'hơn',\n",
              " 'cả',\n",
              " 'cái',\n",
              " 'chết',\n",
              " 'mà',\n",
              " 'quan_tòa',\n",
              " 'đã',\n",
              " 'phán_xét',\n",
              " 'cho',\n",
              " 'tội_lỗi',\n",
              " 'của',\n",
              " 'em',\n",
              " '</s>',\n",
              " '<s>',\n",
              " 'Cứ',\n",
              " 'chợp',\n",
              " 'mắt',\n",
              " 'là',\n",
              " 'em',\n",
              " 'lại',\n",
              " 'thấy',\n",
              " 'đôi',\n",
              " 'mắt',\n",
              " 'nạn_nhân',\n",
              " 'của',\n",
              " 'mình',\n",
              " 'gương_mặt',\n",
              " 'đau_khổ',\n",
              " 'của',\n",
              " 'mẹ',\n",
              " 'em',\n",
              " '</s>',\n",
              " '<s>',\n",
              " 'Nếu',\n",
              " 'may_mắn',\n",
              " 'được',\n",
              " 'ân_giảm',\n",
              " 'được',\n",
              " 'sống',\n",
              " 'em',\n",
              " 'cũng',\n",
              " 'không',\n",
              " 'còn',\n",
              " 'dám',\n",
              " 'ngửa',\n",
              " 'mặt',\n",
              " 'nhìn',\n",
              " 'ai',\n",
              " 'nữa',\n",
              " '</s>',\n",
              " '<s>',\n",
              " '</s>',\n",
              " '<s>',\n",
              " 'Tiếp_cận',\n",
              " 'với',\n",
              " 'nhiều',\n",
              " 'tử_tù',\n",
              " 'quản_giáo',\n",
              " 'Thắng',\n",
              " 'hiểu',\n",
              " 'rất',\n",
              " 'rõ',\n",
              " 'tâm_trạng',\n",
              " 'chờ_đợi',\n",
              " 'cái',\n",
              " 'chết',\n",
              " 'của',\n",
              " 'họ',\n",
              " '</s>',\n",
              " '<s>',\n",
              " 'Nó',\n",
              " 'thật',\n",
              " 'kinh_khủng',\n",
              " 'với',\n",
              " 'người',\n",
              " 'hèn_nhát',\n",
              " '</s>',\n",
              " '<s>',\n",
              " 'Nhưng',\n",
              " 'thường',\n",
              " 'cũng',\n",
              " 'đau_đớn',\n",
              " 'tột_cùng',\n",
              " 'với',\n",
              " 'ngay',\n",
              " 'cả',\n",
              " 'những',\n",
              " 'kẻ',\n",
              " 'đủ',\n",
              " 'can_đảm']"
            ]
          },
          "execution_count": 88,
          "metadata": {},
          "output_type": "execute_result"
        }
      ],
      "source": [
        "test_word[:100]"
      ]
    },
    {
      "cell_type": "code",
      "execution_count": 89,
      "metadata": {
        "colab": {
          "base_uri": "https://localhost:8080/"
        },
        "id": "AtHIkMZSCqYk",
        "outputId": "35870560-1858-4863-ddb4-1cec71a87be8"
      },
      "outputs": [],
      "source": [
        "predict_tags = viterbi(test_word)"
      ]
    },
    {
      "cell_type": "code",
      "execution_count": 90,
      "metadata": {
        "colab": {
          "base_uri": "https://localhost:8080/"
        },
        "id": "APbwiY2wD8KA",
        "outputId": "df9abf9a-1da8-4f85-9d1f-1b66fb49a33c"
      },
      "outputs": [
        {
          "name": "stdout",
          "output_type": "stream",
          "text": [
            "0.843469591226321\n",
            "0.8469914567282716\n"
          ]
        }
      ],
      "source": [
        "print(accuracy_score(test_tag, predict_tags))\n",
        "print(f1_score(test_tag, predict_tags, average=\"weighted\"))"
      ]
    },
    {
      "cell_type": "markdown",
      "metadata": {
        "id": "557mmUdgCqYk"
      },
      "source": [
        "predict tag"
      ]
    },
    {
      "cell_type": "code",
      "execution_count": 91,
      "metadata": {
        "id": "N9QRlaPkCqYl"
      },
      "outputs": [],
      "source": [
        "def predict_tag(sent):\n",
        "    tokens = underthesea.word_tokenize(sent, format=\"text\")\n",
        "    tokens = tokens.split()\n",
        "    return list(zip(tokens,viterbi(tokens)))"
      ]
    },
    {
      "cell_type": "code",
      "execution_count": 92,
      "metadata": {
        "colab": {
          "base_uri": "https://localhost:8080/"
        },
        "id": "dDajxjQVCqYl",
        "outputId": "4bed7522-fe57-4df8-e081-121c17bc544d"
      },
      "outputs": [
        {
          "data": {
            "text/plain": [
              "[('Tôi', 'P'),\n",
              " ('thích', 'V'),\n",
              " ('học', 'V'),\n",
              " ('xử_lí', 'C'),\n",
              " ('ngôn_ngữ', 'N'),\n",
              " ('tự_nhiên', 'A')]"
            ]
          },
          "execution_count": 92,
          "metadata": {},
          "output_type": "execute_result"
        }
      ],
      "source": [
        "s1 = 'Tôi thích học xử lí ngôn ngữ tự nhiên'\n",
        "predict_tag(s1)"
      ]
    },
    {
      "cell_type": "markdown",
      "metadata": {
        "id": "dpzWIAG_CqYl"
      },
      "source": [
        "# HMM by nltk library"
      ]
    },
    {
      "cell_type": "code",
      "execution_count": 93,
      "metadata": {
        "id": "Ms6lM8QICqYl"
      },
      "outputs": [],
      "source": [
        "from nltk.tag import hmm"
      ]
    },
    {
      "cell_type": "code",
      "execution_count": 94,
      "metadata": {
        "id": "sgI13vCaCqYm"
      },
      "outputs": [],
      "source": [
        "data_hmm = get_processed_data(path)\n",
        "train_hmm, test_hmm = train_test_split(data_hmm, test_size=0.2, random_state=0)"
      ]
    },
    {
      "cell_type": "code",
      "execution_count": 95,
      "metadata": {
        "colab": {
          "base_uri": "https://localhost:8080/",
          "height": 336
        },
        "id": "ixDYrLO7H8_6",
        "outputId": "2dba8c46-68cd-4a00-d378-71c8788c22a2"
      },
      "outputs": [
        {
          "name": "stdout",
          "output_type": "stream",
          "text": [
            "Counter({2: 892, 4: 643, 12: 576, 9: 570, 10: 565, 8: 564, 3: 560, 14: 560, 11: 554, 5: 540, 13: 535, 7: 533, 15: 511, 16: 497, 6: 495, 17: 485, 18: 471, 19: 445, 20: 420, 21: 368, 22: 355, 23: 316, 25: 267, 24: 263, 26: 227, 27: 200, 28: 180, 29: 178, 30: 160, 32: 124, 31: 122, 34: 99, 33: 88, 36: 84, 35: 79, 37: 70, 39: 61, 38: 58, 40: 52, 43: 38, 44: 37, 41: 37, 42: 34, 46: 30, 45: 28, 49: 18, 47: 14, 50: 12, 53: 12, 48: 12, 52: 11, 56: 8, 51: 8, 57: 7, 58: 6, 61: 5, 63: 4, 55: 4, 54: 4, 59: 3, 62: 3, 69: 2, 65: 2, 71: 2, 60: 2, 80: 1, 73: 1, 66: 1, 72: 1, 67: 1, 64: 1, 75: 1})\n"
          ]
        },
        {
          "data": {
            "text/plain": [
              "<BarContainer object of 72 artists>"
            ]
          },
          "execution_count": 95,
          "metadata": {},
          "output_type": "execute_result"
        },
        {
          "data": {
            "image/png": "[encoded data removed]",
            "text/plain": [
              "<Figure size 640x480 with 1 Axes>"
            ]
          },
          "metadata": {},
          "output_type": "display_data"
        }
      ],
      "source": [
        "len_sentences = [len(s) for s in data_hmm]\n",
        "counter = Counter(len_sentences)\n",
        "print(counter)\n",
        "\n",
        "plt.title(\"sentences length count\")\n",
        "plt.bar(counter.keys(), counter.values())\n"
      ]
    },
    {
      "cell_type": "code",
      "execution_count": 96,
      "metadata": {
        "id": "lB_lrFnxCqYm"
      },
      "outputs": [],
      "source": [
        "tagger = nltk.HiddenMarkovModelTagger.train(train_hmm)"
      ]
    },
    {
      "cell_type": "code",
      "execution_count": 97,
      "metadata": {
        "id": "N7KYWGApCqYm"
      },
      "outputs": [],
      "source": [
        "pred_hmm_tag = [tag for _,tag in tagger.tag(test_word)]"
      ]
    },
    {
      "cell_type": "code",
      "execution_count": 98,
      "metadata": {
        "colab": {
          "base_uri": "https://localhost:8080/"
        },
        "id": "SJ_t0hn2CqYm",
        "outputId": "22a2d8d5-d437-45d0-899a-90edf7ebc08f"
      },
      "outputs": [
        {
          "data": {
            "text/plain": [
              "0.9253170720396948"
            ]
          },
          "execution_count": 98,
          "metadata": {},
          "output_type": "execute_result"
        }
      ],
      "source": [
        "accuracy_score(test_tag, pred_hmm_tag)"
      ]
    },
    {
      "cell_type": "code",
      "execution_count": 99,
      "metadata": {
        "colab": {
          "base_uri": "https://localhost:8080/"
        },
        "id": "QEssYlYXCqYm",
        "outputId": "98192c57-ea01-4e0d-bb59-17b9b3c1705a"
      },
      "outputs": [
        {
          "data": {
            "text/plain": [
              "0.9245611032609682"
            ]
          },
          "execution_count": 99,
          "metadata": {},
          "output_type": "execute_result"
        }
      ],
      "source": [
        "f1_score(test_tag, pred_hmm_tag, average=\"weighted\")\n"
      ]
    },
    {
      "cell_type": "markdown",
      "metadata": {
        "id": "17tqYIqZEY2R"
      },
      "source": [
        "## CRF"
      ]
    },
    {
      "cell_type": "code",
      "execution_count": 100,
      "metadata": {
        "id": "inV5EYH0ERSz"
      },
      "outputs": [],
      "source": [
        "def features(sentence,index):\n",
        "    return {\n",
        "        # 'is_first_capital':int(sentence[index][0].isupper()),\n",
        "        'is_first_word': int(index==0),\n",
        "        'is_last_word':int(index==len(sentence)-1),\n",
        "        'is_complete_capital': int(sentence[index].upper()==sentence[index]),\n",
        "        'prev_word':'' if index==0 else sentence[index-1],\n",
        "        'next_word':'' if index==len(sentence)-1 else sentence[index+1],\n",
        "        'is_numeric':int(sentence[index].isdigit()),\n",
        "        'is_alphanumeric': int(bool((re.match('^(?=.*[0-9]$)(?=.*[a-zA-Z])',sentence[index])))),\n",
        "    }\n",
        "  \n",
        "def prepareData(tagged_sentences):\n",
        "    X=[]\n",
        "    for sentences in tagged_sentences:\n",
        "        X.append([features(sentences, index) for index in range(len(sentences))])\n",
        "    return X"
      ]
    },
    {
      "cell_type": "code",
      "execution_count": 101,
      "metadata": {
        "id": "x8APyIaaJOt1"
      },
      "outputs": [],
      "source": [
        "sentences = []\n",
        "tags = []\n",
        "for sent in train_hmm:\n",
        "    sent_word = []\n",
        "    sent_tag = []\n",
        "    for word, tag in sent:\n",
        "        sent_word.append(word)\n",
        "        sent_tag.append(tag)\n",
        "    \n",
        "    sentences.append(sent_word)\n",
        "    tags.append(sent_tag)"
      ]
    },
    {
      "cell_type": "code",
      "execution_count": 102,
      "metadata": {
        "colab": {
          "base_uri": "https://localhost:8080/"
        },
        "id": "JQoM6b0yLQFm",
        "outputId": "4d75fd60-efa5-4e79-b5f5-06ef65937373"
      },
      "outputs": [
        {
          "data": {
            "text/plain": [
              "11293"
            ]
          },
          "execution_count": 102,
          "metadata": {},
          "output_type": "execute_result"
        }
      ],
      "source": [
        "len(sentences)"
      ]
    },
    {
      "cell_type": "code",
      "execution_count": 103,
      "metadata": {
        "id": "ugjUz_BaLLC8"
      },
      "outputs": [],
      "source": [
        "train_sentences, test_sentences, train_tags, test_tags = train_test_split(sentences, tags, test_size=0.2)"
      ]
    },
    {
      "cell_type": "code",
      "execution_count": 104,
      "metadata": {
        "id": "VOZHDLgNIwAh"
      },
      "outputs": [],
      "source": [
        "X_train = prepareData(train_sentences)\n",
        "y_train = train_tags\n",
        "X_test = prepareData(test_sentences)\n",
        "y_test =  test_tags"
      ]
    },
    {
      "cell_type": "code",
      "execution_count": 105,
      "metadata": {
        "id": "vJbHbqT2JFCA"
      },
      "outputs": [],
      "source": [
        "crf = CRF(\n",
        "    algorithm='lbfgs',\n",
        "    c1=0.01,\n",
        "    c2=0.1,\n",
        "    max_iterations=100,\n",
        "    all_possible_transitions=True\n",
        ")\n",
        "try:\n",
        "    crf.fit(X_train, y_train)\n",
        "except AttributeError:\n",
        "    pass"
      ]
    },
    {
      "cell_type": "code",
      "execution_count": 106,
      "metadata": {
        "id": "2bpxC1CDPXO8"
      },
      "outputs": [],
      "source": [
        "y_pred=crf.predict(X_test)\n",
        "y_pred_train=crf.predict(X_train)"
      ]
    },
    {
      "cell_type": "code",
      "execution_count": 107,
      "metadata": {
        "colab": {
          "base_uri": "https://localhost:8080/"
        },
        "id": "NrWZizv3PsPP",
        "outputId": "2772b9a8-6c5e-4754-dc6a-cd576a103b0b"
      },
      "outputs": [],
      "source": [
        "from sklearn_crfsuite import metrics\n",
        "from sklearn_crfsuite import scorers\n",
        "\n",
        "# #F1 score test\n",
        "# print(metrics.flat_f1_score(y_test, y_pred,average='weighted',labels=crf.classes_))\n",
        "# #Accuracy score test\n",
        "# print(metrics.flat_accuracy_score(y_test,y_pred))"
      ]
    },
    {
      "cell_type": "code",
      "execution_count": 108,
      "metadata": {
        "colab": {
          "base_uri": "https://localhost:8080/"
        },
        "id": "TiFeMJkgPuL9",
        "outputId": "8e957cb7-718c-4921-b28c-9a49e4f729f6"
      },
      "outputs": [
        {
          "name": "stdout",
          "output_type": "stream",
          "text": [
            "0.6990567241661743\n",
            "0.7068886877828054\n"
          ]
        }
      ],
      "source": [
        "#F1 score train\n",
        "print(metrics.flat_f1_score(y_train, y_pred_train,average='weighted',labels=crf.classes_))\n",
        "#Accuracy score train\n",
        "print(metrics.flat_accuracy_score(y_train,y_pred_train))"
      ]
    },
    {
      "cell_type": "code",
      "execution_count": 109,
      "metadata": {
        "colab": {
          "base_uri": "https://localhost:8080/"
        },
        "id": "mgZNBg-cPvx5",
        "outputId": "507aecc1-6069-4596-bc64-19a73d3cd617"
      },
      "outputs": [
        {
          "name": "stdout",
          "output_type": "stream",
          "text": [
            "27\n"
          ]
        },
        {
          "data": {
            "text/plain": [
              "['<s>',\n",
              " 'N',\n",
              " 'A',\n",
              " 'Np',\n",
              " 'V',\n",
              " 'M',\n",
              " 'R',\n",
              " 'E',\n",
              " '</s>',\n",
              " 'Nu',\n",
              " 'Nc',\n",
              " 'L',\n",
              " 'C',\n",
              " 'X',\n",
              " 'P',\n",
              " 'Y',\n",
              " 'Ny',\n",
              " 'Nb',\n",
              " 'T',\n",
              " 'S',\n",
              " 'I',\n",
              " 'Vb',\n",
              " 'B',\n",
              " 'Eb',\n",
              " 'Vy',\n",
              " 'Ab',\n",
              " 'H']"
            ]
          },
          "execution_count": 109,
          "metadata": {},
          "output_type": "execute_result"
        }
      ],
      "source": [
        "labels1=crf.classes_\n",
        "print(len(labels1))\n",
        "labels1"
      ]
    },
    {
      "cell_type": "code",
      "execution_count": 110,
      "metadata": {
        "colab": {
          "base_uri": "https://localhost:8080/"
        },
        "id": "LkO-lcmTPyk1",
        "outputId": "06614baf-97ef-44fa-bf5c-7b763cba6520"
      },
      "outputs": [
        {
          "data": {
            "text/plain": [
              "[('<s>', '<s>'),\n",
              " ('tôi', 'N'),\n",
              " ('yêu', 'V'),\n",
              " ('môn', 'N'),\n",
              " ('xử lí', 'N'),\n",
              " ('ngôn ngữ', 'V'),\n",
              " ('tự nhiên', 'N'),\n",
              " ('</s>', '</s>')]"
            ]
          },
          "execution_count": 110,
          "metadata": {},
          "output_type": "execute_result"
        }
      ],
      "source": [
        "def crf_tagger(sent):\n",
        "    sent = underthesea.word_tokenize(sent.lower())\n",
        "    sent = ['<s>'] + sent + ['</s>']\n",
        "    x_data = prepareData([sent])\n",
        "    y_pred = crf.predict(x_data)\n",
        "    return list(zip(sent, y_pred[0]))\n",
        "\n",
        "sent = 'tôi yêu môn xử lí ngôn ngữ tự nhiên'\n",
        "crf_tagger(sent)"
      ]
    },
    {
      "cell_type": "markdown",
      "metadata": {
        "id": "3RGu9IjBehzA"
      },
      "source": [
        "## Logistic Regression "
      ]
    },
    {
      "cell_type": "code",
      "execution_count": 111,
      "metadata": {
        "id": "fEgBYt4XRC6r"
      },
      "outputs": [],
      "source": [
        "from sklearn.feature_extraction.text import TfidfVectorizer\n",
        "from sklearn.linear_model import LogisticRegression"
      ]
    },
    {
      "cell_type": "code",
      "execution_count": 112,
      "metadata": {
        "id": "7fJGpgF_fHnC"
      },
      "outputs": [],
      "source": [
        "from sklearn.preprocessing import LabelEncoder\n",
        "\n",
        "Encoder = LabelEncoder()"
      ]
    },
    {
      "cell_type": "code",
      "execution_count": 113,
      "metadata": {
        "id": "1x-8jRKHfPdr"
      },
      "outputs": [],
      "source": [
        "Tfidf_vect = TfidfVectorizer()\n",
        "wordvec = Tfidf_vect.fit_transform(all_words)"
      ]
    },
    {
      "cell_type": "code",
      "execution_count": 114,
      "metadata": {
        "colab": {
          "base_uri": "https://localhost:8080/"
        },
        "id": "FW9A-Jsjsd5r",
        "outputId": "c780dff4-97c7-4dfb-8d2e-27f1648bbc4a"
      },
      "outputs": [
        {
          "data": {
            "text/plain": [
              "(172512, 11802)"
            ]
          },
          "execution_count": 114,
          "metadata": {},
          "output_type": "execute_result"
        }
      ],
      "source": [
        "wordvec.shape"
      ]
    },
    {
      "cell_type": "code",
      "execution_count": 115,
      "metadata": {
        "colab": {
          "base_uri": "https://localhost:8080/"
        },
        "id": "M_ff4Snlfke4",
        "outputId": "9b07445b-e9d9-4806-b77c-66b264e6a22d"
      },
      "outputs": [
        {
          "data": {
            "text/plain": [
              "11802"
            ]
          },
          "execution_count": 115,
          "metadata": {},
          "output_type": "execute_result"
        }
      ],
      "source": [
        "len(Tfidf_vect.vocabulary_)\n",
        "# print(Tfidf_vect.vocabulary_)"
      ]
    },
    {
      "cell_type": "code",
      "execution_count": 116,
      "metadata": {
        "id": "Er-boD0HfEm-"
      },
      "outputs": [],
      "source": [
        "Train_X, Test_X, Train_Y, Test_Y = train_test_split(wordvec, all_tags,test_size=0.2, random_state = 5)"
      ]
    },
    {
      "cell_type": "code",
      "execution_count": 117,
      "metadata": {
        "colab": {
          "base_uri": "https://localhost:8080/"
        },
        "id": "B7g_klocfYkT",
        "outputId": "f317bf08-7827-489a-ad70-6efb1d04279e"
      },
      "outputs": [
        {
          "name": "stdout",
          "output_type": "stream",
          "text": [
            "(138009, 11802)\n",
            "(34503, 11802)\n"
          ]
        }
      ],
      "source": [
        "print(Train_X.shape)\n",
        "print(Test_X.shape)"
      ]
    },
    {
      "cell_type": "code",
      "execution_count": 118,
      "metadata": {
        "colab": {
          "base_uri": "https://localhost:8080/"
        },
        "id": "f0Al4zXakSP5",
        "outputId": "515d76b0-1c62-4807-dff7-b4ec3816e99a"
      },
      "outputs": [
        {
          "name": "stderr",
          "output_type": "stream",
          "text": [
            "c:\\Users\\ASUS\\AppData\\Local\\Programs\\Python\\Python310\\lib\\site-packages\\sklearn\\linear_model\\_logistic.py:444: ConvergenceWarning: lbfgs failed to converge (status=1):\n",
            "STOP: TOTAL NO. of ITERATIONS REACHED LIMIT.\n",
            "\n",
            "Increase the number of iterations (max_iter) or scale the data as shown in:\n",
            "    https://scikit-learn.org/stable/modules/preprocessing.html\n",
            "Please also refer to the documentation for alternative solver options:\n",
            "    https://scikit-learn.org/stable/modules/linear_model.html#logistic-regression\n",
            "  n_iter_i = _check_optimize_result(\n"
          ]
        },
        {
          "data": {
            "text/html": [
              "<style>#sk-container-id-2 {color: black;background-color: white;}#sk-container-id-2 pre{padding: 0;}#sk-container-id-2 div.sk-toggleable {background-color: white;}#sk-container-id-2 label.sk-toggleable__label {cursor: pointer;display: block;width: 100%;margin-bottom: 0;padding: 0.3em;box-sizing: border-box;text-align: center;}#sk-container-id-2 label.sk-toggleable__label-arrow:before {content: \"▸\";float: left;margin-right: 0.25em;color: #696969;}#sk-container-id-2 label.sk-toggleable__label-arrow:hover:before {color: black;}#sk-container-id-2 div.sk-estimator:hover label.sk-toggleable__label-arrow:before {color: black;}#sk-container-id-2 div.sk-toggleable__content {max-height: 0;max-width: 0;overflow: hidden;text-align: left;background-color: #f0f8ff;}#sk-container-id-2 div.sk-toggleable__content pre {margin: 0.2em;color: black;border-radius: 0.25em;background-color: #f0f8ff;}#sk-container-id-2 input.sk-toggleable__control:checked~div.sk-toggleable__content {max-height: 200px;max-width: 100%;overflow: auto;}#sk-container-id-2 input.sk-toggleable__control:checked~label.sk-toggleable__label-arrow:before {content: \"▾\";}#sk-container-id-2 div.sk-estimator input.sk-toggleable__control:checked~label.sk-toggleable__label {background-color: #d4ebff;}#sk-container-id-2 div.sk-label input.sk-toggleable__control:checked~label.sk-toggleable__label {background-color: #d4ebff;}#sk-container-id-2 input.sk-hidden--visually {border: 0;clip: rect(1px 1px 1px 1px);clip: rect(1px, 1px, 1px, 1px);height: 1px;margin: -1px;overflow: hidden;padding: 0;position: absolute;width: 1px;}#sk-container-id-2 div.sk-estimator {font-family: monospace;background-color: #f0f8ff;border: 1px dotted black;border-radius: 0.25em;box-sizing: border-box;margin-bottom: 0.5em;}#sk-container-id-2 div.sk-estimator:hover {background-color: #d4ebff;}#sk-container-id-2 div.sk-parallel-item::after {content: \"\";width: 100%;border-bottom: 1px solid gray;flex-grow: 1;}#sk-container-id-2 div.sk-label:hover label.sk-toggleable__label {background-color: #d4ebff;}#sk-container-id-2 div.sk-serial::before {content: \"\";position: absolute;border-left: 1px solid gray;box-sizing: border-box;top: 0;bottom: 0;left: 50%;z-index: 0;}#sk-container-id-2 div.sk-serial {display: flex;flex-direction: column;align-items: center;background-color: white;padding-right: 0.2em;padding-left: 0.2em;position: relative;}#sk-container-id-2 div.sk-item {position: relative;z-index: 1;}#sk-container-id-2 div.sk-parallel {display: flex;align-items: stretch;justify-content: center;background-color: white;position: relative;}#sk-container-id-2 div.sk-item::before, #sk-container-id-2 div.sk-parallel-item::before {content: \"\";position: absolute;border-left: 1px solid gray;box-sizing: border-box;top: 0;bottom: 0;left: 50%;z-index: -1;}#sk-container-id-2 div.sk-parallel-item {display: flex;flex-direction: column;z-index: 1;position: relative;background-color: white;}#sk-container-id-2 div.sk-parallel-item:first-child::after {align-self: flex-end;width: 50%;}#sk-container-id-2 div.sk-parallel-item:last-child::after {align-self: flex-start;width: 50%;}#sk-container-id-2 div.sk-parallel-item:only-child::after {width: 0;}#sk-container-id-2 div.sk-dashed-wrapped {border: 1px dashed gray;margin: 0 0.4em 0.5em 0.4em;box-sizing: border-box;padding-bottom: 0.4em;background-color: white;}#sk-container-id-2 div.sk-label label {font-family: monospace;font-weight: bold;display: inline-block;line-height: 1.2em;}#sk-container-id-2 div.sk-label-container {text-align: center;}#sk-container-id-2 div.sk-container {/* jupyter's `normalize.less` sets `[hidden] { display: none; }` but bootstrap.min.css set `[hidden] { display: none !important; }` so we also need the `!important` here to be able to override the default hidden behavior on the sphinx rendered scikit-learn.org. See: https://github.com/scikit-learn/scikit-learn/issues/21755 */display: inline-block !important;position: relative;}#sk-container-id-2 div.sk-text-repr-fallback {display: none;}</style><div id=\"sk-container-id-2\" class=\"sk-top-container\"><div class=\"sk-text-repr-fallback\"><pre>LogisticRegression()</pre><b>In a Jupyter environment, please rerun this cell to show the HTML representation or trust the notebook. <br />On GitHub, the HTML representation is unable to render, please try loading this page with nbviewer.org.</b></div><div class=\"sk-container\" hidden><div class=\"sk-item\"><div class=\"sk-estimator sk-toggleable\"><input class=\"sk-toggleable__control sk-hidden--visually\" id=\"sk-estimator-id-2\" type=\"checkbox\" checked><label for=\"sk-estimator-id-2\" class=\"sk-toggleable__label sk-toggleable__label-arrow\">LogisticRegression</label><div class=\"sk-toggleable__content\"><pre>LogisticRegression()</pre></div></div></div></div></div>"
            ],
            "text/plain": [
              "LogisticRegression()"
            ]
          },
          "execution_count": 118,
          "metadata": {},
          "output_type": "execute_result"
        }
      ],
      "source": [
        "classifier_lgr = LogisticRegression()\n",
        "classifier_lgr.fit(Train_X,Train_Y)"
      ]
    },
    {
      "cell_type": "code",
      "execution_count": 119,
      "metadata": {
        "colab": {
          "base_uri": "https://localhost:8080/"
        },
        "id": "JJLx7fsskXO0",
        "outputId": "cb7a49c5-f4db-47f8-9367-a0c8f05a32e2"
      },
      "outputs": [
        {
          "data": {
            "text/plain": [
              "0.7762513404631481"
            ]
          },
          "execution_count": 119,
          "metadata": {},
          "output_type": "execute_result"
        }
      ],
      "source": [
        "predictions_LGR = classifier_lgr.predict(Test_X)\n",
        "accuracy_score(predictions_LGR, Test_Y)"
      ]
    },
    {
      "cell_type": "code",
      "execution_count": 120,
      "metadata": {
        "id": "x542HN-KktW_"
      },
      "outputs": [],
      "source": [
        "from sklearn.metrics import classification_report"
      ]
    },
    {
      "cell_type": "code",
      "execution_count": 121,
      "metadata": {
        "colab": {
          "base_uri": "https://localhost:8080/"
        },
        "id": "6ToD3W1HulMt",
        "outputId": "30ef7312-a987-4baf-b742-69372c612882"
      },
      "outputs": [
        {
          "name": "stdout",
          "output_type": "stream",
          "text": [
            "              precision    recall  f1-score   support\n",
            "\n",
            "        </s>       0.00      0.00      0.00         0\n",
            "         <s>       1.00      0.33      0.49      7014\n",
            "           A       0.63      0.89      0.73      1537\n",
            "          Ab       0.00      0.00      0.00         0\n",
            "           B       0.00      0.00      0.00         0\n",
            "           C       0.84      0.94      0.89      1150\n",
            "           E       0.83      0.82      0.83      2229\n",
            "           I       0.00      0.00      0.00         0\n",
            "           L       0.94      1.00      0.97       581\n",
            "           M       0.76      0.97      0.85      1036\n",
            "           N       0.90      0.91      0.90      8310\n",
            "          Nb       0.43      1.00      0.60        37\n",
            "          Nc       0.53      0.70      0.60       622\n",
            "          Np       0.62      0.90      0.74       977\n",
            "          Nu       0.68      0.60      0.64       179\n",
            "          Ny       0.50      0.96      0.66        83\n",
            "           P       0.97      0.93      0.95      1527\n",
            "           R       0.79      0.91      0.85      2139\n",
            "           S       0.41      0.86      0.56        14\n",
            "           T       0.12      0.65      0.20        43\n",
            "           V       0.89      0.87      0.88      6969\n",
            "          Vb       0.00      0.00      0.00         0\n",
            "           X       0.34      0.82      0.48        56\n",
            "           Y       0.00      0.00      0.00         0\n",
            "\n",
            "    accuracy                           0.78     34503\n",
            "   macro avg       0.51      0.63      0.53     34503\n",
            "weighted avg       0.87      0.78      0.79     34503\n",
            "\n"
          ]
        },
        {
          "name": "stderr",
          "output_type": "stream",
          "text": [
            "c:\\Users\\ASUS\\AppData\\Local\\Programs\\Python\\Python310\\lib\\site-packages\\sklearn\\metrics\\_classification.py:1334: UndefinedMetricWarning: Recall and F-score are ill-defined and being set to 0.0 in labels with no true samples. Use `zero_division` parameter to control this behavior.\n",
            "  _warn_prf(average, modifier, msg_start, len(result))\n",
            "c:\\Users\\ASUS\\AppData\\Local\\Programs\\Python\\Python310\\lib\\site-packages\\sklearn\\metrics\\_classification.py:1334: UndefinedMetricWarning: Recall and F-score are ill-defined and being set to 0.0 in labels with no true samples. Use `zero_division` parameter to control this behavior.\n",
            "  _warn_prf(average, modifier, msg_start, len(result))\n",
            "c:\\Users\\ASUS\\AppData\\Local\\Programs\\Python\\Python310\\lib\\site-packages\\sklearn\\metrics\\_classification.py:1334: UndefinedMetricWarning: Recall and F-score are ill-defined and being set to 0.0 in labels with no true samples. Use `zero_division` parameter to control this behavior.\n",
            "  _warn_prf(average, modifier, msg_start, len(result))\n"
          ]
        }
      ],
      "source": [
        "print(classification_report(predictions_LGR, Test_Y))"
      ]
    },
    {
      "cell_type": "code",
      "execution_count": null,
      "metadata": {
        "id": "zQ_AQLxnurTZ"
      },
      "outputs": [],
      "source": []
    }
  ],
  "metadata": {
    "colab": {
      "provenance": []
    },
    "kernelspec": {
      "display_name": "Python 3",
      "language": "python",
      "name": "python3"
    },
    "language_info": {
      "codemirror_mode": {
        "name": "ipython",
        "version": 3
      },
      "file_extension": ".py",
      "mimetype": "text/x-python",
      "name": "python",
      "nbconvert_exporter": "python",
      "pygments_lexer": "ipython3",
      "version": "3.10.6"
    },
    "orig_nbformat": 4,
    "vscode": {
      "interpreter": {
        "hash": "27f6fea6f47ae512550f0b8facdbd035a93e1dd89633f7bf2dd00a2502c71d0d"
      }
    }
  },
  "nbformat": 4,
  "nbformat_minor": 0
}
