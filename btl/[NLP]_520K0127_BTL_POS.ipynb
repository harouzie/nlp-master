{
  "cells": [
    {
      "cell_type": "code",
      "source": [
        "!pip install underthesea --quiet\n",
        "!pip install sklearn_crfsuite --quiet"
      ],
      "metadata": {
        "id": "QTUxfRkbDj06"
      },
      "execution_count": null,
      "outputs": []
    },
    {
      "cell_type": "code",
      "execution_count": null,
      "metadata": {
        "id": "q0jWNpVhCqYO"
      },
      "outputs": [],
      "source": [
        "import nltk\n",
        "import numpy as np\n",
        "import pandas as pd\n",
        "import underthesea\n",
        "import re\n",
        "import matplotlib.pyplot as plt \n",
        "from collections import Counter\n",
        "from sklearn.model_selection import train_test_split\n",
        "from sklearn.metrics import accuracy_score, f1_score\n",
        "from sklearn_crfsuite import CRF"
      ]
    },
    {
      "cell_type": "code",
      "source": [
        "from google.colab import drive\n",
        "drive.mount('/content/drive')"
      ],
      "metadata": {
        "colab": {
          "base_uri": "https://localhost:8080/"
        },
        "id": "08PcNgbxDhX-",
        "outputId": "0ab7602a-1006-44df-e156-a024bd3cdfcb"
      },
      "execution_count": null,
      "outputs": [
        {
          "output_type": "stream",
          "name": "stdout",
          "text": [
            "Mounted at /content/drive\n"
          ]
        }
      ]
    },
    {
      "cell_type": "markdown",
      "metadata": {
        "id": "wFF9SjdMCqYS"
      },
      "source": [
        "# Utils"
      ]
    },
    {
      "cell_type": "code",
      "execution_count": null,
      "metadata": {
        "id": "AFGNdquMCqYV"
      },
      "outputs": [],
      "source": [
        "def read_file(file_name):\n",
        "    return open(file_name, 'r', encoding='utf-8').read().split('\\n')\n",
        "\n",
        "def write_file(file_name, text):\n",
        "    file = open(file_name, 'w', encoding='utf-8')\n",
        "    for sentences in text:\n",
        "        file.writelines(sentences + '\\n')"
      ]
    },
    {
      "cell_type": "code",
      "execution_count": null,
      "metadata": {
        "id": "lx_XeQNMCqYW"
      },
      "outputs": [],
      "source": [
        "def inspect_tag(tag) -> bool:\n",
        "    pattern = re.compile(r'^[A-Z][a-z]?$')\n",
        "    return bool(pattern.search(tag))"
      ]
    },
    {
      "cell_type": "code",
      "execution_count": null,
      "metadata": {
        "id": "FgKX773nCqYX"
      },
      "outputs": [],
      "source": [
        "def inspect_word(word) -> bool:\n",
        "    pattern = re.compile(r'[!\"#$%&\\'()*+,-./:;<=>?@\\[\\]^`{|}~“”\\\\]+')\n",
        "    return not(bool(pattern.search(word)))"
      ]
    },
    {
      "cell_type": "code",
      "execution_count": null,
      "metadata": {
        "id": "qocj2O96CqYY"
      },
      "outputs": [],
      "source": [
        "def get_raw_text(filename):\n",
        "    \"\"\"\n",
        "    - trả về data nguyên bản (kể cả các invalid word, tag) trong file\n",
        "    - bên cạnh đó, xử lí word và tag -> tách tag và word sau đó kẹp thành 1 tuple như này (word, tag)\n",
        "    - loại bỏ các word không tag hoặc word có nhiều hơn 1 tag\n",
        "    \"\"\" \n",
        "    text = read_file(filename)\n",
        "    data = []\n",
        "\n",
        "    for sentence in text:\n",
        "        for duo in sentence.strip().split(' '):\n",
        "            data.append(tuple(duo.split('/')))\n",
        "\n",
        "    data = [duo for duo in data if len(duo) == 2]\n",
        "    return data"
      ]
    },
    {
      "cell_type": "code",
      "execution_count": null,
      "metadata": {
        "id": "aPap1kZZCqYa"
      },
      "outputs": [],
      "source": [
        "def get_processed_data(filename):\n",
        "    opening = ('<s>', '<s>')\n",
        "    ending = ('</s>', '</s>')\n",
        "\n",
        "    corpus = get_raw_text(filename)\n",
        "    refreshed_data = []\n",
        "    sentence = []\n",
        "\n",
        "    for word, tag in corpus:\n",
        "        if inspect_word(word) and inspect_tag(tag):\n",
        "            sentence.append((word, tag))\n",
        "        elif word in ['.', '...', ':', '!', '?', '-', '\"']:\n",
        "            \n",
        "            refreshed_data.append([opening] + sentence + [ending])\n",
        "            sentence.clear()\n",
        "\n",
        "    return refreshed_data"
      ]
    },
    {
      "cell_type": "code",
      "execution_count": null,
      "metadata": {
        "id": "PVtYD5_GCqYb"
      },
      "outputs": [],
      "source": [
        "def load_corpus(filename):\n",
        "    data = get_processed_data(filename)\n",
        "    corpus = []\n",
        "    for sentence in data:\n",
        "        corpus.extend(sentence)\n",
        "    return corpus"
      ]
    },
    {
      "cell_type": "code",
      "execution_count": null,
      "metadata": {
        "id": "hyEPUe0DCqYc"
      },
      "outputs": [],
      "source": [
        "path = \"/content/drive/MyDrive/[postgrad] S1Y3/NLP/dataset/BTL/data.pos\"\n",
        "corpus = load_corpus(path)"
      ]
    },
    {
      "cell_type": "code",
      "execution_count": null,
      "metadata": {
        "colab": {
          "base_uri": "https://localhost:8080/"
        },
        "id": "OAHHrmJlCqYd",
        "outputId": "b495f8fa-553f-4477-f9f9-cdcf424e3abc"
      },
      "outputs": [
        {
          "output_type": "execute_result",
          "data": {
            "text/plain": [
              "[('<s>', '<s>'),\n",
              " ('Hải_tặc', 'N'),\n",
              " ('eo_biển', 'N'),\n",
              " ('Malacca', 'Np'),\n",
              " ('kỳ', 'N')]"
            ]
          },
          "metadata": {},
          "execution_count": 12
        }
      ],
      "source": [
        "corpus[:5]"
      ]
    },
    {
      "cell_type": "markdown",
      "metadata": {
        "id": "X7FcLCyPCqYe"
      },
      "source": [
        "## train test split "
      ]
    },
    {
      "cell_type": "code",
      "execution_count": null,
      "metadata": {
        "id": "H6qaWt2mCqYf"
      },
      "outputs": [],
      "source": [
        "train_set, test_set = train_test_split(corpus, test_size=0.2, random_state=27)"
      ]
    },
    {
      "cell_type": "code",
      "execution_count": null,
      "metadata": {
        "colab": {
          "base_uri": "https://localhost:8080/"
        },
        "id": "-Og_-L4uCqYf",
        "outputId": "c06f441e-5573-48b1-e116-0832cd6cbecb"
      },
      "outputs": [
        {
          "output_type": "stream",
          "name": "stdout",
          "text": [
            "trainset size 172512\n",
            "testset size 43129\n"
          ]
        }
      ],
      "source": [
        "print(\"trainset size\",len(train_set))\n",
        "print(\"testset size\",len(test_set))"
      ]
    },
    {
      "cell_type": "markdown",
      "metadata": {
        "id": "fvK7M1ZgCqYg"
      },
      "source": [
        "## dictionary parameters "
      ]
    },
    {
      "cell_type": "code",
      "execution_count": null,
      "metadata": {
        "id": "dsYx0_BhCqYg"
      },
      "outputs": [],
      "source": [
        "emission_count = Counter(train_set)\n",
        "all_tags = [tag for _,tag in train_set]\n",
        "all_words = [word for word,_ in train_set]\n",
        "tag_count = Counter(all_tags)\n",
        "transition_count = Counter(nltk.bigrams(all_tags))"
      ]
    },
    {
      "cell_type": "code",
      "source": [
        "len(all_words)"
      ],
      "metadata": {
        "colab": {
          "base_uri": "https://localhost:8080/"
        },
        "id": "sciALhnqhBf7",
        "outputId": "aa339a2b-2726-4c02-9ef5-23ab5f47e792"
      },
      "execution_count": null,
      "outputs": [
        {
          "output_type": "execute_result",
          "data": {
            "text/plain": [
              "172512"
            ]
          },
          "metadata": {},
          "execution_count": 98
        }
      ]
    },
    {
      "cell_type": "code",
      "execution_count": null,
      "metadata": {
        "colab": {
          "base_uri": "https://localhost:8080/"
        },
        "id": "PeV9UjjDCqYh",
        "outputId": "70db2017-ed44-4e24-fe81-b0963a11b6c7"
      },
      "outputs": [
        {
          "output_type": "stream",
          "name": "stdout",
          "text": [
            "there're 29 tags, including opening and closing tags\n",
            "they're ['</s>', '<s>', 'A', 'Ab', 'Ap', 'B', 'C', 'E', 'Eb', 'H', 'I', 'L', 'M', 'Mb', 'N', 'Nb', 'Nc', 'Np', 'Nu', 'Ny', 'P', 'R', 'S', 'T', 'V', 'Vb', 'Vy', 'X', 'Y']\n"
          ]
        }
      ],
      "source": [
        "tags = set(all_tags)\n",
        "vocab = set(all_words)\n",
        "\n",
        "print(f\"there're {len(tags)} tags, including opening and closing tags\")\n",
        "print(f\"they're {sorted(tags)}\")"
      ]
    },
    {
      "cell_type": "markdown",
      "metadata": {
        "id": "ldn362cACqYh"
      },
      "source": [
        "# Hidden Markov Model with Viterbi algorithm"
      ]
    },
    {
      "cell_type": "code",
      "execution_count": null,
      "metadata": {
        "id": "Vd8SrPDYCqYi"
      },
      "outputs": [],
      "source": [
        "def P_t2_given_t1(t2, t1): # kết hợp Laplace smoothing\n",
        "    alpha = 0.001\n",
        "    return (transition_count[(t2, t1)]+ alpha)/ (tag_count[t1]+ alpha * len(tags))"
      ]
    },
    {
      "cell_type": "code",
      "execution_count": null,
      "metadata": {
        "id": "-TZtbRtMCqYi"
      },
      "outputs": [],
      "source": [
        "def P_w_given_t(word, tag):\n",
        "    return (emission_count[(word, tag)])/(tag_count[tag])"
      ]
    },
    {
      "cell_type": "code",
      "execution_count": null,
      "metadata": {
        "id": "aivUNnS9CqYi"
      },
      "outputs": [],
      "source": [
        "transition_probability = np.zeros((len(tags), len(tags)), dtype='float32')\n",
        "for i, t1 in enumerate(tags):\n",
        "    for j, t2 in enumerate(tags):\n",
        "        transition_probability[i, j] = P_t2_given_t1(t2, t1)"
      ]
    },
    {
      "cell_type": "code",
      "execution_count": null,
      "metadata": {
        "id": "3oqBShTtCqYi"
      },
      "outputs": [],
      "source": [
        "# transition_table\n",
        "transition_table = pd.DataFrame(transition_probability, columns = tags, index=tags)"
      ]
    },
    {
      "cell_type": "code",
      "execution_count": null,
      "metadata": {
        "colab": {
          "base_uri": "https://localhost:8080/",
          "height": 1000
        },
        "id": "r8pr5PpPCqYj",
        "outputId": "8ed131ad-e1a4-4073-832b-6e057c5097d6"
      },
      "outputs": [
        {
          "output_type": "execute_result",
          "data": {
            "text/plain": [
              "            Nc         P         T         N         X             H  \\\n",
              "Nc    0.026262  0.039846  0.005660  0.247904  0.002717  2.263965e-07   \n",
              "P     0.026312  0.039601  0.006778  0.246644  0.003987  1.328899e-07   \n",
              "T     0.029851  0.041264  0.008780  0.232655  0.002635  8.779407e-07   \n",
              "N     0.025431  0.043716  0.006764  0.241622  0.003442  2.390170e-08   \n",
              "X     0.029052  0.055045  0.004588  0.252284  0.004588  1.528984e-06   \n",
              "H     0.000972  0.000972  0.000972  0.972789  0.000972  9.718173e-04   \n",
              "E     0.027276  0.043331  0.007389  0.246943  0.003831  9.122399e-08   \n",
              "R     0.024194  0.045110  0.007258  0.243112  0.003980  7.804556e-08   \n",
              "</s>  0.027424  0.043967  0.006812  0.232395  0.003981  8.846403e-08   \n",
              "Ny    0.024619  0.055099  0.007035  0.233287  0.010552  1.172293e-06   \n",
              "Mb    0.000972  0.000972  0.000972  0.000972  0.000972  9.718173e-04   \n",
              "Vy    0.000248  0.000248  0.000248  0.496649  0.000248  2.482006e-04   \n",
              "Y     0.000026  0.026322  0.000026  0.184096  0.000026  2.629572e-05   \n",
              "Nu    0.025424  0.042373  0.002422  0.250598  0.009686  1.210611e-06   \n",
              "Ab    0.000199  0.000199  0.000199  0.397892  0.000199  1.988467e-04   \n",
              "B     0.000055  0.055522  0.000055  0.332853  0.000055  5.546619e-05   \n",
              "V     0.025471  0.042153  0.006071  0.245692  0.003816  2.891174e-08   \n",
              "Eb    0.000330  0.330472  0.000330  0.330472  0.000330  3.301419e-04   \n",
              "L     0.024498  0.047739  0.005654  0.244973  0.003769  3.140675e-07   \n",
              "Ap    0.000972  0.000972  0.972789  0.000972  0.000972  9.718173e-04   \n",
              "<s>   0.028012  0.041885  0.006403  0.239750  0.003024  8.901711e-05   \n",
              "Np    0.025029  0.046007  0.007523  0.242187  0.004630  1.446753e-07   \n",
              "A     0.022510  0.046113  0.005741  0.236125  0.004101  9.113254e-08   \n",
              "C     0.024610  0.048430  0.005837  0.242782  0.004102  1.577529e-07   \n",
              "S     0.057966  0.043476  0.014497  0.340515  0.007252  7.244854e-06   \n",
              "Nb    0.043613  0.049843  0.006233  0.255432  0.006233  3.114983e-06   \n",
              "Vb    0.000045  0.000045  0.000045  0.272414  0.000045  4.539471e-05   \n",
              "M     0.023810  0.041905  0.008095  0.244761  0.003651  1.587294e-07   \n",
              "I     0.034091  0.068171  0.000011  0.204489  0.000011  1.135989e-05   \n",
              "\n",
              "             E         R      </s>        Ny  ...            Ap       <s>  \\\n",
              "Nc    0.064297  0.074258  0.070410  0.004981  ...  2.266229e-04  0.067466   \n",
              "P     0.056478  0.075349  0.069103  0.004784  ...  1.328899e-07  0.061528   \n",
              "T     0.064968  0.068480  0.060579  0.008780  ...  8.779407e-07  0.062335   \n",
              "N     0.063124  0.075027  0.066447  0.005474  ...  2.390170e-08  0.065491   \n",
              "X     0.061161  0.061161  0.077980  0.006117  ...  1.528984e-06  0.067277   \n",
              "H     0.000972  0.000972  0.000972  0.000972  ...  9.718173e-04  0.000972   \n",
              "E     0.063948  0.076081  0.063492  0.004835  ...  9.122399e-08  0.064495   \n",
              "R     0.063607  0.074924  0.066573  0.005619  ...  7.804556e-08  0.062983   \n",
              "</s>  0.064402  0.073337  0.068648  0.004246  ...  8.846403e-08  0.063429   \n",
              "Ny    0.056271  0.077373  0.056271  0.001173  ...  1.172293e-06  0.063305   \n",
              "Mb    0.000972  0.000972  0.000972  0.000972  ...  9.718173e-04  0.000972   \n",
              "Vy    0.000248  0.000248  0.000248  0.000248  ...  2.482006e-04  0.000248   \n",
              "Y     0.026322  0.131505  0.078913  0.026322  ...  2.629572e-05  0.105209   \n",
              "Nu    0.067795  0.084744  0.047215  0.002422  ...  1.210611e-06  0.054479   \n",
              "Ab    0.199046  0.000199  0.000199  0.000199  ...  1.988467e-04  0.199046   \n",
              "B     0.055522  0.055522  0.110988  0.000055  ...  5.546619e-05  0.055522   \n",
              "V     0.063548  0.073002  0.065601  0.004973  ...  2.891174e-08  0.066642   \n",
              "Eb    0.000330  0.000330  0.000330  0.000330  ...  3.301419e-04  0.000330   \n",
              "L     0.062500  0.076005  0.062814  0.005025  ...  3.140675e-07  0.057789   \n",
              "Ap    0.000972  0.000972  0.000972  0.000972  ...  9.718173e-04  0.000972   \n",
              "<s>   0.065629  0.079680  0.062428  0.003824  ...  8.892818e-08  0.068208   \n",
              "Np    0.062934  0.069444  0.062211  0.003906  ...  1.446753e-07  0.067129   \n",
              "A     0.066618  0.074364  0.063519  0.005468  ...  9.113254e-08  0.063155   \n",
              "C     0.062155  0.073197  0.065152  0.003786  ...  1.577529e-07  0.061524   \n",
              "S     0.028987  0.057966  0.050721  0.014497  ...  7.244854e-06  0.072456   \n",
              "Nb    0.046728  0.080993  0.056073  0.000003  ...  3.114983e-06  0.074763   \n",
              "Vb    0.000045  0.045440  0.045440  0.000045  ...  4.539471e-05  0.000045   \n",
              "M     0.067301  0.068730  0.065555  0.004921  ...  1.587294e-07  0.071428   \n",
              "I     0.102250  0.056811  0.068171  0.000011  ...  1.135989e-05  0.068171   \n",
              "\n",
              "            Np         A         C             S        Nb            Vb  \\\n",
              "Nc    0.038035  0.059316  0.034412  4.530194e-04  0.001359  2.266229e-04   \n",
              "P     0.040399  0.064850  0.033621  9.303619e-04  0.001329  2.659126e-04   \n",
              "T     0.035996  0.079893  0.037752  8.779407e-07  0.001757  8.779407e-07   \n",
              "N     0.039055  0.062527  0.037908  8.126817e-04  0.001673  7.172900e-05   \n",
              "X     0.036697  0.051987  0.027523  1.528984e-06  0.003059  1.528984e-06   \n",
              "H     0.000972  0.000972  0.000972  9.718173e-04  0.000972  9.718173e-04   \n",
              "E     0.039956  0.066411  0.033753  7.298831e-04  0.001916  1.825392e-04   \n",
              "R     0.043237  0.064154  0.036681  7.812360e-05  0.001717  7.804556e-08   \n",
              "</s>  0.040959  0.065640  0.037243  7.962648e-04  0.001681  8.846403e-08   \n",
              "Ny    0.045721  0.090268  0.035170  1.173465e-03  0.003518  1.172293e-06   \n",
              "Mb    0.000972  0.972789  0.000972  9.718173e-04  0.000972  9.718173e-04   \n",
              "Vy    0.000248  0.000248  0.000248  2.482006e-04  0.000248  2.482006e-04   \n",
              "Y     0.026322  0.052618  0.000026  2.632202e-02  0.000026  2.629572e-05   \n",
              "Nu    0.035109  0.073848  0.037530  2.422433e-03  0.001212  1.210611e-06   \n",
              "Ab    0.000199  0.000199  0.000199  1.988467e-04  0.000199  1.988467e-04   \n",
              "B     0.055522  0.055522  0.055522  5.546619e-05  0.000055  5.546619e-05   \n",
              "V     0.040390  0.062565  0.035995  6.649988e-04  0.001908  1.734993e-04   \n",
              "Eb    0.000330  0.000330  0.000330  3.301419e-04  0.000330  3.301419e-04   \n",
              "L     0.034862  0.063128  0.031721  1.256584e-03  0.003141  3.143816e-04   \n",
              "Ap    0.000972  0.000972  0.000972  9.718173e-04  0.000972  9.718173e-04   \n",
              "<s>   0.040107  0.064384  0.035038  8.893707e-04  0.001601  2.668735e-04   \n",
              "Np    0.037182  0.063513  0.040075  1.302222e-03  0.003183  1.448200e-04   \n",
              "A     0.041374  0.067438  0.037820  1.184814e-03  0.001823  1.823562e-04   \n",
              "C     0.043698  0.058842  0.042593  9.466750e-04  0.001893  1.579106e-04   \n",
              "S     0.057966  0.036232  0.021742  7.244854e-06  0.000007  7.244854e-06   \n",
              "Nb    0.043613  0.040498  0.021808  3.114983e-06  0.000003  3.114983e-06   \n",
              "Vb    0.000045  0.090835  0.090835  4.539471e-05  0.000045  4.539471e-05   \n",
              "M     0.038413  0.061428  0.039206  1.269994e-03  0.002540  1.587294e-07   \n",
              "I     0.056811  0.000011  0.034091  1.135989e-05  0.011371  1.135989e-05   \n",
              "\n",
              "             M             I  \n",
              "Nc    0.040978  6.794159e-04  \n",
              "P     0.038538  1.328899e-07  \n",
              "T     0.050921  8.788187e-04  \n",
              "N     0.036331  6.453698e-04  \n",
              "X     0.038226  1.528984e-06  \n",
              "H     0.000972  9.718173e-04  \n",
              "E     0.036398  3.649872e-04  \n",
              "R     0.034106  3.122603e-04  \n",
              "</s>  0.033793  3.539446e-04  \n",
              "Ny    0.030481  1.172293e-06  \n",
              "Mb    0.000972  9.718173e-04  \n",
              "Vy    0.248449  2.482006e-04  \n",
              "Y     0.078913  2.629572e-05  \n",
              "Nu    0.042373  1.210611e-06  \n",
              "Ab    0.000199  1.988467e-04  \n",
              "B     0.000055  5.546619e-05  \n",
              "V     0.036544  5.204402e-04  \n",
              "Eb    0.000330  3.301419e-04  \n",
              "L     0.038945  3.140675e-07  \n",
              "Ap    0.000972  9.718173e-04  \n",
              "<s>   0.036461  4.447298e-04  \n",
              "Np    0.036169  8.681966e-04  \n",
              "A     0.036544  6.380189e-04  \n",
              "C     0.036441  9.466750e-04  \n",
              "S     0.036232  7.244854e-06  \n",
              "Nb    0.040498  3.114983e-06  \n",
              "Vb    0.045440  4.539471e-05  \n",
              "M     0.037936  4.763470e-04  \n",
              "I     0.056811  1.135989e-05  \n",
              "\n",
              "[29 rows x 29 columns]"
            ],
            "text/html": [
              "\n",
              "  <div id=\"df-b54fde1f-3673-4bab-946a-7ac99113e06b\">\n",
              "    <div class=\"colab-df-container\">\n",
              "      <div>\n",
              "<style scoped>\n",
              "    .dataframe tbody tr th:only-of-type {\n",
              "        vertical-align: middle;\n",
              "    }\n",
              "\n",
              "    .dataframe tbody tr th {\n",
              "        vertical-align: top;\n",
              "    }\n",
              "\n",
              "    .dataframe thead th {\n",
              "        text-align: right;\n",
              "    }\n",
              "</style>\n",
              "<table border=\"1\" class=\"dataframe\">\n",
              "  <thead>\n",
              "    <tr style=\"text-align: right;\">\n",
              "      <th></th>\n",
              "      <th>Nc</th>\n",
              "      <th>P</th>\n",
              "      <th>T</th>\n",
              "      <th>N</th>\n",
              "      <th>X</th>\n",
              "      <th>H</th>\n",
              "      <th>E</th>\n",
              "      <th>R</th>\n",
              "      <th>&lt;/s&gt;</th>\n",
              "      <th>Ny</th>\n",
              "      <th>...</th>\n",
              "      <th>Ap</th>\n",
              "      <th>&lt;s&gt;</th>\n",
              "      <th>Np</th>\n",
              "      <th>A</th>\n",
              "      <th>C</th>\n",
              "      <th>S</th>\n",
              "      <th>Nb</th>\n",
              "      <th>Vb</th>\n",
              "      <th>M</th>\n",
              "      <th>I</th>\n",
              "    </tr>\n",
              "  </thead>\n",
              "  <tbody>\n",
              "    <tr>\n",
              "      <th>Nc</th>\n",
              "      <td>0.026262</td>\n",
              "      <td>0.039846</td>\n",
              "      <td>0.005660</td>\n",
              "      <td>0.247904</td>\n",
              "      <td>0.002717</td>\n",
              "      <td>2.263965e-07</td>\n",
              "      <td>0.064297</td>\n",
              "      <td>0.074258</td>\n",
              "      <td>0.070410</td>\n",
              "      <td>0.004981</td>\n",
              "      <td>...</td>\n",
              "      <td>2.266229e-04</td>\n",
              "      <td>0.067466</td>\n",
              "      <td>0.038035</td>\n",
              "      <td>0.059316</td>\n",
              "      <td>0.034412</td>\n",
              "      <td>4.530194e-04</td>\n",
              "      <td>0.001359</td>\n",
              "      <td>2.266229e-04</td>\n",
              "      <td>0.040978</td>\n",
              "      <td>6.794159e-04</td>\n",
              "    </tr>\n",
              "    <tr>\n",
              "      <th>P</th>\n",
              "      <td>0.026312</td>\n",
              "      <td>0.039601</td>\n",
              "      <td>0.006778</td>\n",
              "      <td>0.246644</td>\n",
              "      <td>0.003987</td>\n",
              "      <td>1.328899e-07</td>\n",
              "      <td>0.056478</td>\n",
              "      <td>0.075349</td>\n",
              "      <td>0.069103</td>\n",
              "      <td>0.004784</td>\n",
              "      <td>...</td>\n",
              "      <td>1.328899e-07</td>\n",
              "      <td>0.061528</td>\n",
              "      <td>0.040399</td>\n",
              "      <td>0.064850</td>\n",
              "      <td>0.033621</td>\n",
              "      <td>9.303619e-04</td>\n",
              "      <td>0.001329</td>\n",
              "      <td>2.659126e-04</td>\n",
              "      <td>0.038538</td>\n",
              "      <td>1.328899e-07</td>\n",
              "    </tr>\n",
              "    <tr>\n",
              "      <th>T</th>\n",
              "      <td>0.029851</td>\n",
              "      <td>0.041264</td>\n",
              "      <td>0.008780</td>\n",
              "      <td>0.232655</td>\n",
              "      <td>0.002635</td>\n",
              "      <td>8.779407e-07</td>\n",
              "      <td>0.064968</td>\n",
              "      <td>0.068480</td>\n",
              "      <td>0.060579</td>\n",
              "      <td>0.008780</td>\n",
              "      <td>...</td>\n",
              "      <td>8.779407e-07</td>\n",
              "      <td>0.062335</td>\n",
              "      <td>0.035996</td>\n",
              "      <td>0.079893</td>\n",
              "      <td>0.037752</td>\n",
              "      <td>8.779407e-07</td>\n",
              "      <td>0.001757</td>\n",
              "      <td>8.779407e-07</td>\n",
              "      <td>0.050921</td>\n",
              "      <td>8.788187e-04</td>\n",
              "    </tr>\n",
              "    <tr>\n",
              "      <th>N</th>\n",
              "      <td>0.025431</td>\n",
              "      <td>0.043716</td>\n",
              "      <td>0.006764</td>\n",
              "      <td>0.241622</td>\n",
              "      <td>0.003442</td>\n",
              "      <td>2.390170e-08</td>\n",
              "      <td>0.063124</td>\n",
              "      <td>0.075027</td>\n",
              "      <td>0.066447</td>\n",
              "      <td>0.005474</td>\n",
              "      <td>...</td>\n",
              "      <td>2.390170e-08</td>\n",
              "      <td>0.065491</td>\n",
              "      <td>0.039055</td>\n",
              "      <td>0.062527</td>\n",
              "      <td>0.037908</td>\n",
              "      <td>8.126817e-04</td>\n",
              "      <td>0.001673</td>\n",
              "      <td>7.172900e-05</td>\n",
              "      <td>0.036331</td>\n",
              "      <td>6.453698e-04</td>\n",
              "    </tr>\n",
              "    <tr>\n",
              "      <th>X</th>\n",
              "      <td>0.029052</td>\n",
              "      <td>0.055045</td>\n",
              "      <td>0.004588</td>\n",
              "      <td>0.252284</td>\n",
              "      <td>0.004588</td>\n",
              "      <td>1.528984e-06</td>\n",
              "      <td>0.061161</td>\n",
              "      <td>0.061161</td>\n",
              "      <td>0.077980</td>\n",
              "      <td>0.006117</td>\n",
              "      <td>...</td>\n",
              "      <td>1.528984e-06</td>\n",
              "      <td>0.067277</td>\n",
              "      <td>0.036697</td>\n",
              "      <td>0.051987</td>\n",
              "      <td>0.027523</td>\n",
              "      <td>1.528984e-06</td>\n",
              "      <td>0.003059</td>\n",
              "      <td>1.528984e-06</td>\n",
              "      <td>0.038226</td>\n",
              "      <td>1.528984e-06</td>\n",
              "    </tr>\n",
              "    <tr>\n",
              "      <th>H</th>\n",
              "      <td>0.000972</td>\n",
              "      <td>0.000972</td>\n",
              "      <td>0.000972</td>\n",
              "      <td>0.972789</td>\n",
              "      <td>0.000972</td>\n",
              "      <td>9.718173e-04</td>\n",
              "      <td>0.000972</td>\n",
              "      <td>0.000972</td>\n",
              "      <td>0.000972</td>\n",
              "      <td>0.000972</td>\n",
              "      <td>...</td>\n",
              "      <td>9.718173e-04</td>\n",
              "      <td>0.000972</td>\n",
              "      <td>0.000972</td>\n",
              "      <td>0.000972</td>\n",
              "      <td>0.000972</td>\n",
              "      <td>9.718173e-04</td>\n",
              "      <td>0.000972</td>\n",
              "      <td>9.718173e-04</td>\n",
              "      <td>0.000972</td>\n",
              "      <td>9.718173e-04</td>\n",
              "    </tr>\n",
              "    <tr>\n",
              "      <th>E</th>\n",
              "      <td>0.027276</td>\n",
              "      <td>0.043331</td>\n",
              "      <td>0.007389</td>\n",
              "      <td>0.246943</td>\n",
              "      <td>0.003831</td>\n",
              "      <td>9.122399e-08</td>\n",
              "      <td>0.063948</td>\n",
              "      <td>0.076081</td>\n",
              "      <td>0.063492</td>\n",
              "      <td>0.004835</td>\n",
              "      <td>...</td>\n",
              "      <td>9.122399e-08</td>\n",
              "      <td>0.064495</td>\n",
              "      <td>0.039956</td>\n",
              "      <td>0.066411</td>\n",
              "      <td>0.033753</td>\n",
              "      <td>7.298831e-04</td>\n",
              "      <td>0.001916</td>\n",
              "      <td>1.825392e-04</td>\n",
              "      <td>0.036398</td>\n",
              "      <td>3.649872e-04</td>\n",
              "    </tr>\n",
              "    <tr>\n",
              "      <th>R</th>\n",
              "      <td>0.024194</td>\n",
              "      <td>0.045110</td>\n",
              "      <td>0.007258</td>\n",
              "      <td>0.243112</td>\n",
              "      <td>0.003980</td>\n",
              "      <td>7.804556e-08</td>\n",
              "      <td>0.063607</td>\n",
              "      <td>0.074924</td>\n",
              "      <td>0.066573</td>\n",
              "      <td>0.005619</td>\n",
              "      <td>...</td>\n",
              "      <td>7.804556e-08</td>\n",
              "      <td>0.062983</td>\n",
              "      <td>0.043237</td>\n",
              "      <td>0.064154</td>\n",
              "      <td>0.036681</td>\n",
              "      <td>7.812360e-05</td>\n",
              "      <td>0.001717</td>\n",
              "      <td>7.804556e-08</td>\n",
              "      <td>0.034106</td>\n",
              "      <td>3.122603e-04</td>\n",
              "    </tr>\n",
              "    <tr>\n",
              "      <th>&lt;/s&gt;</th>\n",
              "      <td>0.027424</td>\n",
              "      <td>0.043967</td>\n",
              "      <td>0.006812</td>\n",
              "      <td>0.232395</td>\n",
              "      <td>0.003981</td>\n",
              "      <td>8.846403e-08</td>\n",
              "      <td>0.064402</td>\n",
              "      <td>0.073337</td>\n",
              "      <td>0.068648</td>\n",
              "      <td>0.004246</td>\n",
              "      <td>...</td>\n",
              "      <td>8.846403e-08</td>\n",
              "      <td>0.063429</td>\n",
              "      <td>0.040959</td>\n",
              "      <td>0.065640</td>\n",
              "      <td>0.037243</td>\n",
              "      <td>7.962648e-04</td>\n",
              "      <td>0.001681</td>\n",
              "      <td>8.846403e-08</td>\n",
              "      <td>0.033793</td>\n",
              "      <td>3.539446e-04</td>\n",
              "    </tr>\n",
              "    <tr>\n",
              "      <th>Ny</th>\n",
              "      <td>0.024619</td>\n",
              "      <td>0.055099</td>\n",
              "      <td>0.007035</td>\n",
              "      <td>0.233287</td>\n",
              "      <td>0.010552</td>\n",
              "      <td>1.172293e-06</td>\n",
              "      <td>0.056271</td>\n",
              "      <td>0.077373</td>\n",
              "      <td>0.056271</td>\n",
              "      <td>0.001173</td>\n",
              "      <td>...</td>\n",
              "      <td>1.172293e-06</td>\n",
              "      <td>0.063305</td>\n",
              "      <td>0.045721</td>\n",
              "      <td>0.090268</td>\n",
              "      <td>0.035170</td>\n",
              "      <td>1.173465e-03</td>\n",
              "      <td>0.003518</td>\n",
              "      <td>1.172293e-06</td>\n",
              "      <td>0.030481</td>\n",
              "      <td>1.172293e-06</td>\n",
              "    </tr>\n",
              "    <tr>\n",
              "      <th>Mb</th>\n",
              "      <td>0.000972</td>\n",
              "      <td>0.000972</td>\n",
              "      <td>0.000972</td>\n",
              "      <td>0.000972</td>\n",
              "      <td>0.000972</td>\n",
              "      <td>9.718173e-04</td>\n",
              "      <td>0.000972</td>\n",
              "      <td>0.000972</td>\n",
              "      <td>0.000972</td>\n",
              "      <td>0.000972</td>\n",
              "      <td>...</td>\n",
              "      <td>9.718173e-04</td>\n",
              "      <td>0.000972</td>\n",
              "      <td>0.000972</td>\n",
              "      <td>0.972789</td>\n",
              "      <td>0.000972</td>\n",
              "      <td>9.718173e-04</td>\n",
              "      <td>0.000972</td>\n",
              "      <td>9.718173e-04</td>\n",
              "      <td>0.000972</td>\n",
              "      <td>9.718173e-04</td>\n",
              "    </tr>\n",
              "    <tr>\n",
              "      <th>Vy</th>\n",
              "      <td>0.000248</td>\n",
              "      <td>0.000248</td>\n",
              "      <td>0.000248</td>\n",
              "      <td>0.496649</td>\n",
              "      <td>0.000248</td>\n",
              "      <td>2.482006e-04</td>\n",
              "      <td>0.000248</td>\n",
              "      <td>0.000248</td>\n",
              "      <td>0.000248</td>\n",
              "      <td>0.000248</td>\n",
              "      <td>...</td>\n",
              "      <td>2.482006e-04</td>\n",
              "      <td>0.000248</td>\n",
              "      <td>0.000248</td>\n",
              "      <td>0.000248</td>\n",
              "      <td>0.000248</td>\n",
              "      <td>2.482006e-04</td>\n",
              "      <td>0.000248</td>\n",
              "      <td>2.482006e-04</td>\n",
              "      <td>0.248449</td>\n",
              "      <td>2.482006e-04</td>\n",
              "    </tr>\n",
              "    <tr>\n",
              "      <th>Y</th>\n",
              "      <td>0.000026</td>\n",
              "      <td>0.026322</td>\n",
              "      <td>0.000026</td>\n",
              "      <td>0.184096</td>\n",
              "      <td>0.000026</td>\n",
              "      <td>2.629572e-05</td>\n",
              "      <td>0.026322</td>\n",
              "      <td>0.131505</td>\n",
              "      <td>0.078913</td>\n",
              "      <td>0.026322</td>\n",
              "      <td>...</td>\n",
              "      <td>2.629572e-05</td>\n",
              "      <td>0.105209</td>\n",
              "      <td>0.026322</td>\n",
              "      <td>0.052618</td>\n",
              "      <td>0.000026</td>\n",
              "      <td>2.632202e-02</td>\n",
              "      <td>0.000026</td>\n",
              "      <td>2.629572e-05</td>\n",
              "      <td>0.078913</td>\n",
              "      <td>2.629572e-05</td>\n",
              "    </tr>\n",
              "    <tr>\n",
              "      <th>Nu</th>\n",
              "      <td>0.025424</td>\n",
              "      <td>0.042373</td>\n",
              "      <td>0.002422</td>\n",
              "      <td>0.250598</td>\n",
              "      <td>0.009686</td>\n",
              "      <td>1.210611e-06</td>\n",
              "      <td>0.067795</td>\n",
              "      <td>0.084744</td>\n",
              "      <td>0.047215</td>\n",
              "      <td>0.002422</td>\n",
              "      <td>...</td>\n",
              "      <td>1.210611e-06</td>\n",
              "      <td>0.054479</td>\n",
              "      <td>0.035109</td>\n",
              "      <td>0.073848</td>\n",
              "      <td>0.037530</td>\n",
              "      <td>2.422433e-03</td>\n",
              "      <td>0.001212</td>\n",
              "      <td>1.210611e-06</td>\n",
              "      <td>0.042373</td>\n",
              "      <td>1.210611e-06</td>\n",
              "    </tr>\n",
              "    <tr>\n",
              "      <th>Ab</th>\n",
              "      <td>0.000199</td>\n",
              "      <td>0.000199</td>\n",
              "      <td>0.000199</td>\n",
              "      <td>0.397892</td>\n",
              "      <td>0.000199</td>\n",
              "      <td>1.988467e-04</td>\n",
              "      <td>0.199046</td>\n",
              "      <td>0.000199</td>\n",
              "      <td>0.000199</td>\n",
              "      <td>0.000199</td>\n",
              "      <td>...</td>\n",
              "      <td>1.988467e-04</td>\n",
              "      <td>0.199046</td>\n",
              "      <td>0.000199</td>\n",
              "      <td>0.000199</td>\n",
              "      <td>0.000199</td>\n",
              "      <td>1.988467e-04</td>\n",
              "      <td>0.000199</td>\n",
              "      <td>1.988467e-04</td>\n",
              "      <td>0.000199</td>\n",
              "      <td>1.988467e-04</td>\n",
              "    </tr>\n",
              "    <tr>\n",
              "      <th>B</th>\n",
              "      <td>0.000055</td>\n",
              "      <td>0.055522</td>\n",
              "      <td>0.000055</td>\n",
              "      <td>0.332853</td>\n",
              "      <td>0.000055</td>\n",
              "      <td>5.546619e-05</td>\n",
              "      <td>0.055522</td>\n",
              "      <td>0.055522</td>\n",
              "      <td>0.110988</td>\n",
              "      <td>0.000055</td>\n",
              "      <td>...</td>\n",
              "      <td>5.546619e-05</td>\n",
              "      <td>0.055522</td>\n",
              "      <td>0.055522</td>\n",
              "      <td>0.055522</td>\n",
              "      <td>0.055522</td>\n",
              "      <td>5.546619e-05</td>\n",
              "      <td>0.000055</td>\n",
              "      <td>5.546619e-05</td>\n",
              "      <td>0.000055</td>\n",
              "      <td>5.546619e-05</td>\n",
              "    </tr>\n",
              "    <tr>\n",
              "      <th>V</th>\n",
              "      <td>0.025471</td>\n",
              "      <td>0.042153</td>\n",
              "      <td>0.006071</td>\n",
              "      <td>0.245692</td>\n",
              "      <td>0.003816</td>\n",
              "      <td>2.891174e-08</td>\n",
              "      <td>0.063548</td>\n",
              "      <td>0.073002</td>\n",
              "      <td>0.065601</td>\n",
              "      <td>0.004973</td>\n",
              "      <td>...</td>\n",
              "      <td>2.891174e-08</td>\n",
              "      <td>0.066642</td>\n",
              "      <td>0.040390</td>\n",
              "      <td>0.062565</td>\n",
              "      <td>0.035995</td>\n",
              "      <td>6.649988e-04</td>\n",
              "      <td>0.001908</td>\n",
              "      <td>1.734993e-04</td>\n",
              "      <td>0.036544</td>\n",
              "      <td>5.204402e-04</td>\n",
              "    </tr>\n",
              "    <tr>\n",
              "      <th>Eb</th>\n",
              "      <td>0.000330</td>\n",
              "      <td>0.330472</td>\n",
              "      <td>0.000330</td>\n",
              "      <td>0.330472</td>\n",
              "      <td>0.000330</td>\n",
              "      <td>3.301419e-04</td>\n",
              "      <td>0.000330</td>\n",
              "      <td>0.000330</td>\n",
              "      <td>0.000330</td>\n",
              "      <td>0.000330</td>\n",
              "      <td>...</td>\n",
              "      <td>3.301419e-04</td>\n",
              "      <td>0.000330</td>\n",
              "      <td>0.000330</td>\n",
              "      <td>0.000330</td>\n",
              "      <td>0.000330</td>\n",
              "      <td>3.301419e-04</td>\n",
              "      <td>0.000330</td>\n",
              "      <td>3.301419e-04</td>\n",
              "      <td>0.000330</td>\n",
              "      <td>3.301419e-04</td>\n",
              "    </tr>\n",
              "    <tr>\n",
              "      <th>L</th>\n",
              "      <td>0.024498</td>\n",
              "      <td>0.047739</td>\n",
              "      <td>0.005654</td>\n",
              "      <td>0.244973</td>\n",
              "      <td>0.003769</td>\n",
              "      <td>3.140675e-07</td>\n",
              "      <td>0.062500</td>\n",
              "      <td>0.076005</td>\n",
              "      <td>0.062814</td>\n",
              "      <td>0.005025</td>\n",
              "      <td>...</td>\n",
              "      <td>3.140675e-07</td>\n",
              "      <td>0.057789</td>\n",
              "      <td>0.034862</td>\n",
              "      <td>0.063128</td>\n",
              "      <td>0.031721</td>\n",
              "      <td>1.256584e-03</td>\n",
              "      <td>0.003141</td>\n",
              "      <td>3.143816e-04</td>\n",
              "      <td>0.038945</td>\n",
              "      <td>3.140675e-07</td>\n",
              "    </tr>\n",
              "    <tr>\n",
              "      <th>Ap</th>\n",
              "      <td>0.000972</td>\n",
              "      <td>0.000972</td>\n",
              "      <td>0.972789</td>\n",
              "      <td>0.000972</td>\n",
              "      <td>0.000972</td>\n",
              "      <td>9.718173e-04</td>\n",
              "      <td>0.000972</td>\n",
              "      <td>0.000972</td>\n",
              "      <td>0.000972</td>\n",
              "      <td>0.000972</td>\n",
              "      <td>...</td>\n",
              "      <td>9.718173e-04</td>\n",
              "      <td>0.000972</td>\n",
              "      <td>0.000972</td>\n",
              "      <td>0.000972</td>\n",
              "      <td>0.000972</td>\n",
              "      <td>9.718173e-04</td>\n",
              "      <td>0.000972</td>\n",
              "      <td>9.718173e-04</td>\n",
              "      <td>0.000972</td>\n",
              "      <td>9.718173e-04</td>\n",
              "    </tr>\n",
              "    <tr>\n",
              "      <th>&lt;s&gt;</th>\n",
              "      <td>0.028012</td>\n",
              "      <td>0.041885</td>\n",
              "      <td>0.006403</td>\n",
              "      <td>0.239750</td>\n",
              "      <td>0.003024</td>\n",
              "      <td>8.901711e-05</td>\n",
              "      <td>0.065629</td>\n",
              "      <td>0.079680</td>\n",
              "      <td>0.062428</td>\n",
              "      <td>0.003824</td>\n",
              "      <td>...</td>\n",
              "      <td>8.892818e-08</td>\n",
              "      <td>0.068208</td>\n",
              "      <td>0.040107</td>\n",
              "      <td>0.064384</td>\n",
              "      <td>0.035038</td>\n",
              "      <td>8.893707e-04</td>\n",
              "      <td>0.001601</td>\n",
              "      <td>2.668735e-04</td>\n",
              "      <td>0.036461</td>\n",
              "      <td>4.447298e-04</td>\n",
              "    </tr>\n",
              "    <tr>\n",
              "      <th>Np</th>\n",
              "      <td>0.025029</td>\n",
              "      <td>0.046007</td>\n",
              "      <td>0.007523</td>\n",
              "      <td>0.242187</td>\n",
              "      <td>0.004630</td>\n",
              "      <td>1.446753e-07</td>\n",
              "      <td>0.062934</td>\n",
              "      <td>0.069444</td>\n",
              "      <td>0.062211</td>\n",
              "      <td>0.003906</td>\n",
              "      <td>...</td>\n",
              "      <td>1.446753e-07</td>\n",
              "      <td>0.067129</td>\n",
              "      <td>0.037182</td>\n",
              "      <td>0.063513</td>\n",
              "      <td>0.040075</td>\n",
              "      <td>1.302222e-03</td>\n",
              "      <td>0.003183</td>\n",
              "      <td>1.448200e-04</td>\n",
              "      <td>0.036169</td>\n",
              "      <td>8.681966e-04</td>\n",
              "    </tr>\n",
              "    <tr>\n",
              "      <th>A</th>\n",
              "      <td>0.022510</td>\n",
              "      <td>0.046113</td>\n",
              "      <td>0.005741</td>\n",
              "      <td>0.236125</td>\n",
              "      <td>0.004101</td>\n",
              "      <td>9.113254e-08</td>\n",
              "      <td>0.066618</td>\n",
              "      <td>0.074364</td>\n",
              "      <td>0.063519</td>\n",
              "      <td>0.005468</td>\n",
              "      <td>...</td>\n",
              "      <td>9.113254e-08</td>\n",
              "      <td>0.063155</td>\n",
              "      <td>0.041374</td>\n",
              "      <td>0.067438</td>\n",
              "      <td>0.037820</td>\n",
              "      <td>1.184814e-03</td>\n",
              "      <td>0.001823</td>\n",
              "      <td>1.823562e-04</td>\n",
              "      <td>0.036544</td>\n",
              "      <td>6.380189e-04</td>\n",
              "    </tr>\n",
              "    <tr>\n",
              "      <th>C</th>\n",
              "      <td>0.024610</td>\n",
              "      <td>0.048430</td>\n",
              "      <td>0.005837</td>\n",
              "      <td>0.242782</td>\n",
              "      <td>0.004102</td>\n",
              "      <td>1.577529e-07</td>\n",
              "      <td>0.062155</td>\n",
              "      <td>0.073197</td>\n",
              "      <td>0.065152</td>\n",
              "      <td>0.003786</td>\n",
              "      <td>...</td>\n",
              "      <td>1.577529e-07</td>\n",
              "      <td>0.061524</td>\n",
              "      <td>0.043698</td>\n",
              "      <td>0.058842</td>\n",
              "      <td>0.042593</td>\n",
              "      <td>9.466750e-04</td>\n",
              "      <td>0.001893</td>\n",
              "      <td>1.579106e-04</td>\n",
              "      <td>0.036441</td>\n",
              "      <td>9.466750e-04</td>\n",
              "    </tr>\n",
              "    <tr>\n",
              "      <th>S</th>\n",
              "      <td>0.057966</td>\n",
              "      <td>0.043476</td>\n",
              "      <td>0.014497</td>\n",
              "      <td>0.340515</td>\n",
              "      <td>0.007252</td>\n",
              "      <td>7.244854e-06</td>\n",
              "      <td>0.028987</td>\n",
              "      <td>0.057966</td>\n",
              "      <td>0.050721</td>\n",
              "      <td>0.014497</td>\n",
              "      <td>...</td>\n",
              "      <td>7.244854e-06</td>\n",
              "      <td>0.072456</td>\n",
              "      <td>0.057966</td>\n",
              "      <td>0.036232</td>\n",
              "      <td>0.021742</td>\n",
              "      <td>7.244854e-06</td>\n",
              "      <td>0.000007</td>\n",
              "      <td>7.244854e-06</td>\n",
              "      <td>0.036232</td>\n",
              "      <td>7.244854e-06</td>\n",
              "    </tr>\n",
              "    <tr>\n",
              "      <th>Nb</th>\n",
              "      <td>0.043613</td>\n",
              "      <td>0.049843</td>\n",
              "      <td>0.006233</td>\n",
              "      <td>0.255432</td>\n",
              "      <td>0.006233</td>\n",
              "      <td>3.114983e-06</td>\n",
              "      <td>0.046728</td>\n",
              "      <td>0.080993</td>\n",
              "      <td>0.056073</td>\n",
              "      <td>0.000003</td>\n",
              "      <td>...</td>\n",
              "      <td>3.114983e-06</td>\n",
              "      <td>0.074763</td>\n",
              "      <td>0.043613</td>\n",
              "      <td>0.040498</td>\n",
              "      <td>0.021808</td>\n",
              "      <td>3.114983e-06</td>\n",
              "      <td>0.000003</td>\n",
              "      <td>3.114983e-06</td>\n",
              "      <td>0.040498</td>\n",
              "      <td>3.114983e-06</td>\n",
              "    </tr>\n",
              "    <tr>\n",
              "      <th>Vb</th>\n",
              "      <td>0.000045</td>\n",
              "      <td>0.000045</td>\n",
              "      <td>0.000045</td>\n",
              "      <td>0.272414</td>\n",
              "      <td>0.000045</td>\n",
              "      <td>4.539471e-05</td>\n",
              "      <td>0.000045</td>\n",
              "      <td>0.045440</td>\n",
              "      <td>0.045440</td>\n",
              "      <td>0.000045</td>\n",
              "      <td>...</td>\n",
              "      <td>4.539471e-05</td>\n",
              "      <td>0.000045</td>\n",
              "      <td>0.000045</td>\n",
              "      <td>0.090835</td>\n",
              "      <td>0.090835</td>\n",
              "      <td>4.539471e-05</td>\n",
              "      <td>0.000045</td>\n",
              "      <td>4.539471e-05</td>\n",
              "      <td>0.045440</td>\n",
              "      <td>4.539471e-05</td>\n",
              "    </tr>\n",
              "    <tr>\n",
              "      <th>M</th>\n",
              "      <td>0.023810</td>\n",
              "      <td>0.041905</td>\n",
              "      <td>0.008095</td>\n",
              "      <td>0.244761</td>\n",
              "      <td>0.003651</td>\n",
              "      <td>1.587294e-07</td>\n",
              "      <td>0.067301</td>\n",
              "      <td>0.068730</td>\n",
              "      <td>0.065555</td>\n",
              "      <td>0.004921</td>\n",
              "      <td>...</td>\n",
              "      <td>1.587294e-07</td>\n",
              "      <td>0.071428</td>\n",
              "      <td>0.038413</td>\n",
              "      <td>0.061428</td>\n",
              "      <td>0.039206</td>\n",
              "      <td>1.269994e-03</td>\n",
              "      <td>0.002540</td>\n",
              "      <td>1.587294e-07</td>\n",
              "      <td>0.037936</td>\n",
              "      <td>4.763470e-04</td>\n",
              "    </tr>\n",
              "    <tr>\n",
              "      <th>I</th>\n",
              "      <td>0.034091</td>\n",
              "      <td>0.068171</td>\n",
              "      <td>0.000011</td>\n",
              "      <td>0.204489</td>\n",
              "      <td>0.000011</td>\n",
              "      <td>1.135989e-05</td>\n",
              "      <td>0.102250</td>\n",
              "      <td>0.056811</td>\n",
              "      <td>0.068171</td>\n",
              "      <td>0.000011</td>\n",
              "      <td>...</td>\n",
              "      <td>1.135989e-05</td>\n",
              "      <td>0.068171</td>\n",
              "      <td>0.056811</td>\n",
              "      <td>0.000011</td>\n",
              "      <td>0.034091</td>\n",
              "      <td>1.135989e-05</td>\n",
              "      <td>0.011371</td>\n",
              "      <td>1.135989e-05</td>\n",
              "      <td>0.056811</td>\n",
              "      <td>1.135989e-05</td>\n",
              "    </tr>\n",
              "  </tbody>\n",
              "</table>\n",
              "<p>29 rows × 29 columns</p>\n",
              "</div>\n",
              "      <button class=\"colab-df-convert\" onclick=\"convertToInteractive('df-b54fde1f-3673-4bab-946a-7ac99113e06b')\"\n",
              "              title=\"Convert this dataframe to an interactive table.\"\n",
              "              style=\"display:none;\">\n",
              "        \n",
              "  <svg xmlns=\"http://www.w3.org/2000/svg\" height=\"24px\"viewBox=\"0 0 24 24\"\n",
              "       width=\"24px\">\n",
              "    <path d=\"M0 0h24v24H0V0z\" fill=\"none\"/>\n",
              "    <path d=\"M18.56 5.44l.94 2.06.94-2.06 2.06-.94-2.06-.94-.94-2.06-.94 2.06-2.06.94zm-11 1L8.5 8.5l.94-2.06 2.06-.94-2.06-.94L8.5 2.5l-.94 2.06-2.06.94zm10 10l.94 2.06.94-2.06 2.06-.94-2.06-.94-.94-2.06-.94 2.06-2.06.94z\"/><path d=\"M17.41 7.96l-1.37-1.37c-.4-.4-.92-.59-1.43-.59-.52 0-1.04.2-1.43.59L10.3 9.45l-7.72 7.72c-.78.78-.78 2.05 0 2.83L4 21.41c.39.39.9.59 1.41.59.51 0 1.02-.2 1.41-.59l7.78-7.78 2.81-2.81c.8-.78.8-2.07 0-2.86zM5.41 20L4 18.59l7.72-7.72 1.47 1.35L5.41 20z\"/>\n",
              "  </svg>\n",
              "      </button>\n",
              "      \n",
              "  <style>\n",
              "    .colab-df-container {\n",
              "      display:flex;\n",
              "      flex-wrap:wrap;\n",
              "      gap: 12px;\n",
              "    }\n",
              "\n",
              "    .colab-df-convert {\n",
              "      background-color: #E8F0FE;\n",
              "      border: none;\n",
              "      border-radius: 50%;\n",
              "      cursor: pointer;\n",
              "      display: none;\n",
              "      fill: #1967D2;\n",
              "      height: 32px;\n",
              "      padding: 0 0 0 0;\n",
              "      width: 32px;\n",
              "    }\n",
              "\n",
              "    .colab-df-convert:hover {\n",
              "      background-color: #E2EBFA;\n",
              "      box-shadow: 0px 1px 2px rgba(60, 64, 67, 0.3), 0px 1px 3px 1px rgba(60, 64, 67, 0.15);\n",
              "      fill: #174EA6;\n",
              "    }\n",
              "\n",
              "    [theme=dark] .colab-df-convert {\n",
              "      background-color: #3B4455;\n",
              "      fill: #D2E3FC;\n",
              "    }\n",
              "\n",
              "    [theme=dark] .colab-df-convert:hover {\n",
              "      background-color: #434B5C;\n",
              "      box-shadow: 0px 1px 3px 1px rgba(0, 0, 0, 0.15);\n",
              "      filter: drop-shadow(0px 1px 2px rgba(0, 0, 0, 0.3));\n",
              "      fill: #FFFFFF;\n",
              "    }\n",
              "  </style>\n",
              "\n",
              "      <script>\n",
              "        const buttonEl =\n",
              "          document.querySelector('#df-b54fde1f-3673-4bab-946a-7ac99113e06b button.colab-df-convert');\n",
              "        buttonEl.style.display =\n",
              "          google.colab.kernel.accessAllowed ? 'block' : 'none';\n",
              "\n",
              "        async function convertToInteractive(key) {\n",
              "          const element = document.querySelector('#df-b54fde1f-3673-4bab-946a-7ac99113e06b');\n",
              "          const dataTable =\n",
              "            await google.colab.kernel.invokeFunction('convertToInteractive',\n",
              "                                                     [key], {});\n",
              "          if (!dataTable) return;\n",
              "\n",
              "          const docLinkHtml = 'Like what you see? Visit the ' +\n",
              "            '<a target=\"_blank\" href=https://colab.research.google.com/notebooks/data_table.ipynb>data table notebook</a>'\n",
              "            + ' to learn more about interactive tables.';\n",
              "          element.innerHTML = '';\n",
              "          dataTable['output_type'] = 'display_data';\n",
              "          await google.colab.output.renderOutput(dataTable, element);\n",
              "          const docLink = document.createElement('div');\n",
              "          docLink.innerHTML = docLinkHtml;\n",
              "          element.appendChild(docLink);\n",
              "        }\n",
              "      </script>\n",
              "    </div>\n",
              "  </div>\n",
              "  "
            ]
          },
          "metadata": {},
          "execution_count": 21
        }
      ],
      "source": [
        "transition_table"
      ]
    },
    {
      "cell_type": "markdown",
      "metadata": {
        "id": "z76ITGahCqYj"
      },
      "source": [
        "## HMM + viterbi"
      ]
    },
    {
      "cell_type": "code",
      "execution_count": null,
      "metadata": {
        "id": "p82UItYrCqYk"
      },
      "outputs": [],
      "source": [
        "def viterbi(tokens):\n",
        "    pred = []\n",
        "    T = list(tags)\n",
        "    for idx in range(len(tokens)):\n",
        "        #initialise list of probability column for a given observation\n",
        "        p = []\n",
        "        for tag in T:\n",
        "            if idx == 0:\n",
        "                transition_p = transition_table.loc['<s>', tag]\n",
        "            else:\n",
        "                transition_p = transition_table.loc[pred[-1], tag]\n",
        "            # compute emission and state probabilities\n",
        "            emission_p = P_w_given_t(tokens[idx], tag)\n",
        "            state_probability = emission_p * transition_p\n",
        "            p.append(state_probability)\n",
        "\n",
        "        argmax = max(p)\n",
        "        # getting state for which probability is maximum\n",
        "        state_max = T[p.index(argmax)]\n",
        "        pred.append(state_max)\n",
        "    return pred"
      ]
    },
    {
      "cell_type": "code",
      "execution_count": null,
      "metadata": {
        "id": "2eeyHWm1CqYk"
      },
      "outputs": [],
      "source": [
        "test_word = [duo[0] for duo in test_set]\n",
        "test_tag= [duo[1] for duo in test_set]"
      ]
    },
    {
      "cell_type": "code",
      "execution_count": null,
      "metadata": {
        "colab": {
          "base_uri": "https://localhost:8080/"
        },
        "id": "AtHIkMZSCqYk",
        "outputId": "35870560-1858-4863-ddb4-1cec71a87be8"
      },
      "outputs": [
        {
          "output_type": "execute_result",
          "data": {
            "text/plain": [
              "0.8821906373901551"
            ]
          },
          "metadata": {},
          "execution_count": 24
        }
      ],
      "source": [
        "predict_tags = viterbi(test_word)"
      ]
    },
    {
      "cell_type": "code",
      "source": [
        "print(accuracy_score(test_tag, predict_tags))\n",
        "print(f1_score(test_tag, predict_tags, average=\"weighted\"))"
      ],
      "metadata": {
        "colab": {
          "base_uri": "https://localhost:8080/"
        },
        "id": "APbwiY2wD8KA",
        "outputId": "df9abf9a-1da8-4f85-9d1f-1b66fb49a33c"
      },
      "execution_count": null,
      "outputs": [
        {
          "output_type": "stream",
          "name": "stdout",
          "text": [
            "0.8821906373901551\n",
            "0.8881192208046113\n"
          ]
        }
      ]
    },
    {
      "cell_type": "markdown",
      "metadata": {
        "id": "557mmUdgCqYk"
      },
      "source": [
        "predict tag"
      ]
    },
    {
      "cell_type": "code",
      "execution_count": null,
      "metadata": {
        "id": "N9QRlaPkCqYl"
      },
      "outputs": [],
      "source": [
        "def predict_tag(sent):\n",
        "    tokens = underthesea.word_tokenize(sent, format=\"text\")\n",
        "    tokens = tokens.split()\n",
        "    return list(zip(tokens,viterbi(tokens)))"
      ]
    },
    {
      "cell_type": "code",
      "execution_count": null,
      "metadata": {
        "colab": {
          "base_uri": "https://localhost:8080/"
        },
        "id": "dDajxjQVCqYl",
        "outputId": "4bed7522-fe57-4df8-e081-121c17bc544d"
      },
      "outputs": [
        {
          "output_type": "execute_result",
          "data": {
            "text/plain": [
              "[('Tôi', 'P'),\n",
              " ('thích', 'V'),\n",
              " ('học', 'V'),\n",
              " ('xử_lí', 'Nc'),\n",
              " ('ngôn_ngữ', 'N'),\n",
              " ('tự_nhiên', 'A')]"
            ]
          },
          "metadata": {},
          "execution_count": 26
        }
      ],
      "source": [
        "s1 = 'Tôi thích học xử lí ngôn ngữ tự nhiên'\n",
        "predict_tag(s1)"
      ]
    },
    {
      "cell_type": "markdown",
      "metadata": {
        "id": "dpzWIAG_CqYl"
      },
      "source": [
        "# HMM by nltk library"
      ]
    },
    {
      "cell_type": "code",
      "execution_count": null,
      "metadata": {
        "id": "Ms6lM8QICqYl"
      },
      "outputs": [],
      "source": [
        "from nltk.tag import hmm"
      ]
    },
    {
      "cell_type": "code",
      "execution_count": null,
      "metadata": {
        "id": "sgI13vCaCqYm"
      },
      "outputs": [],
      "source": [
        "data_hmm = get_processed_data(path)\n",
        "train_hmm, test_hmm = train_test_split(data_hmm, test_size=0.2, random_state=27)"
      ]
    },
    {
      "cell_type": "code",
      "source": [
        "len_sentences = [len(s) for s in data_hmm]\n",
        "counter = Counter(len_sentences)\n",
        "print(counter)\n",
        "\n",
        "plt.title(\"sentences length count\")\n",
        "plt.bar(counter.keys(), counter.values())\n"
      ],
      "metadata": {
        "colab": {
          "base_uri": "https://localhost:8080/",
          "height": 336
        },
        "id": "ixDYrLO7H8_6",
        "outputId": "2dba8c46-68cd-4a00-d378-71c8788c22a2"
      },
      "execution_count": null,
      "outputs": [
        {
          "output_type": "stream",
          "name": "stdout",
          "text": [
            "Counter({2: 892, 4: 643, 12: 576, 9: 570, 10: 565, 8: 564, 3: 560, 14: 560, 11: 554, 5: 540, 13: 535, 7: 533, 15: 511, 16: 497, 6: 495, 17: 485, 18: 471, 19: 445, 20: 420, 21: 368, 22: 355, 23: 316, 25: 267, 24: 263, 26: 227, 27: 200, 28: 180, 29: 178, 30: 160, 32: 124, 31: 122, 34: 99, 33: 88, 36: 84, 35: 79, 37: 70, 39: 61, 38: 58, 40: 52, 43: 38, 44: 37, 41: 37, 42: 34, 46: 30, 45: 28, 49: 18, 47: 14, 50: 12, 53: 12, 48: 12, 52: 11, 56: 8, 51: 8, 57: 7, 58: 6, 61: 5, 63: 4, 55: 4, 54: 4, 59: 3, 62: 3, 69: 2, 65: 2, 71: 2, 60: 2, 80: 1, 73: 1, 66: 1, 72: 1, 67: 1, 64: 1, 75: 1})\n"
          ]
        },
        {
          "output_type": "execute_result",
          "data": {
            "text/plain": [
              "<BarContainer object of 72 artists>"
            ]
          },
          "metadata": {},
          "execution_count": 64
        },
        {
          "output_type": "display_data",
          "data": {
            "text/plain": [
              "<Figure size 432x288 with 1 Axes>"
            ],
            "image/png": "[encoded data removed]"
          },
          "metadata": {
            "needs_background": "light"
          }
        }
      ]
    },
    {
      "cell_type": "code",
      "execution_count": null,
      "metadata": {
        "id": "lB_lrFnxCqYm"
      },
      "outputs": [],
      "source": [
        "tagger = nltk.HiddenMarkovModelTagger.train(train_hmm)"
      ]
    },
    {
      "cell_type": "code",
      "execution_count": null,
      "metadata": {
        "id": "N7KYWGApCqYm"
      },
      "outputs": [],
      "source": [
        "pred_hmm_tag = [tag for _,tag in tagger.tag(test_word)]"
      ]
    },
    {
      "cell_type": "code",
      "execution_count": null,
      "metadata": {
        "colab": {
          "base_uri": "https://localhost:8080/"
        },
        "id": "SJ_t0hn2CqYm",
        "outputId": "22a2d8d5-d437-45d0-899a-90edf7ebc08f"
      },
      "outputs": [
        {
          "output_type": "execute_result",
          "data": {
            "text/plain": [
              "0.8378585174708433"
            ]
          },
          "metadata": {},
          "execution_count": 31
        }
      ],
      "source": [
        "accuracy_score(test_tag, pred_hmm_tag)"
      ]
    },
    {
      "cell_type": "code",
      "execution_count": null,
      "metadata": {
        "colab": {
          "base_uri": "https://localhost:8080/"
        },
        "id": "QEssYlYXCqYm",
        "outputId": "98192c57-ea01-4e0d-bb59-17b9b3c1705a"
      },
      "outputs": [
        {
          "output_type": "execute_result",
          "data": {
            "text/plain": [
              "0.8409929863525628"
            ]
          },
          "metadata": {},
          "execution_count": 35
        }
      ],
      "source": [
        "f1_score(test_tag, pred_hmm_tag, average=\"weighted\")\n"
      ]
    },
    {
      "cell_type": "markdown",
      "source": [
        "## CRF"
      ],
      "metadata": {
        "id": "17tqYIqZEY2R"
      }
    },
    {
      "cell_type": "code",
      "source": [
        "def features(sentence,index):\n",
        "    return {\n",
        "        # 'is_first_capital':int(sentence[index][0].isupper()),\n",
        "        'is_first_word': int(index==0),\n",
        "        'is_last_word':int(index==len(sentence)-1),\n",
        "        'is_complete_capital': int(sentence[index].upper()==sentence[index]),\n",
        "        'prev_word':'' if index==0 else sentence[index-1],\n",
        "        'next_word':'' if index==len(sentence)-1 else sentence[index+1],\n",
        "        'is_numeric':int(sentence[index].isdigit()),\n",
        "        'is_alphanumeric': int(bool((re.match('^(?=.*[0-9]$)(?=.*[a-zA-Z])',sentence[index])))),\n",
        "        'word_has_hyphen': 1 if '-' in sentence[index] else 0\n",
        "    }\n",
        "  \n",
        "def prepareData(tagged_sentences):\n",
        "    X=[]\n",
        "    for sentences in tagged_sentences:\n",
        "        X.append([features(sentences, index) for index in range(len(sentences))])\n",
        "    return X"
      ],
      "metadata": {
        "id": "inV5EYH0ERSz"
      },
      "execution_count": null,
      "outputs": []
    },
    {
      "cell_type": "code",
      "source": [
        "sentences = []\n",
        "tags = []\n",
        "for sent in train_hmm:\n",
        "    sent_word = []\n",
        "    sent_tag = []\n",
        "    for word, tag in sent:\n",
        "        sent_word.append(word)\n",
        "        sent_tag.append(tag)\n",
        "    \n",
        "    sentences.append(sent_word)\n",
        "    tags.append(sent_tag)"
      ],
      "metadata": {
        "id": "x8APyIaaJOt1"
      },
      "execution_count": null,
      "outputs": []
    },
    {
      "cell_type": "code",
      "source": [
        "len(sentences)"
      ],
      "metadata": {
        "colab": {
          "base_uri": "https://localhost:8080/"
        },
        "id": "JQoM6b0yLQFm",
        "outputId": "4d75fd60-efa5-4e79-b5f5-06ef65937373"
      },
      "execution_count": null,
      "outputs": [
        {
          "output_type": "execute_result",
          "data": {
            "text/plain": [
              "11293"
            ]
          },
          "metadata": {},
          "execution_count": 56
        }
      ]
    },
    {
      "cell_type": "code",
      "source": [
        "train_sentences, test_sentences, train_tags, test_tags = train_test_split(sentences, tags, test_size=0.2)"
      ],
      "metadata": {
        "id": "ugjUz_BaLLC8"
      },
      "execution_count": null,
      "outputs": []
    },
    {
      "cell_type": "code",
      "source": [
        "X_train = prepareData(train_sentences)\n",
        "y_train = train_tags\n",
        "X_test = prepareData(test_sentences)\n",
        "y_test =  test_tags"
      ],
      "metadata": {
        "id": "VOZHDLgNIwAh"
      },
      "execution_count": null,
      "outputs": []
    },
    {
      "cell_type": "code",
      "source": [
        "crf = CRF(\n",
        "    algorithm='lbfgs',\n",
        "    c1=0.01,\n",
        "    c2=0.1,\n",
        "    max_iterations=100,\n",
        "    all_possible_transitions=True\n",
        ")\n",
        "try:\n",
        "    crf.fit(X_train, y_train)\n",
        "except AttributeError:\n",
        "    pass"
      ],
      "metadata": {
        "id": "vJbHbqT2JFCA"
      },
      "execution_count": null,
      "outputs": []
    },
    {
      "cell_type": "code",
      "source": [
        "y_pred=crf.predict(X_test)\n",
        "y_pred_train=crf.predict(X_train)"
      ],
      "metadata": {
        "id": "2bpxC1CDPXO8"
      },
      "execution_count": null,
      "outputs": []
    },
    {
      "cell_type": "code",
      "source": [
        "from sklearn_crfsuite import metrics\n",
        "from sklearn_crfsuite import scorers\n",
        "\n",
        "#F1 score test\n",
        "print(metrics.flat_f1_score(y_test, y_pred,average='weighted',labels=crf.classes_))\n",
        "#Accuracy score test\n",
        "print(metrics.flat_accuracy_score(y_test,y_pred))"
      ],
      "metadata": {
        "colab": {
          "base_uri": "https://localhost:8080/"
        },
        "id": "NrWZizv3PsPP",
        "outputId": "2772b9a8-6c5e-4754-dc6a-cd576a103b0b"
      },
      "execution_count": null,
      "outputs": [
        {
          "output_type": "stream",
          "name": "stdout",
          "text": [
            "0.5604293422986507\n",
            "0.5764345159877354\n"
          ]
        },
        {
          "output_type": "stream",
          "name": "stderr",
          "text": [
            "/usr/local/lib/python3.8/dist-packages/sklearn/metrics/_classification.py:1580: UndefinedMetricWarning: F-score is ill-defined and being set to 0.0 in labels with no true nor predicted samples. Use `zero_division` parameter to control this behavior.\n",
            "  _warn_prf(average, \"true nor predicted\", \"F-score is\", len(true_sum))\n"
          ]
        }
      ]
    },
    {
      "cell_type": "code",
      "source": [
        "#F1 score train\n",
        "print(metrics.flat_f1_score(y_train, y_pred_train,average='weighted',labels=crf.classes_))\n",
        "#Accuracy score train\n",
        "print(metrics.flat_accuracy_score(y_train,y_pred_train))"
      ],
      "metadata": {
        "colab": {
          "base_uri": "https://localhost:8080/"
        },
        "id": "TiFeMJkgPuL9",
        "outputId": "8e957cb7-718c-4921-b28c-9a49e4f729f6"
      },
      "execution_count": null,
      "outputs": [
        {
          "output_type": "stream",
          "name": "stdout",
          "text": [
            "0.6993427288808088\n",
            "0.7071855636482226\n"
          ]
        }
      ]
    },
    {
      "cell_type": "code",
      "source": [
        "labels1=crf.classes_\n",
        "print(len(labels1))\n",
        "labels1"
      ],
      "metadata": {
        "colab": {
          "base_uri": "https://localhost:8080/"
        },
        "id": "mgZNBg-cPvx5",
        "outputId": "507aecc1-6069-4596-bc64-19a73d3cd617"
      },
      "execution_count": null,
      "outputs": [
        {
          "output_type": "stream",
          "name": "stdout",
          "text": [
            "29\n"
          ]
        },
        {
          "output_type": "execute_result",
          "data": {
            "text/plain": [
              "['<s>',\n",
              " 'C',\n",
              " 'M',\n",
              " 'N',\n",
              " 'A',\n",
              " 'V',\n",
              " 'R',\n",
              " 'E',\n",
              " '</s>',\n",
              " 'P',\n",
              " 'Np',\n",
              " 'L',\n",
              " 'Nu',\n",
              " 'Nc',\n",
              " 'T',\n",
              " 'X',\n",
              " 'Nb',\n",
              " 'Ny',\n",
              " 'S',\n",
              " 'I',\n",
              " 'Y',\n",
              " 'Vy',\n",
              " 'B',\n",
              " 'Vb',\n",
              " 'Eb',\n",
              " 'Ab',\n",
              " 'Mb',\n",
              " 'H',\n",
              " 'Ap']"
            ]
          },
          "metadata": {},
          "execution_count": 111
        }
      ]
    },
    {
      "cell_type": "code",
      "source": [
        "def crf_tagger(sent):\n",
        "    sent = underthesea.word_tokenize(sent.lower())\n",
        "    sent = ['<s>'] + sent + ['</s>']\n",
        "    x_data = prepareData([sent])\n",
        "    y_pred = crf.predict(x_data)\n",
        "    return list(zip(sent, y_pred[0]))\n",
        "\n",
        "sent = 'tôi yêu môn xử lí ngôn ngữ tự nhiên như người bạn thân'\n",
        "crf_tagger(sent)"
      ],
      "metadata": {
        "colab": {
          "base_uri": "https://localhost:8080/"
        },
        "id": "LkO-lcmTPyk1",
        "outputId": "06614baf-97ef-44fa-bf5c-7b763cba6520"
      },
      "execution_count": null,
      "outputs": [
        {
          "output_type": "execute_result",
          "data": {
            "text/plain": [
              "[('<s>', '<s>'),\n",
              " ('tôi', 'N'),\n",
              " ('yêu', 'V'),\n",
              " ('môn', 'N'),\n",
              " ('xử lí', 'N'),\n",
              " ('ngôn ngữ', 'N'),\n",
              " ('tự nhiên', 'A'),\n",
              " ('như', 'E'),\n",
              " ('người', 'L'),\n",
              " ('bạn', 'N'),\n",
              " ('thân', 'A'),\n",
              " ('</s>', '</s>')]"
            ]
          },
          "metadata": {},
          "execution_count": 80
        }
      ]
    },
    {
      "cell_type": "markdown",
      "source": [
        "## Logistic Regression "
      ],
      "metadata": {
        "id": "3RGu9IjBehzA"
      }
    },
    {
      "cell_type": "code",
      "source": [
        "from sklearn.feature_extraction.text import TfidfVectorizer\n",
        "from sklearn.feature_extraction import DictVectorizer\n",
        "from sklearn.linear_model import LogisticRegression"
      ],
      "metadata": {
        "id": "fEgBYt4XRC6r"
      },
      "execution_count": null,
      "outputs": []
    },
    {
      "cell_type": "code",
      "source": [
        "from sklearn.preprocessing import LabelEncoder\n",
        "\n",
        "Encoder = LabelEncoder()"
      ],
      "metadata": {
        "id": "7fJGpgF_fHnC"
      },
      "execution_count": null,
      "outputs": []
    },
    {
      "cell_type": "code",
      "source": [
        "Tfidf_vect = TfidfVectorizer()\n",
        "wordvec = Tfidf_vect.fit_transform(all_words)"
      ],
      "metadata": {
        "id": "1x-8jRKHfPdr"
      },
      "execution_count": null,
      "outputs": []
    },
    {
      "cell_type": "code",
      "source": [
        "wordvec.shape"
      ],
      "metadata": {
        "colab": {
          "base_uri": "https://localhost:8080/"
        },
        "id": "FW9A-Jsjsd5r",
        "outputId": "c780dff4-97c7-4dfb-8d2e-27f1648bbc4a"
      },
      "execution_count": null,
      "outputs": [
        {
          "output_type": "execute_result",
          "data": {
            "text/plain": [
              "(172512, 11788)"
            ]
          },
          "metadata": {},
          "execution_count": 140
        }
      ]
    },
    {
      "cell_type": "code",
      "source": [
        "len(Tfidf_vect.vocabulary_)\n",
        "print(Tfidf_vect.vocabulary_)"
      ],
      "metadata": {
        "colab": {
          "base_uri": "https://localhost:8080/"
        },
        "id": "M_ff4Snlfke4",
        "outputId": "9b07445b-e9d9-4806-b77c-66b264e6a22d"
      },
      "execution_count": null,
      "outputs": [
        {
          "output_type": "stream",
          "name": "stdout",
          "text": [
            "{'gái': 3027, 'chuẩn': 1354, 'ăn': 10885, 'phân_phối': 6853, 'lá': 4613, 'xây': 10576, 'thì': 8303, 'sau': 7593, 'tin_học': 8716, 'đang': 10915, 'đầu': 11349, 'chị': 1648, 'dưới': 2582, 'xạ_thủ': 10663, 'nhưng': 6268, 'được': 11274, 'vì': 10125, 'cây': 1910, 'đã': 11120, 'bảy': 849, 'ngó': 5954, 'khi': 3905, 'cuộc_sống': 1832, 'canh': 1135, 'cô': 1955, 'tấm': 9700, 'tiễn': 8835, 'những': 6396, 'thẳm': 8522, 'hứa': 3790, 'biết': 457, 'xanh': 10437, 'bò': 700, 'quanh': 7113, 'như': 6257, 'trả': 9148, '12': 21, 'cảnh': 2144, 'lên': 4710, 'sẵn_lòng': 7880, 'trong': 8935, 'từng': 9929, 'nhà': 6150, 'bán': 596, 'quá': 7167, 'hiện': 3216, 'nhịn': 6355, 'làm': 4569, 'trẻ': 9240, 'màu': 5217, 'ăn_giá': 10889, 'túp': 9607, 'anh': 324, 'đấu_tranh': 11341, 'ra': 7305, 'nào': 6444, 'thị_xã': 8572, 'đếm': 11435, 'đẫm': 11376, 'chết': 1629, 'trúng': 9073, 'để': 11453, 'không': 4059, 'nỗi': 6651, 'nhậu': 6330, 'bốn': 1035, 'hàng': 3399, 'mình': 5291, 'nhập': 6317, 'mới': 5542, 'có': 1934, 'con_gái': 1785, 'quản_lý': 7247, 'gì': 3044, 'thị_trường': 8568, 'loại': 4520, 'sáng': 7728, 'gọi': 3108, 'còi': 1928, 'trắng': 9233, 'lập': 4896, 'mà': 5209, 'lòng': 4733, 'tên': 9505, 'của': 2304, 'lê_thanh_hải': 4678, 'gồm': 3120, 'một': 5525, 'nữa': 6690, 'về': 10341, 'chỉ': 1635, 'chuyên': 1329, 'chuyển': 1344, 'thon_thót': 8150, 'dế': 2641, 'và': 10088, 'tuyển': 9354, 'trợ_cấp': 9298, 'họ': 3654, 'bởi': 1075, 'bác': 589, 'tôi': 9571, 'tiết_thủy_sơ': 8794, 'ông': 10851, 'khỏi': 4122, 'con_em': 1783, 'em': 2723, 'lấy': 4875, 'đức': 11659, 'giải': 2929, 'đông': 11186, 'đám': 11078, 'theo': 8092, 'cao_nguyên': 1156, 'đến': 11436, 'bờ': 1072, 'chân_dung': 1403, 'giữ': 3000, 'lời_nói': 5005, 'đường': 11250, 'gặp': 3102, 'răng': 7441, '1966': 87, 'tôn_kính': 9580, 'tháng': 8262, 'trôi': 9054, 'cũng': 2047, 'tuổi': 9386, 'mạnh': 5386, 'gs': 3008, 'cản_quang': 2141, 'chiếc': 1269, 'cho': 1299, 'muốn': 5205, 'quen': 7123, 'tệ': 9776, 'này': 6447, 'nữ': 6684, 'bề_ngoài': 977, 'đội': 11617, 'tàu': 9420, 'giết_mổ': 2980, 'vẫy_gọi': 10300, 'lớp': 4999, 'đứa': 11658, 'trước': 9112, 'thùy_trâm': 8358, 'xe_khách': 10451, 'từ': 9916, 'bao_nhiêu': 407, 'sở': 7919, 'tổ_chức': 9837, 'người': 5996, 'số_một': 7897, 'lân': 4637, 'vượt': 10271, 'kênh': 4276, 'đau': 10918, 'việt': 10053, 'là': 4567, 'quý_tử': 7225, 'luật_lệ': 4555, 'ngoài': 5735, 'giày_vò': 2873, 'mất': 5397, 'hay': 3156, 'lao_động': 4397, 'ảnh': 11707, 'vinh_quang': 10033, 'tầm_tã': 9719, 'trường': 9120, 'lao_xao': 4395, 'trung_tâm': 8964, 'chưa': 1527, 'bà': 543, 'vào': 10099, 'bé': 648, 'tham_dự': 8046, 'trên': 9027, 'hoang_vu': 3257, 'chú': 1486, 'hlv': 3237, 'đá': 11076, 'chân': 1400, 'bóng': 708, 'buông': 521, 'rồi': 7516, 'đêm': 11137, 'tựa': 9961, 'cười': 2094, '54': 211, 'học': 3660, 'tự_hào': 9946, 'uyên_ly': 9985, 'so': 7654, 'mênh_mông': 5288, 'phải': 6993, 'truyền_thống': 8981, 'bắc': 919, 'phượng_hoàng': 6955, 'đi': 10948, 'giùm': 2916, 'dữ': 2698, 'cường_hào': 2104, 'hẹp': 3635, 'ngon': 5733, 'xe': 10444, 'cố': 2239, 'hòa': 3484, 'với': 10374, 'lũ': 4796, 'tất_cả': 9709, 'gióng': 2913, 'quan_điểm': 7110, 'giảm': 2943, 'nó': 6475, 'làm_sao': 4585, 'ngay': 5639, 'cuộc': 1828, 'sáng_kiến': 7732, 'còn': 1931, 'cú': 2021, 'các': 1862, 'nhiều': 6127, 'sống': 7901, 'lại': 4858, 'câu': 1906, 'tiếng': 8765, 'vùng_biển': 10207, 'triệu': 8929, 'bọn': 1006, 'sa_thầy': 7567, 'anh_em': 329, 'trung_úy': 8966, 'nguyễn_văn_hải': 5876, 'bây_giờ': 632, 'tếu_táo': 9774, 'tổng': 9848, 'chịu_đựng': 1656, 'đbscl': 10931, 'cỏ': 2236, 'làng': 4599, 'nếu': 6609, 'sảnh': 7857, 'chủ_tịch': 1717, 'gia_lai': 2810, 'trọn_vẹn': 9253, 'nay': 5625, 'đức_tính': 11664, 'gắn_bó': 3097, 'giỗ': 2987, 'giờ': 2994, 'hq': 3324, 'quay': 7118, 'dạy': 2598, 'hát': 3437, 'tình': 9513, 'sự': 7961, 'sự_nghiệp': 7964, 'nhân_viên': 6218, 'giấy_phép': 2961, 'quần_quật': 7267, 'mẹ': 5457, 'tự_tử': 9956, 'lớn': 4994, 'người_ta': 6006, 'thế_này': 8542, 'duyệt': 2468, 'niềm': 6410, 'báo': 616, 'mồ_hôi': 5503, 'nhất': 6295, 'lao': 4392, 'tivi': 8737, 'thêm': 8300, 'mấy': 5410, 'đỏm_dáng': 11503, 'thú_vị': 8366, 'ngành': 5922, 'sơn': 7824, 'nam_mỹ': 5610, 'mua_sắm': 5191, 'tuy_nhiên': 9338, 'đồng_bộ': 11547, 'sẩy_thai': 7865, 'đèn': 11126, 'đại_lộ': 11293, 'lẳng_lặng': 4916, 'hàn': 3396, '11': 19, 'ôtô': 10862, 'cá_heo': 1855, 'sao': 7587, 'mua': 5188, 'ít': 10834, 'rời': 7538, 'biết_bao_nhiêu': 459, 'toác': 8877, 'ghép': 2790, 'xử': 10704, 'trăn_trở': 9082, 'nhỏ_lẻ': 6367, 'từ_chối': 9918, 'bài': 552, 'năm': 6524, 'một_cách': 5527, 'bất_trắc': 882, 'lậu': 4904, 'làm_thuê': 4587, 'năng_khiếu': 6538, 'nằm': 6591, 'chủ': 1706, 'điện_thoại': 11002, 'lúc': 4760, 'tí': 9535, 'thành_phần': 8235, 'qua': 7091, 'nên': 6466, 'dài': 2472, 'chơi_vơi': 1521, 'đời': 11642, 'san_sát': 7578, 'đồng': 11541, 'ruột': 7374, 'phòng': 6872, 'đánh_cá': 11091, 'bão': 639, 'công_việc': 2007, 'cụt': 2300, 'cảnh_vật': 2152, 'sẽ': 7886, 'đập': 11381, 'hộ': 3734, 'nghiệp_dư': 5677, 'huế': 3352, 'kỳ_quan': 4350, 'toáng': 8879, 'vừa': 10396, 'anh_trai': 333, 'bắt': 933, 'hằng': 3628, 'giếng': 2976, 'lương': 4824, 'thấy': 8477, 'nghị': 5721, 'đứng': 11665, 'thật_ra': 8506, '1965': 86, 'liếp': 4467, 'nghiệp': 5675, 'hoa': 3239, 'dù': 2543, 'giàu_có': 2870, 'nhau': 6116, 'đơn': 11231, 'mờ': 5550, 'đâu': 11115, 'đạo_diễn': 11310, 'ngang': 5635, 'hay_là': 3157, 'lâm': 4631, 'rủ': 7545, 'nhớ': 6379, 'tầng': 9723, 'vn': 10061, 'bị': 996, 'chẳng': 1605, 'sạt_lở': 7849, 'ý_định': 10883, 'nông_nghiệp': 6509, 'mỗi': 5512, 'dễ': 2644, 'mắt': 5435, 'khó_khăn': 4038, 'thống_kê': 8589, 'thủng_thẳng': 8656, 'kể': 4333, '14': 30, 'như_mai': 6262, 'tập_trung': 9743, 'sân_bay': 7752, 'máu': 5239, 'tới': 9874, 'cuối_cùng': 1817, 'chó': 1465, 'thời_gian': 8609, 'đó': 11157, 'xà_beng': 10555, 'bóng_bàn': 709, 'tiết_kiệm': 8790, 'trước_đây': 9118, 'xẻ': 10680, 'đúng': 11217, '2005': 131, 'ba': 356, 'mang': 5101, 'thành_viên': 8243, 'dẫn': 2620, 'con_người': 1787, 'trở_lại': 9291, 'miền': 5162, 'viên': 10039, 'dần': 2614, 'cứ': 2309, 'sắt': 7878, 'an_phận': 314, 'nói': 6477, 'khiến': 3915, 'lào': 4611, 'vụ': 10391, 'cửa': 2329, 'rempang': 7333, 'đường_phố': 11263, 'tiền': 8799, 'ngừng': 6096, 'cắm_cúi': 2218, 'vẫn': 10298, 'khu': 3950, 'tím': 9541, 'nợ': 6675, 'chúng_tôi': 1500, 'mưa': 5353, 'dân': 2489, 'bạn': 807, 'nóng': 6492, 'mời': 5553, 'tiệc_tùng': 8839, 'soái': 7674, 'đồng_đội': 11577, 'đều_đặn': 11451, 'tạo': 9687, 'xin': 10476, 'heo_hút': 3172, 'chiến_dịch': 1275, 'cheryl_tiegs': 1235, 'ma_thoa': 5071, 'khác': 3979, 'cô_đơn': 1963, 'choàng': 1307, 'liên_quan': 4455, 'đất': 11328, 'đồ_sơn': 11531, 'len_lỏi': 4415, 'lo_lắng': 4484, 'đầy': 11370, 'ubnd': 9973, 'biển': 466, 'việt_vị': 10059, 'sân': 7751, '50': 205, 'nổi_đình_nổi_đám': 6649, 'liền': 4469, 'tư_tài': 9641, 'bất_ngờ': 878, 'bác_sĩ': 592, 'hai': 3139, 'lỗ': 4972, 'đây': 11118, 'dắt': 2629, 'cả': 2118, 'ai': 286, 'tiếp_tục': 8785, 'rà_soát': 7377, 'ổng': 11765, 'hcm': 3160, 'ngân_hàng': 5945, '36': 176, 'lựa': 5056, 'international': 3834, 'bộ': 1054, 'tây': 9493, 'ơn': 11677, 'cha': 1200, 'ca': 1106, 'tiêu': 8743, 'nghèo': 5682, 'ngắn': 6048, 'đau_đớn': 10927, 'tục_ngữ': 9886, 'dày': 2482, 'họp_báo': 3677, 'trăm_tuổi': 9080, 'ngày_tháng': 5931, 'điều': 10978, 'bí': 691, 'coi': 1773, 'thận_trọng': 8503, 'kg': 3884, 'vẽ': 10337, 'cao': 1145, 'minh_luận': 5147, 'cậu': 2214, 'casino': 1181, 'vũ_thu_phương': 10246, 'người_mẫu': 6001, 'xã': 10580, 'trang_phục': 8895, 'ngày': 5923, 'tay': 8006, 'chảy': 1556, 'cung_cấp': 1811, 'nguyễn_trung_hiếu': 5850, 'trở_về': 9296, 'chuyến': 1342, 'thảm_họa': 8446, 'trừ': 9309, 'tử_tù': 9936, 'vô_địch': 10171, 'chạm_khắc': 1536, 'căn_bệnh': 2035, 'dịp': 2657, 'giới_tính': 2993, 'biệt_động': 484, 'kiên_giang': 4196, 'nghe': 5644, 'thuế': 8207, 'tỉnh': 9789, 'lắm': 4908, 'con': 1778, '2004': 130, 'vua': 10069, 'sepetang': 7611, 'cai_nghiện': 1118, 'đề_nghị': 11442, 'nắm': 6583, 'việc': 10045, 'sang': 7580, 'tiễn_đưa': 8837, 'sinh_viên': 7644, 'phạm_võ_hà_thông': 6978, 'thạc': 8434, 'ngày_xưa': 5933, '30': 160, 'bò_cạp': 701, 'reo': 7334, 'loa': 4490, 'quá_trình': 7172, 'vô_tiền_khoáng_hậu': 10159, 'chồng': 1675, 'tổng_cộng': 9852, 'xứng_đáng': 10703, 'riêng': 7340, '08': 10, 'tết': 9770, 'bức_xúc': 1090, 'giăng': 2921, 'vô_cùng': 10147, '4b': 203, 'tin': 8713, 'trung_thành': 8960, 'xóm': 10614, 'thể_thao': 8557, 'rắn': 7490, 'trương_tấn_nghĩa': 9107, '20': 124, 'ôm': 10847, 'nạn_nhân': 6568, 'đều': 11450, 'bảng': 830, 'loạt': 4528, 'sức': 7939, 'công_ty': 2001, 'miên_man': 5158, 'vòng': 10137, 'lần': 4881, 'đủ': 11656, 'tui': 9332, 'giá': 2874, 'vinh': 10029, 'gia_đình': 2818, 'tình_cờ': 9517, 'trăm': 9076, 'thầy': 8490, 'rẫy': 7486, 'phía': 6869, 'khởi': 4141, 'thục': 8636, 'mỹ_thành_nam': 5595, 'hết_sức': 3646, 'do': 2426, 'ttcn': 9323, 'gần': 3082, 'sắn': 7873, 'kinh_ba': 4180, 'nghĩa_địa': 5702, 'giống': 2985, 'cô_giáo': 1961, 'khoảng': 3945, 'nghiên_cứu': 5663, 'ráng': 7393, 'kiễng_chân': 4234, 'giáo_dục': 2891, 'xh': 10471, 'việt_cộng': 10054, 'điên_đảo': 10967, 'kém': 4265, 'chỉnh_hình': 1646, 'dự': 2702, 'cửa_lò': 2336, 'thắng': 8513, 'hợp_đồng': 3783, 'nhận': 6310, 'câu_chuyện': 1907, 'thú_y': 8367, 'kỹ_thuật_viên': 4370, 'gương_mặt': 3068, 'sữa_đậu_nành': 7959, 'danh_bạ': 2372, 'đòi': 11154, 'may': 5117, 'thị_trấn': 8570, 'tốt': 9827, 'trương_hùng': 9099, 'khá': 3977, 'quà_bánh': 7165, 'dấu_ấn': 2611, 'bóng_đá': 718, 'chuyện': 1352, 'cho_nên': 1302, 'đỏ': 11493, 'cấp': 2155, 'phong_lưu': 6787, 'cái': 1874, 'tùng': 9590, 'tường': 9664, 'giun_đất': 2856, 'bao': 397, 'núi_thành': 6520, 'nơi': 6543, 'song_kang_ho': 7665, 'thì_thôi': 8307, 'thuốc': 8208, 'huỳnh_thành_mỹ': 3364, 'chính_xác': 1460, 'bày': 584, 'đám_cưới': 11079, 'chính_phủ': 1453, 'tối': 9808, 'rất': 7476, 'có_thể': 1946, 'bao_giờ': 403, 'tâm_sự': 9469, 'hỏi': 3683, 'an_bình': 305, 'căng_thẳng': 2041, 'ảnh_hưởng': 11708, 'yếu_ớt': 10758, 'bệnh_nhân': 989, 'thật': 8505, 'hệ': 3650, 'máy': 5242, 'bán_công': 599, 'đặc_biệt': 11404, 'chữ_thập_đỏ': 1752, 'chụp': 1704, 'chỗ': 1679, 'kiên_gan': 4195, 'ngã': 5949, 'phú_tân': 6922, 'nhìn': 6232, 'tháo': 8265, 'xài': 10559, 'cướp': 2090, 'chính': 1450, 'beck': 420, 'hạ': 3567, 'cơ_trưởng': 2067, 'xác_định': 10567, 'gà': 3018, 'quảng_cáo': 7252, 'việc_làm': 10047, 'vất_vả': 10292, 'thống_nhất': 8590, 'bay': 416, 'khuya': 3958, 'mình_mẩy': 5292, 'kỳ': 4342, 'thuyền_viên': 8197, 'giả': 2926, 'nhựa': 6397, 'rusalka': 7368, 'ơi': 11676, 'cháu': 1391, 'nội_bài': 6655, 'nhờ': 6385, 'rạch': 7463, 'mỹ': 5582, 'truyền': 8976, 'hiểu': 3214, 'nhảy': 6283, 'lão_tướng': 4661, 'xem': 10464, 'kiểm_tra': 4227, 'bông_thấm_nước': 731, 'hải_yến': 3596, 'ngôi': 5969, 'đô': 11174, 'vài': 10090, '22': 140, 'vô': 10146, 'biên_giới': 445, 'sỏi': 7891, 'quí': 7216, 'tạm': 9680, 'nuôi': 6433, 'xịn': 10692, '300': 161, 'ưa': 11678, 'chồn': 1674, 'chân_đất': 1413, 'cử_nhân': 2328, 'cư_dân': 2076, 'kêu': 4279, 'càng': 1844, 'sai': 7568, 'máy_vi_tính': 5254, 'súng': 7794, 'đê': 11134, 'dốt': 2670, 'nát': 6453, 'bình_bịch': 665, 'quý': 7223, 'bạc_phơ': 795, 'trần_cảnh_đức': 9174, 'bệnh_xá': 993, 'sữa': 7958, 'phạt': 6991, 'hình_ảnh': 3475, 'vạch': 10276, 'tiểu': 8820, '28': 157, 'hồi': 3705, 'toàn': 8867, 'buồng_trứng': 537, 'tiểu_khu': 8824, 'bê': 656, 'hưng_nguyên': 3540, 'lượm': 4840, 'duy_bình': 2459, 'kỹ': 4363, 'vui': 10070, 'gây': 3037, 'hình': 3464, 'chặt': 1616, 'sân_khấu': 7755, 'malacca': 5094, 'thả': 8442, 'dám': 2485, 'mercedes': 5131, 'hùng': 3519, 'bán_lẻ': 601, 'phát_biểu': 6827, 'vô_sản': 10157, 'trả_lời': 9151, 'trở': 9289, 'đùm_bọc': 11214, 'học_viên': 3671, 'thiên_hình_vạn_trạng': 8108, 'hết': 3638, 'tuyên_án': 9350, 'khổ': 4132, 'sông_lam': 7786, 'gỗ': 3122, 'xe_ôm': 10460, 'im_thít': 3821, 'usd': 9982, 'biến': 451, 'học_tập': 3670, 'ngắm': 6046, 'chuông': 1353, 'tình_nguyện_viên': 9525, 'liều': 4470, 'đền_bù': 11447, 'đoạn': 11029, 'viết': 10041, 'giao_bóng': 2839, 'đấy': 11344, 'trạm': 9143, 'ngày_mai': 5926, 'đẹp': 11428, 'họa_sĩ': 3658, 'cởi': 2290, 'khách_hàng': 3985, 'lưng': 4808, 'cúi': 2023, 'giao_tranh': 2851, 'hơn': 3533, 'không_thể': 4069, 'cây_số': 1918, 'y_án': 10719, 'tít': 9552, 'bởi_vì': 1076, 'chục': 1702, 'bánh': 608, 'ngồi': 6069, 'khách': 3984, 'xa_xa': 10434, 'nhắc': 6331, 'cộng_sản': 2279, 'bavet': 415, 'nghi_hải': 5651, 'số': 7892, 'chắc': 1594, 'tự': 9941, 'giờ_đây': 2996, 'thuộc': 8222, 'bầu_trời': 904, 'khó': 4036, 'tinh_vi': 8733, 'mọi': 5485, 'ẵm': 11739, 'lý_huỳnh': 4772, 'chứ': 1722, 'tổ_hợp': 9839, 'cách': 1864, 'chừng': 1741, 'liên_đoàn': 4461, 'cường': 2103, 'ấy': 11724, 'kết_quả': 4326, 'tuần': 9376, 'cảm_thấy': 2134, 'đống': 11524, 'xối_xả': 10695, 'nghề': 5706, 'ghê_gớm': 2794, 'nhọn': 6360, 'nước_mắt': 6557, 'ký': 4296, 'cơ_sở': 2064, 'thượng_tá': 8430, 'hôm': 3509, 'bệnh': 986, 'thái_lan': 8254, 'ghi': 2776, 'giây_phút': 2902, 'con_cháu': 1780, 'buôn': 516, 'ý_nghĩa': 10878, 'mai_văn_hòa': 5086, 'lưu_giữ': 4813, 'bình_quân': 679, 'tăng': 9615, 'cá': 1851, 'cuối': 1816, 'xếp': 10683, 'vĩnh_viễn': 10238, 'thông_tin': 8346, 'đa_số': 10909, 'bà_con': 544, 'nghệ_sĩ': 5712, 'lo': 4481, 'đánh_đổi': 11105, 'tự_động_học': 9960, 'gây_rối': 3040, 'đạt': 11313, 'định_cư': 11480, 'ban_đêm': 392, 'đôi': 11177, 'rừng': 7555, 'ta': 7968, 'di_động': 2405, 'đại_lý': 11291, 'hội_nghị': 3750, 'anh_ta': 332, 'aids': 291, 'nước': 6548, '463': 198, 'lý_tự_trọng': 4784, 'lắc': 4905, 'chọn': 1661, 'dao': 2385, 'lông': 4749, 'trần': 9169, 'chợ': 1691, 'cũ': 2044, 'mía': 5294, 'hé': 3457, '21': 138, 'vậy': 10321, 'nhanh_chóng': 6112, 'công_minh': 1985, 'từ_điển': 9927, 'nhỏ': 6362, 'cột_dọc': 2283, 'nhồi': 6374, 'bữa': 1098, 'cực_nhọc': 2353, 'mẹ_già': 5460, 'rót': 7422, 'váy': 10108, 'mối': 5497, 'tưới': 9660, 'nhún': 6247, 'khiêm': 3907, 'cà_mau': 1837, 'địa_thế': 11474, 'thuyền': 8193, 'tóc': 9558, 'be_bét': 419, 'phường': 6952, 'an_ninh': 311, 'khắp': 4110, 'con_giống': 1784, 'thân_thể': 8288, 'tu_sĩ': 9326, 'đan': 10913, 'phong_cảnh': 6784, 'rộng': 7529, 'một_ít': 5540, 'đánh': 11086, 'cơ_sở_hạ_tầng': 2065, 'thu_nhập': 8178, 'nghề_nghiệp': 5707, 'công': 1972, 'chua': 1315, 'ăn_học': 10890, 'sách': 7724, 'khuôn_mặt': 3971, 'chân_tay': 1408, 'tanaka': 7994, 'công_nông': 1992, 'thi_đấu': 8104, 'chăm_sóc': 1511, 'lâu': 4642, 'như_anh': 6259, 'cho_dù': 1300, 'sợ': 7926, 'sạp': 7848, 'ướt': 11701, 'tròn': 9048, 'bươn_chải': 783, 'xong': 10497, 'sững_sờ': 7960, 'tập_kích': 9738, 'vọng': 10358, 'chớ': 1681, 'phát_hiện': 6829, 'ngoan': 5727, 'chút_ít': 1502, 'tràn_ngập': 8997, 'bảo': 833, 'ii': 3813, 'trệt': 9246, 'áo_phông': 10794, 'hồ_sơ': 3701, 'than_thở': 8054, 'hệ_thống': 3652, 'thất_nghiệp': 8466, 'xe_máy': 10456, 'đa_phần': 10908, 'bắc_cầu': 920, 'tồn_tại': 9835, 'cán_bộ': 1883, 'tỉ': 9779, 'hoàn_toàn': 3281, 'tìm': 9510, 'đưa': 11239, 'hàng_chợ': 3400, 'bảo_đảm': 848, 'đàn_ông': 11062, 'di_tích': 2402, 'qua_lại': 7092, 'hoàng_vũ': 3303, 'chi': 1237, 'imb': 3825, 'hành_trình': 3423, 'vũ_khí': 10242, 'xa': 10428, 'tư_thế': 9639, 'sơ_sơ': 7818, 'thế_chấp': 8535, 'cầm': 2173, 'campuchia': 1129, 'thối': 8588, 'mênh_mang': 5287, 'nới': 6669, 'nhất_là': 6296, 'màn': 5213, 'lò': 4725, 'hải_quan': 3589, 'một_vài': 5539, 'trận': 9227, 'ngày_càng': 5924, 'sản_xuất': 7855, 'nặng': 6597, 'ni': 6399, 'kiếm': 4208, 'hân_hoan': 3442, 'mặc': 5438, 'cảm_nhận': 2130, 'mày_mò': 5224, 'cam_lòng': 1126, 'dành': 2478, 'di_cư': 2397, 'chóng_vánh': 1471, 'u_minh': 9966, 'vừa_rồi': 10399, 'buồm': 524, 'sing': 7626, 'fred': 2746, 'thư': 8389, 'nhật_ký': 6329, 'mỏ': 5488, 'kinh_nghiệm': 4185, 'tàn_bạo': 9414, '1951': 73, 'bỏ': 1009, 'khều': 4115, 'đông_nam_á': 11196, 'diễn': 2411, 'dừng': 2696, 'thành': 8229, 'lôi': 4747, 'thủy_thủ': 8664, 'guồng': 3015, 'hương': 3549, 'lời': 5004, 'sĩ_tùng': 7810, 'đau_xót': 10925, 'phiên_tòa': 6774, 'báo_cáo': 618, 'giải_thích': 2939, 'bệnh_viện': 992, 'đóng': 11167, 'đồng_ý': 11575, 'tập': 9735, 'nâng': 6454, 'châu_âu': 1420, 'bố_già': 1024, 'chắc_chắn': 1595, 'thế': 8533, 'nhấp_nháy': 6293, 'cùng': 2019, 'giúp_việc': 2918, 'mượn': 5376, 'miệng': 5169, 'chùa': 1482, 'quan_niệm': 7103, '019': 3, 'điện_tử': 11004, 'rờ_kơi': 7536, 'khai_sinh': 3889, 'đấu_trường': 11343, 'đời_thường': 11645, 'lạc_xoong': 4856, 'xưng_tụng': 10654, 'đem': 10934, 'đoàn': 11021, 'cầu': 2188, 'khảo_sát': 4092, 'hoặc': 3323, 'điều_dưỡng': 10980, 'động': 11626, 'kết': 4319, 'sổ': 7910, 'ngủ': 6094, 'trời': 9285, 'cử': 2326, 'nhân_dạng': 6209, 'xe_đạp': 10463, 'dò_dẫm': 2535, 'phần_thưởng': 7018, 'vấn_đề': 10289, 'ăn_uống': 10900, '1975': 96, 'xóa': 10609, 'đại_học': 11288, 'điều_tra': 10987, 'phân_công': 6847, 'điển_hình': 10995, 'báng': 607, 'tính': 9546, 'trái': 9009, '1972': 93, 'tập_huấn': 9736, 'ngôn_ngữ': 5973, 'email': 2727, 'nghỉ': 5716, 'miến_điện': 5159, 'bố': 1022, 'trách_nhiệm': 9008, 'chạy_mánh': 1544, 'hạnh_phúc': 3579, 'dũng': 2555, 'kỳ_sơn': 4352, 'phá': 6802, 'cuốn': 1818, 'đón': 11163, 'hẳn': 3630, 'khiếp': 3916, 'bến_xe': 970, 'hàn_quốc': 3398, 'yên_lòng': 10732, 'áo': 10787, 'thùng': 8353, 'đột_ngột': 11636, 'học_bổng': 3661, 'bắt_đầu': 945, 'dễ_dàng': 2646, 'thực_hiện': 8689, 'tự_ái': 9957, 'thoát': 8155, 'nòng': 6473, 'bốc': 1028, 'hà': 3376, '189v': 50, 'ngập_ngừng': 6043, 'bất_cần': 862, 'thế_giới': 8536, 'quật': 7278, 'e_ấp': 2719, 'hun_hút': 3326, 'ngõ_cụt': 5975, 'khà_khà': 3976, 'nghi_ngút': 5653, 'khu_phố': 3952, 'vàng': 10091, 'muôn_vàn': 5201, 'qui_định': 7137, 'uống': 9992, 'đồng_hồ': 11552, 'can_thiệp': 1131, 'hào_hứng': 3429, 'sài_gòn': 7714, 'phương_thức': 6942, 'chữ': 1748, 'bia': 433, 'tầm': 9716, '67': 232, 'buôn_bán': 517, 'trà': 8986, 'làm_ăn': 4593, 'gái_nhảy': 3031, 'nghiêng': 5664, 'lê_văn_sĩ': 4697, 'tìm_kiếm': 9512, 'nga': 5633, 'tt': 9322, 'gia_súc': 2813, 'sông': 7785, 'tan': 7987, 'samsung': 7575, 'lẫy_lừng': 4893, 'cactông': 1115, 'tương_lai': 9654, 'giật_mình': 2970, 'cao_cấp': 1148, 'sướng': 7840, 'cụ': 2293, 'học_phí': 3667, 'tại': 9676, 'thể_thức': 8558, 'nhát': 6200, 'khổ_sở': 4137, 'dọc': 2663, 'tình_trạng': 9530, 'đợi': 11649, 'tâm_lý': 9464, 'rẻ': 7494, 'rổ': 7520, 'mệt_mỏi': 5478, 'quay_phim': 7120, 'loạn': 4524, 'th': 8035, 'thép': 8297, 'cấm': 2153, 'hiện_nay': 3219, 'ban': 386, 'công_tác': 2003, 'hấp_dẫn': 3600, 'tạp_chí': 9689, 'vuốt': 10084, 'kép': 4272, 'đầu_tư': 11364, 'rút': 7435, 'đất_nước': 11332, 'hút': 3524, '2000': 126, 'xị': 10690, 'thay': 8084, 'út': 10870, 'góc': 3053, 'chúng_mình': 1496, 'môi_trường': 5315, 'cam_chịu': 1123, 'dò_hỏi': 2536, 'giờ_phút': 2995, 'buổi': 538, 'xác_minh': 10563, 'phức_tạp': 7079, 'mông_dương': 5321, 'hối_tiếc': 3694, 'vang': 10002, 'lúa': 4758, 'dìu_dắt': 2530, 'trồng': 9273, 'rướm': 7453, 'hắn': 3625, 'đơn_thương': 11236, 'phong_khê': 6785, 'hàng_xóm': 3410, 'mớ': 5541, 'chạy': 1541, 'rob': 7346, 'thế_mà': 8540, 'ngất': 6025, 'thịt': 8575, 'kỳ_quang': 4351, 'phong_độ': 6795, 'có_khi': 1938, 'biết_bao': 458, 'đồng_nghiệp': 11560, 'bên': 659, 'lửa': 5050, 'không_những': 4066, 'đơn_sơ': 11234, 'nhẹ': 6345, 'bảo_vệ': 847, 'thử': 8683, 'phái': 6808, 'chúng': 1492, 'phan_thị_bi': 6740, 'tính_cách': 9548, 'eo_biển': 2730, 'loằng_khoằng': 4530, 'sbs': 7602, 'thảnh_thơi': 8450, 'nhà_trọ': 6182, 'hell': 3166, 'tẩu': 9726, 'số_phận': 7898, 'điều_trị': 10988, 'rằng': 7492, 'dơi': 2560, 'trơ': 9088, 'thôi': 8327, 'đời_sống': 11644, 'quê': 7207, 'nét': 6465, 'oan': 6696, 'chúng_tao': 1499, 'tập_đoàn': 9747, 'lão': 4658, 'món': 5304, 'hối_hả': 3693, 'hôm_qua': 3512, 'xà_bông': 10556, 'tp': 8883, 'xuất_ngoại': 10540, 'hạng': 3577, 'hiếu': 3194, 'ma_túy': 5073, 'bầu': 900, 'suốt': 7708, 'đe_dọa': 10933, 'di_dời': 2398, 'yên_ắng': 10741, 'trọ': 9250, 'mười': 5366, 'lặng_lẽ': 4921, 'khánh_hòa': 4005, 'tòa': 9555, 'rất_đỗi': 7477, 'học_hành': 3664, 'thầy_cô': 8491, 'bặm_trợn': 959, 'tiệp': 8844, 'km': 4241, 'bức': 1088, 'mũi': 5344, 'hạ_cánh': 3568, 'hiến': 3192, 'đầy_rẫy': 11371, 'từ_đồng_âm': 9928, 'phim': 6764, 'old': 6703, 'nặng_nề': 6602, 'kỹ_lưỡng': 4365, 'lầu': 4885, '207': 136, 'giản_đơn': 2948, 'nhà_văn_hóa': 6185, 'dại': 2592, 'hồng': 3717, 'lý_huỳnh_yến': 4773, 'tắt': 9755, 'ưu_ái': 11687, 'sút': 7800, 'môi': 5313, 'reo_hò': 7335, 'tấn': 9703, 'chèo_chống': 1424, 'cồn': 2256, 'đọc': 11490, 'tiếp': 8772, 'nhật': 6326, 'mít': 5295, 'bắp': 930, 'ưu_tiên': 11684, 'xù_xì': 10634, 'trống_rỗng': 9269, 'chửa': 1742, 'bảo_tàng': 846, 'đắt': 11397, 'choáng_váng': 1309, 'hải': 3582, 'tụ_điểm': 9883, 'lên_tiếng': 4713, 'ngàn': 5919, 'ngập': 6040, 'thanh_quản': 8069, 'pcgd': 6723, 'bậc': 909, 'lùm': 4754, 'típ': 9551, 'gieo_rắc': 2853, 'triệt_phá': 8927, 'kia': 4154, 'mau': 5114, 'máy_bay': 5243, 'đủng_đỉnh': 11657, 'nghị_lực': 5722, 'đáng': 11082, 'buồn_bã': 527, 'thùy': 8355, 'một_mình': 5531, 'giết': 2978, 'mặt': 5445, 'mộng': 5522, 'châm': 1397, 'dịch': 2654, 'thầm_kín': 8479, 'trốn': 9265, 'nho_nhỏ': 6138, 'mười_hai': 5369, 'thu_hoạch': 8170, 'con_số': 1789, 'giúp': 2917, 'đốt': 11526, 'cúng': 2027, 'chính_thức': 1457, 'nộp': 6667, 'công_nhân': 1989, 'phân_loại': 6851, 'song': 7664, 'ẩn_hiện': 11731, 'thời_đại': 8619, 'gãy': 3043, 'mảnh': 5395, 'phiên': 6772, 'khơi': 4081, 'xuất_khẩu': 10539, 'liên_miên': 4454, 'khâu': 4018, 'đường_sông': 11265, 'thậm_chí': 8501, 'tận': 9727, 'thắt_lưng': 8518, 'chặng': 1615, 'có_ích': 1948, 'khắc_khổ': 4107, 'phù_hợp': 6904, 'cò': 1926, 'ngoại': 5740, 'úc': 10868, 'nhiêu': 6123, 'trọng': 9254, 'trở_thành': 9295, 'muay_thái': 5194, 'thật_sự': 8507, 'bù_kẹp': 734, 'công_sự': 1996, 'phát_triển': 6836, 'nao': 5622, 'nhiệm_vụ': 6132, 'một_số': 5536, 'ghé': 2787, 'ánh': 10785, 'khánh_an': 4003, '1953': 75, 'jean_leon': 3851, 'thấp': 8459, 'tất_yếu': 9714, 'rửa': 7559, 'hồ': 3697, 'kẹp': 4306, 'bàn': 561, 'nghệ_thuật': 5715, 'đậu': 11382, 'thích': 8314, 'trấn_lột': 9158, 'hoạt_động': 3317, 'điện': 10997, 'sung_sướng': 7690, 'huyện': 3344, 'làm_việc': 4591, 'cắt': 2224, 'luộc': 4563, 'gửi': 3135, 'beverly_hills': 425, 'chín': 1448, 'phú_điền': 6926, 'tập_thể_dục': 9742, 'tên_tuổi': 9506, 'bỏ_qua': 1018, 'tích': 9537, 'hậu_kỳ': 3617, 'đà_nẵng': 11044, 'thác_loạn': 8245, 'vậy_mà': 10322, 'huấn_luyện': 3350, 'giới_thiệu': 2992, 'bùi_phát': 741, 'nổi_tiếng': 6647, 'y_sĩ': 10715, 'nhà_trường': 6179, 'đo': 11014, 'bộ_phận': 1061, 'mệt': 5475, 'cơm_hộp': 2073, 'thiếu': 8132, 'trả_góp': 9150, 'trung_phong': 8958, 'tận_mắt': 9731, 'luôn': 4547, 'chủ_trương': 1716, 'day_dứt': 2390, 'sự_cố': 7962, 'chủ_lực': 1709, 'tiếp_thị': 8783, 'daisy': 2368, 'giặc': 2974, 'lạ': 4845, 'quan_trọng': 7106, 'xuýt_xoa': 10534, 'săn_bắt': 7804, 'thư_viện': 8394, '1935': 59, 'xung_phong': 10513, 'thói_quen': 8322, 'hệ_số': 3651, 'lận': 4894, 'trái_tim': 9014, 'chịu': 1651, 'nữ_sinh': 6688, 'người_lớn': 6000, 'báo_động': 623, 'co': 1769, 'già': 2857, 'mùi': 5336, 'nguyễn_thị_hồng': 5828, 'neo': 5629, 'lực': 5058, 'an_giang': 306, 'quảng_bá': 7249, 'vợ_con': 10388, 'nghiện': 5673, 'sàn': 7716, 'mãi': 5267, 'kiêm': 4192, 'chiến_thắng': 1282, 'nam_ninh': 5612, 'quên': 7212, 'phàn_nàn': 6801, 'dì': 2528, 'vòi_vọi': 10136, 'mùa': 5333, 'tháp_mười': 8268, 'bắt_giữ': 937, 'vks': 10060, 'ngư_dân': 5992, 'sử_dụng': 7951, 'quyết_tâm': 7154, 'đờn': 11647, 'khách_sạn': 3987, 'chơi': 1517, 'ấp': 11720, 'xuống': 10551, 'án': 10779, 'như_thế': 6263, 'tù': 9585, 'thương_binh': 8399, 'phục_thù': 7067, 'bar': 411, 'dân_cư': 2495, 'chiếu': 1289, 'trượt': 9138, 'cứu_hỏa': 2320, 'kế': 4314, 'asiad': 345, 'bây': 630, 'hướng': 3558, 'chích': 1446, 'thăm': 8373, 'cực': 2348, 'chương_trình': 1531, 'nhà_nước': 6167, 'quá_khứ': 7170, 'muôn_trùng': 5200, 'nhóm': 6243, 'cao_đẳng': 1174, 'ồn_ào': 11759, 'cảng': 2142, 'trụ': 9303, 'cột': 2282, 'nam': 5603, 'vật_nuôi': 10316, 'phận': 7026, 'yêu_cầu': 10744, 'dán': 2486, '200': 125, 'cương_gián': 2085, 'vật_vờ': 10320, 'ông_bà': 10852, 'núi': 6517, 'đẻ': 11432, 'giác_mạc': 2880, 'thể': 8549, 'chiến_tuyến': 1286, 'trường_phước': 9128, 'bước': 784, 'đặt': 11423, 'góp': 3057, 'xưa': 10650, 'viger': 10026, '1970': 91, 'quảng_đông': 7258, 'trót_lọt': 9053, 'trâu': 9024, 'sau_cùng': 7594, 'somalia': 7660, 'khoa': 3922, 'dở_dang': 2682, 'bình_thản': 683, 'da': 2359, 'bình_tây': 685, 'quốc_tế': 7297, 'hãng': 3446, 'hong_kong': 3263, 'cổ_động_viên': 2271, 'golf': 3004, 'đối_với': 11519, 'như_vậy': 6266, 'nguyễn_huy_hồng': 5790, 'vùng': 10206, 'gục': 3133, 'phân_nửa': 6852, 'giao': 2838, 'khăm_khẳm': 4077, 'tốt_lành': 9829, 'nổi_cộm': 6644, 'két': 4273, 'giám_đốc': 2886, 'lo_âu': 4489, 'jane': 3845, 'kịp': 4340, 'im_lặng': 3819, 'lắp_bắp': 4912, 'ra_tay': 7315, 'bàng_bạc': 578, 'chạng_vạng': 1539, 'lưa_thưa': 4807, 'ghe': 2774, 'cuốc': 1814, 'chắn': 1598, 'xui_xẻo': 10510, 'kẻng': 4310, 'ống_tiêm': 11756, 'huấn_luyện_viên': 3351, 'thập_niên': 8504, 'hi_sinh': 3176, 'quen_thuộc': 7126, 'hạn_chế': 3576, 'bình_thường': 681, 'vũ_công': 10241, 'bằng': 947, 'kết_luận': 4323, 'bế': 962, 'ch': 1199, 'bão_táp': 641, 'trại': 9140, 'đánh_bóng': 11087, 'đối_phương': 11514, 'trường_hợp': 9124, 'thử_nghiệm': 8684, 'giới': 2990, 'chi_tiết': 1246, 'toàn_bộ': 8868, 'theo_dõi': 8093, 'cứng_cáp': 2311, 'gân_cổ': 3036, 'iman': 3824, 'lúng_túng': 4766, 'hiệu': 3229, 'truyền_hình': 8977, 'cảm_thông': 2132, 'trẻ_em': 9242, 'cải': 2119, 'đài': 11045, 'mức': 5575, 'lê_gia_khánh': 4669, 'trông': 9058, 'dúi': 2549, 'phê_bình': 6861, 'hồi_tưởng': 3713, 'tật_nguyền': 9750, 'hôm_nay': 3511, 'mà_còn': 5210, 'cơm': 2069, 'vỡ': 10381, 'bom': 491, 'chung': 1321, 'đoạt': 11031, 'điểm': 10990, 'chỉ_đạo': 1643, 'bộ_mặt': 1059, '25': 152, 'hiểm': 3205, 'an_toàn': 318, 'lát': 4629, 'sáng_tác': 7737, 'đề_phòng': 11443, 'rớt': 7534, 'bỏ_ngoài_tai': 1015, 'nở': 6672, 'tấm_bé': 9701, 'chất_độc': 1578, 'trai': 8888, 'kết_hợp': 4322, 'bắt_tay': 944, 'kiểu': 4231, 'ngổn_ngang': 6075, 'bánh_mì': 610, 'bí_thư': 695, 'phảng_phất': 7003, 'y_học': 10710, 'merdeka': 5132, 'cát_lở': 1897, 'aurova': 349, 'thứ': 8666, 'đặt_cọc': 11426, 'cấp_nước': 2158, 'tốt_nghiệp': 9830, 'hoài': 3269, 'trưởng': 9134, 'giải_phóng_quân': 2935, 'dũng_mãnh': 2557, 'chúng_ta': 1498, 'y_tá': 10717, 'sờ': 7918, 'cơ_quan': 2061, 'ấm': 11712, 'cơ_hội': 2057, 'đoạn_tuyệt': 11030, 'nhắc_nhở': 6332, 'lắp': 4911, 'làm_quen': 4583, '400': 186, 'giải_pháp': 2933, 'chấp_hành': 1566, 'hồi_giáo': 3706, 'chợt': 1701, 'rồng': 7518, 'giáo_trình': 2894, 'nguy_cơ': 5763, 'nghĩa_hiệp': 5695, 'chướng_ngại_vật': 1534, 'vòng_tròn': 10142, 'nông_dân': 6507, 'mở': 5557, 'bà_điểm': 550, 'bổ': 1044, 'vai': 9996, 'thái': 8249, '65': 230, 'đô_thị': 11176, 'ngoại_tệ': 5751, 'lặn_lội': 4919, 'gió': 2909, 'kéo': 4268, 'trung_thực': 8961, 'giường_bệnh': 2925, 'tiết_niệu': 8793, 'triển_khai': 8924, 'tiết': 8788, 'nguyễn_ái_trân': 5898, 'giữa': 3001, 'độ': 11599, 'ngụy_trang': 6093, 'tự_tin': 9952, 'lựa_chọn': 5057, '180': 46, 'hiếm': 3189, 'vốn': 10363, 'sang_nhượng': 7582, 'bộ_đội': 1066, 'công_an': 1973, 'cà_phê': 1838, 'đối_thủ': 11516, 'weigang': 10413, 'đằng_đẵng': 11401, 'mẻ': 5463, 'tác_hại': 9433, 'mai': 5077, 'tử_hình': 9931, 'ấn_tượng': 11717, 'quan_tài': 7107, 'oshin': 6711, 'thuê': 8198, 'gdv': 2771, 'tụi': 9888, 'tội_ác': 9871, 'long': 4501, 'bến': 965, 'trung_chuyển': 8945, 'hành_động': 3426, 'lô': 4744, 'ngọn': 6062, 'ước_mơ': 11696, 'đảo': 11321, 'giấy': 2956, 'hàng_không': 3405, 'trung': 8943, 'tư': 9627, 'bập': 914, 'rơi': 7444, 'phong_cách': 6783, 'teo_tóp': 8032, 'bàn_tay': 570, 'giấc': 2953, 'đáo': 11106, '100': 13, 'nilông': 6404, 'mệnh_danh': 5472, 'hành_khách': 3415, 'cơn': 2074, 'giải_trình': 2940, 'bất_kỳ': 873, 'underground': 9975, 'm2': 5063, 'chờ': 1687, 'mặc_cảm': 5440, 'bida': 435, 'lưu': 4811, 'đào': 11066, 'thân_phận': 8282, 'thường': 8415, 'mỹ_thạnh': 5596, 'mối_lái': 5499, 'quyền': 7157, 'địa_chỉ': 11465, 'đấu': 11336, 'hoàng_khương': 3292, 'kim_trâm': 4176, 'tỉ_thí': 9786, 'theo_đuổi': 8094, 'sưng_vù': 7836, 'ngờ': 6081, 'đi_khách': 10949, 'tàu_biển': 9421, 'vanleng': 10007, 'thi': 8095, 'bãi': 634, 'chủ_yếu': 1719, 'nổi': 6641, 'khu_vực': 3953, 'quán': 7181, 'ném': 6463, 'khổ_luyện': 4134, 'trước_kia': 9114, 'nghi_ngờ': 5654, 'khóc': 4044, 'hợp_lý': 3777, 'đài_tệ': 11053, 'xử_lý': 10705, 'bưu_ảnh': 781, 'vải': 10285, 'chiêm_nghiệm': 1261, 'bồn': 1041, '01': 1, 'sâu': 7759, 'hình_thành': 3471, 'đâm': 11112, 'điều_kiện': 10984, 'đính_chính': 11151, 'chuẩn_bị': 1355, 'tư_gia': 9632, 'bắn': 929, 'bị_cáo': 998, 'mong_muốn': 5182, 'sinh_hoạt': 7631, 'học_sinh': 3668, 'dữ_dội': 2699, 'quyết_định': 7156, 'thắp': 8515, 'thu_hồi': 8174, 'bẩn': 907, 'minh_cảnh': 5145, 'thắc_mắc': 8510, 'thời': 8602, 'lén_lút': 4664, 'tan_hoang': 7989, 'im_lìm': 3818, 'tranh': 8904, 'lối': 4965, 'réo': 7408, 'đỉnh': 11460, 'đất_khách_quê_người': 11329, 'hứa_hẹn': 3791, 'trao_đổi': 8911, 'động_tác': 11632, 'xung_quanh': 10514, '1961': 82, 'rèn': 7405, 'mai_xuân_thưởng': 5089, 'heroin': 3173, 'khía_cạnh': 4033, 'hiện_đại': 3225, '1971': 92, 'hải_phòng': 3588, 'lăn_quay': 4790, 'trực': 9315, 'cạnh': 2113, 'hậu_đài': 3624, 'xấu': 10670, 'chuyên_gia': 1334, '68': 234, 'ngẫu_hứng': 6034, 'quảng_ninh': 7255, 'căn': 2033, 'karaoke': 3871, 'nguyễn_trãi': 5851, 'nguyễn_văn_hùng': 5873, 'cất': 2165, 'guốc': 3014, 'dũng_cảm': 2556, 'trò_chuyện': 9044, 'lý_do': 4770, 'say_xỉn': 7601, 'mơ_ước': 5351, 'cực_kỳ': 2350, 'đất_liền': 11330, 'hà_nỏ_mày': 3381, 'nhà_hàng': 6157, 'chở': 1690, 'thông_báo': 8334, 'quyết': 7149, 'hiệu_quả': 3232, 'ngõ': 5974, 'rit': 7339, 'móng': 5306, 'hải_trình': 3593, 'tận_dụng': 9730, 'nên_thơ': 6468, 'bối_cảnh': 1033, 'vuông': 10083, 'nguyễn_văn_dũng': 5869, 'cắn': 2220, 'hiện_giờ': 3218, 'máy_bơm': 5244, 'khả_năng': 4086, 'to': 8850, 'trung_du': 8947, 'cục': 2295, 'suy_nghĩ': 7697, 'tương_ứng': 9658, 'đàn_em': 11061, 'đl': 11013, 'cầy': 2204, 'đông_anh': 11187, 'tận_tình': 9733, 'hoàn_thành': 3280, 'quân_sự': 7198, 'nhì': 6231, '83': 253, 'ngóc': 5955, 'tưởng': 9668, 'huỳnh_văn_có': 3370, 'nền': 6612, 'khôn': 4055, 'phà': 6800, 'quan_chức': 7099, 'thách_thức': 8247, 'eo_đất': 2732, 'bộc_bạch': 1067, 'tay_vợt': 8016, 'kiểu_dáng': 4232, 'minh_chứng': 5144, 'ván': 10107, 'giọng': 2981, 'đại_dịch': 11285, 'target': 8002, 'đông_đúc': 11207, 'giọt': 2982, 'mãnh_hổ': 5270, 'bình_dương': 670, 'rau': 7325, '10': 12, '27': 156, 'sự_thật': 7965, 'phần': 7012, 'lảnh_lót': 4870, 'khoan': 3928, 'hư': 3535, 'nói_chuyện': 6479, 'nấu_nướng': 6579, 'kẻ': 4308, 'đại_biểu': 11280, 'cuống_quít': 1823, 'có_lẽ': 1940, 'năm_tháng': 6533, 'thấm_thía': 8458, 'sạch': 7845, 'thứ_năm': 8670, 'chơi_đùa': 1522, 'biên': 442, 'nửa_đêm': 6683, 'thất_vọng': 8473, 'khủng_khiếp': 4152, 'tiểu_học': 8823, 'chủ_tọa': 1718, 'sao_nhãng': 7589, 'võ_đài': 10200, 'nha_trang': 6107, 'ak': 294, 'đau_nhói': 10922, 'sục_sạo': 7931, 'khoe': 3934, 'phú_thạnh': 6920, 'đu': 11034, 'ngậm_ngùi': 6038, 'nhân_vật': 6219, 'quận': 7276, 'tai': 7973, 'nhằm': 6341, 'nguyễn_kim': 5797, 'tam_giác': 7983, 'chấp_nhận': 1567, 'hiền_trâm': 3204, 'thủy_tinh': 8665, 'gian_hàng': 2828, 'nghĩ': 5687, 'cầu_đá': 2202, 'chip': 1259, 'lúc_nào': 4762, 'khôn_nguôi': 4058, 'yêu': 10743, 'gầy': 3085, 'minh_sang': 5153, 'tạm_biệt': 9681, 'hàng_loạt': 3406, 'vận_tải': 10305, 'xóa_đói_giảm_nghèo': 10611, 'y_như': 10713, 'gianh': 2837, 'cửu_long': 2343, 'trơn': 9092, 'khép': 4021, 'trưa': 9094, 'trưởng_phòng': 9135, 'phim_trường': 6770, 'tàn_phế': 9417, 'đệm': 11458, 'cư_trú': 2077, 'thiết_bị': 8126, 'biệt_hiệu': 477, 'lặng': 4920, 'say': 7597, 'trút': 9075, 'than': 8052, 'tò_mò': 9554, 'vạn_năng': 10282, 'vũ_tư_đường': 10251, 'thở_dài': 8621, 'đối_diện': 11509, 'cách_mạng': 1868, 'hải_tặc': 3594, 'vạn_mỹ': 10281, 'lạc_đà': 4857, 'thay_đổi': 8087, 'mạng': 5384, 'lđ': 4793, 'chiều': 1292, 'cò_con': 1927, 'tto': 9324, 'tiên_tri': 8742, 'hạ_long': 3569, 'hớt_hải': 3769, 'thầm': 8478, 'lão_nông': 4660, 'trần_quang_hạ': 9188, 'tiềm_lực': 8796, 'xã_hội_học': 10582, 'rào_cản': 7383, 'nớ': 6668, 'mại_dâm': 5382, 'tốc_độ': 9807, 'xuống_đường': 10554, 'kín': 4289, 'lẫn': 4890, 'thành_phố': 8236, 'ngực': 6105, 'bộ_trưởng': 1062, 'ngư_phủ': 5993, 'vườn': 10268, 'rủng_roẻng': 7550, 'người_thân': 6007, 'du_lịch': 2447, 'khung_cảnh': 3956, 'quần_thảo': 7269, 'đông_dương': 11191, 'biđông': 450, 'nhanh': 6111, 'lý_thuyết': 4780, 'tuy_vậy': 9341, 'bật': 916, 'đừng': 11672, 'huỳnh_tiền': 3368, 'hợp_pháp': 3779, 'yếu_tố': 10757, 'thể_nào': 8556, 'ngón': 5958, 'đai': 10911, 'bông': 729, 'mỉm': 5482, 'tìm_hiểu': 9511, 'đen': 10936, 'võ': 10175, '49': 201, 'quẳng': 7283, 'kéo_dài': 4270, 'minh': 5142, 'mấy_ai': 5411, 'xảy': 10667, 'cảm': 2126, 'doạ': 2440, 'đẩy': 11374, 'để_ý': 11455, 'hẹn': 3633, 'minh_phụng': 5151, 'ngọ': 6055, 'mừng': 5577, 'nhân': 6204, 'quyến_rũ': 7148, 'thổi': 8598, 'bóng_đèn': 719, 'đảng': 11318, 'giải_quyết': 2937, 'tương_đương': 9656, 'tránh': 9021, 'dày_đặc': 2484, 'trái_ngược': 9012, 'trang': 8892, 'cam_kết': 1125, 'hungary': 3331, 'thang_máy': 8057, 'xuyên': 10519, 'phương_tiện': 6943, 'thất_học': 8464, 'tiến': 8758, 'đúng_mực': 11218, 'đỏ_đen': 11501, 'mông': 5320, 'quân_thù': 7199, 'móc': 5301, 'dẻo': 2640, 'làm_dáng': 4572, 'nhà_vệ_sinh': 6186, 'cứu_cánh': 2318, 'vì_vậy': 10128, 'nghệ_an': 5709, 'xác': 10561, 'sửa': 7952, 'xuất': 10535, 'lao_bảo': 4393, 'nối_tiếp': 6627, 'mường_ải': 5375, 'trung_quốc': 8959, 'bất_cứ': 863, 'cảnh_sát': 2150, 'xinh_tươi': 10480, 'khen': 3903, 'giáng': 2889, 'thực_tế': 8703, 'kinh_doanh': 4181, 'rắc': 7489, 'quốc_ca': 7289, 'chữa': 1754, 'xuân_hoà': 10522, 'đầu_tiên': 11363, 'còi_cọc': 1929, 'đồ': 11527, 'ngoẹo': 5759, 'không_khí': 4064, 'bụi_bặm': 1082, 'nhẩm': 6306, 'phan_đức_bình': 6746, 'xoáy': 10504, 'lăm_le': 4786, 'tắm': 9752, 'nhân_dịp': 6210, 'đốc_thúc': 11506, 'khoái_cảm': 3939, 'giao_liên': 2847, 'không_gian': 4062, 'rúng_động': 7434, 'ngon_lành': 5734, 'khuất': 3973, 'luật_pháp': 4556, 'gần_đất_xa_trời': 3084, 'ts': 9319, 'vui_vẻ': 10079, 'trở_nên': 9294, 'cây_cối': 1914, 'phó_chủ_tịch': 6886, 'chạm_trổ': 1538, 'rác': 7387, 'yến': 10752, 'cuồng_nhiệt': 1826, 'thân_nhân': 8281, 'giành': 2867, 'chiến_tranh': 1283, 'vác': 10105, 'trám': 9017, 'thành_công': 8230, 'bảo_hộ': 837, 'tâm_thần': 9470, 'bổ_sung': 1047, 'huỳnh_văn_sáu': 3373, 'liên_tục': 4459, 'mày': 5223, 'trần_trụi': 9206, 'sau_này': 7595, 'gan': 2759, 'chàng': 1371, 'tâm_trạng': 9472, 'nước_ngoài': 6558, 'phu': 6797, 'hoàng_anh_chủ': 3284, 'địa_phương': 11472, 'ayun_hạ': 352, 'trúc_đào': 9072, 'quốc_phòng': 7295, 'hiếm_hoi': 3190, 'hợp_tác_xã': 3782, 'đầu_bảng': 11350, 'quan_tâm': 7108, 'phổ_cập': 7047, 'chợ_người': 1696, 'thân_hình': 8278, 'đài_loan': 11047, 'học_hỏi': 3665, 'phân_trần': 6854, 'khóa': 4042, 'chai': 1206, 'ly_kỳ': 4565, 'cuộc_chiến': 1829, 'nỗi_niềm': 6653, 'chi_phí': 1244, 'khô': 4051, 'đại_sứ_quán': 11297, 'gas': 2767, 'song_song': 7668, 'lưu_thông': 4817, 'đau_lòng': 10921, 'chào': 1373, 'đành': 11065, 'di_chứng': 2395, 'carmen': 1178, 'đôi_lứa': 11182, 'bình_yên': 687, 'tình_yêu': 9533, 'ẩm_mốc': 11728, 'táo_tợn': 9457, 'chợ_lớn': 1694, 'kao': 3868, 'sắp': 7874, 'hướng_dẫn': 3560, 'con_thoi': 1790, 'gõ_cửa': 3062, 'an_nhơn': 310, 'phan_văn_khỏe': 6743, 'tạ': 9674, 'thi_hài': 8098, 'nguy': 5762, 'chớp_mắt': 1685, 'iavê': 3810, 'giá_trị': 2878, 'phnom_penh': 6778, 'anh_dũng': 328, 'sứt': 7947, 'trân_trọng': 9023, 'rung_động': 7365, 'vương': 10263, 'phụ': 7054, 'cần_mẫn': 2185, 'rét': 7409, 'nhé': 6229, 'bắt_buộc': 934, 'trợn': 9302, 'quốc_gia': 7291, 'chết_giấc': 1631, 'lở_lói': 5010, 'kỹ_thuật': 4368, 'đồ_đạc': 11535, 'xôi': 10626, 'thẳng': 8523, 'đút': 11220, 'kim': 4157, 'mộc_hóa': 5520, 'bảo_trợ': 845, 'chính_qui': 1454, 'dân_phòng': 2501, 'khiêm_tốn': 3908, 'thôi_thúc': 8330, 'of': 6700, 'giày': 2871, 'đất_đỏ': 11335, 'chi_cục': 1240, 'tráng': 9019, 'liệt_sĩ': 4476, 'nhả': 6282, 'sẵn': 7879, 'dãy': 2524, 'giây': 2901, 'mà_lại': 5211, 'nguyễn_thành_tâm': 5818, 'tuyệt_đối': 9367, 'kinh_tế': 4190, 'phối_hợp': 7040, 'mê': 5283, 'minh_tơ': 5154, 'anh_chàng': 325, 'vy': 10087, 'muộn': 5206, 'sở_hữu': 7921, 'lưỡng_thủ': 4839, 'trà_vinh': 8993, 'run_run': 7362, 'quên_lãng': 7213, 'ác_đức': 10770, 'anh_chị': 326, 'mở_rộng': 5562, 'đường_dây': 11258, 'malaysia': 5095, 'âm_lịch': 10806, 'cộc_cằn': 2276, 'chim': 1256, 'joo': 3857, 'nổ': 6638, 'ngẩng': 6031, 'ganh': 2763, 'hãy': 3449, 'xúc_động': 10638, 'bán_buôn': 597, 'bóng_ma': 714, 'hở': 3771, 'lớc': 4993, 'số_lượng': 7896, 'phạm_thị_như_anh': 6970, 'cơ_giới': 2055, 'cụ_thể': 2294, 'vuốt_vuốt': 10086, 'tặng_vật': 9761, 'bùi_bùi': 737, 'khấm_khá': 4093, 'em_trai': 2725, 'dự_án': 2708, 'âu_sầu': 10820, 'tiệm': 8840, 'suất': 7706, 'đau_buồn': 10919, 'khoảnh_khắc': 3948, 'văn_hóa': 10219, 'nón': 6491, 'chống': 1668, 'chú_ý': 1487, 'băn_khoăn': 762, 'cô_độc': 1964, '13': 25, 'tái_định_cư': 9446, 'pháp': 6819, 'nhiệt_tình': 6136, 'thợ': 8626, 'thênh_thang': 8301, 'khăn_gói': 4079, 'ngạc_nhiên': 6018, 'ở_trần': 11773, 'bố_mẹ': 1025, 'dụng_cụ': 2689, 'sức_lực': 7944, 'tức': 9910, 'ruồi_trâu': 7371, 'rời_rạc': 7540, 'xe_kéo': 10452, 'đợt': 11651, 'khéo_léo': 4020, 'nhỏ_nhẹ': 6370, 'nhung': 6145, 'dãi_nắng_dầm_mưa': 2522, 'tán': 9452, 'con_cái': 1781, 'nhắc_đi_nhắc_lại': 6333, 'dạo': 2596, 'loáng_thoáng': 4517, 'chu_đáo': 1314, 'lượng': 4842, 'kẽm': 4313, 'bắt_nguồn': 942, 'mệ': 5471, 'euro': 2735, 'tội_phạm': 9869, 'giỏ': 2983, 'làm_gì': 4575, '500': 206, 'cổng': 2272, 'loay_hoay': 4495, 'đồng_tháp_mười': 11569, 'ha': 3138, 'thông_thường': 8345, 'quánh': 7184, 'ác_liệt': 10766, 'cãi': 1924, 'nhà_cửa': 6154, 'in': 3826, 'bo': 487, 'tốn': 9822, 'chà_và': 1368, 'ruộng': 7372, 'chép': 1428, 'anh_hào': 330, 'chế_biến': 1622, 'củ_chi': 2303, 'hec': 3164, 'phục_trang': 7068, 'thiết_kế': 8127, 'dân_ca': 2490, 'kim_chi': 4159, 'khai_hoang': 3888, 'như_thể': 6264, 'con_trai': 1793, 'đổ': 11578, 'cần': 2182, 'loan': 4491, 'chi_chít': 1239, 'giải_phóng': 2934, 'đố': 11504, 'thế_nào': 8541, 'hực': 3806, 'lóa': 4737, 'xói_lở': 10613, 'tân_trúc': 9490, 'ca_ngợi': 1111, 'hà_tĩnh': 3387, 'bớt': 1071, 'mặn_mà': 5444, 'ngôi_sao': 5970, 'duy_nhất': 2462, 'hầu_hết': 3607, 'thưa_thớt': 8397, 'lắc_đầu': 4907, 'nằng_nặc': 6595, 'nghiền': 5668, 'nuôi_trồng': 6436, 'liên_xô': 4460, 'dạng': 2595, 'thủ_môn': 8643, 'công_trình': 1999, '40': 185, 'so_sánh': 7656, 'methamphetamine': 5133, 'đồng_lương': 11557, 'ham': 3149, 'gương': 3066, 'rõ': 7426, 'yếu': 10756, 'tấp_nập': 9707, 'em_gái': 2724, 'xiết_nợ': 10487, 'thẫm': 8499, 'qui_chế': 7128, 'cây_lá': 1915, 'hóa_chất': 3497, 'nốt': 6629, 'mua_lẻ': 5190, 'đỏ_quạch': 11500, 'nhỉ': 6353, 'thương_yêu': 8413, 'thanh_hóa': 8062, 'tre': 8912, 'cầu_ông_lãnh': 2201, 'bản_án': 827, 'phù_dung': 6903, 'mơ': 5346, 'nữa_là': 6691, 'ngân': 5944, 'nguyện_vọng': 5910, 'thanh_niên': 8066, 'bất_khả_thi': 870, 'hỗ_trợ': 3730, 'vợ_chồng': 10387, 'trộm': 9279, 'thầu': 8489, 'đa_tài': 10910, 'giảng_viên': 2950, 'phó': 6885, 'buôn_lậu': 518, 'cách_ly': 1867, 'sát': 7743, 'lọc': 4958, 'trăng': 9083, 'los_angeles': 4511, 'tân_long': 9481, 'lưới': 4831, 'chu_cấp': 1311, 'đơn_vị': 11237, 'thanh_xuân': 8077, 'trương_văn_lâm': 9109, 'thôn': 8331, 'tay_chơi': 8008, 'đau_khổ': 10920, 'lễ': 4941, 'buồn': 525, 'top': 8864, 'bọc': 1005, 'triền_miên': 8922, 'thương': 8398, 'tuy_phước': 9339, 'phạm_văn_rạng': 6985, 'lóng_ngóng': 4741, 'dở': 2681, 'ôn': 10849, 'boong': 497, 'kwon_sang_woo': 4259, 'tiếp_nhận': 8777, 'liệt_kê': 4475, 'trần_cảnh_đến': 9173, 'nước_hoa': 6551, 'bộ_đồ': 1065, 'báo_chí': 617, 'vây_hãm': 10115, 'tài': 9397, 'tối_trời': 9817, 'hảo': 3597, 'phúc': 6927, 'ban_ngày': 390, 'chờ_đợi': 1689, 'trần_thị_mai': 9200, '1968': 89, 'nam_nữ': 5613, 'xinh': 10479, 'vũng': 10258, 'dẫn_chương_trình': 2621, 'phổ_ninh': 7050, 'cứu': 2316, 'xhh': 10473, 'lem_luốc': 4412, 'gật': 3092, 'nhốn_nháo': 6372, 'dè_chừng': 2525, 'đồng_thời': 11570, 'thanh_minh': 8064, 'quê_hương': 7210, 'lãnh_đạo': 4657, 'thế_là': 8539, 'giao_tiếp': 2850, 'tài_năng': 9404, 'mạ': 5378, 'trợ_giúp': 9299, 'phì_phò': 6867, 'rùng_mình': 7431, 'khỏe_mạnh': 4121, 'đăm_chiêu': 11222, 'hoàng_hôn': 3289, 'thoải_mái': 8163, '19': 52, '60': 223, 'cảm_giác': 2127, 'cuộc_đời': 1833, 'chênh_lệch': 1433, 'ban_đầu': 393, 'phương': 6936, 'chủ_nhật': 1713, 'nghĩa_trang': 5699, 'vay': 10008, 'rợn': 7543, 'mẫu': 5417, 'tuôn': 9370, 'tỏ': 9799, 'thân': 8276, 'thơm': 8386, 'pleiku': 7082, 'qui_trình': 7135, 'rạng': 7468, 'thông_số': 8342, '350': 175, 'đòi_hỏi': 11155, 'đàn': 11058, 'cảm_nghĩ': 2129, 'nông': 6506, 'phương_trâm': 6944, 'kim_soong_soo': 4173, 'jitti_damriram': 3853, 'hầm': 3603, 'tuyên_bố': 9344, 'ngần_ngại': 6029, 'quả_tình': 7242, 'rạ': 7461, 'ước_tính': 11698, 'phong': 6781, 'trống': 9267, 'luật': 4553, 'truy_tặng': 8975, 'dùng': 2548, 'cứu_thương': 2323, 'võ_sư': 10187, 'thua': 8183, 'nghinh': 5657, 'nói_tức': 6490, 'mánh_lới': 5234, 'che_chắn': 1224, 'đỗ': 11588, 'tham_gia': 8047, 'chồng_chất': 1676, 'gò_vấp': 3051, 'phép': 6859, 'bơ': 772, 'thọ': 8576, 'chỉ_điểm': 1642, 'nóng_vội': 6500, 'cuốn_hút': 1820, 'nguồn': 5913, 'mỏi': 5490, 'quân_cụ': 7189, 'dự_kiến': 2705, 'giải_tỏa': 2942, 'bão_bùng': 640, 'cổ_kính': 2261, 'nến': 6607, 'thương_hiệu': 8402, 'kế_hoạch': 4315, 'dj': 2423, 'sài_thành': 7715, 'pc17': 6722, 'xứ': 10700, 'batam': 413, 'thở': 8620, 'trắc_trở': 9231, 'ngôn': 5972, 'ngược': 6013, 'nghẹn_ngào': 5703, 'thanh_đa': 8078, 'im_ỉm': 3823, 'lính': 4722, 'tứ_phía': 9904, '198': 101, 'xoay': 10494, 'gầy_ốm': 3090, 'kỳ_dị': 4347, 'quà': 7164, 'tối_kỵ': 9809, 'vòi_nước': 10135, 'sẵn_sàng': 7881, 'cánh_tay': 1888, 'mông_lung': 5322, 'đón_nhận': 11165, 'đoan_chắc': 11017, 'xếp_hàng': 10684, 'phó_thác': 6890, 'rơm_rớm': 7449, 'giận': 2965, 'form': 2743, 'lừng_lẫy': 5048, 'biển_cả': 467, 'miếng': 5160, 'cánh': 1885, 'hộp': 3760, 'hình_dung': 3465, 'lấn_át': 4871, 'chứng_kiến': 1734, 'bạc': 791, 'thẳng_thắn': 8527, 'tommy': 8862, 'hoàng_kim': 3293, 'thanh_tra': 8074, 'sắp_đặt': 7877, 'trộm_cắp': 9280, 'tổng_cuộc': 9850, 'ân_hận': 10816, 'hẳn_hoi': 3631, 'lăn': 4787, 'phơi': 6934, 'vòng_quanh': 10140, 'liến_thoắng': 4466, 'trình_bày': 9031, 'gió_lốc': 2911, 'can_đảm': 1132, 'phèn_chua': 6858, 'phim_nhựa': 6766, 'hiên': 3188, 'lờ_mờ': 5001, 'phóng_viên': 6898, 'chóp': 1472, 'khung_thành': 3957, 'dựng': 2712, 'mong': 5179, 'lăngxê': 4792, 'vì_thế': 10127, 'sắc_sảo': 7868, 'đĩa': 11227, 'thầy_giáo': 8492, 'xuôi': 10533, 'indonesia': 3829, 'núi_non': 6518, 'tư_nhân': 9636, 'sả': 7850, 'nghĩa': 5691, '07': 9, 'bằng_khen': 950, 'nằm_lòng': 6592, 'định': 11479, 'nối': 6623, 'chiến_đấu': 1287, 'lạnh': 4860, 'củng_cố': 2308, 'phim_ảnh': 6771, '1995': 117, 'quăng_quật': 7228, 'loét': 4519, 'tự_nhiên': 9948, 'nhu_cầu': 6144, 'tuần_tra': 9379, 'tiện': 8841, 'soạn_thảo': 7676, 'chữ_ký': 1749, 'noel_choong': 6419, 'chìm_nổi': 1438, 'thi_công': 8096, 'trước_tiên': 9117, 'đồng_hới': 11553, 'mặt_trận': 5453, 'gạch': 3072, 'dàn_xếp': 2477, 'chia_tay': 1251, 'xiêm_áo': 10483, 'nhà_máy': 6162, 'thằng': 8520, 'tạm_trú': 9684, 'châu_á': 1419, 'trị_giá': 9248, 'đua': 11035, 'bụi': 1081, 'trăn_trối': 9081, 'hội_thảo': 3753, 'súng_đạn': 7798, 'xét_nghiệm': 10591, 'sành_điệu': 7721, 'nài': 6440, 'thừa_nhận': 8680, 'thượng_đài': 8432, 'qua_đời': 7095, 'kiều_nữ': 4220, 'hiểu_biết': 3215, 'chức': 1725, 'đàng_hoàng': 11064, 'đề': 11439, 'hề': 3647, 'vạn': 10278, 'đạp': 11312, '24': 149, 'xoong': 10499, 'chiêu': 1264, 'khẳng_định': 4113, 'o2': 6692, 'lái_xe': 4622, 'hẫng': 3611, '700': 237, 'vợ': 10385, 'sin': 7625, 'vươn': 10262, 'mai_văn_chất': 5085, 'mờ_nhạt': 5552, 'hẻm': 3636, 'tiệc': 8838, 'chế': 1621, 'hoàn_chỉnh': 3274, 'phủ': 7074, 'bí_mật': 693, 'bi': 428, 'năm_tiền': 6534, 'lỗi': 4976, 'khát_vọng': 4014, 'quần_áo': 7272, 'cừ': 2325, 'tài_chính': 9399, 'đỏ_lửa': 11499, 'nguyễn_khắc_dũng': 5796, 'đài_nước': 11049, 'khánh_hoà': 4004, 'phát_động': 6840, 'thuốc_bắc': 8209, 'quốc_dũng': 7290, 'ép': 10823, 'lạ_mặt': 4849, 'ít_nhất': 10837, 'bạn_bè': 808, 'thời_điểm': 8618, 'dung': 2454, 'tất_tả': 9712, 'trọng_điểm': 9262, 'nam_chinh_bắc_chiến': 5605, 'trầm_tĩnh': 9166, 'que': 7122, 'trên_dưới': 9028, 'thông_qua': 8341, 'bình_điền': 688, 'trần_oanh': 9184, 'mất_sức': 5405, 'diễn_biến': 2412, 'kỳ_vĩ': 4355, 'đồng_chí': 11548, 'đám_tang': 11081, 'bốc_vác': 1031, 'hè': 3450, 'đối_xử': 11520, 'dịch_vụ': 2656, 'phút': 6930, 'đạn': 11308, 'mộng_châu': 5523, 'áo_lót': 10792, 'tự_do': 9943, 'bangkok': 395, 'bí_danh': 692, '00': 0, 'ý_thức': 10880, 'mật_báo': 5424, 'quản_gia': 7245, 'tặng': 9759, 'tổng_hành_dinh': 9856, 'đại_gia': 11286, 'bom_đạn': 494, 'sổ_sách': 7911, 'hà_nội': 3382, 'té_ngửa': 9502, 'tuổi_trẻ': 9389, 'nhạc': 6274, 'tậu': 9751, 'tân_phú': 9484, 'hằng_nga': 3629, 'căn_bản': 2034, 'ghê': 2792, 'phú_khánh': 6914, 'ksor_h': 4252, 'mơi': 5352, 'sửa_chữa': 7953, 'xưng_hô': 10653, 'phố': 7038, 'cgv': 1198, 'quả_tang': 7240, 'rứa': 7553, 'cạn': 2112, '1897': 49, 'nhơn_hòa': 6255, 'sophie': 7670, 'khí_hậu': 4030, 'yên_ổn': 10742, 'tám': 9447, 'dép': 2527, 'phết': 7032, 'công_suất': 1994, 'bít_bùng': 699, 'thơ': 8385, 'bình_định': 690, 'tĩnh_gia': 9621, 'thương_mại': 8405, 'đại_diện': 11283, 'ăn_chơi': 10887, 'thang': 8056, 'vững': 10403, 'biết_mấy': 461, 'trị': 9247, 'trụ_sở': 9304, 'mất_mạng': 5403, 'ghiền': 2785, 'gắng': 3098, 'kaki': 3867, 'minh_hương': 5146, 'đằng': 11400, 'bộ_não': 1060, 'hà_chư_va': 3378, 'khỏa': 4116, 'nguyễn_đình_chiểu': 5900, 'phang': 6747, 'phản_ứng': 7001, 'âm_thanh': 10810, 'khê': 4026, 'biểu_diễn': 470, 'quanh_quẩn': 7116, 'vá': 10103, 'kiểm_dịch': 4224, 'tiếp_sức': 8780, 'hí_hoáy': 3476, 'chứa': 1723, 'lở': 5008, 'bạch_đàn': 801, 'dừa': 2695, 'anh_văn': 334, 'xanh_rờn': 10439, 'sáu': 7747, 'mẫu_giáo': 5418, 'liên_doanh': 4443, 'câu_thơ': 1909, 'công_lao': 1983, 'lệ': 4945, 'võng': 10201, 'tang_ma': 7997, 'mã_số': 5264, 'phần_nào': 7017, 'võ_văn_kiệt': 10196, 'ông_già': 10857, 'đồn': 11538, 'tháo_dỡ': 8266, 'sền_sệt': 7888, 'cốm': 2249, 'ngấm': 6023, 'dudt': 2451, 'trỗi': 9277, 'thuần': 8201, 'giỏi': 2984, 'lê_ngọc_cung': 4675, 'đạo': 11309, 'ôn_luyện': 10850, 'chính_trị': 1458, 'tiệp_khắc': 8845, 'đích_thực': 11148, 'vũ_đạo': 10257, 'trình_diễn': 9034, 'bất_ly_thân': 874, 'đơn_độc': 11238, 'xả': 10664, 'ngót': 5963, 'như_vầy': 6265, 'xuất_thân': 10547, 'xóm_củi': 10615, 'võ_văn_thành': 10198, 'lặng_yên': 4924, 'tiến_hành': 8760, 'phước_thuận': 6949, 'thông': 8333, 'tất_nhiên': 9710, 'quốc_lộ': 7293, 'đánh_cược': 11092, 'đổi': 11584, 'tỉnh_ủy': 9796, 'động_đất': 11635, 'bất_diệt': 865, 'tình_cảm': 9515, 'đấu_sĩ': 11338, 'đánh_giá': 11095, 'chậm': 1582, 'sốt_ruột': 7908, '32': 167, 'cất_tiếng': 2170, 'heo': 3171, 'múa': 5337, 'hoàn_cảnh': 3275, 'có_lẽ_nào': 1941, 'lan_truyền': 4388, 'biên_chế': 444, 'thâm_niên': 8272, 'mg': 5134, 'tượng': 9672, 'hiền': 3200, 'đảo_ngũ': 11322, 'franchi': 2744, 'giá_cả': 2875, 'trang_trọng': 8901, 'kilômet': 4156, 'trẻ_trung': 9244, 'nhẹ_nhàng': 6346, 'số_âm': 7899, 'mẫu_mã': 5419, 'môi_giới': 5314, 'quen_biết': 7124, 'hôn': 3514, 'khả_thi': 4087, 'lợi_nhuận': 5017, 'thắt': 8516, 'đội_trưởng': 11622, 'kho': 3921, 'thỏa_hiệp': 8582, 'trảng_bàng': 9154, 'nước_biển': 6549, 'nguyễn_văn_thạc': 5889, 'khâm_liệm': 4016, 'thất_thập_cổ_lai_hi': 8470, 'nờ': 6671, 'phẩm': 7021, 'tim': 8711, 'dương_quang_ba': 2575, 'củn': 2307, 'túi': 9599, 'xâm_nhập': 10573, 'biệt_danh': 476, 'quảng_nam': 7253, 'nv': 6439, 'gạc': 3071, 'hoa_quả': 3248, 'nắng': 6586, '17': 41, 'cống_quỳnh': 2253, 'tờ': 9877, 'nhà_lồng': 6161, 'khán_giả': 3994, 'ái_mộ': 10772, 'nòng_cốt': 6474, 'an_lư': 307, 'poster': 7084, 'chôn': 1477, 'quầy': 7273, 'nhân_dân': 6208, '2002': 128, 'nấu_ăn': 6580, 'thế_hệ': 8537, 'bấy_nhiêu': 893, 'ca_sĩ': 1113, 'lụ_khụ': 5022, '1990': 112, 'bơi': 775, 'bị_thương': 999, 'bám': 594, 'kết_thúc': 4328, 'xét_hỏi': 10590, 'tam_lang': 7986, 'du_kích': 2446, 'mới_đây': 5546, 'ú_ớ': 10866, 'giao_du': 2840, 'rượu': 7458, 'dòng': 2539, 'sinh_mệnh': 7635, 'làm_phiền': 4581, 'chuộc': 1363, 'đtqg': 11033, 'khiêng': 3909, 'phản_đối': 7000, 'cháy_cạnh': 1395, 'nghi_xuân': 5655, 'bêtông': 660, 'đóng_góp': 11171, 'tục': 9884, 'đặt_cược': 11425, 'đại_dương': 11284, 'nắng_nóng': 6589, 'nhà_thi_đấu': 6174, 'bất': 858, 'ưa_chuộng': 11679, 'phun': 6799, 'học_trò': 3669, 'ào': 10760, 'hoàng': 3283, 'doanh_nghiệp': 2430, 'công_bố': 1975, 'mổ': 5511, 'người_yêu': 6008, 'khô_khỏng': 4052, 'mai_thanh_liêm': 5084, 'rước': 7452, 'bập_bềnh': 915, 'chất': 1569, 'đấm_đá': 11327, 'lò_mổ': 4728, 'luật_chơi': 4554, 'lý': 4767, 'ốm': 11749, 'toát': 8880, 'trang_trại': 8899, 'tộc': 9865, 'lái': 4620, 'điệu_đàng': 11012, 'hành_lang': 3416, 'giáp': 2896, 'tiêu_pha': 8752, 'thanh': 8058, 'mỹ_an': 5583, 'hoàng_bích_diêu': 3285, 'cay_cực': 1190, 'eo': 2729, 'rouget': 7357, 'nheo': 6119, 'balô': 385, 'nnptnt': 6416, 'tê_liệt': 9504, 'bài_học': 554, 'ôi': 10845, 'đêm_ngày': 11139, 'ví': 10129, 'lập_dị': 4898, 'ráo': 7394, 'đụng': 11653, '830': 254, 'cửa_vạn': 2342, 'vợt': 10390, 'bổ_ích': 1049, 'khoa_học': 3923, 'cụm': 2298, 'jrai': 3860, 'nick_út': 6401, 'núi_đôi': 6521, 'tâm': 9459, 'môn': 5317, 'tuấn': 9373, 'ký_ức': 4304, 'nhục': 6390, 'thấm': 8456, 'tái': 9438, 'cứng': 2310, 'run': 7361, 'paven': 6720, 'iv': 3844, 'bấu_víu': 888, 'nhà_thầu': 6177, 'chan_chát': 1210, 'ghẻ': 2800, 'sản_phẩm': 7853, 'tràn_trề': 8998, 'sơ_ý': 7821, 'quảng_trị': 7256, 'thóc': 8321, 'vận_động': 10307, 'xuân': 10520, 'cuộc_chơi': 1830, 'phòng_thành': 6881, 'cành': 1845, 'phù_lãng': 6906, 'du_khách': 2445, 'thường_xuyên': 8421, 'dần_dà': 2615, 'mô': 5309, '1964': 85, 'dự_toán': 2707, 'tân_thạnh_đông': 9488, 'vô_vàn': 10167, 'thiêng_liêng': 8118, 'mộc': 5517, 'bình_luận': 673, 'nguy_hiểm': 5764, 'nâu': 6457, 'tiểu_liên': 8825, 'thản_nhiên': 8449, 'sân_cá': 7753, 'họp': 3676, 'kể_cả': 4334, 'đau_thương': 10924, 'thấm_thoát': 8457, 'galang': 2756, 'khói': 4047, 'phi_vụ': 6761, 'lưu_trú': 4818, 'túi_xách': 9601, 'co_quắp': 1771, 'chút': 1501, 'chư_prông': 1525, 'bàn_thờ': 573, 'cháo': 1389, 'nghìn': 5685, 'sét': 7767, 'giáp_bát': 2897, 'đại_tiệp': 11298, 'xỉn': 10688, 'huyền_vũ': 3343, 'ngay_lập_tức': 5640, 'hợp': 3774, 'chốn': 1667, 'cháy': 1393, 'xét_duyệt': 10589, 'giáo_viên': 2895, 'xin_lỗi': 10477, 'thuý': 8200, 'võ_sĩ': 10186, 'đường_ống': 11273, 'thạo': 8441, 'bấy_giờ': 890, 'khúc_khích': 4076, 'đỏ_bừng': 11494, 'pêđê': 7090, 'chật': 1589, 'huyệt': 3347, 'điện_áp': 11005, 'tiền_lương': 8806, 'bản_thân': 824, 'dứt_khoát': 2693, 'chung_kết': 1324, 'ủy_ban': 11780, 'bình_dân': 669, 'thu': 8166, 'bản': 817, 'tô_quốc_nam': 9570, 'sức_khỏe': 7941, 'gốc': 3115, 'đấu_thầu': 11339, 'main': 5091, 'ngớ_ngẩn': 6079, 'cặp': 2230, 'trở_ngại': 9293, 'lượt_về': 4844, 'phụng_dưỡng': 7072, 'mini': 5156, 'ngắn_gọn': 6049, 'bồi': 1037, 'irri': 3843, 'dẹp': 2638, 'nghe_lỏm': 5645, 'cầu_thủ': 2199, 'ghi_chép': 2778, 'địa_hình': 11469, 'thế_kỷ': 8538, 'lẫy': 4892, 'đảng_viên': 11319, 'nguyễn_văn_quang': 5885, 'vận_chuyển': 10303, 'đồ_nghề': 11530, 'lấp': 4872, 'trò': 9043, 'dấu': 2604, '568': 216, 'tót': 9563, 'xuê_xoa': 10532, 'ernet_stefan': 2733, 'phạm_tội': 6977, 'trải': 9153, 'cơ_thể': 2066, 'long_an': 4502, 'jane_barton': 3846, 'trộn': 9281, 'tang_thương': 7998, 'thiếu_gia': 8133, 'mồ_côi': 5502, 'phừng_phừng': 7080, 'thẹn': 8529, 'quĩ': 7229, 'nhường': 6270, 'giấy_báo': 2957, 'hi_vọng': 3177, 'quần': 7263, 'tư_liệu': 9633, 'tụ_tập': 9882, 'giấy_dó': 2958, 'châu': 1414, 'quãng': 7203, 'trục': 9305, 'hào': 3427, 'hậu_quả': 3620, 'đài_truyền_hình': 11052, 'quấn': 7259, 'huy': 3332, 'dáng': 2487, 'người_nhà': 6004, 'gấp': 3076, 'có_mặt': 1943, 'dò': 2534, 'buôn_người': 520, 'cốc': 2247, 'chợ_mới': 1695, 'hà_lan': 3379, 'ô_rô': 10842, 'viễn_chinh': 10042, 'gói': 3056, 'nguyễn_thị_thía': 5844, 'tín_hiệu': 9543, 'thất_bại': 8462, 'nguyên': 5768, 'người_làm': 5999, 'trang_trí': 8898, 'căn_hộ': 2039, 'đũa': 11230, 'seap_games': 7608, 'trung_bình': 8944, 'quanh_năm': 7114, 'tinh': 8722, 'tài_liệu': 9402, 'bóng_tối': 716, 'sống_sót': 7905, 'tb': 8020, 'trấn': 9155, 'mái': 5229, 'kỷ_lục': 4359, 'xã_hội': 10581, 'nữ_hoàng': 6686, 'đụng_chạm': 11654, 'thành_tích': 8242, 'ruốc': 7369, 'lai_rai': 4381, 'yêu_thương': 10749, 'mươi': 5361, 'vàng_son': 10096, 'nói_tục': 6489, 'cố_gắng': 2241, 'say_mèm': 7598, 'loãng': 4518, 'sợi': 7929, 'bọ_cạp': 1003, 'tô': 9564, 'phong_trào': 6792, 'dấu_hiệu': 2606, 'hiệu_số': 3233, 'tiền_thân': 8812, 'to_bè': 8851, 'sửa_đổi': 7956, '99': 270, 'nấu': 6578, '1099': 17, 'toàn_thể': 8876, 'tiếp_viên': 8786, 'ra_sức': 7314, 'bà_cụ': 545, 'điểm_mặt_chỉ_tên': 10992, 'chiến_khu': 1277, 'đuổi': 11041, 'khuyến_học': 3965, 'viện_dẫn': 10050, 'kè': 4261, 'chia_sẻ': 1250, 'hàng_rào': 3408, 'nguồn_gốc': 5915, 'vật': 10309, 'kiểm_toán': 4226, 'hạnh': 3578, 'đỉnh_cao': 11461, 'toàn_phần': 8873, 'võ_văn_ni': 10197, 'nhận_lời': 6312, 'khuyến_cáo': 3964, 'hiền_lành': 3202, 'phản': 6996, 'fifan': 2740, 'tình_nguyện': 9524, 'đài_bắc': 11046, 'đan_xen': 10914, 'mira': 5157, 'hiền_hòa': 3201, 'butterfly': 515, 'thành_lập': 8232, 'lê_bửu': 4666, 'hỏi_thăm': 3686, 'tốt_bụng': 9828, 'thể_dục': 8552, 'quyết_thắng': 7153, 'hội': 3741, 'xuân_lộc': 10526, 'tân_mỹ': 9482, 'bánh_đa': 615, 'khéo': 4019, 'đón_chào': 11164, 'cầu_thang': 2198, 'hiệp_huỳnh': 3227, 'đãi_ngộ': 11124, 'vâng': 10113, 'nguyễn_bá_trí': 5783, 'thiệt_hại': 8143, 'đã_đành': 11121, 'ngô': 5965, 'khẩu_hiệu': 4102, 'xương_chậu': 10656, 'đói': 11158, 'bích': 697, 'chiêu_thức': 1267, 'nước_ngọt': 6559, 'tòa_án': 9557, 'diễn_viên': 2415, 'ám_ảnh': 10778, 'ven': 10012, 'quảng_ngãi': 7254, '43': 193, 'carô': 1179, 'thức': 8675, 'nghen': 5648, 'đội_hình': 11618, 'cơ': 2048, 'nạn': 6567, 'cười_chê': 2095, 'cha_con': 1201, 'nếu_như': 6610, 'vẻ': 10335, 'bỏ_phiếu': 1017, 'tân_bình': 9475, 'triết_lý': 8920, 'lóng': 4739, 'mỡ': 5565, 'duân': 2469, 'hèn_chi': 3453, 'trinh_trắng': 8918, 'đồng_phục': 11564, 'lơ_đãng': 4805, 'vọt': 10360, 'khắp_nơi': 4111, 'thể_công': 8551, 'mướt': 5363, 'phan_rí': 6735, 'tẹt': 9763, 'xây_xát': 10579, 'phù_cát': 6902, 'bất_lực': 876, 'vội': 10369, 'rảnh': 7474, 'giấy_tờ': 2962, 'tiếng_nói': 8768, 'hưởng': 3565, 'huy_hiệu': 3334, 'tiện_nghi': 8843, 'hành': 3412, 'tả': 9693, 'hồng_sáp': 3723, 'tình_huống': 9519, 'đáp': 11108, 'thi_thoảng': 8100, 'kncn': 4243, 'chuyển_nhượng': 1349, 'cung': 1810, 'tem': 8030, 'giúp_ích': 2919, 'đông_tây': 11203, 'rậm_rạp': 7487, 'mát_tay': 5238, 'cm': 1768, 'xoắn': 10506, 'dự_định': 2710, 'sòng_phẳng': 7772, 'luôn_luôn': 4548, 'tề_chỉnh': 9775, 'đánh_bạo': 11089, 'thắng_lợi': 8514, 'chiếu_bóng': 1290, 'vận_động_viên': 10308, 'lọt_thỏm': 4962, 'vạt': 10283, 'ập': 11737, 'vắng': 10325, 'chậm_rãi': 1584, 'đào_tạo': 11073, 'vĩnh_hưng': 10235, 'tháo_gỡ': 8267, 'đội_sổ': 11621, 'bất_hạnh': 867, 'tư_thành': 9638, 'hòn': 3493, 'gạo': 3074, 'hoàn_thiện': 3279, 'quyển': 7162, 'nợ_nần': 6676, 'trực_chỉ': 9316, 'bạc_nghĩa': 794, 'khoang': 3930, 'tín_nhiệm': 9544, 'công_trường': 2000, 'lê_văn_tiết': 4699, 'hiệp_hội': 3228, 'bệ': 983, 'thương_vụ': 8412, 'võ_anh': 10176, 'thốt': 8593, 'trọn': 9252, 'ký_giả': 4297, 'ngoại_ngữ': 5747, 'phần_lớn': 7013, 'danh_sách': 2377, 'vượt_biên': 10272, 'gấp_bội': 3077, 'lý_văn_sua': 4785, 'mặt_trời': 5454, 'phụ_nữ': 7061, 'thu_mua': 8176, '672': 233, 'chẻ': 1619, 'hiền_lương': 3203, 'bạch_đằng': 802, 'cao_hùng': 1149, 'hữu_ý': 3805, 'ngóng': 5962, 'nhà_mồ': 6163, 'hội_đồng_quản_trị': 3759, 'vô_tội': 10166, 'chẳng_lẽ': 1608, 'máy_phát_điện': 5251, 'ác': 10764, 'khối': 4124, 'ước': 11691, 'dân_trí': 2505, 'đầm_dơi': 11346, 'tội_nghiệp': 9868, 'trời_đất': 9287, 'đẹp_đẽ': 11431, 'jittigym': 3854, 'frederic_whitehurst': 2749, 'danh': 2371, 'chăn': 1512, 'nhà_bè': 6152, 'cự_phách': 2346, 'phục_vụ': 7069, 'đầy_đủ': 11372, 'thay_thế': 8085, 'tốt_đẹp': 9832, 'đông_phương_sóc': 11199, 'rọi': 7505, 'dream_thái': 2442, 'trấn_tĩnh': 9159, 'tiếc': 8756, 'rộng_lớn': 7530, 'trần_văn_tấn': 9218, 'lẩm_nhẩm': 4888, 'nhỏ_xíu': 6371, 'vặt': 10334, 'dầu': 2617, 'khoản': 3944, 'cánh_gà': 1886, 'đài_phát_thanh': 11050, 'giấu': 2955, 'lan_can': 4386, 'nghiệp_dĩ': 5676, 'phức_hợp': 7078, 'thiết': 8125, 'tay_đua': 8019, 'cưa': 2080, 'an_tâm': 319, 'rờmi_huỳnh': 7541, 'lụt': 5034, 'cốt': 2254, 'giải_thoát': 2938, 'nuôi_dưỡng': 6434, 'trêu': 9029, 'vespa': 10016, 'vòi': 10134, 'mơ_hồ': 5347, 'giám_sát': 2884, 'nhăn_nhúm': 6252, 'bày_tỏ': 585, 'nguyền': 5779, 'khuôn_viên': 3972, 'thảm': 8444, 'đòn': 11156, 'võ_hồng_sơn': 10181, 'cpc': 1802, 'đáy': 11111, 'lắc_lư': 4906, '1959': 80, 'gia_định': 2819, 'khâm_phục': 4017, 'tập_thể': 9741, 'ngưỡng': 6011, 'trắng_tay': 9235, 'sớm': 7916, 'trét': 9026, 'buốt': 523, 'lan': 4385, 'kỷ_luật': 4358, 'trớn': 9284, 'gườm_gườm': 3069, 'tạp_hóa': 9691, 'vụ_việc': 10392, 'latt_mint': 4400, 'tiểu_đội': 8833, 'lăn_lóc': 4788, 'bắc_á': 927, 'đón_tiếp': 11166, 'tàu_chiến': 9423, 'lòi': 4732, 'dồn': 2674, 'linh_trung': 4433, 'mở_mắt': 5561, 'chức_năng': 1726, 'bền': 979, 'thực_phẩm': 8695, 'thôi_thôi': 8329, 'chuyên_ngành': 1337, 'canh_me': 1140, 'quả': 7234, 'phổ_biến': 7045, 'quy_luật': 7143, 'thông_thoáng': 8343, 'dành_dụm': 2479, 'năm_ngoái': 6530, 'quân': 7186, 'chủ_động': 1720, 'tổng_tấn_công': 9864, 'chdcnd': 1222, 'ra_sao': 7313, 'bạn_đọc': 811, 'mong_manh': 5181, '23': 146, 'tiểu_thương': 8828, 'vô_cảm': 10148, 'tiền_vệ': 8816, 'gia_cảnh': 2808, 'bàng_hoàng': 579, 'cổ': 2258, 'rào': 7382, 'a_dỉn': 274, 'cố_ý': 2245, 'chao_ôi': 1215, 'sập': 7866, 'già_dặn': 2858, 'tân_châu': 9476, 'đội_tuyển': 11623, 'đẩy_mạnh': 11375, 'phôi_pha': 6900, 'cj': 1759, 'ngước': 5995, 'ống_phóng': 11754, 'lũ_lụt': 4798, 'giở': 2998, 'xiên': 10484, 'gào_thét': 3024, 'phan_văn_khải': 6742, '18': 45, 'thau': 8083, 'tối_thiểu': 9816, 'thiếu_nữ': 8136, 'môtơ': 5327, 'ogimura': 6701, 'bài_trí': 558, 'wmc': 10421, 'baghdad': 383, 'đường_đệ': 11271, 'tổ_quốc': 9840, 'dự_bị': 2704, 'quy_định': 7145, 'nuối_tiếc': 6437, 'vđv': 10230, 'ở_truồng': 11772, 'trợ_lực': 9301, 'xăn': 10642, 'đau_ốm': 10928, 'tủy_sống': 9901, 'đỗ_đạt': 11598, 'thông_dịch_viên': 8337, 'tăm_tích': 9612, 'điều_động': 10989, 'lau': 4401, 'sức_lao_động': 7943, 'mai_xuân_hằng': 5088, 'thân_sinh': 8284, 'lạnh_lẽo': 4862, 'đèo': 11133, 'xuất_ngũ': 10541, 'kenny_style': 3881, 'liệu': 4477, 'y_tế': 10718, 'sự_việc': 7966, 'cưỡng': 2109, 'trẻ_măng': 9243, 'trung_cấp': 8946, 'mài': 5212, 'êkip': 10825, 'tà_cạ': 9395, 'hđnd': 3529, 'pháp_luật': 6820, 'thủy_nguyên': 8662, 'siêu': 7648, 'thành_thạo': 8239, 'chào_mừng': 1378, 'gỡ': 3127, 'chua_chát': 1316, 'làn': 4596, 'lòng_vòng': 4734, 'chừ': 1740, 'ly': 4564, 'vip': 10035, 'nhà_khoa_học': 6159, 'cave': 1186, 'tây_ninh': 9497, 'nội': 6654, 'phóng': 6894, 'khiếm_thị': 3914, 'lạy': 4865, 'phan': 6733, 'may_mắn': 5120, 'lo_sợ': 4487, 'quần_vợt': 7271, 'lũn_cũn': 4800, 'khoác': 3936, 'ba_tháng_hai': 375, 'ngồi_bệt': 6071, 'nhân_công': 6207, 'mồ': 5501, 'bây_chừ': 631, 'giai_đoạn': 2822, 'ưu_tú': 11685, 'đúc': 11215, 'tàn_sát': 9418, 'hồi_hộp': 3708, 'xuất_cảnh': 10537, 'kẻ_thù': 4309, 'đỡ': 11648, 'cơ_cực': 2053, 'phi_công': 6754, 'tnxp': 8849, 'nhân_lực': 6213, 'đầu_mối': 11356, 'lê_đình_an': 4704, 'cẩu': 2208, 'thỉnh_thoảng': 8561, 'mồ_hôi_nước_mắt': 5504, 'tầm_thường': 9718, 'đầy_ắp': 11373, 'say_sưa': 7600, 'dựa': 2711, '1979': 100, 'quân_dụng': 7191, 'cộng_hòa': 2278, 'sâu_sắc': 7764, 'lạnh_lùng': 4861, 'thức_ăn': 8676, 'sợ_hãi': 7927, 'công_sức': 1995, 'mỏng': 5493, 'phăng': 6932, '1952': 74, 'bắt_đầu_từ': 946, '62': 228, 'dần_dần': 2616, 'thcs': 8088, 'nụ': 6677, 'hung_hãn': 3330, 'mầm': 5413, 'âu_yếm': 10821, 'giàn': 2865, 'nhỏ_bé': 6363, 'charles_de_gaulle': 1217, 'phẳng_phiu': 7030, 'cameraman': 1128, 'vinh_dự': 10031, 'hộ_khẩu': 3736, 'tân_xuân': 9491, 'bếp': 971, 'cá_nhân': 1858, 'mới_đầu': 5548, 'dư_dả': 2562, 'trái_xoan': 9015, 'cúp': 2028, 'kim_hyun_joo': 4165, 'hoàn_lương': 3278, 'vỉ': 10347, 'bơm': 777, 'bực': 1100, 'ăn_ở': 10903, 'khai': 3886, 'đánh_hơi': 11097, 'hỏa_táng': 3682, '222': 142, 'lý_hòa': 4774, 'bình_lặng': 674, 'ya_ly': 10720, 'sóng': 7775, 'hình_như': 3468, 'nhà_bếp': 6153, 'hộp_thư': 3761, 'người_đời': 6010, 'con_bé': 1779, 'cơ_quan_chức_năng': 2062, 'cống_hiến': 2251, 'nguội_lạnh': 5917, 'thắm_thiết': 8512, 'mặt_hàng': 5448, 'bất_kể': 872, 'cửa_hàng': 2332, 'trao': 8909, 'chưa_thể': 1528, 'tích_cực': 9539, 'bề_bộn': 975, 'cao_hứng': 1151, 'nhưng_mà': 6269, 'tai_nạn': 7979, 'gian_khổ': 2830, 'dương_thanh_hải': 2576, 'ngỏ': 6067, 'xông': 10630, 'cuộn': 1834, 'đông_đủ': 11210, 'phá_sản': 6805, '587': 222, 'định_tân': 11487, 'cát_nhơn': 1898, 'tới_bến': 9875, 'lan_hương': 4387, 'căng': 2040, 'cảm_xúc': 2137, 'cao_siêu': 1159, 'lắp_đặt': 4914, 'lời_tựa': 5006, 'dột_nát': 2678, 'kte': 4254, 'hóa_đơn': 3502, 'tuyên_bình': 9343, 'sáo': 7741, 'kiện': 4237, 'bĩu': 771, 'mưa_dầm': 5355, '1992': 114, 'phương_thuốc': 6940, 'hansinco': 3153, 'phiếu': 6775, 'tuệ_tâm': 9381, 'địch': 11477, 'dấu_vết': 2609, 'thuận_sơn': 8205, 'luyện': 4544, 'cưới': 2089, '168': 39, 'đờ_đẫn': 11641, 'dongyang': 2435, 'vật_dụng': 10311, 'sâu_xa': 7765, 'phạm_văn_chi': 6980, 'trùm_chăn': 9064, 'nhói': 6242, 'yangsuri': 10723, 'cựu_chiến_binh': 2357, 'ngày_trước': 5932, 'băng': 763, 'ma_quái': 5069, 'pháp_lý': 6821, 'lủng_lẳng': 5041, 'biết_tay': 462, 'ai_nấy': 289, 'trườn': 9119, 'tương_đối': 9657, 'ngoại_lực': 5746, 'chấm_dứt': 1558, 'giật': 2967, 'hiển': 3211, 'trọng_tài': 9257, 'nâng_cấp': 6455, 'canh_tác': 1141, 'xa_lạ': 10430, 'quan_sát': 7104, 'tiếng_động': 8771, 'lũy': 4801, 'kiên_cường': 4193, 'gánh_hát': 3034, 'năm_khương': 6529, 'bằng_cớ': 949, 'quân_đội': 7201, 'lồng_ngực': 4971, 'siêu_thị': 7651, 'ngón_cái': 5959, 'tràn_lan': 8996, 'ngụ': 6089, 'bầy': 905, 'lật': 4902, 'nháy_mắt': 6202, 'tinh_anh': 8723, 'công_viên': 2006, '900': 263, 'sony': 7669, 'phú_vang': 6923, 'ước_ao': 11692, 'mắng': 5433, 'vợ_bé': 10386, 'sinh_sống': 7639, 'bối_rối': 1034, 'xăm': 10641, 'đề_tài': 11444, 'tay_trong': 8013, '71': 238, '1930': 57, 'viện': 10048, 'kỳ_lạ': 4348, 'cộng': 2277, 'phản_ứng_hóa_học': 7002, 'thời_trang': 8616, 'đào_thục': 11072, 'nhoét_nhoe': 6141, 'hưởng_ứng': 3566, 'gai_ốc': 2755, 'điện_ảnh': 11006, 'bất_tử': 884, 'mẹ_cha': 5458, 'x_quang': 10427, 'nấm': 6576, 'mục_sở_thị': 5569, 'đánh_bạc': 11088, 'lộ_thiên': 4980, 'xương': 10655, 'yêu_mến': 10746, 'quấy_rầy': 7262, 'đau_đáu': 10926, 'dớp': 2679, 'tay_áo': 8018, 'huyền_thoại': 3342, 'vã': 10116, 'đoàn_huỳnh_long': 11022, 'âm_sắc': 10809, 'kinh': 4179, 'kệ': 4335, 'lỡ': 5011, 'trẻ_con': 9241, 'nguyên_thủy': 5774, 'hòn_tàu': 3494, 'càn_quét': 1843, 'giường': 2924, 'mạch': 5379, 'tống': 9824, '150': 33, 'lắng': 4909, 'bại_liệt': 804, 'nguyễn_văn_sơn': 5886, 'kính_trọng': 4294, 'kề': 4331, 'nguyễn_bình': 5784, 'mắc': 5429, 'hò': 3480, 'tỉ_lệ': 9781, 'mậu_thân': 5428, 'năng_động': 6541, 'vật_lộn': 10315, 'trả_giá': 9149, 'nhà_báo': 6151, 'rì_rầm': 7415, 'cạo': 2115, 'bạch_mai': 797, 'nuôi_nấng': 6435, 'xung_trận': 10516, 'sơ_đồ': 7822, 'đt': 11032, 'túc_cầu': 9596, 'chỉ_tiêu': 1640, 'cửa_khẩu': 2334, 'ma_lai': 5066, 'khai_trừ': 3892, 'dương_tính': 2577, 'cộng_đồng': 2281, 'bản_lĩnh': 820, 'lịch_sử': 4953, 'quí_giá': 7218, 'trưng_bày': 9096, 'lao_đao': 4396, 'hừ': 3797, '29': 159, 'ngừng_bắn': 6097, 'sắp_sửa': 7875, 'tiền_lệ': 8807, 'miệt_vườn': 5172, 'thoát_ly': 8156, 'nịt': 6619, 'dân_chơi': 2492, 'vật_chất': 10310, 'thảo_luận': 8453, 'hợp_tác': 3781, 'hứng_khởi': 3795, 'dân_tộc_thiểu_số': 2507, 'chiếm': 1270, 'xuất_bản': 10536, 'cccp': 1195, 'rà': 7376, 'điệp_vụ': 11008, 'mỹ_phẩm': 5590, 'mãi_mãi': 5268, 'liêu': 4463, 'tủi_cực': 9897, 'nhị_xuân': 6354, 'cáng': 1884, 'trích': 9042, 'biểu_dương': 471, 'xung_yếu': 10517, 'kỷ_niệm': 4360, 'sĩ_quan': 7809, 'louis_vuitton': 4512, 'đồng_hương': 11551, 'thanh_bình': 8059, 'xây_dựng': 10577, 'nong_tum': 6427, 'bình_tĩnh': 686, 'nhảy_cẫng': 6285, 'mù': 5328, 'arri': 342, 'cao_lêu_nghêu': 1153, 'chữ_nổi': 1751, 'khăng_khăng': 4080, 'hầm_hập': 3604, 'sinh_tồn': 7642, 'cảnh_tượng': 2151, 'đựng': 11675, 'kính': 4292, 'bột': 1069, 'bó_gối': 704, 'khai_thác': 3890, 'ngoan_hiền': 5730, 'kara_charles': 3870, 'tuổi_thơ': 9387, 'sea_games': 7606, 'áo_ấm': 10796, 'công_nghiệp': 1986, 'khát': 4011, 'trực_tiếp': 9318, 'lý_sự': 4779, 'phân': 6841, 'tròn_trịa': 9049, 'rui': 7360, 'thương_gia': 8401, 'taxi': 8005, 'cđ': 2043, 'khánh_hội': 4007, 'hưng_ninh': 3541, 'diện_tích': 2420, 'thông_đồng': 8348, 'hiệp': 3226, 'xe_tay': 10457, 'mất_tích': 5408, 'yàng': 10727, 'trạm_xá': 9145, 'bệnh_tật': 991, 'bựa': 1099, 'hiện_tại': 3223, 'tiếp_thu': 8782, 'tỉ_mỉ': 9784, 'mất_hồn': 5401, 'ký_sự': 4301, 'đẳng_cấp': 11402, 'ống': 11752, 'làm_chủ': 4571, 'download': 2438, 'rộng_mở': 7531, 'canada': 1133, 'phòng_thủ': 6883, 'ngẫm_nghĩ': 6033, 'ủng_hộ': 11779, 'mù_chữ': 5329, 'phụng': 7071, 'lượt': 4843, 'oai_oái': 6694, 'nước_sạch': 6563, 'kẽ': 4312, 'kêu_gọi': 4281, 'bình_phẩm': 678, 'bỏ_ngỏ': 1016, 'cách_chức': 1866, 'hcv': 3161, 'khóe': 4046, 'rầm_rầm': 7478, 'chung_quanh': 1325, 'h5n1': 3137, 'cửa_biển': 2330, 'dioxin': 2407, 'mặc_dù': 5441, 'to_tướng': 8856, 'phán': 6811, 'thân_yêu': 8292, 'bùi_thị_trầm': 744, 'chỉ_thị': 1639, 'nối_liền': 6625, 'anh_chị_em': 327, 'rượu_mạnh': 7460, 'tổ': 9836, 'sexy': 7616, 'cầu_ngang': 2195, 'chỉ_huy_trưởng': 1638, 'trình_độ': 9036, 'chuyên_án': 1340, 'da_diết': 2362, 'khiếp_vía': 3917, 'thu_nhận': 8177, 'tiết_thủy_sơn': 8795, 'tiếp_theo': 8781, 'lít': 4723, 'giục': 2999, 'rủng_rỉnh': 7552, 'ca_cẩm': 1107, '2007': 132, 'mò': 5296, 'quang': 7111, 'cháy_túi': 1396, 'sư_phạm': 7830, 'tâm_hồn': 9461, 'đơn_giản': 11232, 'hè_thu': 3451, 'máy_điện': 5255, 'đặt_hàng': 11427, 'nện': 6617, 'bình_minh': 675, 'đối_tượng': 11518, 'cẩn_thận': 2206, 'minh_oan': 5150, 'game': 2758, 'sâu_sát': 7763, 'gánh': 3033, 'khá_giả': 3978, 'vũ_bình': 10240, 'chơi_bời': 1518, 'thuyền_trưởng': 8196, 'cần_thiết': 2186, 'lái_thiêu': 4621, 'đắc_thắng': 11388, 'thí_điểm': 8312, '1976': 97, 'triết_học': 8919, 'âm_thầm': 10811, 'mặc_sức': 5443, 'nàng': 6443, 'bụng': 1083, 'nbc': 5626, 'thực_nghiệm': 8694, 'bã': 633, 'khẽ': 4114, '69': 235, 'bến_tre': 969, 'tổng_kết': 9858, 'chễm_chệ': 1634, 'đen_nhánh': 10938, 'an_ủi': 321, 'ngõ_ngách': 5976, 'sư_đoàn': 7833, 'tấn_công': 9704, 'khám': 3990, 'thứ_hai': 8669, 'chua_tiong_san': 1318, 'phở': 7053, 'ra_vào': 7316, 'nhắm': 6334, 'dọn_dẹp': 2666, 'cát': 1894, 'bịt': 1001, 'sang_trọng': 7586, '120': 22, 'nhí_nhảnh': 6236, 'đáp_ứng': 11110, 'nghèo_khó': 5683, 'chủ_nhiệm': 1711, 'thể_lực': 8555, 'nâng_niu': 6456, 'ngói': 5957, '2001': 127, 'cơ_bản': 2049, 'kịch_nghệ': 4338, 'cầm_nắm': 2178, 'bình': 664, 'tối_đa': 9820, 'tiêu_thụ': 8754, 'nhái_nhái': 6198, 'ecstasy': 2720, 'thủy_lợi': 8660, 'vần_vũ': 10294, 'lồng_lộng': 4970, 'lần_lượt': 4882, 'đắng': 11393, 'ý_tưởng': 10881, 'chuyên_nghiệp': 1336, 'đông_du': 11190, 'xét': 10588, 'ra_hồn': 7308, 'bé_nhỏ': 651, 'háo_danh': 3435, 'ban_giám_hiệu': 387, 'hơi': 3532, 'trách': 9006, 'braun_buffel': 505, 'phân_xưởng': 6856, 'rạp': 7471, 'kiêu_kỳ': 4206, 'quản_giáo': 7246, 'cha_mẹ': 1203, 'ghế': 2802, 'căn_dặn': 2038, 'phát': 6826, 'sào': 7722, 'trước_mắt': 9115, 'gấu': 3079, 'giang_bình': 2835, 'bạo': 812, 'bệnh_hoạn': 987, 'tham_quan': 8049, 'tỉ_mẩn': 9783, 'joo_wan_soo': 3858, 'nóng_hổi': 6496, 'gỉ': 3107, 'hành_nghề': 3419, 'dậy': 2628, 'anh_ấy': 335, 'niên_hạn': 6408, 'lập_nghiệp': 4899, 'kém_cạnh': 4266, 'tứ': 9902, 'ước_chừng': 11693, 'tỉ_số': 9785, 'tà_lài': 9396, 'đốp': 11525, 'nhặt': 6343, 'gác': 3025, 'sáng_choang': 7729, 'chính_sách': 1456, 'luận': 4550, 'vô_gia_cư': 10151, 'phướn': 6951, 'túm': 9602, 'biên_soạn': 448, 'đồng_tình': 11572, 'đức_phổ': 11663, 'đông_xuân': 11205, 'chết_đứng': 1633, 'gò_đống': 3052, 'ghìm': 2798, 'đương_kim': 11248, 'tg': 8034, 'nguyên_liệu': 5771, 'xấu_số': 10672, 'đỏ_lòm': 11498, 'nghỉ_phép': 5719, 'thiên_phước': 8112, 'huyện_lỵ': 3345, 'nghiêm_túc': 5662, 'vali': 10000, 'méo_mó': 5279, 'tiềm_năng': 8797, 'cách_điệu': 1873, 'rút_ruột': 7438, 'vách': 10106, 'gậy': 3095, 'hùm': 3517, 'đuối': 11040, 'buông_tha': 522, 'chùm': 1483, 'gian': 2827, 'công_luận': 1984, 'lông_lá': 4750, 'công_nhận': 1991, 'xa_cách': 10429, 'viện_phí': 10051, 'châu_phi': 1416, 'sói': 7774, 'shea': 7618, 'tổng_cục': 9853, 'chung_cư': 1323, 'vướng': 10267, 'xóa_bỏ': 10610, 'biết_đâu': 463, '18x26': 51, 'ba_trăm': 376, 'tài_trợ': 9407, 'kiến_giang': 4212, 'thpt': 8165, 'dại_dột': 2593, 'tiền_giang': 8803, 'rịt': 7503, 'tổng_số': 9861, 'thuyết_phục': 8192, 'phócmôn': 6893, 'mặt_đường': 5455, 'chăng': 1515, 'điển_trai': 10996, 'ran': 7319, 'làm_nên': 4580, 'lạ_lùng': 4847, 'nhỏ_dại': 6365, 'lâm_trường': 4634, 'bỏ_hoang': 1012, 'dứt_điểm': 2694, 'hà_bắc': 3377, 'ý_đồ': 10884, 'nhạc_viện': 6278, 'phổ_thông': 7051, 'đồng_kỵ': 11554, 'siết': 7653, 'ngày_đêm': 5934, 'đồng_nai': 11559, 'chân_thành': 1409, 'sống_mũi': 7904, 'nội_dung': 6658, 'bóng_mát': 715, 'thuận_tiện': 8206, 'đường_sá': 11264, 'đồi': 11536, 'áo_khoác': 10790, 'đứt': 11669, 'naltrexone': 5602, 'new_york': 5632, 'giáo_sư': 2893, 'hinh': 3180, 'ngứa_ngáy': 6095, 'ổn_định': 11764, 'mai_một': 5083, 'thu_gom': 8169, 'phiên_dịch': 6773, 'giấy_má': 2959, 'rã': 7400, 'đùi': 11212, 'tình_hình': 9520, 'cướp_biển': 2091, 'thổ_địa': 8597, 'rào_rào': 7384, 'khúc': 4075, 'vùng_đất': 10211, 'lực_lượng': 5059, 'mccabe': 5127, 'cưu_mang': 2083, 'hành_quân': 3420, '1946': 69, 'chọn_lọc': 1662, 'tĩnh_lặng': 9622, 'xoay_trần': 10495, 'quát': 7185, 'tách': 9436, 'hội_hiếc': 3747, 'buồng': 535, 'trò_chơi': 9045, 'gai': 2754, 'gieo_trồng': 2854, 'giam_giữ': 2825, 'nông_sản': 6512, 'ngài': 5918, 'gầy_gò': 3088, 'tá': 9428, 'băng_tải': 768, 'thận': 8502, 'đi_lại': 10950, 'hang': 3150, 'vui_lòng': 10074, 'hàng_đầu': 3411, 'vĩnh_long': 10236, 'chấm': 1557, 'thì_ra': 8305, 'chiều_chuộng': 1294, 'hóng': 3504, 'lanh_lợi': 4391, 'hoàn_tất': 3282, 'dặn_đi_dặn_lại': 2637, 'tá_túc': 9430, 'tự_động': 9959, 'ô_nhiễm': 10841, '55': 212, '1997': 119, '34': 172, 'quan_hệ': 7100, 'dĩ_nhiên': 2552, 'trôi_dạt': 9055, 'bửu': 1096, '15': 32, 'an_thần': 317, 'màn_hình': 5214, 'mô_hình': 5310, 'chiến_trường': 1285, 'trắng_muốt': 9234, 'pv': 7089, 'gặp_gỡ': 3103, 'nhập_môn': 6322, 'trần_quang_nhụy': 9190, 'bà_xã': 549, 'hài': 3389, 'bệt': 995, '39': 182, 'đại_đội': 11305, 'liên_lạc': 4451, 'cai': 1116, 'tổng_giám_đốc': 9855, 'aceton': 279, 'cạp': 2117, 'ăn_mừng': 10892, 'lĩnh': 4794, 'thiếp': 8124, 'bận_rộn': 913, 'bấm': 854, 'đực': 11673, 'danh_hiệu': 2375, 'hài_lòng': 3392, 'bóng_dáng': 711, 'ap': 338, 'lệnh': 4950, 'ra_đời': 7318, 'mútcơtông': 5340, 'lớn_lao': 4995, 'gián_tiếp': 2888, 'hướng_dẫn_viên': 3561, 'hát_xướng': 3439, 'sv': 7709, 'coi_chừng': 1774, 'loạn_lạc': 4525, 'thay_vì': 8086, 'nhận_biết': 6311, 'ngăn': 5981, 'qui_luật': 7132, 'ba_mẹ': 368, 'vi_phạm': 10020, 'nổi_trận_lôi_đình': 6648, 'nhân_sự': 6214, 'trốn_chạy': 9266, 'thừa_thiên': 8681, 'xôn_xao': 10629, 'kiến': 4211, 'mờ_mờ': 5551, 'qui_hoạch': 7130, 'cắm_đầu_cắm_cổ': 2219, 'cuộc_gọi': 1831, 'dập': 2626, 'trung_học': 8952, 'dụng_võ': 2690, 'phạm_thị_dung': 6968, 'xót_xa': 10621, 'sơ_thẩm': 7819, 'tại_sao': 9679, 'nạng': 6569, 'mì': 5289, 'tạt': 9692, 'hít': 3479, 'bao_cao_su': 400, 'rõ_ràng': 7427, 'tấn_thành': 9705, 'trúng_tuyển': 9074, 'rơm': 7446, 'loạn_xạ': 4526, 'sợ_sệt': 7928, 'tâm_huyết': 9460, 'chèo': 1423, 'địa_ngục': 11471, 'cảnh_giác': 2147, 'ngả': 6021, 'nghiêm_khắc': 5659, 'hổ_thẹn': 3727, 'bỗng_nhiên': 1053, 'bân': 628, 'trang_bị': 8893, 'lĩnh_vực': 4795, 'nhái': 6197, 'danh_thủ': 2379, 'lương_thiện': 4826, 'thành_đạt': 8244, 'cherry': 1233, '91': 264, 'ctđ': 1805, 'ruồi': 7370, 'can': 1130, 'lãng_phí': 4651, 'màu_sắc': 5222, 'chính_quyền': 1455, 'tiến_độ': 8764, 'kiệt_sức': 4239, 'may_ra': 5121, 'đụng_độ': 11655, 'cân': 1903, 'nỗi_lòng': 6652, 'giải_trí': 2941, 'hưng_long': 3538, 'tung_tóe': 9336, 'li_kou_tin': 4421, 'nội_thành': 6660, 'thanh_bạch': 8060, 'công_ăn_việc_làm': 2010, 'trần_văn_tuấn': 9217, 'trào': 9002, 'trỏ': 9263, 'xúc_cảm': 10636, 'ăn_xin': 10901, 'lành_nghề': 4610, 'gặt_hái': 3106, 'nền_móng': 6613, 'thủ_tướng': 8650, 'giày_dép': 2872, 'chết_chóc': 1630, 'chứng_nhận': 1737, 'thân_thiện': 8286, 'đậm': 11377, 'non': 6422, 'khánh_kiệt': 4008, 'xông_xáo': 10632, 'ngón_nghề': 5960, 'rên_la': 7411, 'vô_duyên': 10150, 'độc_đáo': 11615, 'lặt_vặt': 4926, 'tiếc_rẻ': 8757, 'cần_thơ': 2187, 'kháng_sinh': 4000, 'ý_kiến': 10875, 'dày_cộp': 2483, 'tốn_kém': 9823, 'mất_mát': 5402, 'bán_tín_bán_nghi': 604, 'đầu_lòng': 11354, 'phòng_ngự': 6879, 'tỉ_giá': 9780, 'điểm_chuẩn': 10991, 'csđt': 1804, 'sỉ': 7889, 'chị_em': 1649, 'dụ_dỗ': 2687, 'trục_trặc': 9306, 'nửa_chừng': 6682, 'kiểm': 4221, 'rôm_rốp': 7425, 'tư_định': 9644, 'dung_thân': 2456, 'xhcn': 10472, 'lừa': 5043, 'hóc_môn': 3503, 'lành_lặn': 4608, 'tát': 9458, 'rực_rỡ': 7563, 'sinh_tử': 7643, 'gom': 3005, 'buồn_ngủ': 529, 'kê': 4274, 'hoà_đồng': 3268, 'tuyển_sinh': 9357, 'khát_khao': 4012, 'căm_thù': 2031, 'xấu_xí': 10673, 'vịnh': 10356, 'bằng_lăng': 953, 'nếp': 6608, 'texas': 8033, 'gợi_cảm': 3129, 'chợp': 1700, 'chén': 1426, 'sinh': 7628, 'rũ_rượi': 7443, 'hiệu_nghiệm': 3230, 'bao_trùm': 409, 'hớt_tóc': 3770, 'thuốc_trừ_sâu': 8219, 'xe_lửa': 10455, 'nhà_giáo': 6156, 'hóa_trang': 3501, 'mặt_tiền': 5452, 'ngỡ_ngàng': 6087, '175': 43, 'xe_gắn_máy': 10448, 'khám_phá': 3992, 'biển_hiệu': 468, 'vỡ_lòng': 10382, 'giàn_giụa': 2866, 'gạt': 3075, 'chúi': 1491, 'quái_thai': 7180, 'mặt_khác': 5449, 'tới_tấp': 9876, '1986': 108, 'lựu': 5061, 'chếnh_choáng': 1628, 'được_giá': 11276, 'cây_thuốc': 1919, 'dìu': 2529, 'giam': 2823, 'trần_quán_anh': 9191, 'quyết_tử': 7155, 'tình_nghĩa': 9523, 'nguyễn_cường': 5787, 'gieo': 2852, 'sấp': 7858, 'san_sẻ': 7579, 'giác_quan': 2882, 'bộc_lộ': 1068, 'thò': 8319, 'suy_yếu': 7703, 'khó_tính': 4041, 'yên_tâm': 10737, 'vườn_ươm': 10269, 'yên': 10728, 'khuân': 3969, 'tuyệt_vọng': 9365, 'hưng_phát': 3542, 'rùm_beng': 7430, 'thứ_ba': 8667, 'cao_tốc': 1167, 'sâu_bệnh': 7760, 'mỏng_manh': 5494, 'đắp': 11395, 'gặt': 3105, 'ngai': 5634, 'bà_rịa': 548, 'ngăn_chặn': 5982, 'đặng_thùy_trâm': 11416, '38': 179, 'kỹ_thuật_số': 4369, 'bàn_máy': 567, 'vờn': 10379, 'liên_minh': 4453, 'đặc_trưng': 11409, 'da_cóc': 2361, 'một_khi': 5529, 'sôi': 7781, 'phú_trung': 6921, 'thuận': 8203, 'ngay_tức_khắc': 5643, 'rầu_rĩ': 7483, 'ruột_gan': 7375, 'thử_thách': 8685, 'đồng_bào': 11542, 'khoai': 3926, 'toàn_cầu': 8870, 'dao_động': 2388, 'độc_tố': 11613, 'còng': 1933, 'sòng': 7771, 'nửa': 6681, 'ao': 336, 'định_vị': 11488, '1984': 106, 'xẹp_lép': 10679, 'kim_dae_woo': 4161, 'xấu_hổ': 10671, 'nguy_nan': 5766, 'rong': 7352, 'xinh_xắn': 10481, 'đăk_nông': 11221, 'ổi': 11762, 'bóc': 706, 'no': 6417, 'khác_gì': 3981, 'rối_nước': 7509, 'hình_hài': 3467, 'thủ_tục': 8651, 'bệnh_lý': 988, 'hoan_nghênh': 3252, 'hình_thức': 3473, 'moi': 5177, 'đâm_đầu': 11114, 'rình_rập': 7416, 'đông_triều': 11202, 'vô_hạn': 10154, 'quệt': 7287, 'bấy_lâu_nay': 892, 'lừng_lững': 5049, 'khẳm': 4112, 'hồng_lĩnh': 3721, 'đeo': 10944, 'y_bác_sĩ': 10708, 'ánh_sáng': 10786, 'hổng': 3729, 'tnhh': 8848, 'hình_tròn': 3474, 'xuất_phát': 10544, 'có_vẻ': 1947, 'thuốc_phiện': 8217, 'phẫu_thuật': 7025, 'tè': 9500, 'ady': 281, 'tiết_lộ': 8791, 'cám': 1878, 'suy_sụp': 7699, 'ôi_chao': 10846, 'rebel': 7332, 'khắc': 4105, 'vội_vàng': 10370, 'có_hạng': 1935, 'huyên_náo': 3338, 'chen_chúc': 1231, 'nguyễn_thanh_hà': 5810, 'kèm': 4263, 'jupiter': 3864, 'thời_chiến': 8606, 'tranh_thủ': 8908, 'tuyết': 9353, 'gắn': 3096, 'heineken': 3165, 'show': 7621, 'làng_nghề': 4601, 'di_chuyển': 2393, 'biăngtin': 449, 'hải_vân': 3595, 'bỏ_lửng': 1013, 'vời_vợi': 10378, 'tủm_tỉm': 9900, 'phóng_uế': 6897, 'tả_tơi': 9694, 'khổ_cực': 4133, 'diễm': 2409, 'gằm': 3101, 'nông_thôn': 6513, 'mướt_mát': 5364, 'điếu': 10972, 'lơ_mơ': 4804, 'nan_giải': 5620, 'hoa_kỳ': 3242, 'phương_pháp': 6939, 'lảm_nhảm': 4867, 'đương_chức': 11247, 'nghĩ_lại': 5688, 'dệt': 2649, 'êm_đềm': 10830, 'riêng_tư': 7342, 'gần_gũi': 3083, 'tăm_tắp': 9613, 'thoáng': 8154, 'giúp_đỡ': 2920, 'rớt_giá': 7535, 'gò': 3047, 'thần_đồng': 8488, 'má': 5225, 'nóng_giận': 6495, 'hạm_đội': 3574, '1950': 72, 'sức_mạnh': 7945, 'giao_hưởng': 2843, 'hết_lòng': 3642, 'chí_linh': 1444, 'tươi_tỉnh': 9651, 'phất': 7011, 'dự_đoán': 2709, 'nuốt': 6438, 'vật_vã': 10318, 'ật': 11738, 'hoa_hồng': 3240, 'văn': 10214, 'hôm_sau': 3513, 'chẻ_tre': 1620, 'đè': 11125, 'phai': 6732, 'đói_meo': 11161, 'linh': 4427, 'thái_độ': 8260, 'pha': 6729, 'đoán': 11028, 'chetta_thanajaro': 1236, 'đại_hội': 11290, 'vượt_cấp': 10274, 'quốc_khánh': 7292, 'cây_viết': 1921, 'phấn_khởi': 7007, 'chứng': 1729, 'oai': 6693, 'hòa_bình': 3485, 'vị': 10350, 'ngúm': 5977, 'dằn_vặt': 2633, 'cước': 2088, 'ghê_ghê': 2793, 'tua_tủa': 9330, 'tủ': 9893, 'hộ_lý': 3737, 'trại_giam': 9141, 'rạc': 7462, 'dai': 2366, 'lô_văn_máy': 4746, 'mưa_bão': 5354, 'lùa': 4753, 'helsinborg': 3167, 'sai_sót': 7571, 'việt_nam': 10058, 'súng_ngắn': 7797, 'bắt_mắt': 940, 'đấu_pháp': 11337, 'xe_hơi': 10450, 'chất_lượng': 1572, 'giản_dị': 2947, 'alisa': 296, 'bó': 703, 'la_chữ': 4373, 'chấn_thương': 1562, 'lụi': 5031, 'treo': 8913, 'từ_từ': 9926, 'ngoe_nguẩy': 5732, 'tổ_trưởng': 9842, 'xo': 10490, 'tuyến': 9351, 'lưu_niệm': 4816, 'nỏ': 6621, 'tuyên_truyền': 9349, 'lee_mi_yeon': 4408, '1969': 90, 'đồng_bến': 11545, 'mớm': 5549, 'điện_thoại_di_động': 11003, 'cảm_động': 2138, 'phẩu': 7022, 'nghiêm': 5658, 'nêu': 6469, 'ác_cảm': 10765, 'bàn_thắng_vàng': 572, 'sóc_trăng': 7773, 'lây_nhiễm': 4648, 'mặc_cả': 5439, 'cá_cơm': 1853, 'cám_ơn': 1881, 'yaourt': 10724, 'b3': 354, 'khởi_động': 4149, 'trần_cảnh_được': 9172, 'ong': 6708, 'ngựa': 6104, 'núp': 6522, 'to_đùng': 8857, 'phát_xuất': 6838, 'nghỉ_việc': 5720, 'duyên': 2465, 'suôn_sẻ': 7704, 'quân_khu': 7193, 'nhác': 6196, 'làng_xã': 4604, 'mười_bảy': 5367, 'kiếm_hiệp': 4209, 'thương_tích': 8410, 'dang_dở': 2370, 'khuyết_tật': 3968, 'kích_dục': 4287, 'biến_cố': 453, 'tùy': 9591, 'kiểu_mẫu': 4233, 'việt_kiều': 10056, 'sang_tay': 7585, 'nằm_mơ': 6593, 'loang_loáng': 4492, 'huân_chương': 3348, 'phái_đẹp': 6810, 'cân_nhắc': 1904, 'liệt': 4474, 'lái_đò': 4623, 'ngả_lưng': 6022, 'dẫu': 2624, 'cảnh_ngộ': 2149, 'iii': 3814, 'quí_báu': 7217, 'tạm_thời': 9683, 'xuất_hiện': 10538, 'nhân_ân': 6221, 'làm_ruộng': 4584, 'lee_byung_hun': 4407, 'mát': 5235, 'săn': 7803, 'bi_đát': 432, 'chân_tình': 1411, 'quyền_lợi': 7159, 'đối_mặt': 11511, 'thuốc_thang': 8218, 'tội_lỗi': 9867, 'thèm_khát': 8296, 'côm_cốp': 1967, 'sư': 7829, 'liên_kết': 4450, 'thiệt': 8142, 'trung_ương': 8969, 'đông_phong': 11198, 'anh_hùng': 331, 'thêu': 8302, 'thịnh': 8573, 'nháo_nhào': 6199, 'tướng_lĩnh': 9662, 'định_mệnh': 11484, 'quách_xuân_kỳ': 7177, 'dọn': 2665, 'lỏng_lẻo': 4963, 'siêu_âm': 7652, 'cưỡi': 2108, 'giác_đấu': 2883, 'braille': 503, 'đinh_vít': 10961, 'thăm_nuôi': 8376, 'vả_lại': 10284, 'cỡ': 2292, 'hợp_thức_hóa': 3780, 'nguyễn_lê': 5800, 'tay_chân': 8007, 'ngoại_khoa': 5744, 'xí_nghiệp': 10602, 'rút_lui': 7437, 'cương_quyết': 2086, 'ước_nguyện': 11697, 'cung_ứng': 1813, 'gang_tấc': 2762, 'tiền_sử': 8811, 'thải': 8443, 'công_nghệ': 1987, 'mỹ_lai': 5586, 'nhà_thơ': 6176, 'thật_tình': 8509, 'thành_quả': 8237, 'bại': 803, 'cu': 1806, 'khăn': 4078, 'chặt_chẽ': 1617, 'thực_lực': 8693, 'tỉnh_lẻ': 9791, 'mòn': 5298, 'tổng_hợp': 9857, 'hành_lý': 3418, 'xuất_sắc': 10546, 'đánh_đập': 11104, 'trong_trẻo': 8941, 'văn_bản': 10215, 'choáng': 1308, 'trường_sơn': 9129, 'bùi_thị_xuân': 745, 'giáo': 2890, 'quán_xá': 7183, 'móm_mém': 5303, 'có_hậu': 1936, 'khoái': 3938, 'tôm': 9573, 'hẹn_hò': 3634, 'thu_hút': 8172, 'vết_thương': 10340, 'robert': 7347, 'berlin': 423, 'quần_hội': 7266, 'đích': 11145, 'hồ_sen': 3700, 'phẫu': 7024, 'giã_từ': 2903, 'bám_trụ': 595, 'olympic': 6705, 'cậu_ấm': 2215, 'hát_đình': 3440, 'binh_nhì': 440, '870': 258, 'đọc_đi_đọc_lại': 11491, 'việt_dã': 10055, '35': 174, 'phì_phì': 6866, 'thầy_thuốc': 8493, 'phòng_khám': 6876, 'đáp_án': 11109, 'lọ': 4956, 'lôi_kéo': 4748, 'trấn_an': 9156, 'thun': 8189, '48': 200, 'tươm': 9652, 'khẩu': 4101, 'nguyễn_văn_linh': 5879, 'nhàu_nát': 6193, 'đào_hoa': 11067, '70': 236, 'sự_kiện': 7963, 'nhấp_nhổm': 6294, 'đồng_loạt': 11555, 'căn_cứ': 2036, 'gx': 3016, 'cảm_phục': 2131, 'mi': 5136, 'hầu_như': 3609, 'đói_kém': 11160, 'hung': 3327, 'trình_báo': 9032, 'đặc_ân': 11411, 'tiêu_chí': 8746, 'võ_công_sơn': 10177, 'no_đủ': 6418, 'ảo_giác': 11709, 'phỉnh': 7034, 'chia': 1248, 'lọt': 4960, 'ngàn_vạn': 5921, 'hoàng_chất_lượng': 3286, 'vựa': 10407, 'chế_độ': 1627, 'lọn': 4959, 'thong_lao': 8151, 'hoan_hỉ': 3251, 'rõ_rệt': 7428, 'kim_phúc': 4171, 'phê_duyệt': 6862, 'ck': 1761, '1954': 76, 'gia_truyền': 2815, 'sung': 7687, 'hội_đồng': 3758, 'dải': 2602, 'nghị_án': 5723, 'xe_tăng': 10459, 'lung_linh': 4541, 'hạt': 3580, 'phụ_trách': 7063, 'thuyên': 8190, 'cúm_gà': 2026, 'tisha': 8735, 'dân_dã': 2496, 'thực': 8687, 'chịu_khó': 1653, 'tình_báo': 9514, 'tao': 8000, 'mua_bán': 5189, 'sáng_chế': 7730, 'mọc': 5484, 'xuân_mai': 10527, 'bảo_lãnh': 840, 'dưới_trướng': 2583, 'olympia': 6704, 'xếp_đặt': 10686, 'mức_độ': 5576, 'tố_nga': 9805, 'ximăng': 10475, '16': 37, 'quân_phục': 7195, 'chẳng_thể': 1612, 'tuyên_phạt': 9347, 'vén': 10121, 'hòng': 3495, 'say_mê': 7599, 'tin_tưởng': 8718, 'phạm_vũ': 6989, 'sang_sảng': 7584, 'hàng_xáo': 3409, 'tốp': 9826, 'xăng': 10643, 'thu_nhặt': 8179, 'nghe_ngóng': 5646, 'lọ_mọ': 4957, 'miễn_phí': 5167, 'huy_chương': 3333, 'chứng_minh': 1735, 'kiên_nhẫn': 4197, 'trần_kim_long': 9178, 'giao_thông': 2849, 'dứt': 2692, '56': 215, 'ngược_xuôi': 6015, 'biện_pháp': 474, 'thượng_phong': 8428, 'cấp_vốn': 2162, 'huyền': 3341, 'vây': 10114, 'chân_sút': 1407, 'tổng_tiến_công': 9863, 'cộng_tác': 2280, 'galăng': 2757, 'gương_mẫu': 3067, 'chuồng_trại': 1361, 'diện': 2418, 'cảm_ơn': 2139, 'dịu': 2658, 'chiến_tranh_phá_hoại': 1284, 'gisele_bundchen': 2855, 'đâu_đó': 11117, 'quá_trời': 7173, 'độc_hại': 11606, 'tận_cùng': 9728, 'võ_trọng_nghĩa': 10192, 'loài': 4515, 'trôi_nổi': 9057, 'vết': 10339, 'bt': 509, 'la_hét': 4375, 'cây_ăn_trái': 1923, 'veste': 10018, 'sát_cánh': 7744, 'lò_nhi_phẩu': 4729, '960': 269, 'thụ_án': 8635, 'đấm': 11325, 'vật_liệu': 10312, 'phát_huy': 6830, 'hiu_hắt': 3185, 'liên': 4442, 'quán_anh': 7182, 'hò_reo': 3483, 'giáp_hạt': 2898, 'luồng': 4562, 'lod': 4496, 'khiếm_nhã': 3913, 'ấm_áp': 11714, 'tk19': 8846, 'ngày_ngày': 5929, 'giao_hữu': 2845, 'khoe_khoang': 3935, 'hợi': 3773, 'nối_đuôi': 6628, 'truy_tìm': 8974, 'giả_vờ': 2927, 'gom_góp': 3006, 'vút': 10213, 'phi_thường': 6759, 'cổ_tích': 2266, 'đục': 11652, 'nhắm_nghiền': 6336, 'lạc': 4852, 'siêng_năng': 7647, 'đại_đồng': 11304, 'quay_quắt': 7121, 'quê_cha_đất_mẹ': 7208, 'huống_gì': 3355, '46': 197, 'lội': 4983, 'lênh_đênh': 4716, 'kiến_thức': 4215, 'trần_thị_hòa': 9195, 'sức_kéo': 7942, 'đoài_đông': 11020, 'serum': 7612, 'nguyễn_sơn': 5809, 'love': 4513, 'nghỉ_ngơi': 5718, 'trầm_uất': 9168, 'nguyễn_tấn_tài': 5856, 'đối': 11507, 'lục_soạn': 5027, 'chủ_nhân': 1712, 'lang_thang': 4390, 'thạc_sĩ': 8435, 'bạc_tình': 796, 'chật_chội': 1590, 'tiến_bộ': 8759, 'xinh_đẹp': 10482, 'nhân_tạo': 6217, 'khóm': 4050, 'chuyển_hướng': 1347, 'quân_hàm': 7192, 'trung_hoa': 8950, 'tuyên_quang': 9348, 'ngoại_quốc': 5748, 'một_chút': 5526, 'claudia_schiffer': 1764, 'ký_hoạ': 4298, 'trinh_sát': 8916, '1996': 118, 'dè_dặt': 2526, '101': 14, 'khiếu_nại': 3920, 'clb': 1765, 'kỳ_tích': 4354, 'phụ_cận': 7057, 'trọng_tải': 9258, 'cá_cược': 1854, 'xỏ': 10694, 'hiện_trường': 3221, 'lợi': 5014, 'thông_lệ': 8338, 'container': 1798, 'ăn_ý': 10902, 'bơi_lội': 776, 'hà_tây': 3386, 'khuyên_nhủ': 3962, '280': 158, 'ầm': 11725, 'nhúc_nhích': 6246, 'tổ_ấm': 9843, 'vặn': 10333, 'quy_hoạch': 7141, 'ực': 11787, 'lê_văn_vũ': 4702, 'vệ_sinh': 10343, 'dàn': 2475, 'lập_tức': 4901, 'đh': 10947, 'hò_hẹn': 3482, 'gucci': 3011, 'vì_sao': 10126, 'che': 1223, 'ngớt': 6080, 'trình': 9030, 'hả': 3581, 'điện_biên': 10998, 'rưỡi': 7456, 'thực_trạng': 8701, 'nam_bộ': 5604, 'ướp': 11700, 'cổ_vũ': 2267, 'mục_kích': 5567, 'qui_mô': 7133, 'và_gà_lầu': 10089, 'áng': 10784, 'cáu_tiết': 1900, 'nhà_trẻ': 6180, 'cây_nhà_lá_vườn': 1917, 'hoảng_sợ': 3322, 'sông_đốc': 7789, 'trầm_hương': 9162, 'ví_dụ': 10130, 'comme_toi': 1777, 'máy_móc': 5249, 'chen': 1230, 'bước_ngoặt': 785, 'suy_luận': 7696, 'uất_ức': 9987, 'phong_phú': 6789, 'lê': 4665, 'quyên_góp': 7147, 'nguyễn_tấn_thành': 5855, 'thoạt': 8160, 'ra_chiều': 7306, 'già_nua': 2862, 'đền': 11446, 'cái_bè': 1875, 'tay_nghề': 8011, 'hiv': 3187, 'mặt_bằng': 5446, 'phân_biệt': 6842, 'uốn': 9989, '1_triệu': 122, 'cứu_hộ': 2321, 'khám_nghiệm': 3991, 'muối': 5203, 'rủi_ro': 7549, 'tây_y': 9499, 'uể_oải': 9988, 'xa_vời_vợi': 10433, 'trúc': 9071, 'lườm': 4835, '495': 202, 'huỳnh_thị_thống': 3367, 'mềm': 5468, 'tăng_minh_phụng': 9620, 'đình_khao': 11144, 'xóc': 10612, 'cục_trưởng': 2297, 'dáng_vẻ': 2488, 'thống_thiết': 8591, 'hết_mình': 3644, 'tơ': 9623, 'tiền_tuất': 8814, 'bi_kịch': 430, 'boy': 501, 'thành_thị': 8240, 'chu_lai': 1312, 'sộp': 7914, 'phốp_pháp': 7041, 'thủ_đô': 8653, 'đặng_đức_hải': 11422, 'hiếu_khách': 3196, 'gợi': 3128, 'cứng_đờ': 2315, 'lọt_lòng': 4961, 'oda': 6699, 'phong_tặng': 6793, 'lấy_được': 4877, 'bày_vẽ': 586, 'davis_cup': 2389, 'khó_chịu': 4037, 'thưởng': 8422, 'viễn_du': 10044, 'cơm_gạo': 2072, 'tung': 9333, 'thực_sự': 8697, 'rải': 7472, 'ngô_xuân_quýnh': 5968, 'tắm_rửa': 9753, 'ai_ngờ': 288, 'bắc_kinh': 922, 'lươn': 4823, 'liên_hệ': 4448, 'nhớ_thương': 6381, 'sở_trường': 7923, 'chập_chờn': 1587, 'tiếp_giáp': 8775, 'kim_hòa': 4166, 'nghĩa_phương': 5698, 'ketamine': 3883, 'rạch_bùng_binh': 7464, 'tha_thứ': 8042, 'học_đường': 3674, 'nệm': 6616, 'hcđ': 3162, 'tinh_nghịch': 8727, 'âm_u': 10812, 'phèn': 6857, 'súc': 7792, 'cuồng_phong': 1827, 'cai_lậy': 1117, 'tư_vấn': 9643, 'thủy_sản': 8663, 'cao_su': 1161, 'bề': 974, 'rón_rén': 7421, 'đồng_bạc': 11543, 'tốt_tươi': 9831, 'nguýt': 5912, 'mỹ_thuật': 5593, 'kích_thích': 4288, 'khu_chế_xuất': 3951, 'vai_vế': 9998, 'nút': 6523, 'tâm_trí': 9471, 'ất_dậu': 11722, 'bận': 912, 'thần_tượng': 8486, 'chắp_cánh': 1600, 'tha': 8036, 'chạy_chữa': 1543, 'gật_đầu': 3094, 'thuốc_độc': 8221, 'mdma': 5128, 'xe_điện': 10461, 'chiếu_phim': 1291, 'nghĩ_đi_nghĩ_lại': 5690, 'tời': 9879, 'sà_lan': 7713, '750': 241, 'tiếng_lóng': 8767, 'chó_chết': 1466, 'tiếng_là': 8766, 'táng': 9454, '84': 255, 'ráp': 7395, 'phòng_chống': 6875, 'tất_bật': 9708, 'tuyệt_chiêu': 9360, 'sang_bán': 7581, 'lê_thành_các': 4682, 'phái_đoàn': 6809, '26': 154, 'ngằn_ngặt': 6053, 'quá_cố': 7169, 'đùa': 11211, 'dạy_đời': 2601, 'âm': 10805, 'nguyễn_thị_châu': 5825, 'công_chính': 1977, 'hải_quân': 3590, 'bùi_viện': 747, 'thanh_trừng': 8075, 'đen_ngòm': 10937, '80': 249, 'chuyên_môn': 1335, 'nhảy_nhót': 6286, 'ngoại_vụ': 5752, 'chấp': 1564, 'tác_động': 9435, 'sâm': 7750, 'rồi_đây': 7517, 'welcome': 10414, 'đèn_đỏ': 11132, 'phạm_đình_sô': 6990, 'sạ': 7843, 'hốt': 3695, 'sườn': 7842, 'tươi': 9647, 'màu_mè': 5219, 'quí_tộc': 7221, 'trọng_lượng': 9255, 'lay_lứt': 4403, 'võ_sinh': 10185, 'rầu_rầu': 7484, 'bắt_cóc': 936, 'thực_đơn': 8705, 'chuyển_dịch': 1345, 'quả_quyết': 7239, 'chốc': 1664, 'chân_quê': 1406, 'mm': 5173, 'yên_lặng': 10733, 'tân_tiến': 9489, 'chlb_đức': 1298, 'giang': 2834, 'ngoài_trời': 5737, 'thấu_đáo': 8476, 'tẹo': 9762, 'vh': 10019, 'thường_trực': 8420, 'kiên_tâm': 4200, 'văng': 10227, 'trần_kim_lân': 9179, 'dược_sĩ': 2589, 'vị_trí': 10355, 'khodaiji': 3933, 'xe_lăn': 10454, 'quí_tử': 7222, 'tư_sản': 9637, 'rần_rần': 7481, 'cống': 2250, 'quày_quả': 7166, 'phan_thiết': 6739, 'bẻ': 960, 'bùn': 749, 'gáy': 3035, 'phấn_đấu': 7009, 'lên_đường': 4714, 'lẫn_lộn': 4891, 'trang_xuân_chi': 8902, 'khấn': 4094, 'mộ': 5513, 'bằng_việt': 955, 'thời_buổi': 8604, 'murakami': 5196, 'thấp_thoáng': 8460, 'giật_giọng': 2969, 'bùi_thị_hà': 743, 'nhập_ngũ': 6324, 'ùa': 10864, 'rách': 7388, 'mực': 5580, 'bãi_dâu': 636, 'trập_trùng': 9228, 'lừa_dối': 5044, 'vũ_luân': 10243, 'nhẫn': 6308, 'êm_ả': 10831, 'đói_nghèo': 11162, 'teo': 8031, 'chung_thủy': 1327, 'lửa_khói': 5051, 'lành_mạnh': 4609, 'tệ_nạn': 9778, 'thứ_thiệt': 8672, 'lụt_bão': 5035, 'quét': 7205, 'viện_bảo_tàng': 10049, 'la_liệt': 4377, 'lowry': 4514, 'cực_lực': 2352, 'cửa_hiệu': 2331, 'tạm_ứng': 9685, 'dương_văn_minh': 2579, 'nhà_sản_xuất': 6173, 'sổ_đỏ': 7913, 'loạng_choạng': 4527, 'tưởng_chừng': 9670, 'một_mạch': 5532, 'tướng': 9661, 'tách_biệt': 9437, 'ngâm': 5943, 'giang_hồ': 2836, 'quảng_bình': 7250, 'trước_nhất': 9116, 'mưu_sinh': 5360, 'hăng_hái': 3526, 'sõi': 7790, 'rải_rác': 7473, 'kháng_án': 4001, 'nguyễn_tâm_ninh': 5854, 'hậu': 3614, 'cùi_tay': 2018, 'mũi_nhọn': 5345, 'xót_thương': 10620, 'ngày_nay': 5928, 'nguyễn_đăng_đức': 5905, 'tay_xách_nách_mang': 8017, 'phi_hành_đoàn': 6755, '800': 250, 'trần_văn_đạt': 9219, 'rồng_rắn': 7519, 'dốt_đặc_cán_mai': 2671, 'dây_chuyền': 2515, 'giảm_thiểu': 2945, 'bánh_lái': 609, 'dõi': 2542, 'nhíp': 6237, 'dốc': 2668, 'đến_nỗi': 11438, 'sủa': 7936, 'kỹ_sư': 4367, 'gọn': 3110, 'trễ': 9245, 'nguyễn_thế_phong': 5822, 'đa': 10905, 'nhàn_hạ': 6190, 'địa_bàn': 11463, 'tràng_tiền': 9001, 'ck_one_summer': 1762, 'phương_trình': 6945, 'thượng_úy': 8431, 'nghĩa_tình': 5700, 'ế_ẩm': 11742, 'batam_pos': 414, 'cổ_động': 2270, 'cỏ_năn': 2238, 'tri_ân': 8915, 'sốc': 7900, 'run_rẩy': 7363, 'visa': 10037, 'đề_xuất': 11445, 'hoành_tráng': 3310, 'đông_loan': 11195, 'zona': 10759, 'lâm_đồng': 4636, 'tiền_bạc': 8800, 'khôi_phục': 4054, 'thái_bình_dương': 8251, 'nguyễn_việt_nga': 5859, 'đắp_đổi': 11396, 'lớn_tuổi': 4998, 'dân_thường': 2504, 'trần_thị_thu_hương': 9203, 'am_hiểu': 298, 'mường_lống': 5373, 'pháp_đình': 6825, 'xô': 10623, 'khe_khẽ': 3901, 'đóng_đô': 11173, 'ratchadapisek': 7324, 'tăng_cường': 9617, 'nguyễn_văn_măng': 5882, 'thực_chất': 8688, 'the': 8089, 'bất_thường': 880, 'thống_đốc': 8592, 'động_cơ': 11627, 'quằn_quại': 7282, 'nguyễn_văn_bích': 5861, 'đại_ý': 11303, 'kinh_phí': 4188, 'lê_văn_inh': 4695, '20triệu': 137, 'lục_vân_tiên': 5029, 'nỗ_lực': 6650, 'già_làng': 2860, 'hội_chẩn': 3743, 'địch_tình': 11478, 'tử': 9930, 'đồng_nát': 11561, 'biến_chứng': 452, 'phòng_ốc': 6884, 'đuôi': 11038, 'ngẫm': 6032, 'mí': 5293, 'khốc_liệt': 4123, 'chối_từ': 1666, 'món_ngon_vật_lạ': 5305, 'đường_kính': 11261, 'phục_hồi': 7066, 'căm_giận': 2030, 'sắc_độ': 7870, 'sư_tử': 7832, 'cứng_rắn': 2314, 'sáu_tiến': 7748, 'phỏng_vấn': 7037, 'liêm': 4440, '751': 242, 'huỳnh_long': 3361, 'ba_gác': 360, 'e_thẹn': 2718, 'máy_ảnh': 5256, 'invalid': 3837, 'mép': 5280, 'vun_vút': 10080, 'chọc': 1657, 'khí_lực': 4031, 'tiếp_xúc': 8787, 'bìa': 663, 'dự_phòng': 2706, 'album': 295, 'thuyết_minh': 8191, 'nhanh_nhạy': 6113, 'nhật_bản': 6327, 'làm_thịt': 4589, 'đàn_anh': 11059, 'hố': 3690, 'ướt_đẫm': 11704, 'điều_khiển': 10983, 'ngần': 6028, 'dân_tộc': 2506, 'khai_trường': 3891, 'iran': 3841, 'quơ_quơ': 7231, 'đấu_thủ': 11340, 'tất_thảy': 9711, 'sinh_nhật': 7636, 'xe_thồ': 10458, 'trai_trẻ': 8891, '222b': 143, 'khốn_đốn': 4130, 'đồng_tháp': 11568, 'hớn_hở': 3767, 'tự_trọng': 9954, 'tàn': 9413, 'tức_là': 9912, 'phú_xuân_hội': 6925, 'gian_nan': 2831, '126': 23, 'lần_lữa': 4883, 'thỏ_thẻ': 8579, 'tỉa': 9788, 'hễ': 3649, '1999': 121, 'panô': 6713, 'tái_xanh': 9445, 'nhìn_nhận': 6234, 'hiệu_phó': 3231, 'kỷ_vật': 4362, 'tổ_tiên': 9841, 'đắm': 11391, 'đầu_ra': 11359, 'hòa_nhập': 3488, 'lén': 4663, 'bồng': 1043, 'quai': 7096, 'inox': 3833, '1993': 115, 'đặc_thù': 11408, 'sụp_đổ': 7932, 'an': 304, 'xưởng': 10661, 'hiểm_hóc': 3206, 'seoul': 7610, 'đảng_ủy': 11320, '1900': 53, 'khẩu_trang': 4104, 'savanakhet': 7596, 'nguồn_cơn': 5914, 'hương_trà': 3553, 'lask': 4399, 'bắc_âu': 928, 'niềm_nở': 6411, 'tử_tội': 9938, 'cựu': 2355, 'lõa_thể': 4751, 'hèn_nhát': 3455, 'xưng': 10652, 'phấn_khích': 7006, 'nguyễn_tiến_dũng': 5849, 'hỏng': 3689, 'mous_fai_fa': 5187, '1994': 116, 'mồ_yên_mả_đẹp': 5506, 'xuân_nghị': 10528, 'dọa': 2661, 'xét_xử': 10592, 'ý_nghĩ': 10877, '1980': 102, 'huyện_ủy': 3346, 'phân_chia': 6845, 'hoá_ra': 3311, 'khoác_áo': 3937, 'khoát': 3942, 'ấm_cúng': 11713, 'phế_liệu': 7031, 'càn': 1841, 'đà_lạt': 11043, 'ghi_nhớ': 2783, 'im_kwon_tae': 3817, 'luồn_lách': 4561, 'tuy': 9337, 'falkland': 2736, 'nham_nhở': 6109, 'ổn': 11763, 'triệt': 8926, 'đích_thân': 11146, 'ngoáy': 5739, 'kiếp': 4218, 'trái_đất': 9016, 'cao_ráo': 1158, 'thái_mỹ': 8256, 'quặt_quẹo': 7284, 'trường_huy': 9122, 'cờ': 2286, 'bỏ_cuộc': 1010, 'thương_bệnh_binh': 8400, 'nhân_chứng': 6205, 'bỡ_ngỡ': 1078, 'mũ': 5342, 'quĩ_tín_dụng': 7230, 'bài_toán': 557, 'phá_hoại': 6803, 'sóng_to_gió_lớn': 7778, 'pháo': 6815, 'trần_thị_kim_ngôn': 9198, 'vùng_sâu': 10208, 'cấp_cứu': 2157, 'khua': 3954, 'hát_bội': 3438, 'dung_thứ': 2457, 'không_nói_không_rằng': 4067, 'dở_sống_dở_chết': 2683, 'hùng_vĩ': 3522, 'biên_phòng': 447, 'mát_rượi': 5237, 'hưu': 3547, 'gia_tăng': 2817, 'bóng_hồng': 712, 'đông_việt': 11204, 'kỹ_càng': 4364, 'nản': 6571, 'nhanh_nhẹn': 6115, 'đôn': 11185, 'ra_lệnh': 7309, 'rên_rỉ': 7412, 'giản': 2946, 'xl': 10489, 'rầm_rộ': 7479, 'cuồng_loạn': 1825, 'chữ_y': 1753, 'chứng_cứ': 1732, 'sân_cỏ': 7754, 'hỡi': 3772, 'tếch': 9769, 'hoa_khôi': 3241, 'đồng_lòng': 11556, 'bể': 982, '53': 210, 'a_hửa': 275, 'đổi_đời': 11587, 'fee': 2738, 'rít': 7417, 'trung_dung': 8948, 'cương_vị': 2087, 'thẻ': 8530, 'xịt': 10693, 'làm_vườn': 4592, 'vượt_trội': 10275, '1962': 83, '237': 148, 'đẻn': 11433, 'trâm': 9022, 'lá_lốt': 4614, 'thai': 8043, 'đậy': 11385, 'chiêm': 1260, 'kiệt_quệ': 4238, 'trần_phi_hùng': 9185, 'bài_tính': 559, 'đánh_dấu': 11094, 'bần_bật': 896, 'đại_úy': 11302, 'nghiêng_ngả': 5666, 'cầu_nối': 2197, 'sà': 7712, 'nguyễn_xuân_an': 5896, 'độc': 11602, 'gia': 2805, 'ghế_băng': 2803, 'sửng_sốt': 7957, 'thảm_cảnh': 8445, 'khóc_than': 4045, 'than_vãn': 8055, 'vũ_văn_bảy': 10252, 'u_xơ': 9970, 'thưởng_ngoạn': 8423, 'tội': 9866, 'nhập_khẩu': 6321, 'hàng_hải': 3404, 'bưu_điện': 780, 'viếng_thăm': 10040, 'tu_tỉnh': 9328, 'nghe_đâu': 5647, 'bất_hợp_pháp': 868, 'lao_công': 4394, 'địa_điểm': 11475, 'tin_tức': 8719, 'da_trời': 2364, 'nguyễn_thôi': 5819, 'mạo_hiểm': 5390, 'qua_ngày': 7094, 'quá_sức': 7171, 'đồng_cỏ': 11550, 'cây_ngay_không_sợ_chết_đứng': 1916, 'rủ_rê': 7546, 'thế_anh': 8534, 'sô': 7780, 'montreal': 5185, 'lee_young_ae': 4410, 'chi_ly': 1242, 'ngửa': 6098, 'lộc': 4981, 'trán': 9018, 'huy_thọ': 3335, 'nôn_thốc_nôn_tháo': 6504, 'thể_hiện': 8553, 'kịp_thời': 4341, 'bán_tống_bán_tháo': 605, 'khuyên_bảo': 3961, 'phú_lộc': 6915, 'ăn_nói': 10895, 'ngoài_ra': 5736, 'hỗn_láo': 3732, 'hành_trang': 3422, 'xẻng': 10681, 'đong': 11019, 'mây': 5259, 'thuỷ_tinh': 8228, 'tình_thương': 9527, 'tàu_thuyền': 9425, 'gò_công_đông': 3049, 'cất_giấu': 2168, 'bọt': 1008, 'bỗng': 1050, 'tóm_tắt': 9562, 'níu': 6471, 'bố_trí': 1026, 'tuyến_tiền_liệt': 9352, 'trái_cây': 9010, '1998': 120, 'thư_thả': 8392, 'ốm_đau': 11751, '75': 240, 'singapore': 7627, 'xa_xôi': 10435, 'sắp_xếp': 7876, 'chấp_thuận': 1568, 'trội_bật': 9278, 'kara': 3869, 'nắng_mưa': 6588, 'giỗ_chạp': 2988, 'vía': 10132, 'americal': 301, 'chôm': 1476, 'nguyễn_văn_hồng': 5878, 'xe_cộ': 10447, 'khoanh': 3931, 'gia_sản': 2814, 'trương_phùng_xuân': 9101, 'cuống_cuồng': 1821, 'mặc_nhiên': 5442, 'bệnh_án': 994, 'ioc': 3838, 'tay_lái': 8009, 'giòn_rụm': 2907, 'đứt_ruột': 11671, 'rền': 7499, 'tận_tay': 9732, 'chân_chính': 1401, 'vắng_lặng': 10327, 'dọa_dẫm': 2662, 'rôm_rả': 7424, 'kháng': 3997, 'ớn_ớn': 11768, 'vừa_mới': 10397, 'thọ_quang': 8578, 'nguyễn_thị_nhỏ': 5840, 'ngọn_ngành': 6063, 'plezen': 7083, 'trần_văn_liễu': 9214, 'chài_lưới': 1370, 'kiến_trúc_sư': 4217, 'trò_đùa': 9046, 'đổ_xô': 11583, 'đối_đáp': 11521, 'làng_nước': 4603, 'quyền_anh': 7158, 'trà_buông': 8987, '223': 144, 'trung_gian': 8949, 'điên_rồ': 10966, 'rao': 7322, 'bán_kết': 600, 'miếu': 5161, 'trái_gió_trở_trời': 9011, 'đổi_thay': 11586, 'nặng_ký': 6598, 'truyền_tụng': 8982, 'bạn_hàng': 809, 'sinh_thái': 7641, 'á_đông': 10763, 'ngờ_nghệch': 6082, 'băng_hoại': 766, 'hải_lý': 3585, 'rồ': 7515, 'vừa_qua': 10398, 'tài_sản': 9406, 'đường_băng': 11254, 'đồng_bằng': 11544, 'nổi_bật': 6642, 'ít_ỏi': 10838, 'ngoại_lệ': 5745, 'đội_lốt': 11619, 'vỉa_hè': 10349, 'tổng_dự_toán': 9854, 'cài': 1840, 'vắng_vẻ': 10328, 'cao_to': 1166, 'đồng_tiền': 11571, '72': 239, 'phi_trường': 6760, 'đậm_nét': 11378, 'tinh_thần': 8730, 'thảm_sát': 8447, 'bố_trạch': 1027, 'ưa_thích': 11680, 'tường_thuật': 9665, 'chăm': 1504, 'tối_mò': 9811, 'trôi_giạt': 9056, 'nghèo_túng': 5684, 'cách_thức': 1870, 'điên_loạn': 10965, 'xác_nhận': 10564, 'bún': 755, 'bãi_tắm': 638, 'khái_quát': 3989, 'thong_thả': 8152, 'thuận_an': 8204, 'vôi': 10172, 'nằm_xuống': 6594, 'khản': 4091, 'tham_mưu': 8048, 'thây': 8294, 'nghĩa_là': 5696, 'phụ_bạc': 7055, 'ngơ_ngác': 5988, 'nói_riêng': 6485, 'lương_thực': 4827, 'côn_trùng': 1970, 'nhất_thiết': 6300, 'y_nguyên': 10712, 'phạm_hữu_năm': 6960, 'sơn_dương': 7825, 'gào': 3023, 'phe_nhóm': 6751, 'thái_bình': 8250, 'cao_vút': 1169, 'chòi': 1463, 'khái_niệm': 3988, 'chủ_nghĩa': 1710, 'tình_nghi': 9522, 'sưu_tầm': 7837, 'nhân_khẩu': 6212, 'cởi_mở': 2291, 'hơn_nữa': 3534, 'jboh_yang_chua': 3850, 'tiger_cup': 8710, 'lương_văn_biền': 4828, 'dĩa': 2553, 'xách': 10568, 'thưa': 8396, 'bày_đặt': 587, 'thẳng_tắp': 8528, 'chan': 1209, 'hoàng_cầu': 3287, 'nôn': 6502, 'lo_ngại': 4486, 'bắt_gặp': 938, 'mưa_nắng': 5358, 'chu_tiến_minh': 1313, 'nhiếp_ảnh': 6125, 'cổ_xưa': 2268, 'đa_dạng': 10906, 'thân_tình': 8290, 'tạo_hóa': 9688, 'tỏ_tình': 9800, 'chững': 1758, 'đỗ_ngọc_mẫn': 11591, 'chất_thải': 1575, 'bung': 513, 'áo_quần': 10795, 'côn_đồ': 1971, 'uốn_éo': 9991, 'từ_liêm': 9921, 'giảng_đường': 2952, 'mả': 5391, 'macau': 5074, 'ối': 11748, 'trầm_ngâm': 9164, 'loanh_quanh': 4494, 'nin': 6405, 'ngăn_cấm': 5985, 'đặng_ngọc_khuê': 11415, 'thỏa_mãn': 8583, 'mango': 5105, 'joyce': 3859, 'có_máu_mặt': 1942, 'henessy': 3169, 'lợi_ích': 5019, 'gò_má': 3050, 'nguyễn_thị_tiêu': 5845, 'phim_thời_sự': 6767, 'trời_ơi': 9288, 'nhá_nhem': 6195, 'thâm': 8270, 'hoàng_mộng_điệp': 3295, 'buột_miệng': 541, 'xiết': 10486, 'ẩn_náu': 11732, 'mai_duy_dưỡng': 5080, 'hách_dịch': 3434, 'tình_tiết': 9529, 'cô_chiêu': 1957, 'quan_tòa': 7109, 'soát': 7675, 'liên_tưởng': 4458, 'cua': 1807, 'mẹo': 5462, 'đợi_chờ': 11650, 'cơ_bắp': 2050, 'lợn': 5020, 'diễu_hành': 2417, 'cáu': 1899, 'nhập_cuộc': 6318, 'giáp_long': 2899, 'hàm_chứa': 3393, 'đầu_óc': 11368, 'trầy': 9224, 'tiêm': 8738, 'khốn_khó': 4128, 'phượng': 6954, 'cõng': 2015, 'xập_xình': 10675, 'tự_ý': 9958, 'nghiến': 5667, 'đậm_đà': 11379, 'hồi_ký': 3709, 'đưa_dâu': 11240, 'lịch_trình': 4954, 'tsunoda': 9321, 'cứng_họng': 2313, 'đen_thui': 10941, 'dơ_bẩn': 2559, 'rotte': 7356, 'khởi_tố': 4147, 've_chai': 10011, 'tô_minh_bân': 9568, 'vùng_xa': 10210, 'rađa': 7331, 'rứt': 7554, 'lớ_ngớ': 4992, 'huỳnh_thị_minh_hương': 3366, 'biết_chừng_nào': 460, 'robot': 7350, 'e_dè': 2715, 'lê_văn_dân': 4693, 'tính_mạng': 9549, 'làm_ơn': 4595, 'kiểm_điểm': 4228, 'vào_tròng': 10101, 'ngẩn_ngơ': 6030, 'cân_đối': 1905, 'bọng_đái': 1007, 'phòng_bệnh': 6874, 'cột_sống': 2284, 'ấn_độ': 11718, 'rừng_núi': 7557, 'đào_thoát': 11070, 'cách_âm': 1872, 'lăn_lộn': 4789, 'nguyễn_thị_bông': 5824, 'ân_giảm': 10815, 'tin_cậy': 8715, 'bàn_tán': 574, 'vô_tư': 10164, 'răn_đe': 7440, 'bết': 973, 'thiệt_thòi': 8145, 'danh_xưng': 2384, 'thía': 8313, 'lì': 4718, 'mang_tai': 5103, 'lăng_ông': 4791, 'tuyệt_vời': 9366, 'thú': 8359, 'cầm_lòng': 2177, 'tại_chỗ': 9677, 'rẻ_rúng': 7495, 'biệt_kích': 478, 'hình_dạng': 3466, 'dây_điện': 2519, 'quân_dịch': 7190, 'mbc': 5125, 'phú_nhuận': 6916, 'cất_nhắc': 2169, 'bão_tố': 642, 'kìm': 4284, 'bóp_nghẹt': 722, 'phạm_ngũ_lão': 6962, 'bóp': 720, 'cám_cảnh': 1879, 'đỏ_đèn': 11502, 'nông_đức_mạnh': 6516, 'xã_đội': 10586, 'phòng_the': 6880, 'tro': 8934, 'định_hướng': 11481, 'ào_ào': 10761, 'giàu': 2869, 'thí_sinh': 8311, 'thành_danh': 8231, 'mới_đó': 5547, 'nông_lâm': 6508, 'thời_biểu': 8603, 'kim_hoàng': 4164, 'vô_ích': 10169, '1922': 55, 'nhọc': 6358, '1988': 110, 'mắm': 5430, 'chữ_nghĩa': 1750, 'giội': 2989, 'myanmar': 5208, 'nể': 6614, 'khuyên': 3960, 'tay_ngang': 8010, 'lần_mò': 4884, 'mộ_đức': 5516, 'mịt_mù': 5483, 'dược': 2588, 'giông_tố': 2915, 'chạy_vạy': 1548, 'tan_cửa_nát_nhà': 7988, 'trĩ': 9084, 'lóe': 4738, 'tuần_lễ': 9377, 'lê_thị_kim_hoàng': 4687, 'nippon': 6407, 'bằng_lòng': 952, 'lãi': 4649, 'phần_nhiều': 7016, 'quạt_máy': 7233, 'trù_phú': 9061, 'nguyễn_thị_mai': 5836, 'vầy': 10296, 'đắt_đỏ': 11399, 'nhấn': 6290, '260': 155, 'mù_mịt': 5331, 'u_nang': 9968, 'cựa': 2347, 'xác_chết': 10562, 'nước_lạnh': 6554, 'bhxh': 427, 'phẫn_nộ': 7023, 'nghệ': 5708, 'thạnh_lộc': 8438, 'ngụm': 6090, 'cây_xanh': 1922, 'ướt_át': 11703, 'mỹ_tho': 5591, '89': 260, 'dường': 2584, 'thần_kỳ': 8485, 'chi_tiêu': 1245, 'gà_gật': 3019, 'thờ_ơ': 8601, 'auton_geenik': 351, 'channel': 1214, 'nóng_lòng': 6497, 'manh': 5106, 'lưu_xuân_khuyến': 4820, 'náo_nhiệt': 6451, 'khánh_hồng': 4006, 'danh_dự': 2373, 'tột_cùng': 9873, 'hữu_phong': 3804, 'nhòa': 6238, 'tokyo': 8860, 'trần_đức_biên': 9223, 'né_tránh': 6462, 'chả': 1551, 'thửa': 8686, 'đông_đặc': 11209, 'thương_nhớ': 8408, 'khí_đốt': 4032, 'tràn_đầy': 8999, 'săm_soi': 7802, 'chắc_nịch': 1597, 'bất_tỉnh': 883, 'sầm_uất': 7860, 'mở_đầu': 5564, 'australia': 350, 'phao': 6749, 'chiêm_ngưỡng': 1262, 'màu_mỡ': 5220, 'bẫy': 908, 'lịm': 4955, 'đột_xuất': 11640, 'chóp_chép': 1473, 'tiếp_chuyện': 8773, 'nguyên_chất': 5769, 'vô_tri': 10160, 'con_tin': 1792, 'trầy_xước': 9226, 'thượng_lưu': 8427, 'lợp': 5021, 'dặn': 2635, 'chat': 1219, 'len': 4413, 'thừ': 8677, 'gtvt': 3009, 'đăng_ký': 11225, 'cáo_phó': 1891, 'cơ_khí': 2058, 'chán': 1381, 'phí': 6868, 'ăn_thua': 10898, 'cần_cù': 2183, 'hướng_đạo_viên': 3563, 'thân_thiết': 8285, 'chài': 1369, 'cực_đoan': 2354, 'rỗng': 7523, 'con_nghiện': 1786, 'êm': 10826, 'sáng_tạo': 7738, 'đinh_ninh': 10958, 'đậm_đặc': 11380, 'chăm_chú': 1505, 'rờ_mó': 7537, 'chồng_con': 1677, 'new_world': 5631, 'lý_thế_quyên': 4782, 'khỏa_thân': 4118, 'dợm': 2685, 'tóm': 9561, '2003': 129, 'lý_chính_thắng': 4769, 'binh_nghiệp': 438, 'cam_ranh': 1127, 'nắp': 6590, 'vào_cuộc': 10100, 'phô_bày': 6899, 'phù_linh': 6905, 'cẳng_chân': 2227, 'toán': 8878, 'quaker': 7097, 'tưởng_tượng': 9671, 'wijojo': 10418, 'xuân_liên': 10525, 'lành': 4606, 'vé': 10119, 'đông_hà': 11193, 'gập': 3091, 'fob': 2742, 'tiêu_chuẩn': 8745, 'dể': 2643, 'vi_tính': 10023, 'vận': 10302, 'tư_bàn': 9628, 'rương': 7451, 'ngọc_cung': 6058, 'đặng_kim_trâm': 11414, 'tiểu_thuyết': 8827, 'thọ_giáo': 8577, 'đàn_đúm': 11063, 'nấy': 6581, 'trong_ngoài': 8937, 'lê_thị_hồng': 4686, 'vắn_tắt': 10324, 'bo_bo': 488, 'setepang': 7614, 'bả': 816, 'lắp_ráp': 4913, 'tuyển_thủ': 9358, 'cương': 2084, 'kết_án': 4330, 'thiết_tha': 8129, 'tổn_thương': 9846, 'diễn_tập': 2414, 'học_hàm': 3663, 'dẫn_dắt': 2622, 'ngoạn_mục': 5754, 'định_kỳ': 11483, 'tận_tụy': 9734, 'thơm_ngát': 8387, 'thị_tứ': 8571, 'ngoảnh': 5755, 'kiôt': 4207, 'được_mùa': 11277, 'nhang': 6110, 'chế_tạo': 1626, 'trực_diện': 9317, 'lễ_độ': 4944, 'nguyễn_đình_thi': 5902, 'xoa': 10491, 'da_gà': 2363, 'giảng_võ': 2951, 'qui': 7127, 'nhai': 6108, 'áo_lá': 10791, 'hãn_hữu': 3445, 'mò_mẫm': 5297, 'thương_lượng': 8404, 'đông_y': 11206, '85': 256, 'apple': 340, 'bổ_trợ': 1048, 'vùi': 10204, 'thanh_hoá': 8061, 'phường_thạnh_lộc': 6953, 'hộ_tống': 3739, 'bùi_thanh_bản': 742, 'tuồng': 9384, 'độc_lập': 11607, 'đày_đọa': 11075, 'nem': 5628, 'khấp_khởi': 4095, 'kêu_trời': 4282, 'canh_bạc': 1136, 'thi_hành': 8099, 'dun': 2453, 'để_dành': 11454, 'liếc': 4465, 'tồi_tệ': 9833, 'whitehurst': 10415, 'nước_máy': 6555, 'vợi': 10389, 'dù_vậy': 2547, 'hàng_hóa': 3403, 'thủy_hải_sản': 8659, 'ba_sen': 372, 'rẻ_tiền': 7496, 'xổ_số': 10697, 'lưng_chừng': 4809, 'hội_quán': 3752, 'nói_nhỏ': 6484, 'chấn_song': 1561, 'bỏ_túi': 1019, 'bù': 733, 'hoàng_hậu': 3291, 'giao_duyên': 2841, 'xạ': 10662, 'ngọc': 6056, 'nhảy_vọt': 6287, 'nói_thẳng': 6486, 'hoài_nhơn': 3271, 'may_công_nghiệp': 5118, 'khiếm_khuyết': 3912, 'gốm': 3118, 'chiêu_bài': 1265, 'mác': 5227, 'sông_ngòi': 7787, 'hoang': 3253, 'ra_hiệu': 7307, 'lây': 4647, 'nom': 6421, 'dư': 2561, 'trung_vệ': 8965, '450triệu': 195, 'vitamin': 10038, 'đường_bay': 11251, 'vớt': 10376, 'cali': 1119, 'an_đông': 320, 'tàn_khốc': 9415, 'trầm': 9160, 'bắc_sơn': 925, 'đáo_hạn': 11107, 'cas': 1180, 'liệu_pháp': 4478, 'vui_mừng': 10075, 'lộ': 4978, 'thời_sự': 8613, 'nghiệp_vụ': 5678, 'uốn_lượn': 9990, 'út_chuột': 10871, 'xắc': 10676, 'bú': 753, 'nồi': 6631, 'thuốc_lá': 8211, 'thủ': 8641, 'đồ_sộ': 11532, 'nứt': 6680, 'logo': 4498, 'nghiệm': 5671, 'xưa_nay': 10651, 'trung_đội_trưởng': 8968, 'bí_ẩn': 696, 'taberd': 7971, 'sơ_sài': 7817, 'ma': 5064, 'vôlê': 10173, 'gió_bụi': 2910, 'lher': 4420, 'french_style': 2751, 'thẳng_tay': 8526, 'tổ_dân_phố': 9838, 'hoại_tử': 3313, 'nghĩa_cử': 5693, 'lê_la': 4672, 'bắt_chuyện': 935, 'lấp_lánh': 4873, 'xông_xênh': 10633, 'ẩn': 11729, '37': 178, '82': 252, 'ưng_ý': 11682, 'liên_hiệp_quốc': 4445, 'hội_diễn': 3746, 'hết_hơi': 3640, 'mạnh_mẽ': 5388, 'ngôi_sao_gia_định': 5971, 'arsenal': 343, 'ngoại_tình': 5750, 'éo_le': 10822, 'đại_ức': 11307, 'liên_hoan': 4446, 'sàn_diễn': 7717, 'bồn_chồn': 1042, 'trung_kiên': 8953, 'pha_chế': 6730, 'khắc_phục': 4109, 'mạng_lưới': 5385, 'trung_niên': 8957, 'héo_hắt': 3459, 'mail': 5090, 'hiển_hiện': 3212, 'ca_kịch': 1109, 'chia_xa': 1252, 'tại_chức': 9678, 'lột_xác': 4991, 'nẻo': 6605, 'vẫy': 10299, 'chọc_quê': 1659, 'rát': 7396, 'xoa_dịu': 10493, 'thú_dữ': 8360, 'đò': 11152, 'tây_nguyên': 9496, 'nào_là': 6445, 'quảng_châu': 7251, 'ngun_ngút': 5761, 'dồn_dập': 2675, 'nghệ_danh': 5710, 'bèo_bọt': 647, 'kẹt': 4307, 'nông_trường': 6514, 'ngớ': 6078, 'kim_triệu': 4175, 'phù_phép': 6908, 'quen_mặt': 7125, 'nguyễn_thị_loan': 5833, 'nhạc_công': 6275, 'nhượng': 6273, 'chí_cốt': 1442, 'xương_xẩu': 10658, 'chuyên_dụng': 1333, 'ỉu_xìu': 11744, 'chuồng': 1360, 'tỉnh_bơ': 9790, 'cô_chú': 1958, 'yến_phương': 10753, 'cặm_cụi': 2228, 'béo_béo': 654, 'incheon': 3828, 'văn_phòng': 10223, 'nhầy': 6305, 'lắng_nghe': 4910, 'lề_đường': 4939, 'nguyễn_văn_tâm': 5894, 'tu_sửa': 9327, 'gọng': 3112, 'thi_tuyển': 8102, 'võ_thuật': 10189, 'hớ': 3764, 'nhí': 6235, 'phán_xét': 6813, 'vứt': 10395, 'cơ_chế': 2051, 'kuala_sepetang': 4256, 'chạy_đôn_chạy_đáo': 1550, 'phạm_cho': 6958, 'lầm_bầm': 4879, 'cổ_điển': 2269, 'nguyễn_du': 5788, 'tụ_hội': 9881, 'chân_chất': 1402, 'te': 8023, 'dỡ_dang': 2684, 'running': 7366, 'tươi_trẻ': 9650, 'châm_biếm': 1398, 'nhập_ngoại': 6323, 'hết_mức': 3645, 'chôn_cất': 1478, 'khỏe': 4119, 'thúy': 8372, 'bà_già': 546, 'cập': 2212, 'bạc_má': 793, 'cộc': 2275, 'sặc': 7882, 'phong_bì': 6782, 'đường_cong': 11256, 'phá_phách': 6804, 'c4': 1105, 'giơ': 2922, 'lãnh': 4654, 'cuba': 1809, 'rộn': 7526, 'lâm_ngư_trường': 4632, 'trở_lên': 9290, 'hoảng_hồn': 3320, 'lân_la': 4639, 'trùng_phùng': 9067, 'bầu_chọn': 901, 'mòn_mỏi': 5299, 'thứ_sáu': 8671, 'trật': 9229, 'ngập_chìm': 6041, 'điên_cuồng': 10964, 'mẹ_con': 5459, 'ahmad': 285, 'dời': 2680, 'săn_lùng': 7805, 'cố_định': 2246, 'đường_biên': 11252, 'cho_rồi': 1303, 'gọi_là': 3109, 'mê_linh': 5284, 'toàn_diện': 8871, 'mai_văn_phúc': 5087, 'đi_nữa': 10951, 'trần_phú': 9186, 'cấp_ủy': 2164, 'chuyên_canh': 1330, 'tình_nhân': 9526, 'hiện_tượng': 3222, 'hoảng_loạn': 3321, 'buộc': 539, 'mời_chào': 5554, 'một_trăm': 5537, 'trần_thị_nhì': 9201, 'đền_tội': 11449, 'đánh_quả': 11100, 'tân': 9474, 'đoàn_tụ': 11025, 'mã_hóa': 5262, 'trương_kim_hùng': 9100, 'nhợt_nhạt': 6389, 'nguyễn_thị_kim_hà': 5829, 'vực': 10409, 'nhễ_nhại': 6351, 'cao_thủ': 1165, 'nguyễn_giàu': 5789, 'kháng_chiến': 3998, 'biểu_hiện': 472, 'đóng_thùng': 11172, 'hương_chữ': 3550, 'lạ_kỳ': 4846, 'rao_giảng': 7323, 'người_bệnh': 5997, 'lảng_vảng': 4869, 'thua_lỗ': 8185, 'nhân_cách': 6206, 'phân_bón': 6844, 'cửa_sổ': 2341, 'héo_hon': 3458, 'mộc_mạc': 5521, 'thèm': 8295, 'vũng_tàu': 10259, 'phạm_thị_hoa': 6969, 'đài_nam': 11048, 'đãi': 11123, 'ươm': 11690, 'nguyễn_văn_hạnh': 5875, 'nghĩa_an': 5692, 'mánh': 5233, 'phú_bổn': 6912, 'tròm_trèm': 9047, 'triệu_phú': 8933, 'khơme': 4083, 'rên_xiết': 7413, 'rần': 7480, 'hiện_diện': 3217, 'nhớt': 6384, 'men': 5130, 'sung_túc': 7692, 'dây': 2514, 'dương_khang': 2570, 'võ_văn_bảy': 10193, 'chìm': 1437, 'biệt': 475, 'doanh_thu': 2432, 'vũ_trường': 10249, 'lẹ': 4927, 'tứ_sắc': 9905, 'chớp_nhoáng': 1686, 'di_sản': 2400, 'đe': 10932, 'khxh': 3975, 'vở': 10380, 'phập_phồng': 7027, 'vọp_bẻ': 10359, 'thôn_nữ': 8332, 'khí': 4028, 'đi_đi': 10953, 'trông_coi': 9060, 'mô_tả': 5312, 'trần_thị_hương': 9196, 'đất_đai': 11334, 'một_lô_một_lốc': 5530, 'ghè': 2786, 'nhét': 6230, 'đêm_đêm': 11141, 'thúng': 8371, 'dăm_ba': 2551, 'xà_lan': 10557, 'năn_nỉ': 6537, 'dục': 2688, 'hông': 3516, 'năng_nổ': 6539, '586': 221, '_đây': 272, 'won': 10422, 'dây_nhợ': 2518, 'nặng_trĩu': 6603, 'lung_lay': 4540, 'tập_luyện': 9740, 'té': 9501, 'nhẫy': 6309, 'hoan_hô': 3250, 'hèm': 3452, 'tha_thiết': 8040, 'điệu': 11009, 'nứa': 6678, 'atm': 347, 'vỡ_nợ': 10384, 'vụn': 10393, 'chè': 1422, 'danh_tiếng': 2380, 'nguyên_nhân': 5772, 'lay_động': 4404, 'diệt': 2422, 'nhắn': 6338, 'sương': 7839, 'hoàng_minh_châu': 3294, 'teen': 8027, 'nhuận_sắc': 6148, 'không_quân': 4068, 'khép_kín': 4022, 'làm_đồng': 4594, 'năm_chiến': 6525, 'phát_hành': 6831, 'dặn_dò': 2636, 'xơ_xác': 10647, 'y_khoa': 10711, 'nồi_hơi': 6632, 'chẳng_hạn': 1606, 'lùm_xùm': 4755, 'bại_trận': 805, 'bủa': 1086, 'tiền_tiêu': 8813, 'bắc_ninh': 924, 'hậu_chiến': 3615, 'phạm_huỳnh_tam_lang': 6959, 'biệt_thự': 480, 'quậy': 7279, 'hãnh_diện': 3447, 'tối_lửa_tắt_đèn': 9810, 'phán_quyết': 6812, 'nín': 6470, 'nhà_sàn': 6171, 'dệt_may': 2650, 'chấn_động': 1563, 'cơ_cấu': 2052, 'lúng_liếng': 4765, 'thú_vui': 8365, 'giao_khoán': 2846, 'phillips_channel': 6763, 'dính': 2531, 'dân_làng': 2498, 'chút_đỉnh': 1503, 'tập_đoàn_trưởng': 9748, 'nguy_nga': 5767, 'đèn_điện': 11131, 'từ_ngữ': 9922, 'thoăn_thoắt': 8159, 'hen_suyễn': 3168, 'buôn_ma_thuột': 519, 'tứ_bề': 9903, 'thắm': 8511, 'xáp': 10572, 'đo_đạc': 11016, 'tẻ_nhạt': 9764, 'ngũ_vị': 5987, 'tin_buồn': 8714, 'sát_phạt': 7746, 'loại_bỏ': 4521, 'hưu_trí': 3548, 'triệu_chứng': 8930, 'vĩnh_phúc': 10237, 'kiểm_soát': 4225, 'nhung_nhớ': 6146, 'thủ_công': 8642, 'đại_sứ': 11296, 'truy': 8971, 'cách_mạng_tháng_tám': 1869, 'góc_độ': 3055, '41': 188, 'xăng_dầu': 10644, 'thuốc_nổ': 8216, 'bí_quyết': 694, 'nấc': 6575, 'hennessy': 3170, 'trơn_tuột': 9093, 'thụy_sĩ': 8639, 'ngở_ngàng': 6085, 'cải_lương': 2122, 'thứ_bảy': 8668, 'chót': 1474, 'cuốn_chiếu': 1819, 'thều_thào': 8548, 'nhặt_nhạnh': 6344, 'tầm_tầm': 9720, 'giam_lỏng': 2826, 'chiều_chiều': 1293, 'công_kênh': 1982, 'bẽn_lẽn': 961, 'bán_chạy_như_tôm_tươi': 598, 'dạy_học': 2600, 'tài_xế': 9410, 'bi_quan': 431, 'kềnh_càng': 4332, 'kẻo': 4311, 'hessen': 3174, 'khe': 3900, 'kim_loại': 4168, 'hiroshima': 3182, 'dong': 2434, 'ấp_ủ': 11721, 'nguyền_rủa': 5780, 'rái': 7391, 'ngọc_diện': 6059, 'sành': 7720, 'có_học': 1937, 'lượn': 4841, 'hoài_nam': 3270, 'khánh_thành': 4009, 'đức_hạnh': 11661, 'toàn_quốc': 8874, 'nghỉ_hè': 5717, 'mảng': 5394, 'ưng': 11681, 'chà': 1367, 'taiping': 7980, 'trang_nhung': 8894, 'gàn': 3021, 'liên_tiếp': 4457, 'đỗ_văn_hậu': 11596, '1956': 78, 'ri': 7337, 'ngái_ngủ': 5937, 'mục_đích': 5571, 'dường_như': 2585, 'cao_lãnh': 1152, 'nội_địa': 6665, 'công_văn': 2008, 'vị_thành_niên': 10353, 'loạt_xoạt': 4529, 'bắt_mạch': 939, 'tdtt': 8022, 'trạc': 9139, 'thiệu_võ': 8146, 'hét': 3460, 'thui': 8187, 'rủi': 7548, 'bến_giá': 967, 'đặng_vương_hưng': 11419, 'phát_hỏa': 6832, 'thông_minh': 8339, '140': 31, 'trà_giang': 8991, 'hoàng_đạo_thúy': 3308, '1985': 107, 'phan_minh_phụng': 6734, 'xúm': 10639, 'bql': 502, 'giá_như': 2876, 'móng_cái': 5307, 'kim_jeong_ho': 4167, 'lấp_ló': 4874, 'made': 5076, 'bàn_chân': 563, 'đỗ_thới_vinh': 11595, 'quả_phụ': 7238, 'thô_sơ': 8326, 'xu': 10507, 'thợ_săn': 8631, 'mười_bốn': 5368, 'bì_thư': 662, 'tụ': 9880, 'sơ_hở': 7814, 'stanley': 7678, 'bức_bối': 1089, 'viện_trợ': 10052, 'bến_bãi': 966, 'cải_tạo': 2125, 'vui_tính': 10078, 'ma_lực': 5068, 'lót': 4742, 'tam_bình': 7982, 'hột': 3763, 'động_viên': 11633, 'sang_năm': 7583, 'suy_dinh_dưỡng': 7695, 'chiến_thuật': 1281, 'sốt': 7907, 'lộn': 4984, 'cao_xa': 1170, 'không_chừng': 4061, 'cảm_kích': 2128, 'tra': 8885, 'nan_y': 5621, 'nạt': 6570, 'mãn_nguyện': 5269, 'gái_gú': 3029, 'nè': 6460, 'vòng_vèo': 10143, 'phạm_thị_thắm': 6972, 'áy_náy': 10804, 'bồi_dưỡng': 1038, 'nguyễn_hữu_huy': 5794, 'nghiễm_nhiên': 5670, 'thế_trận': 8544, 'bao_che': 401, 'xã_viên': 10584, 'vỏn_vẹn': 10362, 'sai_lệch': 7570, 'năng_suất': 6540, 'khôn_lường': 4056, 'cạo_gió': 2116, 'phản_công': 6997, 'dương_vân_nga': 2578, 'tài_tình': 9408, 'đa_hòa_nam': 10907, 'cáp': 1893, 'biến_động': 456, 'nhiệt': 6133, 'họa_vô_đơn_chí': 3659, 'nhãn_hiệu': 6223, 'rtất_cả': 7358, 'tràng': 9000, '1960': 81, 'vầng': 10295, 'rỗng_không': 7524, 'ma_lanh': 5067, 'chỏ': 1663, 'nổ_súng': 6640, 'nặng_nhọc': 6601, 'đại_vương': 11300, 'bọ_rầy': 1004, 'kỳ_diệu': 4346, 'trường_học': 9123, 'hoang_đảo': 3258, 'râm_ran': 7397, 'thông_thương': 8344, 'hun': 3325, 'tác_phẩm': 9434, 'mệnh_giá': 5473, 'phần_tử': 7020, 'kbs': 3877, 'truy_quét': 8973, 'trào_dâng': 9003, 'thời_kỳ': 8612, 'thường_ngày': 8417, 'yết_hầu': 10755, 'chuyền': 1343, 'bưởi': 790, 'đảm_bảo': 11314, 'kim_biên': 4158, 'hâm_mộ': 3441, 'thì_thào': 8306, '176': 44, 'nhập_học': 6320, 'vanh_vách': 10006, 'thiên_đường': 8117, 'cam_go': 1124, 'bonia': 495, 'nước_da': 6550, 'buồn_thiu': 531, 'tiên_phong': 8740, 'đột_nhập': 11638, 'nghiêm_trọng': 5661, 'nghi_kỵ': 5652, 'sụt_sịt': 7935, 'xã_hội_đen': 10583, 'nguyễn_kim_thuý': 5798, 'hoàng_hương': 3290, 'khoảng_cách': 3946, 'hỏa_mai': 3680, 'ông_đốc': 10860, 'rừng_phòng_hộ': 7558, 'mão': 5274, 'ăn_theo': 10897, 'truyền_hình_cáp': 8978, 'thượng_sĩ': 8429, 'tung_hê': 9334, 'hủy': 3788, 'lở_loét': 5009, 'bae_jong_joon': 381, 'sơ': 7812, 'bản_địa': 828, 'leo_thang': 4417, 'tỏi': 9803, 'tổng_bí_thư': 9849, 'tuyệt': 9359, 'chòm_xóm': 1464, 'hung_bạo': 3328, 'thâm_quầng': 8273, '1958': 79, 'nghiệt_ngã': 5680, 'vtv3': 10067, 'bứt': 1091, 'vé_số': 10120, 'dream': 2441, 'lui': 4536, 'minh_nhựt': 5149, 'unicef': 9980, 'chăm_chắm': 1508, 'lu_mờ': 4533, '24tỉ': 151, 'tóe': 9560, 'thiên': 8107, 'lận_đận': 4895, 'công_khai': 1981, 'áp_thấp': 10801, 'chân_trời': 1410, 'đảm_nhiệm': 11315, 'tinh_mơ': 8726, 'ngày_sinh': 5930, 'chẹt': 1618, 'chả_chìa': 1552, 'thiên_lý': 8110, 'lõng_bõng': 4752, 'xấp': 10668, 'tuyển_chọn': 9355, 'nãy': 6459, 'tiên': 8739, 'xklđ': 10488, 'hòm': 3491, 'thiếu_niên': 8135, 'khởi_hành': 4143, 'bánh_xe': 614, 'phụng_phịu': 7073, 'mừng_rỡ': 5579, 'kiên_cố': 4194, 'bỏ_mối': 1014, 'xen_lẫn': 10470, 'ông_ta': 10859, 'lâu_dài': 4643, 'afghanistan': 284, 'nguyễn_văn_hằng': 5877, 'tha_hương': 8037, 'ra_mắt': 7310, 'phối': 7039, 'não': 6458, 'người_đẹp': 6009, 'hầm_lò': 3605, 'salon': 7573, 'chấn_chỉnh': 1560, 'tau': 8004, 'tỉ_tê': 9787, 'thu_xếp': 8182, 'sắc_lạnh': 7867, 'một_mất_một_còn': 5533, 'thước': 8414, 'trần_quang_khải': 9189, 'đam_mê': 10912, 'nhàu': 6192, 'giảng_dạy': 2949, 'lo_toan': 4488, 'tài_danh': 9400, 'phân_kim': 6850, 'sổ_tay': 7912, 'siêu_phàm': 7649, 'liên_hoan_phim': 4447, 'cái_chết_trắng': 1876, 'nhổ': 6375, 'trọng_tấn': 9259, 'lam_lũ': 4384, 'sutarjo': 7694, 'lồ_lộ': 4968, 'lờ_đờ': 5003, 'che_chở': 1225, 'mới_mẻ': 5543, 'bao_gồm': 404, 'hai_mươi': 3144, 'thú_rừng': 8362, 'thuyền_nan': 8194, 'xóm_làng': 10617, 'milan': 5140, 'tân_sơn_nhất': 9486, '03': 5, 'mù_quáng': 5332, 'sướt': 7841, '1929': 56, '45': 194, 'trước_hết': 9113, 'tâm_sức': 9468, 'hưng_phấn': 3543, 'quả_nhiên': 7237, 'bế_tắc': 964, 'tám_trăm_ngàn': 9449, 'mưa_lũ': 5357, 'cách_biệt': 1865, 'gối': 3116, 'huống_hồ': 3356, 'nguyễn_văn_chật': 5866, 'hì_hụi': 3463, 'vô_điều_kiện': 10170, 'boston': 499, '51': 208, 'cát_hưng': 1896, 'lam': 4383, 'lè_tè': 4662, 'quốc_việt': 7299, 'quấy': 7261, 'lách_cách': 4618, 'rơm_rác': 7447, '1947': 70, 'quẫn_trí': 7275, 'hoàng_thái_tử': 3297, 'quí_khách': 7219, 'văn_sĩ': 10224, 'passport': 6719, 'hộ_chiếu': 3735, 'triển_lãm': 8925, 'thảo_cầm_viên': 8452, 'đầu_gấu': 11351, 'bình_phong': 676, 'tình_làng_nghĩa_xóm': 9521, 'tử_trận': 9935, 'ghẹo': 2799, 'óng_ánh': 10840, 'mạnh_thường_quân': 5389, 'chữa_cháy': 1755, 'thăng_trầm': 8384, 'du_nhập': 2448, 'b40': 355, 'đọ': 11489, 'ngân_ngấn': 5946, 'thi_đua': 8103, 'địa_lý': 11470, 'rẽ': 7497, 'đỗ_văn_phúc': 11597, 'đài_thọ': 11051, 'sân_vận_động': 7758, 'định_nghĩa': 11485, 'thụy_điển': 8640, 'sần': 7861, 'hỏa_hoạn': 3678, 'hoạt_bát': 3315, 'phục_vụ_bàn': 7070, 'luật_sư': 4557, 'tao_nhã': 8001, 'nghiêm_ngặt': 5660, 'chiang_mai': 1253, 'điều_hành': 10981, 'xích': 10606, 'do_dự': 2427, 'than_phiền': 8053, 'chính_hiệu': 1452, 'tiếp_cận': 8774, 'khống_chế': 4131, 'copy': 1801, 'be': 418, 'tiếp_quản': 8779, 'dặm': 2634, 'bộ_binh': 1055, 'túy_lúy': 9609, 'toại_nguyện': 8882, 'nhớ_nhung': 6380, 'khổng_lồ': 4139, 'lớp_học': 5000, 'vị_chi': 10351, 'tù_giam': 9586, 'miễn': 5165, 'chẳng_là': 1607, 'kim_pherp': 4170, 'bốc_lửa': 1029, 'sụt': 7933, 'dược_thảo': 2590, 'widjojo': 10417, 'nước_nhà': 6560, 'am_tường': 299, 'cờ_bạc': 2287, 'vô_giá': 10152, 'tươi_cười': 9648, 'nhạc_sĩ': 6277, 'miệng_ăn': 5170, 'khánh': 4002, 'vỉa': 10348, 'lúa_gạo': 4759, 'nike': 6402, 'nghĩa_vụ': 5701, 'leo': 4416, 'hoàng_đạt': 3309, 'vui_sướng': 10076, 'tôi_luyện': 9572, 'chữa_chạy': 1756, 'kontum': 4249, 'cấy': 2172, 'quyện': 7163, 'vương_miện': 10264, 'kiểm_duyệt': 4223, 'trìu_mến': 9037, '160': 38, 'động_vật': 11634, 'chạm': 1535, 'thân_xác': 8291, 'bao_lâu': 406, 'vai_trò': 9997, 'lia_lịa': 4424, 'nghiệm_thu': 5672, 'trấn_giữ': 9157, 'phải_chi': 6994, 'xóm_giềng': 10616, 'la': 4371, 'cười_ngất': 2097, 'denxavẳn': 2391, 'tức_giận': 9911, 'thiết_lập': 8128, 'lịch_kịch': 4952, 'điêu_luyện': 10969, 'lạc_quan': 4855, 'biogas': 441, 'măng': 5341, 'chặn': 1614, 'cũ_rích': 2046, 'xé': 10587, 'cắt_cơn': 2225, 'cáo_trạng': 1892, 'congo': 1797, 'đôi_lúc': 11181, 'phên': 6863, 'vũ': 10239, 'xoàng': 10500, 'túa': 9594, 'cắn_răng': 2221, 'bắc_giang': 921, 'thanh_thiếu_niên': 8071, '225': 145, 'tình_thế': 9528, 'bịt_mắt_bắt_dê': 1002, 'nề_hà': 6611, 'dâng': 2511, 'hậm_hực': 3612, 'ngòn_ngọt': 5953, 'vô_kể': 10155, 'tay_trắng': 8015, 'nọ': 6620, 'quờ_quạng': 7301, 'chiều_qua': 1296, 'suối': 7707, 'sinh_lực': 7633, 'túc': 9595, 'huyết_áp': 3340, 'biến_thái': 454, 'tiu': 8736, 'dạt': 2597, 'ngượng_nghịu': 6017, 'quả_là': 7236, 'hồn_nhiên': 3716, 'chẳng_ra_làm_sao': 1611, 'tan_tầm': 7992, 'judo': 3862, 'cbcnv': 1194, 'quan': 7098, 'khí_chất': 4029, '585': 220, 'bất_hợp_tác': 869, 'đói_khát': 11159, 'tưởng_bở': 9669, 'khải_định': 4090, 'cứu_giúp': 2319, 'chế_tài': 1625, 'thăng_hoa': 8379, 'bi_ai': 429, '61': 227, 'riêng_biệt': 7341, 'trà_cổ': 8990, 'gò_bao': 3048, 'rang': 7320, 'chít_chát': 1462, 'rừng_già': 7556, 'thủy': 8657, 'một_tí': 5538, 'lê_văn_tân': 4701, 'tập_hợp': 9737, 'cho_hay': 1301, 'kháng_cáo': 3999, 'ở_riêng': 11771, 'họa': 3657, 'tra_cứu': 8886, 'kinh_dị': 4182, 'phụ_huynh': 7059, 'ngán_ngẩm': 5939, 'thiêu_thân': 8121, 'xe_đò': 10462, 'lê_thị_riêng': 4690, 'vũ_đình_hồng': 10256, 'chỉ_huy': 1637, 'sinh_dục': 7630, 'thân_chủ': 8277, 'ngời': 6084, 'hứng_chịu': 3794, 'lựu_đạn': 5062, '15triệu': 36, 'đầu_quân': 11358, 'ngơi_nghỉ': 5990, 'sở_thích': 7922, 'tiền_đạo': 8818, 'lột': 4990, 'cao_học': 1150, 'cầu_lông': 2191, 'sex': 7615, 'hóa': 3496, 'hormon': 3265, '92': 266, 'đồng_ruộng': 11566, 'nhắm_mắt': 6335, 'phần_mềm': 7014, 'hôi': 3507, 'hom_hem': 3261, 'nung': 6430, 'làm_ngơ': 4579, 'pháp_trường': 6824, 'bảnh_bao': 832, '1920': 54, 'an_phận_thủ_thường': 315, 'chúc_mừng': 1490, 'mới_rồi': 5544, 'khôi_hài': 4053, 'rách_nát': 7389, 'bình_thạnh': 682, 'sản_vật': 7854, 'thomas_good': 8149, 'abc': 276, 'kuala_lumpur': 4255, 'giấc_ngủ': 2954, 'chi_nhánh': 1243, '06': 8, 'chui': 1320, 'dẫu_sao': 2625, 'lang_bạt': 4389, 'nhà_riêng': 6169, 'công_ty_con': 2002, 'bất_di_bất_dịch': 864, 'xịch': 10691, 'vũ_điệu': 10255, 'xoa_bóp': 10492, 'phan_văn_đồng': 6745, 'cà_ri': 1839, 'đầu_thai': 11362, 'tạm_bợ': 9682, 'chăm_chỉ': 1509, 'hư_hỏng': 3537, 'xà_lim': 10558, 'washington_dc': 10412, 'bỏ_dở': 1011, 'cơm_bữa': 2071, 'nguyễn_thiện_thuật': 5815, 'hàm_nghĩa': 3394, 'già_trẻ': 2863, 'vịt': 10357, 'thỏa_thuê': 8584, 'sử': 7950, 'tuổi_tác': 9390, 'peter_sellers': 6726, 'may_vá': 5123, 'hàng_hiệu': 3401, 'ngay_ngắn': 5641, 'đầu_máy': 11355, 'tỉnh_đoàn': 9795, 'duyên_nợ': 2467, 'sung_mãn': 7689, 'cào': 1846, 'nhược_điểm': 6272, 'rờn_rợn': 7542, 'lê_thị_dung': 4685, 'trằn_trọc': 9239, 'đồ_dùng': 11529, 'yên_sơn': 10734, 'lều': 4940, 'do_đó': 2429, 'adidas': 280, 'thuê_mướn': 8199, 'cày_vỡ': 1850, 'linh_chi': 4428, 'nhanh_nhảu': 6114, 'liên_lụy': 4452, 'tỷ': 9962, 'biển_đông': 469, 'thủ_phạm': 8644, 'phương_án': 6947, 'nguyễn_văn_liêm': 5880, 'bác_hồ': 591, 'lecmôntôp': 4406, 'trông_chờ': 9059, 'bản_sao': 823, 'nhãn_mác': 6225, 'giá_thành': 2877, 'con_cả': 1782, 'hiếu_thảo': 3198, 'pháp_nhân': 6823, 'mất_hút': 5400, 'ấn_độ_dương': 11719, 'tưng_bừng': 9646, 'đóng_gói': 11170, 'lạnh_nhạt': 4863, 'lực_sĩ': 5060, 'ngòi_bút': 5952, 'khất': 4096, 'nha': 6106, 'rò_rỉ': 7418, 'hai_đồ': 3148, 'có_một_không_hai': 1944, 'lục_quân': 5025, 'nhấc': 6288, 'thất_thần': 8469, 'kiềm_chế': 4219, 'chăn_dắt': 1513, 'bệnh_tình': 990, 'hiểm_ác': 3210, 'dửng_dưng': 2697, 'nhọn_hoắt': 6361, 'clo': 1766, 'nhất_định': 6302, 'lê_nhật_tân': 4677, '1983': 105, 'chạy_ăn': 1549, 'nguyên_vẹn': 5778, 'búa': 754, 'robert_whitehurst': 7349, 'tế': 9765, 'ghi_chú': 2779, 'mét': 5281, 'tảng': 9698, 'to_lớn': 8853, 'trừng': 9311, 'đồng_thanh': 11567, 'điều_chỉnh': 10979, 'mồ_mả': 5505, 'văng_vẳng': 10229, 'nghịch_ngợm': 5725, 'người_người': 6003, 'vù': 10203, 'trí': 9038, 'môtô': 5325, 'thực_khách': 8692, '90': 262, 'hưng_đạo': 3546, 'chửi': 1743, 'giữa_chừng': 3002, 'tuột': 9392, 'hoàng_xuân_nhị': 3306, 'cây_bút': 1911, 'thôi_thì': 8328, 'moon_geun_young': 5186, 'phả': 6992, 'trái_phép': 9013, 'cao_đạt': 1173, 'không_biết_chừng': 4060, 'tổn_hại': 9845, 'hành_chính': 3413, 'nguyễn_văn_toại': 5892, 'cảm_tạ': 2136, 'tay_trái': 8014, '1991': 113, 'minh_lộc': 5148, 'quy': 7140, 'copa_america': 1800, 'tôn': 9577, 'hứa_ngọc_minh': 3792, 'bó_tay': 705, 'thủy_lực': 8661, 'bùng_nổ': 751, 'tây_sơn': 9498, 'nghệ_nhân': 5711, 'thô_lỗ': 8325, 'trường_thọ': 9131, 'bới': 1070, 'đốc_binh_kiều': 11505, 'hợp_chất': 3775, 'dòng_họ': 2540, 'trợ': 9297, 'quần_bò': 7264, 'họng': 3675, 'ông_bà_cụ': 10853, 'trung_lịch': 8956, 'sửa_soạn': 7955, 'mồi': 5507, '1949': 71, 'biên_bản': 443, 'mong_chờ': 5180, 'mang_tiếng': 5104, 'oanh_liệt': 6697, 'cố_cựu': 2240, 'nhộn_nhịp': 6378, 'ngót_nghét': 5964, 'trần_văn_chánh': 9209, 'xi_măng': 10474, 'màu_da': 5218, 'ghì': 2797, 'bản_tính': 825, 'khoan_dung': 3929, 'y_như_rằng': 10714, 'nhấn_mạnh': 6292, 'vỹ_dạ': 10410, 'hỏa_tiễn': 3681, 'trổ': 9275, 'vóc': 10145, 'chùng': 1485, 'điệu_bộ': 11010, 'ngậm_miệng': 6037, 'kia_mà': 4155, 'tiểu_đoàn_trưởng': 8831, 'thị_sát': 8566, 'sơ_cứu': 7813, 'phú_hòa_tân': 6913, 'mumbo': 5195, 'nguyễn_minh_bình': 5802, 'amouretti': 302, 'khối_lượng': 4125, 'bụp': 1085, 'thao_tác': 8081, 'dỏm': 2667, 'chì': 1434, 'lai': 4380, 'đông_hưng': 11194, 'bergman': 422, 'lỗ_vốn': 4975, 'đê_ga': 11135, 'báo_hình': 621, 'ria': 7338, 'ngoằn_ngoèo': 5758, 'ga': 2753, 'qui_nhơn': 7134, 'băng_bó': 764, 'đảo_ngược': 11323, 'hành_hạ': 3414, 'lung_tung': 4542, 'đánh_gục': 11096, '96': 268, 'hình_thể': 3472, 'lầm_lũi': 4880, 'lẻn': 4932, 'đặc_cách': 11405, 'khép_nép': 4023, 'nhận_xét': 6315, 'trang_trải': 8900, 'kinh_hoàng': 4183, 'tính_toán': 9550, 'rực': 7562, '218': 139, 'lân_cận': 4638, 'báo_giới': 619, 'nhi': 6121, 'rượt': 7457, 'lê_văn_thành': 4698, 'chị_gái': 1650, 'hai_bàn_tay_trắng': 3140, 'trộn_trạo': 9282, 'thất_thế': 8471, 'chờ_chực': 1688, 'giác': 2879, 'international_herald_tribune': 3835, 'hổ': 3724, 'hứng': 3793, 'gặp_mặt': 3104, 'phạm_văn_hai': 6983, 'ọp_ẹp': 11747, 'bản_nhạc': 821, 'gia_bảo': 2806, 'nở_rộ': 6673, 'chí_ít': 1445, 'đồng_tử': 11573, 'hươu': 3556, 'vệ': 10342, 'chới_với': 1682, 'nhìn_chung': 6233, 'miễn_là': 5166, 'phe': 6750, 'nhiếp_ảnh_gia': 6126, 'đúc_kết': 11216, 'bazan': 417, 'rạch_tra': 7466, 'nói_cười': 6480, 'lứa': 5042, 'ưu_đãi': 11689, 'rỉ_tai': 7502, 'hồ_xuân_đức': 3704, 'sách_báo': 7725, 'công_tử': 2004, 'rể': 7500, 'trưởng_đoàn': 9137, 'màu_nước': 5221, 'cặn_kẽ': 2229, 'gấp_rút': 3078, 'bạt': 814, 'thuộc_cấp': 8223, 'giò': 2905, 'thăm_hỏi': 8375, 'cùi_chỏ': 2017, 'dễ_chịu': 2645, 'cay_nghiệt': 1191, 'miền_tây': 5164, 'levi': 4419, 'nhong_nhóng': 6139, 'trần_hưng_đạo': 9177, 'dao_lam': 2386, 'trắng_đen': 9238, 'tiêu_biểu': 8744, '7triệu': 247, 'vỏ': 10361, 'xí_được': 10604, 'xả_hơi': 10665, 'di_truyền': 2401, 'kiêng_nể': 4203, 'điềm': 10973, 'rành': 7379, 'dương': 2568, 'đổi_mới': 11585, 'thiên_nhiên': 8111, 'vớ': 10372, 'lúi_húi': 4763, 'chiến_công': 1274, 'dầm': 2612, 'kín_đáo': 4291, 'thềm': 8547, 'lý_quốc_định': 4778, 'làm_phước': 4582, 'chánh': 1384, 'xước': 10659, 'đay': 10929, 'tầm_cỡ': 9717, 'chúng_bay': 1493, 'mệt_nhọc': 5480, 'phù': 6901, 'mai_duy_diễn': 5079, 'văn_cường': 10217, 'rau_quả': 7328, 'phốt_pho': 7042, 'nhựt': 6398, 'trần_ngọc_nghi': 9183, 'hiểm_nghèo': 3208, 'thớ': 8599, 'cư_xử': 2079, 'mặt_đất': 5456, 'thanh_oai': 8067, 'cạm_bẫy': 2111, 'ice': 3811, 'cầu_muối': 2194, 'khoét': 3943, 'lê_văn_đựng': 4703, 'nhắn_tin': 6340, 'mỹ_mãn': 5587, 'phủi': 7077, 'sa_chân': 7564, 'khát_máu': 4013, 'đèn_pha': 11128, 'đại': 11279, 'ăn_sương': 10896, 'đinh_văn_tuấn': 10962, 'mặt_mày': 5450, 'huỳnh_thu_hà': 3363, 'gây_tê': 3041, 'hảo_tâm': 3598, 'tái_sản_xuất': 9444, 'độc_thoại': 11609, 'hết_biết': 3639, 'cũ_kỹ': 2045, 'công_đoàn': 2011, 'lê_trung_thành': 4692, 'rô_ti': 7423, 'tám_trống': 9450, 'đình': 11143, 'an_sương': 316, 'lẩu': 4889, 'dập_dềnh': 2627, 'ninfan': 6406, '31': 166, 'thông_dịch': 8336, 'khủng_hoảng': 4151, '33': 171, 'thái_mỹ_dung': 8257, 'bại_tướng': 806, 'd1': 2358, 'liều_mạng': 4472, 'trong_sáng': 8938, 'khởi_nghiệp': 4144, '64': 229, 'nữ_giới': 6685, 'trớ_trêu': 9283, 'sihanouk': 7623, 'há': 3432, 'chói_chang': 1469, 'tuấn_mã': 9375, 'đặc_tính': 11410, 'cam': 1122, 'đùm': 11213, 'chê': 1431, 'mối_hàng': 5498, 'đánh_trống_bỏ_dùi': 11101, 'phóng_sự': 6895, 'mười_đợt': 5372, 'suy_tính': 7701, 'phát_sóng': 6835, 'mô_tê': 5311, 'tiêu_chảy': 8747, 'đi_về': 10952, 'số_liệu': 7894, 'phạm_trung_thành': 6976, 'nỉ': 6618, 'sôi_nổi': 7782, '105a': 15, 'bấy': 889, 'lập_cập': 4897, 'đôi_chút': 11178, 'trần_huỳnh': 9176, 'sai_lầm': 7569, 'rên': 7410, 'xây_lắp': 10578, 'lướt_thướt': 4833, 'xám': 10569, 'vô_tuyến': 10162, 'bốc_xếp': 1032, 'thuộc_làu': 8224, 'nách': 6448, 'thực_hư': 8691, 'đúng_sai': 11219, 'lục_tục': 5028, 'ngư_cụ': 5991, 'một_nửa': 5534, 'rủng_rẻng': 7551, 'căm_căm': 2029, 'lo_liệu': 4483, 'mủ': 5573, 'mở_cửa': 5558, 'jongno': 3856, 'mở_miệng': 5559, 'huề': 3353, 'chán_ngán': 1383, 'harry_law': 3155, 'nóc': 6476, 'găng_tay': 3065, 'họ_hàng': 3655, 'mồng': 5510, 'rãnh': 7403, 'phi_luật_tân': 6756, 'tài_ba': 9398, 'khét_tiếng': 4025, 'hềnh_hệch': 3648, 'thủ_quân': 8645, 'hụi': 3784, 'chuẩn_mực': 1356, 'cõi_đời': 2014, 'kim_hee_sun': 4163, 'bát_hương': 625, 'nguyễn_văn_cương': 5867, 'cày': 1849, 'bồi_thường': 1040, 'cầu_mong': 2193, 'mê_man': 5285, 'máy_tính': 5253, 'trần_nguyên': 9182, 'chậm_chạp': 1583, 'mật': 5423, 'bước_đầu': 788, 'nội_tiết_tố': 6661, 'chân_vịt': 1412, 'lưỡng': 4838, 'dài_dằng_dặc': 2474, 'phen': 6752, 'thất': 8461, 'chào_đón': 1379, 'luận_văn': 4552, 'aspirine': 346, 'máu_me': 5240, 'thân_thương': 8287, 'từ_tốn': 9925, 'uoát': 9981, 'bảo_hành': 836, 'sao_đỏ': 7591, 'cassette': 1182, 'cỗ': 2273, 'thần': 8482, 'đờmi': 11646, 'bao_la': 405, 'hòa_hưng': 3486, 'ngậm': 6036, 'thị_phạm': 8564, 'lùng_sục': 4757, 'hữu_cơ': 3801, 'nhá': 6194, 'nguyễn_thị_hương': 5827, 'bỗng_dưng': 1052, 'khuyến': 3963, 'dony': 2436, 'pavơlusa': 6721, 'chao_đảo': 1216, 'nguyễn_hữu_quí': 5795, 'pháo_sáng': 6817, 'nhãn_khoa': 6224, 'thờ': 8600, 'concorde': 1795, 'cộ': 2274, 'khiếp_đảm': 3918, 'mekong': 5129, 'đinh_nhiêu': 10957, 'cửa_ngõ': 2338, 'háo_hức': 3436, 'tận_diệt': 9729, 'ngữ': 6100, 'xuất_nhập_cảnh': 10542, 'lặn': 4918, 'bàn_đạp': 576, 'giậm': 2964, 'park_shin_yang': 6716, 'hành_thiện': 3421, 'naomi_campbell': 5623, 'thổ': 8595, 'cha_ông': 1205, 'cuống_họng': 1822, 'giãn': 2904, 'chủ_bút': 1707, '132': 27, 'phụ_thuộc': 7062, 'béo': 653, 'ý_chí': 10874, '320': 168, 'quạt': 7232, 'bách_khoa': 593, 'thanh_toán': 8073, 'vũ_nữ': 10245, 'nhọc_nhằn': 6359, 'đặng_thị_hòa': 11417, 'buồn_buồn': 526, 'nhận_định': 6316, 'nguyễn_văn_tiến': 5891, 'lim_dim': 4426, 'thít': 8318, 'giao_lưu': 2848, 'cao_độ': 1175, 'phấp_phỏng': 7010, 'trong_trắng': 8940, 'nương_thân': 6546, 'lên_cơn': 4711, 'thú_thật': 8363, 'khủng_bố': 4150, 'who': 10416, 'rus_invest_tur': 7367, 'rêu_rao': 7414, 'phương_ngữ': 6938, 'hứng_thú': 3796, 'sao_chép': 7588, 'tiết_mục': 8792, 'hậu_cần': 3616, 'máy_may': 5248, 'chắp': 1599, 'lụy': 5037, 'sáng_loáng': 7733, 'lụt_lội': 5036, 'gí': 3046, 'nhem_nhuốc': 6117, 'sáu_đấu': 7749, 'tục_tằn': 9887, 'giáo_dục_viên': 2892, 'thỏa_chí_tang_bồng': 8581, 'tâm_nguyện': 9466, 'điện_biên_phủ': 10999, 'cao_cả': 1147, 'shunji_kuroda': 7622, 'paris': 6715, 'túng_thiếu': 9606, 'làm_thuê_làm_mướn': 4588, 'hủ_tiếu': 3786, 'còm_nhom': 1930, 'trừng_phạt': 9312, 'tiền_mặt': 8808, 'linh_hồn': 4430, 'âm_nhạc': 10807, 'nguyễn_văn_tuấn': 5893, 'gu': 3010, 'brazil': 506, 'dàn_nhạc': 2476, 'rong_biển': 7353, 'nguyễn_thị_á': 5848, 'trí_thức': 9041, 'photo': 6796, 'lưỡi': 4837, 'chiến_hữu': 1276, 'đo_ván': 11015, 'nhòe': 6239, 'to_tát': 8855, 'phòng_mạch': 6878, 'mái_tóc': 5231, 'bảy_liên': 850, 'lò_chợ': 4726, 'tự_nguyện': 9947, 'nổi_danh': 6645, 'tột_bậc': 9872, 'thảo_nguyên': 8454, 'bộ_óc': 1064, 'thợ_thủ_công': 8632, 'bản_đồ': 829, 'sứ_giả': 7938, 'tạp_chất': 9690, 'lếch_thếch': 4935, 'án_phí': 10782, 'đều_đều': 11452, 'tân_hiệp': 9477, '04': 6, 'tá_hỏa': 9429, 'tặng_thưởng': 9760, 'cúm': 2024, 'gã': 3042, 'bé_hạt_tiêu': 650, 'lão_luyện': 4659, 'đội_ngũ': 11620, 'văn_giá': 10218, 'cong': 1796, 'gợn': 3132, 'mười_lăm': 5370, 'kẹo': 4305, 'đường_cái': 11257, 'cháu_đích_tôn': 1392, 'nghiền_ngẫm': 5669, 'cơ_duyên': 2054, 'che_giấu': 1226, 'lẽ': 4933, 'thợ_nề': 8630, 'đâm_ra': 11113, 'thề': 8545, 'khùng_khục': 4074, 'bền_bỉ': 980, 'nhuyễn': 6147, 'mượt': 5377, 'gạch_bông': 3073, 'thủng': 8655, 'vang_dội': 10003, 'thất_thường': 8468, 'tq': 8884, 'thở_phào': 8624, 'ân_cần': 10814, 'hội_họp': 3749, 'quì': 7214, 'sàn_nhảy': 7718, 'làn_sóng': 4597, 'tâm_niệm': 9467, 'vấp': 10290, 'mót': 5308, 'hòa_tan': 3489, 'hình_sự': 3470, 'kiên_trì': 4199, 'rốt_cục': 7513, 'nhất_quyết': 6299, 'bạch_tuộc': 800, 'giồng': 2986, 'dân_lập': 2499, 'lờn_vờn': 5007, 'hậu_môn': 3618, 'ba_na': 369, 'quá_cảnh': 7168, 'sumatra': 7684, 'dù_rằng': 2545, 'hộ_đê': 3740, 'còn_nước_còn_tát': 1932, 'cung_văn_hoá': 1812, 'tòa_soạn': 9556, 'im': 3816, 'ia_pa': 3807, 'tuyệt_tích': 9364, 'chó_ghẻ': 1467, 'không_lẽ': 4065, 'trợ_lý': 9300, 'lê_công_khanh': 4668, 'trưởng_thôn': 9136, 'thái_hữu_trí': 8253, 'tiểu_đội_trưởng': 8834, 'mộc_châu': 5519, 'hồi_phục': 3710, 'phó_kỳ_phương': 6888, 'đông_nghịt': 11197, 'vỗ': 10366, 'rành_rọt': 7381, 'chớp': 1684, 'võ_văn_hồng': 10195, 'chốc_chốc': 1665, 'thu_hẹp': 8173, 'tel_aviv': 8029, 'boxer': 500, 'tiền_túi': 8815, 'độc_thủ': 11611, 'phút_chốc': 6931, 'quả_vậy': 7243, 'rối_loạn': 7507, 'nam_giới': 5607, 'đuốc': 11039, '553': 213, 'qđndvn': 7304, 'xì_xào': 10597, 'mấy_mươi': 5412, 'long_phú': 4507, 'fifa': 2739, 'gót': 3060, 'chuyển_mình': 1348, 'lỗ_chỗ': 4973, 'lạ_đời': 4851, 'co_ro': 1772, 'baht': 384, 'sun_spa': 7685, 'thầy_trò': 8494, 'đá_gà': 11077, 'ầm_ĩ': 11726, 'dưa': 2566, 'nhiệt_huyết': 6134, 'rủa': 7547, 'jang_seung': 3847, 'chỉnh_tề': 1647, 'võ_thị_hảo': 10190, 'dù_cho': 2544, 'argentina': 341, 'khách_quan': 3986, 'sởn': 7925, 'công_nhân_viên': 1990, 'suy_nhược': 7698, 'cao_điểm': 1171, 'tai_hoạ': 7975, 'búng': 756, 'kìa': 4283, 'chữa_trị': 1757, 'cười_ra_nước_mắt': 2100, 'hớn': 3766, 'thư_giãn': 8390, 'nguyễn_năm': 5807, 'đất_rộng_người_thưa': 11333, 'li_ti': 4422, 'bơ_vơ': 774, 'thường_lệ': 8416, 'năm_hưng': 6527, 'bàu_môn': 583, 'hòa_âm': 3490, 'nhịp': 6356, 'tôn_trọng': 9581, 'văn_tự': 10225, 'mục': 5566, 'ông_bầu': 10854, 'hài_cốt': 3390, 'cầm_chắc': 2174, 'cướp_cò': 2092, 'trừ_gian': 9310, 'hô': 3505, 'xương_máu': 10657, 'trần_văn_hương': 9212, 'ụp': 11774, 'lớn_nhỏ': 4997, 'seap': 7607, 'vận_dụng': 10304, 'ảo_vọng': 11711, 'cứu_sinh': 2322, 'đeo_đẳng': 10946, 'xí': 10601, 'hà_tam': 3384, 'bông_gòn': 730, 'charriol': 1218, 'nhoẻn': 6142, 'cơn_sốt': 2075, 'phi_mã': 6757, 'thắt_nút': 8519, 'karôn': 3872, 'dân_số': 2503, 'phạm_văn_thanh': 6987, 'kính_phục': 4293, 'băngrôn': 770, 'xuất_xứ': 10550, 'bôn_ba': 728, 'tôn_đức_thắng': 9583, 'phú_thiện': 6919, 'khoanh_tay': 3932, 'thoát_thân': 8157, 'gầy_yếu': 3089, 'then': 8091, 'càu_nhàu': 1847, 'siu_h': 7645, 'diêm': 2408, 'phân_hiệu': 6848, 'ung_thư': 9978, 'thiên_sứ': 8113, 'cay_cú': 1189, 'an_phú': 312, 'giòn_tan': 2908, 'mở_màn': 5560, 'mục_nát': 5568, 'văn_học': 10220, 'làm_bộ': 4570, 'ngô_thành_long': 5967, 'nhức': 6393, 'lê_thanh_liêm': 4679, 'bác_bỏ': 590, 'thét': 8298, 'ao_ước': 337, 'chìm_xuồng': 1439, 'điểm_tâm': 10994, 'sùng_sục': 7791, 'sánh_vai': 7740, 'dư_luận': 2563, 'vân_trường': 10111, 'lâu_đời': 4646, 'bàn_giao': 565, 'dễ_thương': 2648, 'chuyển_tiếp': 1350, 'phong_mỹ': 6788, 'yên_bình': 10729, 'điểm_nóng': 10993, 'nam_kỳ': 5609, 'mong_mỏi': 5183, 'tiền_khả_thi': 8804, 'huỳnh_cường': 3359, 'mèo': 5276, 'khởi_nguồn': 4145, 'dân_y': 2509, 'vung': 10082, 'hùn': 3518, 'thảm_thiết': 8448, 'mướn': 5362, 'vô_số': 10158, 'oán_trách': 6712, 'hoàng_gia': 3288, 'hollywood': 3259, 'khung': 3955, 'nhật_bản_thời_luận': 6328, 'malsindo': 5096, 'thiên_thần': 8115, 'phạm_ngọc_đông': 6963, 'chuốc': 1357, 'chật_vật': 1593, 'cá_mập': 1856, 'đầu_hàng': 11353, 'dai_dẳng': 2367, 'marseillais': 5111, 'sừng': 7948, 'điện_lưới': 11000, 'đỗ_hữu_lực': 11589, 'lê_thành': 4681, 'hội_an': 3742, 'dung_kuk': 2455, 'lũ_quét': 4799, 'giải_lao': 2931, 'versace': 10015, 'lật_đật': 4903, 'mời_mọc': 5556, 'non_nớt': 6424, 'khoa_trương': 3925, 'tour': 8866, 'quái_dị': 7178, 'se': 7604, 'hoàng_sơn_hải': 3296, 'mở_đường': 5563, 'bảo_trung': 844, 'bình_triệu': 684, 'văn_chương': 10216, 'học_vị': 3673, 'ý_tứ': 10882, 'xót_ruột': 10619, 'danh_mục': 2376, 'năm_trăm': 6535, '814': 251, 'liễu': 4473, 'vơ': 10260, 'điêu': 10968, 'đầu_nậu': 11357, 'thuộc_lòng': 8225, 'thiếu_thốn': 8138, 'chánh_nhơn': 1386, 'nguyễn_thị_ký': 5832, 'mỏi_mắt': 5491, 'tư_cách': 9629, 'khẩn_cấp': 4098, 'hộ_sinh': 3738, 'tl': 8847, 'chức_sắc': 1727, 'thanh_sạch': 8070, 'ngắn_hạn': 6050, 'idaten': 3812, 'lối_thoát': 4966, 'thành_ngữ': 8234, '47': 199, 'nặng_lãi': 6599, 'bae': 380, 'méo': 5278, 'khác_biệt': 3980, 'bộ_dàn': 1057, 'khao': 3897, 'trách_móc': 9007, '42': 191, 'tân_ninh': 9483, 'cổ_phiếu': 2263, 'ràn_rụa': 7378, 'gầm': 3080, 'mốt': 5500, 'nghiêng_mình': 5665, 'lửa_đạn': 5052, 'đại_bàng': 11281, 'thợ_mộc': 8629, 'bình_chọn': 668, 'cơ_số': 2063, 'tục_lệ': 9885, 'nai_nịt': 5600, 'hãm_hiếp': 3444, 'kiến_lửa': 4213, 'bấp_bênh': 857, 'đồn_thổi': 11540, 'lảng_tránh': 4868, 'cửa_kính': 2335, 'gởi': 3126, 'đối_đầu': 11522, 'đồng_đảng': 11576, 'áp_dụng': 10798, 'chẳng_mấy_khi': 1609, 'cản': 2140, 'tử_nạn': 9932, 'lướt': 4832, 'tần_nguyên': 9721, 'guy_amouretti': 3013, 'hoong': 3264, 'tác_giả': 9432, 'tác_dụng': 9431, 'da_cam': 2360, 'tức_tưởi': 9914, 'làm_thinh': 4586, 'nhịp_độ': 6357, 'tràn': 8995, 'park_yang_woo': 6717, 'phim_truyền_hình': 6768, 'uổng': 9993, 'chi_bộ': 1238, 'nghi': 5649, 'thịnh_vượng': 8574, 'ồn_ã': 11760, 'xin_xỏ': 10478, 'trương_tấn_bửu': 9106, 'bạch_tuyết': 799, 'kịch_tính': 4339, 'minh_xuân': 5155, 'gay_go': 2769, 'hội_chợ': 3744, '77': 244, '1967': 88, 'tôn_giáo': 9578, 'máy_nổ': 5250, 'pháp_lệnh': 6822, 'ngang_nhiên': 5637, 'thuở': 8227, 'colaco': 1775, 'chợ_rẫy': 1698, 'đầu_gối': 11352, 'hài_hước': 3391, 'đầm': 11345, 'phạm_bồi': 6957, 'mong_đợi': 5184, 'thuyền_thúng': 8195, 'đơn_thuần': 11235, 'nhỏ_nhặt': 6369, 'mách_bảo': 5228, 'đắng_cay': 11394, 'lê_nam': 4673, 'đậu_phộng': 11383, 'bầm': 894, 'tang_tóc': 7999, 'túc_trực': 9598, 'bưng': 778, 'peter': 6725, 'mằn_mặn': 5437, '1974': 95, 'mọt': 5487, 'hèn_kém': 3454, 'im_phăng_phắc': 3820, 'thấu': 8474, 'đặng': 11413, 'chộn_rộn': 1680, 'thưởng_thức': 8424, 'ổ_voi': 11761, 'riêu': 7343, 'ịn': 11745, 'north_carolina': 6428, 'trần_thị_hải_yến': 9197, 'lưng_tưng': 4810, 'gắt': 3100, 'đặc': 11403, 'truyền_kỳ': 8979, 'tái_mét': 9441, 'hèn_yếu': 3456, 'đánh_cắp': 11093, 'đun': 11037, 'tái_hiện': 9439, 'bảy_triển': 852, 'dơ': 2558, 'vân_vê': 10112, 'trần_châu_thanh': 9170, 'nhện': 6352, 'thu_giữ': 8168, 'tối_ngày': 9814, 'tênh_hênh': 9507, 'dính_líu': 2533, 'bà_quẹo': 547, 'huynh': 3337, 'đào_viên': 11074, 'thuốc_men': 8213, 'tặc': 9758, 'ray_rứt': 7330, 'ồ_ạt': 11757, 'tuần_tiễu': 9378, 'qui_kết': 7131, 'la_la': 4376, 'chất_vấn': 1576, 'chí': 1441, 'nguyễn_đình_thản': 5903, 'chán_chường': 1382, 'vun_đắp': 10081, 'cay_đắng': 1193, 'kinh_niên': 4187, 'ngổ_ngáo': 6074, 'cót': 1954, 'lủi_thủi': 5040, 'vô_vọng': 10168, 'phải_chăng': 6995, 'hết_hồn': 3641, 'nôn_ọe': 6505, 'vằn_vện': 10331, 'bị_can': 997, 'xì_gà': 10595, 'đặt_chân': 11424, 'sạc_ly': 7844, 'ốm_yếu': 11750, '790': 246, 'san_lấp': 7577, 'k49': 3866, 'lồng': 4969, 'vò_xé': 10133, 'tuyệt_kỹ': 9363, 'bấu': 887, 'phát_minh': 6833, 'niệu': 6413, 'ròng_ròng': 7420, 'vương_vấn': 10266, 'mơ_màng': 5348, 'có_nghĩa': 1945, 'tích_cóp': 9538, 'thiêu': 8119, 'hung_hung': 3329, 'gác_xép': 3026, 'vừa_ý': 10401, 'thanh_tòng': 8076, 'hỏi_vặn': 3687, 'hoang_mang': 3255, 'kpuih_vêh': 4250, 'hằn': 3627, 'thu_lu': 8175, 'độc_nhất_vô_nhị': 11608, 'chần_chừ': 1580, 'bé_tí': 652, 'nguyễn_đông_châu': 5904, 'nhược': 6271, 'bát': 624, 'nhân_hậu': 6211, 'bắp_thịt': 932, 'mất_ngủ': 5404, 'thầm_lặng': 8480, 'rèn_giũa': 7406, 'vũ_văn_phòng': 10253, 'khang_trang': 3895, 'trũng': 9087, 'qui_tắc': 7136, 'lâu_lâu': 4644, 'hôi_tanh': 3508, 'phong_thủy': 6791, 'quyết_liệt': 7152, 'dư_thừa': 2565, 'sẹo': 7883, 'nhòe_nhoẹt': 6240, 'ghế_ngồi': 2804, 'aia': 290, 'nóng_bỏng': 6493, 'đeo_bám': 10945, 'bình_châu': 667, 'ba_lâm': 363, 'trần_thanh_sử': 9192, '58': 219, 'hội_chữ_thập_đỏ': 3745, 'môtô_bay': 5326, 'hốc_hác': 3692, 'ngơi': 5989, 'tàu_bè': 9422, 'hoảng_hốt': 3319, 'ngậm_đắng_nuốt_cay': 6039, 'yoo_ji_tae': 10725, 'chứa_đựng': 1724, 'bắt_nọn': 943, 'nghệ_sĩ_nhân_dân': 5713, 'hết_lời': 3643, 'mơ_tưởng': 5350, 'gật_gù': 3093, 'vỗ_tay': 10368, 'chấm_hết': 1559, 'hoãn': 3312, 'sảng_khoái': 7856, 'lê_thành_phương': 4683, 'tiểu_bang': 8821, 'vắt': 10329, 'tài_đức': 9411, 'ý_muốn': 10876, 'nhểu': 6350, 'mệt_lả': 5476, 'trả_thù': 9152, 'chí_hòa': 1443, 'dính_dáng': 2532, '1973': 94, 'khựng': 4153, 'cao_lớn': 1154, 'cherub': 1234, 'bé_bỏng': 649, 'phũ_phàng': 6933, 'đoàn_kết': 11023, 'mến': 5464, 'không_khéo': 4063, '1941': 64, 'ớn': 11767, 'tăng_giá': 9618, 'văn_nghệ': 10222, 'sụt_sùi': 7934, 'chiến_lược': 1278, 'tứ_xứ': 9908, 'centimet': 1197, 'sôi_sục': 7783, 'nhủ': 6392, 'tố_cáo': 9804, 'ngàn_cân_treo_sợi_tóc': 5920, 'xuân_hồi': 10524, '57': 217, 'u_ám': 9971, 'trĩu_nặng': 9086, 'vêl': 10124, 'philippines': 6762, 'xoành_xoạch': 10502, 'nhạt': 6280, '1987': 109, 'bắp_chân': 931, 'chiết_tự': 1288, 'tử_tế': 9937, 'ru_ngủ': 7359, 'nguyễn_ngọc_quỳnh': 5803, 'cứu_chữa': 2317, 'kha_khá': 3885, 'hú': 3523, 'đặc_công': 11406, 'riềng': 7345, 'nội_vụ': 6664, 'sếp': 7887, 'đưa_đón': 11245, 'phạm_thị_thu_trang': 6971, 'kim_sa': 4172, 'chịu_chơi': 1652, 'ted': 8025, 'nguyễn_thị_phúc': 5842, 'khao_khát': 3898, '02': 4, 'lâm_thâm': 4633, 'lia': 4423, 'thăng_thiên': 8382, 'tâm_lực': 9465, 'quân_báo': 7187, 'bàn_bạc': 562, 'gành_hào': 3022, 'lệ_thuỷ': 4947, 'sa_nghĩa': 7566, 'cà_chua': 1836, 'nốc': 6622, 'phi': 6753, 'độ_nhật': 11600, 'tổng_quát': 9860, 'ước_mong': 11694, 'phát_nổ': 6834, 'vinaphone': 10027, 'mắm_muối': 5432, 'nguyễn_văn_thục': 5890, '66': 231, 'huy_động': 3336, 'kim_eui_sung': 4162, 'vào_vai': 10102, 'dàu_dàu': 2481, 'phong_tục': 6794, '600': 224, 'mảnh_dẻ': 5396, 'chướng': 1532, 'bực_bội': 1101, 'bà_định': 551, 'phạm_thị_út': 6973, 'nghi_binh': 5650, 'chiến_binh': 1273, 'liên_đới': 4462, 'ngụy': 6092, 'bưu_tá': 779, 'dạ': 2591, 'biên_hòa': 446, 'năm_học': 6528, 'phạm_nhật_hồng': 6964, '1940': 63, 'nhân_tiện': 6215, 'báo_hiệu': 620, 'hũ': 3530, 'e_sợ': 2717, 'gắp': 3099, 'sóng_sánh': 7776, 'tủi_thân': 9899, '170': 42, 'đầm_hồng': 11347, 'trăm_nghìn_vạn': 9078, 'sánh': 7739, 'thể_xác': 8560, 'thõng_thượt': 8349, 'nguyễn_đức_chi': 5907, 'thân_quen': 8283, 'súc_vật': 7793, 'mòng': 5300, 'nguyễn_văn_bình': 5860, 'mỹ_hòa': 5585, 'phụ_tình': 7064, 'lý_huệ_đường': 4771, 'yên_sở': 10735, 'bùi_văn_tiến': 748, 'tàn_tật': 9419, 'thoắt': 8164, '1978': 99, 'vũ_minh_đào': 10244, 'gồng': 3121, 'tiergaten': 8709, 'vùng_vẫy': 10209, 'thùng_thình': 8354, 'trống_trải': 9271, 'phỉ': 7033, 'tái_ngộ': 9442, 'lãng_mạn': 4650, 'củ': 2302, 'đồ_thị': 11533, 'góp_phần': 3059, 'nguyên_vật_liệu': 5777, 'vôlăng': 10174, 'xỉa': 10687, 'nào_ngờ': 6446, 'chung_tình': 1328, 'banh': 396, 'stefan': 7679, 'cải_cách_ruộng_đất': 2121, 'bóng_chuyền': 710, 'phú_sơn': 6918, 'tảo_tần': 9699, 'xâu': 10574, 'chiêu_hồi': 1266, 'bừng_bừng': 1095, 'cầm_cự': 2176, 'nội_chính': 6657, 'vụt': 10394, 'dưa_hấu': 2567, 'xui': 10509, 'nhất_nhì': 6298, 'u50': 9964, 'ái_ngại': 10773, 'napalm': 5624, 'điềm_nhiên': 10974, 'online': 6709, 'lẻ_loi': 4931, 'trơ_trơ': 9090, 'gõ': 3061, 'bôi': 725, 'hoàng_thị_sen': 3298, 'ấn': 11716, 'qui_ước': 7139, 'thực_thụ': 8699, 'ước_muốn': 11695, 'dấu_tích': 2608, 'ăn_mặc': 10891, 'danh_tánh': 2381, 'lu': 4532, 'tuýt': 9371, 'công_chức': 1979, 'lộc_cộc': 4982, 'la_ó': 4379, 'tăm_tiếng': 9611, 'bơ_phờ': 773, 'tuốt': 9382, 'rựa_mận': 7561, 'lít_nhít': 4724, 'mai_mốt': 5082, 'đã_đời': 11122, 'từ_giã': 9920, 'vuốt_ve': 10085, 'chăn_nuôi': 1514, 'converse': 1799, 'túm_tụm': 9603, 'chính_đáng': 1461, 'hội_ngộ': 3751, 'đắt_giá': 11398, 'hồi_hương': 3707, 'kết_thân': 4327, 'dã_ngoại': 2520, '8x': 261, 'cửa_miệng': 2337, 'mất_trắng': 5407, 'mỹ_điền': 5597, 'chăm_chăm': 1507, 'cóng': 1952, 'danh_thiếp': 2378, 'chuyên_cơ': 1332, 'indonesia_agusman': 3830, 'duelist': 2452, 'phạm_văn_ch': 6979, 'đèn_pin': 11129, 'em_út': 2726, 'phan_thanh_hồng': 6738, 'sinh_lý': 7632, 'cận': 2209, '385': 181, 'ia_yeng': 3808, 'bởi_vậy': 1077, 'thăm_dò': 8374, 'ted_engelmann': 8026, 'nguôi': 5911, 'kê_biên': 4275, 'lý_bửu_trân': 4768, 'nương_nhẹ': 6544, 'dạy_dỗ': 2599, 'rau_màu': 7327, 'bù_đắp': 735, 'di_căn': 2396, 'pháo_thăng_thiên': 6818, 'na_ngoi': 5599, 'khói_hương': 4048, 'sản_nghiệp': 7852, 'vui_chơi': 10072, 'giương': 2923, 'u_minh_hạ': 9967, 'gợi_mở': 3130, 'hai_lúa': 3143, 'tay_phải': 8012, 'thạnh_xuân': 8440, 'ho': 3238, 'quả_đấm': 7244, 'ba_má': 366, 'phú_bình': 6911, 'tai_nghe_mắt_thấy': 7978, 'đực_rựa': 11674, 'quân_chủng': 7188, 'ái_nữ': 10774, 'nhâm_nhi': 6203, 'nấp': 6577, 'phần_trăm': 7019, 'long_đong': 4510, 'các_sơn': 1863, 'micro': 5138, 'tiền_bối': 8801, 'thực_thi': 8698, 'chạnh_lòng': 1540, 'quan_họ': 7101, 'vạn_lý_trường_thành': 10280, 'khốn_nạn': 4129, 'bàn_luận': 566, 'trắng_xóa': 9237, 'chen_lấn': 1232, 'mồm': 5508, 'ló_mặt': 4736, 'điền': 10976, 'bề_mặt': 976, 'an_phúc_lộc': 313, 'xem_lại': 10465, 'châu_văn_tiếp': 1418, 'đồng_bọn': 11546, 'đột_nhiên': 11637, 'bứt_rứt': 1092, 'côcu': 1965, 'mỹ_thành_bắc': 5594, 'abul_rahman_ahmad': 277, 'bằng_chứng': 948, 'đông_giang': 11192, 'chém': 1425, 'chìa': 1435, 'kỷ_niệm_chương': 4361, 'bỏng': 1021, 'nói_trạng': 6488, 'phó_đồn_trưởng': 6892, 'ngày_một': 5927, 'luân_canh': 4546, 'sâu_kín': 7761, 'chạy_bàn': 1542, 'luận_chứng': 4551, 'tuy_rằng': 9340, 'hẻo_lánh': 3637, 'tiến_sĩ': 8761, 'phạm_văn_đồng': 6988, 'ngồn_ngộn': 6073, 'bài_bản': 553, 'cần_giuộc': 2184, 'lỡ_bước': 5012, 'ngưỡng_mộ': 6012, 'đức_lợi': 11662, 'gầm_gừ': 3081, 'làm_gương': 4576, 'dụ': 2686, 'tửu': 9940, 'cực_lạc': 2351, 'fujii': 2752, 'lẽ_ra': 4934, 'mến_yêu': 5466, 'buồn_tủi': 533, 'nhăn': 6251, 'nhu': 6143, 'khởi_xướng': 4148, 'quế_lâm': 7285, 'bình_dị': 671, 'dương_văn_thông': 2581, 'dòm_ngó': 2537, 'thắt_cổ': 8517, 'vi_sinh': 10021, 'trùm': 9063, 'phó_lý': 6889, 'đi_đêm_về_hôm': 10954, 'ung_dung': 9977, 'trơ_trọi': 9091, 'mắng_mỏ': 5434, 'java': 3849, 'tàn_nhẫn': 9416, '1931': 58, 'prada': 7085, 'dữ_tợn': 2701, 'sung_sức': 7691, 'đượm': 11278, 'hồn': 3715, 'đại_tá': 11299, 'nguyên_tắc': 5775, 'tín_phiếu': 9545, 'legamex': 4411, 'trầm_cảm': 9161, 'đắn_đo': 11392, '1963': 84, 'nguyễn_thị_trường': 5846, 'minh_quân': 5152, 'ngã_giá': 5950, 'internet': 3836, 'nam_định': 5618, 'liên_thuỷ': 4456, 'bom_mìn': 492, 'thợ_cả': 8627, 'xa_vời': 10432, 'ngoan_cường': 5728, 'eo_éo': 2731, 'cháo_lòng': 1390, 'đánh_vật': 11102, 'bần_cùng': 897, 'khẩn': 4097, 'gia_chủ': 2807, 'tình_cảnh': 9516, 'lê_đức_thọ': 4709, 'đỗ_thành': 11592, 'nòi': 6472, 'sĩ': 7808, 'giặt': 2975, 'tứa': 9909, 'lơ_lửng': 4803, 'lệ_tục': 4948, 'ý_nguyện': 10879, 'hoa_văn': 3249, 'quân_sĩ': 7196, 'mìn': 5290, 'công_nghệ_thông_tin': 1988, 'ngắc_ngứ': 6045, 'sách_vở': 7726, 'phân_tích': 6855, 'nhiễm': 6128, 'sục': 7930, 'tổng_công_ty': 9851, 'bosp': 498, 'buộc_tội': 540, 'ba_mươi': 367, 'trai_gái': 8889, 'katê': 3875, 'hoảng': 3318, 'nóng_ruột': 6499, 'thư_từ': 8393, 'danh_văn_khá': 2382, 'yên_dũng': 10731, 'thứ_tự': 8673, 'vần': 10293, 'tước': 9659, 'trá_hình': 9004, '110': 20, 'độc_diễn': 11604, 'sáng_sáng': 7735, 'nong': 6426, 'công_tử_bạc_liêu': 2005, 'vội_vã': 10371, 'rùa': 7429, 'cờ_vua': 2288, 'hãi_hùng': 3443, 'solex': 7659, 'yêu_dấu': 10745, 'hốc': 3691, 'cây_cỏ': 1913, 'tham_vọng': 8051, 'ngắn_ngủi': 6051, 'sum_họp': 7682, 'độn': 11625, 'rạng_rỡ': 7469, 'ganefo': 2761, 'nguyễn_văn_huệ': 5871, 'đường_biển': 11253, 'làm_dâu_trăm_họ': 4573, 'yêu_thích': 10748, 'hoang_dã': 3254, 'cõi_lòng': 2013, 'nghĩ_ngợi': 5689, 'cậy': 2216, '220': 141, 'kiến_trúc': 4216, 'nôn_nao': 6503, 'võ_hồng_quỳnh': 10180, 'ngập_tràn': 6044, 'nhờ_vả': 6387, 'hội_họa': 3748, 'trần_đông_huy': 9222, 'rung': 7364, 'máu_xương': 5241, 'niệu_quản': 6414, 'bực_tức': 1104, 'hoạn_nạn': 3314, 'út_ni': 10873, 'rưng_rưng': 7450, 'xum_xuê': 10511, 'chemnitz': 1229, 'bao_phủ': 408, 'phùng_hưng': 6910, 'ngoại_giao': 5742, 'tình_xưa_nghĩa_cũ': 9532, 'ầm_ầm': 11727, 'sở_dĩ': 7920, 'tài_phiệt': 9405, 'madam': 5075, 'hăng_hắc': 3527, 'vay_mượn': 10009, 'rose': 7355, 'bài_tập': 560, 'kinh_ngạc': 4186, 'quả_thật': 7241, 'vơi': 10261, 'tù_túng': 9588, 'trưng': 9095, 'pha_trộn': 6731, 'phản_ánh': 6999, 'mập': 5421, '2010': 134, 'nguyễn_văn_lầu': 5881, 'bầu_cử': 902, 'trương_ty': 9105, 'ngoại_ô': 5753, 'nhẹ_nhõm': 6347, 'hy_vọng': 3375, 'kim_tuyến': 4177, 'bèn': 645, 'tsunada': 9320, 'tập_tàng': 9745, 'buồn_cười': 528, 'út_ly': 10872, 'sá': 7723, 'amuse_entertaiment': 303, 'rộ': 7525, 'phích': 6870, 'sư_phụ': 7831, 'ẵm_ngửa': 11740, 'veo': 10014, 'nậm_càn': 6582, 'loài_người': 4516, 'ngân_sách': 5947, 'đổ_bể': 11579, 'thời_hạn': 8610, 'hớp': 3768, 'mâm': 5257, 'ủy_thác': 11782, 'thị_mẹt': 8562, 'hưng_lịnh': 3539, 'ngáy': 5942, 'lịch': 4951, 'mh': 5135, 'tính_chất': 9547, 'yêu_đời': 10750, 'tôm_cá': 9575, 'hoa_màu': 3247, 'cầu_nguyện': 2196, 'hiểm_họa': 3207, 'phục': 7065, 'lê_thanh_phong': 4680, 'lộng_lẫy': 4988, 'mãnh_thú': 5273, 'vật_vạ': 10319, 'đắc_lắc': 11386, 'bụng_mang_dạ_chửa': 1084, 'lê_văn_soạn': 4696, 'phó_giám_đốc': 6887, '188': 47, 'khiêu_vũ': 3911, 'hia': 3178, 'con_nợ': 1788, 'hóa_giải': 3498, 'mường_xén': 5374, 'nhà_tình_nghĩa': 6183, 'chánh_trinh': 1387, 'trồi_sụt': 9272, 'nhỏ_con': 6364, 'nhiệm_kỳ': 6131, 'chiến_lợi_phẩm': 1279, 'lộn_ruột': 4986, 'cắm': 2217, 'đại_lợi': 11294, 'huýt_sáo': 3349, 'người_quản_lý': 6005, 'ghi_bàn': 2777, 'y_dược': 10709, 'xuống_cấp': 10552, 'quanh_đi_quẩn_lại': 7117, 'kim_cương': 4160, 'nữ_tính': 6689, 'dân_công': 2494, 'voi': 10065, 'dài_dài': 2473, 'hẩm_hiu': 3610, 'kịch_bản': 4336, '1942': 65, 'láng_cháng': 4627, 'sút_kém': 7801, 'lụa': 5023, 'tỉnh_thành': 9793, 'khuyến_mãi': 3967, 'trật_tự': 9230, 'đèn_chiếu': 11127, 'với_lại': 10375, 'xôm_tụ': 10628, 'daewoo': 2365, 'thúc_ép': 8370, 'mỉa': 5481, 'thuốc_tây': 8220, 'nồng_nhiệt': 6634, 'lụp_xụp': 5033, 'tư_dinh': 9630, 'ngoa': 5726, 'cúc': 2022, 'lóng_nga_lóng_ngóng': 4740, 'marie_curie': 5109, 'hẳn_hòi': 3632, 'điều_phối': 10986, 'xuân_dục': 10521, 'trần_thị_sa': 9202, 'tánh': 9455, 'đối_chiếu': 11508, 'riết': 7344, 'đồng_môn': 11558, 'địa_chủ': 11466, 'hỏi_đi_hỏi_lại': 3688, 'sum': 7681, 'tủi': 9896, 'máy_giặt': 5245, 'siêng': 7646, 'dmark': 2425, 'côn': 1968, 'mừng_quýnh': 5578, 'suýt': 7705, 'truy_nã': 8972, 'nguyễn_đại_cường': 5906, 'duyên_hải': 2466, 'man_dại': 5098, 'lầy_lội': 4886, 'máy_lạnh': 5247, 'canh_gác': 1139, 'căm_uất': 2032, 'đào_ngũ': 11069, 'carl_shea': 1177, 'honda': 3262, 'mỏ_cày': 5489, 'ghét': 2791, 'kéo_lại': 4271, 'muôn_đời': 5202, 'chuối': 1358, 'lộng_hành': 4987, 'công_chúng': 1978, 'vượng': 10270, 'xem_xét': 10467, 'phỏng': 7036, 'bút': 758, 'cửa_sông': 2340, 'ưu_điểm': 11688, 'vui_cửa_vui_nhà': 10073, 'trống_trơn': 9270, 'mưa_gió': 5356, 'tròng': 9050, 'đồ_chơi': 11528, 'thâu': 8293, 'trùng_dương': 9066, 'lãng_đãng': 4653, 'gia_nhập': 2811, 'bất_giác': 866, 'viễn_cảnh': 10043, 'rơm_rạ': 7448, 'thì_phải': 8304, 'phòng_ban': 6873, 'thiên_đàng': 8116, 'haoai': 3154, 'tử_thi': 9933, 'nên_người': 6467, 'gia_phả': 2812, 'bàn_tính': 575, 'bresob': 507, 'kw': 4258, 'thất_thểu': 8472, 'tỏ_vẻ': 9801, 'đích_xác': 11149, 'lờ_nhờ': 5002, 'lốc': 4964, 'mobylette': 5175, 'tản': 9697, 'đánh_đôi': 11103, 'nguyễn_ngọc_thanh': 5805, 'ngoắt_ngoéo': 5757, 'bắc_triều_tiên': 926, 'xen_kẽ': 10469, 'chứng_tỏ': 1739, 'quần_tụ': 7270, 'hươu_cao_cổ': 3557, 'cười_phá': 2099, '325': 169, 'người_dưng': 5998, 'thiện': 8141, 'mả_lạng': 5392, 'nài_nỉ': 6441, 'hốt_hoảng': 3696, 'dứa': 2691, 'iji': 3815, 'khuôn': 3970, 'tuần_tự': 9380, 'chăm_chút': 1506, 'ròng': 7419, 'lân_tinh': 4640, 'tù_và': 9589, 'êm_dịu': 10827, 'nếm': 6606, 'cải_cách': 2120, 'thoa': 8147, 'nguyễn_thị_nhuận': 5839, 'nguyễn_văn_cộ': 5868, 'thì_thầm': 8308, 'doanh_nhân': 2431, 'mau_chóng': 5115, 'làng_xóm': 4605, 'cười_nói': 2098, 'nhộn_nhạo': 6377, 'dồi': 2672, 'hên': 3461, 'bế_mạc': 963, 'ông_cha': 10855, 'dân_gian': 2497, 'nảy': 6573, 'thuốc_muối': 8214, 'trần_truồng': 9205, 'len_lén': 4414, 'sẩy': 7864, 'sót': 7779, 'nhất_mực': 6297, 'đơn_lẻ': 11233, 'ca_tụng': 1114, 'quê_cha_đất_tổ': 7209, 'phím': 6871, 'sốt_rét': 7909, 'bút_chì': 759, 'xã_đoàn': 10585, 'điều_nghiên': 10985, 'ra_vẻ': 7317, 'quây': 7202, 'tranh_luận': 8907, 'chuồi': 1359, 'tứ_tuần': 9907, 'võ_công_điền': 10178, 'hành_vi': 3425, 'vùn_vụt': 10205, 'kiểm_chứng': 4222, 'trăm_nghìn': 9077, 'tư_mại': 9635, 'vn_airlines': 10062, 'mần': 5415, 'công_thương': 1997, 'nhổn': 6376, 'ngưng': 5994, 'gara': 2765, 'học_kỳ': 3666, 'tơi': 9625, 'điều_hòa_nhiệt_độ': 10982, 'bồ': 1036, 'thù_lù': 8352, 'do_vậy': 2428, 'đứt_quãng': 11670, 'chinh_phục': 1258, 'phủ_phục': 7076, 'thiệt_mạng': 8144, 'phơi_phới': 6935, 'ngán': 5938, 'rèm': 7404, 'căngtin': 2042, 'rữa': 7560, 'lưu_văn_phùng': 4819, 'nồng_nàn': 6635, 'cắn_rứt': 2222, 'khanh_khách': 3896, 'thẩm_vấn': 8497, 'muay': 5193, 'trùng_trục': 9068, 'hl36': 3235, '326': 170, 'chiều_hướng': 1295, 'nhiệt_đới': 6137, 'sáng_giá': 7731, 'hiểm_nguy': 3209, 'ngắt': 6052, 'kiêng_dè': 4201, 'đảo_quốc': 11324, 'puma': 7087, 'thăng_bằng': 8378, 'party': 6718, 'trần_vũ_nghi': 9220, 'tiễn_chân': 8836, 'long_lanh': 4506, 'ẻo_lả': 11741, 'phulmwon': 6798, 'nhơ_bẩn': 6254, 'vũ_toàn': 10247, 'câu_lạc_bộ': 1908, 'cẩn_trọng': 2207, 'mocbai': 5176, 'phóng_tay': 6896, 'thần_chú': 8483, 'điềm_tĩnh': 10975, 'chìm_đắm': 1440, 'quê_một_cục': 7211, 'áp': 10797, 'lộ_phí': 4979, 'hí_hởn': 3477, 'phiền_lòng': 6776, 'chửi_thề': 1746, 'xa_xưa': 10436, 'kế_tiếp': 4317, 'nguyễn_thanh_phong': 5812, 'kỳ_công': 4344, '60a': 226, 'bằng_không': 951, 'xuân_hùng': 10523, 'quần_chúng': 7265, 'chạm_mặt': 1537, 'vẩy': 10297, 'bất_thần': 881, 'long_xuyên': 4509, 'tống_tiền': 9825, 'nhẹ_tênh': 6348, 'nhãn': 6222, 'canon': 1143, 'mỹ_thuận': 5592, 'phụ_giúp': 7058, 'phê': 6860, 'cô_cậu': 1959, 'tia': 8707, 'toàn_lực': 8872, 'trang_thiết_bị': 8897, 'định_quán': 11486, 'hoa_mai': 3246, 'vệ_sĩ': 10345, 'nguyên_văn': 5776, 'hàng_hoá': 3402, 'bâng_quơ': 629, 'giông_bão': 2914, 'ghê_tởm': 2796, 'làn_điệu': 4598, 'nguyễn_minh_bàn': 5801, 'giời': 2997, 'cây_trồng': 1920, 'lisa_black': 4437, 'bề_thế': 978, 'gù': 3063, 'hớ_hênh': 3765, 'chánh_hưng': 1385, 'quang_cảnh': 7112, 'ngút': 5978, 'dân_chúng': 2491, 'vũ_văn_thân': 10254, 'cơm_bụi': 2070, 'chạy_ra_chạy_vào': 1545, 'ya_xiêr': 10721, 'săn_sóc': 7806, 'amanda': 300, 'đẹp_trai': 11430, 'ân_tình': 10817, 'công_chiếu': 1976, 'tinh_đời': 8734, 'tối_mặt_tối_mũi': 9812, 'con_thơ': 1791, 'bình_sơn': 680, 'xổ': 10696, 'rộng_rãi': 7532, 'bếp_núc': 972, 'dị_tật': 2653, 'chéo': 1427, 'nối_nghiệp': 6626, 'đăng_quang': 11226, 'khổ_đau': 4138, 'hồ_an_phong': 3698, 'khớp': 4140, 'ngọc_hân': 6060, 'hiếm_muộn': 3191, 'hiu_quạnh': 3186, 'niệu_đạo': 6415, 'nhốt': 6373, 'bảo_hiểm': 835, 'bãi_bồi': 635, 'thanh_lý': 8063, 'chót_vót': 1475, 'lư_thế_nhã': 4806, 'thoái_hóa': 8153, 'chủ_nợ': 1714, 'thách': 8246, 'keo': 3882, 'đối_tác': 11517, 'tuân_thủ': 9369, 'di_chúc': 2394, 'lui_cui': 4537, 'tụm': 9889, 'móc_nối': 5302, 'đăm_đăm': 11223, 'kè_kè': 4262, '1a': 123, 'lý_lẽ': 4776, 'tranh_cãi': 8906, 'biền_biệt': 465, 'tráng_kiện': 9020, 'vô_hiệu_hóa': 10153, 'xử_sự': 10707, 'vậy_thì': 10323, 'sôi_động': 7784, 'hình_nộm': 3469, 'phẳng': 7029, 'định_kiến': 11482, 'trong_lành': 8936, 'nguyễn_thị_th': 5843, 'thượng_khách': 8426, 'vũ_trang': 10248, 'khẩn_trương': 4100, 'nhào': 6191, 'phạm_văn_chiêu': 6981, 'bùng': 750, 'ashe': 344, 'mê_mẩn': 5286, 'nặng_trịch': 6604, '05': 7, 'nhừ': 6395, 'cật_lực': 2213, 'phác_họa': 6807, 'nói_dối': 6481, 'cj_entertainment': 1760, 'mãnh_liệt': 5271, 'cầu_đỏ': 2203, 'chuột_túi': 1366, 'đà': 11042, 'vòng_vòng': 10144, 'đầu_sách': 11360, 'tường_tận': 9666, 'tinh_nhạy': 8728, 'tân_hòa_bình': 9479, 'hồi_sức': 3712, 'hộp_đêm': 3762, 'bùi_ngùi': 740, 'xám_ngoét': 10570, 'te_tua': 8024, 'thích_quảng_đức': 8316, 'huỳnh_tuấn_linh': 3369, 'dũa': 2554, 'video': 10024, 'cầm_văn_kình': 2180, 'cọc': 2233, 'lâm_viên': 4635, 'kết_cục': 4320, 'teh_chor_joo': 8028, 'dinh_dưỡng': 2406, 'âm_phủ': 10808, 'liêu_xiêu': 4464, 'mầm_non': 5414, 'non_trẻ': 6425, 'huỳnh_văn_ngà': 3372, 'chỉ_định': 1644, 'đinh_thanh_mại': 10959, 'thông_ngôn': 8340, 'ùng_ục': 10865, 'xuất_viện': 10549, 'võ_thị_phượng': 10191, 'cán': 1882, 'nguyễn_văn_mộng': 5883, 'tím_tái': 9542, 'wild': 10420, 'bảng_số': 831, 'servico': 7613, 'cự_ly': 2345, 'cờ_xí': 2289, 'ănglê': 10904, 'vành_móng_ngựa': 10098, 'tế_bào': 9766, 'dương_lễ_lợi': 2572, 'sạch_sẽ': 7847, 'xúc_tiến': 10637, 'thiêu_thiếu': 8120, 'vàng_gạch': 10094, 'quyết_chí': 7151, 'khó_nhọc': 4040, 'tư_minh': 9634, 'phạm_pháp': 6965, 'bất_ổn_định': 886, 'vốn_liếng': 10364, 'phạm_tiến_duật': 6974, 'ph': 6728, 'biệt_tích': 482, 'dăm': 2550, 'vàng_vàng': 10097, 'hóa_ra': 3499, 'núi_rừng': 6519, 'cao_đình_tiếp': 1172, 'đanh_thép': 10917, 'túi_bụi': 9600, 'lung': 4539, 'hấp': 3599, 'xúc': 10635, 'cấp_độ': 2163, 'gay': 2768, 'kìm_nén': 4285, 'u_u': 9969, 'cường_độ': 2107, 'cường_quốc': 2105, 'tập_kết': 9739, 'ghẻ_lở': 2801, 'nguyễn_thị_vân': 5847, 'quầy_quậy': 7274, 'rái_cá': 7392, 'dương_kỳ_hưng': 2571, 'chứng_nhân': 1736, 'phương_nga': 6937, 'dòn': 2538, 'valentino': 9999, 'ly_tuyền': 4566, 'ống_kính': 11753, 'nam_triều_tiên': 5615, 'đại_gia_đình': 11287, 'mã_thượng': 5265, 'huỳnh_thị_loan': 3365, 'cười_xòa': 2101, 'ma_tuý': 5072, 'đoàn_viên': 11026, 'phắt': 7028, 'tượng_trưng': 9673, 'tô_minh_đức': 9569, 'phước_thạnh': 6950, 'sĩ_tử': 7811, 'cọng': 2234, 'muôn_nghìn': 5198, 'tội_tình': 9870, '240': 150, 'đàn_bà': 11060, 'hàng_ngũ': 3407, 'xuất_nhập_khẩu': 10543, 'nam_giang': 5606, 'mất_trí': 5406, 'thầm_thì': 8481, 'airbus': 292, 'tủi_nhục': 9898, '1977': 98, 'phú_văn': 6924, 'thâm_nhập': 8271, 'không_tặc': 4073, 'chắt': 1602, 'chúng_nó': 1497, 'cườm': 2102, 'túng': 9604, 'chống_cự': 1669, 'đen_sì': 10940, 'tuyệt_chủng': 9361, 'alô': 297, 'nhà_trệt': 6181, 'nhà_xưởng': 6188, 'ví_von': 10131, 'đêm_hôm': 11138, 'xìcăngđan': 10599, 'tinh_tế': 8732, 'hoàng_tử': 3301, 'gọt_giũa': 3114, 'thừa': 8678, 'suy_thoái': 7700, 'giảm_giá': 2944, 'thâm_tâm': 8274, 'múc': 5339, 'thủ_thuật': 8646, 'kinh_khủng': 4184, 'bản_vẽ': 826, 'châu_đốc': 1421, 'tường_vy': 9667, 'chửi_rủa': 1745, 'băng_tâm': 767, 'vtv': 10066, 'mônđavi': 5324, 'tranh_chấp': 8905, 'công_phu': 1993, 'ngát': 5941, 'cuốc_chim': 1815, 'nhà_sáng_chế': 6172, 'một_phần_ba': 5535, 'stress': 7680, 'ủi': 11778, 'hlang_ngol': 3236, 'lương_đống': 4830, 'hương_thủy': 3552, 'hàn_gắn': 3397, '301': 162, 'vui_buồn': 10071, 'chiên': 1263, 'năm_rưỡi': 6532, 'bảy_trăm': 853, 'thảo': 8451, 'đứng_tuổi': 11666, 'duy_trì': 2464, 'lững_lờ': 5055, 'giật_giật': 2968, 'rảnh_rỗi': 7475, 'dây_cáp': 2516, 'tô_hiến_thành': 9565, 'lợi_thế': 5018, 'ngộ_nghĩnh': 6076, 'vu_vơ': 10068, 'kohler': 4247, 'lỗi_lầm': 4977, 'lên_giọng': 4712, 'thua_kém': 8184, 'rỉ': 7501, 'khán_phòng': 3995, 'ban_nãy': 391, 'trường_phái': 9127, 'bỏ_xác': 1020, 'được_cái': 11275, 'buồn_tẻ': 532, 'ngộ_nhận': 6077, 'xoá': 10503, 'mát_mẻ': 5236, 'ồn': 11758, 'ngón_trỏ': 5961, 'nguyễn_thị_mừng': 5837, 'ublđ': 9972, '87': 257, 'nồng_ấm': 6637, 'thương_tiếc': 8409, 'tầng_lớp': 9724, 'lề': 4937, 'trục_xuất': 9307, 'rốn': 7511, 'thi_cử': 8097, 'ba_ba': 357, 'xanh_lét': 10438, 'ty': 9394, 'ẩu_đả': 11734, 'đưa_đám': 11244, 'phương_tần': 6946, 'comlê': 1776, 'nội_tình': 6663, 'tư_duy': 9631, 'láng': 4625, 'khôn_ngoan': 4057, 'dây_dưa': 2517, 'thanh_thản': 8072, 'lốp': 4967, 'màng': 5215, 'quì_châu': 7215, 'linh_cảm': 4429, 'thật_thà': 8508, 'rèn_luyện': 7407, 'phương_thịnh': 6941, 'lả': 4866, 'nhóm_họp': 6244, 'độc_giả': 11605, 'vĩnh_bình': 10234, 'phần_mộ': 7015, 'chương': 1530, 'trang_điểm': 8903, 'xào': 10560, 'chúc': 1489, 'điệp_khúc': 11007, 'trần_thị_loan': 9199, 'thể_trạng': 8559, 'hiếu_chiến': 3195, 'tuyển_dụng': 9356, 'nông_trại': 6515, 'doãn_ngọc_trâm': 2439, 'hoa_lệ': 3244, 'mân_mê': 5258, 'chỉ_dẫn': 1636, 'bầy_đàn': 906, 'jsa': 3861, 'nổi_cáu': 6643, 'bùi_du_hương': 738, 'nội_trú': 6662, 'nguyễn_thị_nữ': 5841, 'trường_lộc': 9125, 'mông_má': 5323, '250': 153, 'number': 6429, 'linh_tinh': 4432, 'hận': 3613, 'đắc_lực': 11387, 'ghé_mắt': 2788, 'độc_đắc': 11616, '1884': 48, 'tử_vong': 9939, 'vấn_nạn': 10287, 'ngự': 6102, 'bố_con': 1023, 'bu': 510, 'nhảy_cầu': 6284, 'betacam': 424, 'thiếu_nhi': 8134, 'tết_âm_lịch': 9772, 'tải': 9695, 'ba_bốn': 358, 'đức_bình': 11660, 'chửi_đổng': 1747, 'thị_phần': 8565, 'thạnh_phú': 8439, 'xăng_xái': 10645, 'hủ_tục': 3787, 'cụt_lủn': 2301, 'tiểu_tiện': 8829, 'đoàn_văn_an': 11027, '150triệu': 34, 'ăn_trái': 10899, 'jung_woo_seong': 3863, 'knock_out': 4244, 'đắk_hà': 11390, 'linh_tính': 4434, 'nhiên_liệu': 6122, 'mưu': 5359, 'thương_tật': 8411, 'sầu': 7863, 'lưu_lạc': 4815, 'unesco': 9976, 'tiền_sảnh': 8810, 'đường_đi_nước_bước': 11269, 'cổ_chiên': 2259, 'bắc_kỳ': 923, 'thô_kệch': 8324, 'súng_kíp': 7795, 'cao_niên': 1157, 'cha_xứ': 1204, 'xao_xuyến': 10440, '913': 265, 'thui_thủi': 8188, 'tôn_vinh': 9582, 'giải_khát': 2930, 'võ_văn_tần': 10199, 'ăn_nhậu': 10893, 'tắt_thở': 9757, 'cối': 2248, 'từ_dũ': 9919, 'bè': 643, 'nóng_nực': 6498, 'tấn_thái': 9706, 'kt': 4253, 'tướng_tá': 9663, 'vệt': 10346, 'ghi_danh': 2780, 'đồng_phạm': 11563, 'trường_bắn': 9121, 'lường': 4836, 'áp_đặt': 10802, 'tủ_sách': 9894, 'rượu_cần': 7459, '230': 147, 'tân_kiều': 9480, 'hcb': 3159, 'cất_cánh': 2167, 'ký_tên': 4302, 'hôn_mê': 3515, 'tám_tâm': 9451, 'chủ_quan': 1715, 'thở_dốc': 8622, 'quỳnh': 7302, 'tuổi_thọ': 9388, 'lạ_thường': 4850, 'sáng_sủa': 7736, 'rong_ruổi': 7354, '380': 180, 'nhờ_cậy': 6386, 'kim_tiêm': 4174, '413': 189, 'nguội': 5916, 'chiayi': 1254, 'bo_bo_hoàng': 489, 'sơmi': 7823, 'lề_mề': 4938, 'cà': 1835, 'cứu_trợ': 2324, 'hai_mốt': 3145, 'đặng_đức_hòa': 11421, 'cố_tình': 2243, 'thuốc_ngủ': 8215, 'phát_điện': 6839, 'tuýt_tuýt': 9372, 'nước_rút': 6562, 'đường_tỉnh_lộ': 11268, 'yếm': 10751, 'ba_nhăm': 370, 'tự_phát': 9950, 'gầy_guộc': 3087, 'quyên': 7146, 'trai_tráng': 8890, 'bom_napalm': 493, 'hiển_thị': 3213, 'từ_thiện': 9923, 'túng_bấn': 9605, 'ngăn_cách': 5983, 'đôla': 11184, 'hão_huyền': 3448, 'one': 6707, 'mộ_điệu': 5515, 'mếu_máo': 5467, 'trừng_trừng': 9313, 'ba_hằng': 361, 'cảm_tình': 2135, 'nguyễn_thanh_toàn': 5813, 'sưu_tập': 7838, 'láng_bóng': 4626, 'thủ_thỉ': 8649, 'hải_dương': 3583, 'ếch': 11743, 'rá': 7386, 'nhếch_nhác': 6349, 'âu': 10818, 'mang_máng': 5102, '390': 183, 'chứng_thực': 1738, 'egypt': 2721, 'nới_tay': 6670, '0c': 11, 'tỏa': 9802, 'xứ_sở': 10701, 'tua': 9329, 'đầu_vào': 11366, 'ớt': 11769, 'cận_thành': 2211, 'năm_phỉ': 6531, 'vằn': 10330, 'cấp_tốc': 2161, 'chang_chang': 1213, 'rụt_rè': 7544, 'ducoroy': 2450, 'cơ_nhỡ': 2060, 'sofa': 7657, 'băm': 761, 'giằng_xé': 2973, 'đặc_điểm': 11412, 'cám_dỗ': 1880, 'mazda': 5124, 'đinh_ghim': 10956, 'hà_thành': 3385, 'thích_thú': 8317, 'ời_ời': 11770, 'hậu_sinh': 3621, 'nhà_hát': 6158, 'nguyễn_thị_châu_đoan': 5826, 'thấu_hiểu': 8475, 'nguyễn_văn_giá': 5870, 'lêu_lổng': 4717, 'hồng_hào': 3720, 'washington': 10411, 'quăng': 7227, 'quay_cuồng': 7119, 'đầm_đìa': 11348, 'chất_chứa': 1570, 'hì_hục': 3462, 'ngại': 6019, 'đỉa': 11459, 'huyết_thống': 3339, 'thở_than': 8625, 'knockout': 4245, 'matxa': 5113, 'nam_trung_bộ': 5616, 'muối_vừng': 5204, 'cô_bác': 1956, 'liu_riu': 4438, 'đường_bộ': 11255, 'thụt_lùi': 8638, 'khơi_gợi': 4082, 'tuổi_đời': 9391, 'mắt_trước_mắt_sau': 5436, 'đầu_video': 11365, 'dân_sinh': 2502, 'đon_đả': 11018, 'ngập_ngụa': 6042, 'gia_kiệm': 2809, 'chả_giò': 1553, 'trọng_yếu': 9261, 'may_rủi': 5122, 'kỳ_cựu': 4345, 'vẵn': 10332, 'kỹ_năng': 4366, 'vốn_lưu_động': 10365, 'scandal': 7603, 'trương_công_sết': 9098, 'lớn_mạnh': 4996, 'truyền_thông': 8980, 'tập_tễnh': 9746, 'thu_thập': 8180, 'lê_đình_thuyên': 4706, 'vô_lý': 10156, 'áp_lực': 10799, 'tân_sơn_nhì': 9485, 'nguyễn_văn_thêu': 5887, 'kỳ_anh': 4343, 'khóa_số': 4043, 'bè_bạn': 644, 'sọc': 7890, 'champagne': 1208, 'nồng': 6633, 'thỏa_thuận': 8585, 'sinh_thành': 7640, 'công_bằng': 1974, 'dầm_dề': 2613, 'hưng_thạnh': 3544, 'chụm': 1703, 'llvt': 4480, 'khẩn_hoang': 4099, 'phòng_thí_nghiệm': 6882, 'mỹ_hiệp': 5584, 'chập_chùng': 1586, 'thời_thượng': 8614, 'đối_ngoại': 11512, 'chuyển_giao': 1346, 'bổ_dưỡng': 1045, 'thành_thục': 8241, 'mướt_mồ_hôi': 5365, 'chóng': 1470, 'tế_hanh': 9767, 'khích_lệ': 4034, 'huỳnh_hữu_lộc': 3360, 'đáng_kể': 11084, 'cao_thế': 1164, 'catsê': 1184, 'ngáp': 5940, 'ảm_đạm': 11706, 'fan': 2737, 'triệu_long': 8932, 'trần_văn_sáu': 9215, 'ngoắc': 5756, 'bắt_mối': 941, 'bậy_bạ': 918, 'hội_tụ': 3756, 'vi_trùng': 10022, 'thực_tiễn': 8700, 'di_tản': 2403, 'quảng_tây': 7257, 'nắm_bắt': 6584, 'thoạt_đầu': 8161, 'đế': 11434, 'hồi_âm': 3714, 'nhà_xác': 6187, '1989': 111, 'qua_mặt': 7093, '3d': 184, 'nhóc': 6241, 'ứng': 11785, 'ngại_ngần': 6020, 'thu_thủy': 8181, 'vòng_loại': 10138, '415': 190, 'thủ_thư': 8648, 'chật_ních': 1592, 'mệnh_đề': 5474, 'frederic': 2748, 'sít_sao': 7770, 'xong_xuôi': 10498, 'trần_văn_thời': 9216, 'kỳ_vọng': 4356, 'lê_chí_dụng': 4667, 'chịu_thua': 1654, 'sim': 7624, 'bện': 985, 'khốn_cùng': 4127, 'lừng_danh': 5047, 'thị_nghè': 8563, 'giằng_co': 2972, 'lạ_lẫm': 4848, 'ngăm': 5980, 'ngã_ngửa': 5951, 'đê_trung_ương': 11136, 'thuốc_lắc': 8212, 'dân_đen': 2510, 'nhẵn': 6342, 'ngự_trị': 6103, 'hậu_trường': 3622, 'trèo': 9025, 'xoay_xoay': 10496, 'òa': 10839, 'mơ_mộng': 5349, 'thái_hậu': 8252, 'sân_nhà': 7756, 'kêu_ca': 4280, 'cô_nhi_viện': 1962, 'ngấm_ngầm': 6024, 'sáng_rực': 7734, 'thuần_thục': 8202, 'ký_kết': 4299, 'nhiệt_thành': 6135, 'mến_thương': 5465, 'hạch': 3572, 'bình_đẳng': 689, 'brand': 504, '343': 173, 'chiến_sĩ': 1280, 'ướt_như_chuột_lột': 11702, 'nhập_cư': 6319, 'leach': 4405, 'nắn': 6585, 'dầu_ta': 2619, 'cửa_hội': 2333, 'lương_duyên': 4825, 'độc_chiêu': 11603, 'hường': 3564, 'nghẽn': 5705, 'rau_muống': 7326, 'luống': 4558, 'cặp_lồng': 2232, 'tâm_tình': 9473, 'sắc_đẹp': 7869, 'long_hổ_hội': 4505, 'an_lạc': 308, 'tiếng_tai': 8769, 'mai_chí_thọ': 5078, 'hợp_lệ': 3778, 'airlines': 293, 'lê_thị_kim_tiếng': 4688, 'gồ_ghề': 3119, 'cớ': 2285, 'càvạt': 1848, 'đào_thương': 11071, 'nhỡ': 6388, '554': 214, 'cư_xá': 2078, 'thoả_thuận': 8162, 'mộc_bài': 5518, 'xoàng_xĩnh': 10501, 'túc_trung': 9597, 'tai_họa': 7976, 'người_ngoài': 6002, 'thiếu_đói': 8139, 'khải': 4088, 'quần_soóc': 7268, 'thực_hành': 8690, 'phạm_văn_chiến': 6982, 'kiêu_hãnh': 4204, 'kiệm_lời': 4236, 'tủ_sắt': 9895, 'đại_ca': 11282, 'bình_phước': 677, 'ngắm_nghía': 6047, 'tiêu_dùng': 8749, 'chịu_thương_chịu_khó': 1655, '420': 192, 'tô_lịch': 9567, 'tinh_trùng': 8731, 'gái_bán_hoa': 3028, 'dãn': 2523, 'găng': 3064, 'dãi_dầu': 2521, 'vấn_vít': 10288, 'vật_lý_trị_liệu': 10314, 'chính_cống': 1451, 'dân_nghèo': 2500, 'nguyễn_văn_mỹ': 5884, 'nguyễn_thành_tài': 5817, 'múa_may': 5338, 'kháo': 4010, 'trở_mình': 9292, 'điệu_nghệ': 11011, 'k26': 3865, 'âu_lo': 10819, 'chua_xót': 1319, 'phòng_không': 6877, 'lác': 4616, 'quýnh': 7226, 'cái_nước': 1877, 'khổ_nỗi': 4135, 'trần_huy_liệu': 9175, 'nghịch': 5724, 'ban_hành': 388, 'trứng': 9308, 'chiến': 1272, 'jeep': 3852, 'xôi_vò': 10627, 'thạch_hãn': 8436, 'gay_gắt': 2770, 'cầu_may': 2192, 'tai_biến': 7974, 'ngụp_lặn': 6091, 'trầm_trồ': 9165, 'pusan': 7088, 'kỳ_nữ': 4349, 'đò_ngang': 11153, 'vòng_nguyệt_quế': 10139, 'cá_thu': 1859, 'nhen_nhóm': 6118, 'kate_moss': 3873, 'trình_tự': 9035, 'biệt_lập': 479, 'mainichi': 5092, 'tỉ_lệ_thuận': 9782, 'vàng_bạc': 10092, 'nhà_quê': 6168, 'bốc_phét': 1030, 'nguyễn_bá_hoành': 5782, 'xung_thiên': 10515, 'phonesavanh_chanthavong': 6780, 'toan_tính': 8859, 'đời_mới': 11643, 'trần_chí_thuận': 9171, 'lìa': 4720, 'lâng_lâng': 4641, 'thân_tàn_ma_dại': 8289, 'dựng_vợ_gả_chồng': 2713, 'tiền_án': 8817, 'bất_thành_văn': 879, 'bủng': 1087, 'chật_cứng': 1591, 'nhè': 6227, 'rạo_rực': 7470, 'củi': 2306, 'nước_thải': 6564, 'vị_thanh': 10352, 'trống_hoác': 9268, 'quy_hoạch_vùng': 7142, 'hai_phần_ba': 3146, 'nami': 5619, 'sạch_bong': 7846, 'vietnam_center': 10025, 'tàu_xe': 9427, 'chơi_trội': 1520, 'diễm_hương': 2410, 'thái_lộc': 8255, 'ký_lô': 4300, 'ba_son': 373, 'nhạn': 6279, 'điên': 10963, 'bất_mãn': 877, 'ba_long': 362, 'thán_phục': 8261, 'tài_nguyên': 9403, 'sung_công': 7688, 'lý_lịch': 4777, 'từ_thị_tr': 9924, 'thua_thiệt': 8186, 'đông_sơn': 11200, 'tưng': 9645, 'ban_ngành': 389, 'chổi': 1678, 'ra_mặt': 7311, 'lò_dò': 4727, 'nhà_nghề': 6164, 'độc_ác': 11614, 'phạm_quốc_lương': 6966, 'tối_ưu': 9821, 'hợp_kim': 3776, 'băng_băng': 765, 'sàng': 7719, 'calvin_klein': 1121, 'đông_ba': 11188, 'đại_lục': 11295, 'chi_li': 1241, 'cannes': 1142, 'trương': 9097, 'hạch_toán': 3573, 'tham_vấn': 8050, 'flash': 2741, 'lo_nghĩ': 4485, 'lạc_lõng': 4854, 'lừa_lọc': 5045, 'ai_ai': 287, 'cỏ_lác': 2237, 'cao_miên': 1155, 'bulloh': 512, 'đột_phá': 11639, 'hậu_vệ': 3623, 'sân_quần': 7757, 'lê_ngà': 4674, 'phù_tang': 6909, 'bõ_bèn': 732, 'nick': 6400, 'chống_đỡ': 1671, 'hải_sản': 3591, 'nguyễn_thị_kiều_trang': 5831, 'nguyễn_thị_kinh': 5830, 'bê_bết': 657, 'lo_buồn': 4482, 'mua_đi_bán_lại': 5192, 'buồng_lái': 536, 'duỗi': 2470, 'ruộng_đồng': 7373, 'ghi_điểm': 2784, 'lơ': 4802, 'xung_điện': 10518, 'yên_vị': 10738, 'náo_nức': 6452, 'lý_thái_tổ': 4781, 'đệ': 11456, 'tan_nát': 7990, 'khêu_gợi': 4027, 'mắm_cái': 5431, 'khay': 3899, 'trọng_trách': 9256, 'ma_chay': 5065, 'tân_định': 9492, 'choong': 1305, 'xa_ngái': 10431, 'đăng': 11224, 'biết_ơn': 464, 'hùng_tráng': 3521, 'quá_đáng': 7175, 'gian_ác': 2833, 'rớm': 7533, '135': 29, 'nguyễn_hùng': 5791, 'trú_ẩn': 9070, 'hắt': 3626, 'trung_ứng': 8970, 'cáo': 1889, 'siêu_sao': 7650, 'hi_hữu': 3175, 'nghĩa_dũng': 5694, 'giành_giật': 2868, 'trung_tuần': 8962, 'ngóc_ngách': 5956, 'tóc_xanh': 9559, 'buồn_vui': 534, 'chihwaseon': 1255, '1943': 66, 'cầm_chừng': 2175, 'tatsuo_shibata': 8003, 'lai_tạp': 4382, 'nakhorn_nayok': 5601, 'wijono': 10419, 'bì_bõm': 661, 'tra_tấn': 8887, 'bón': 707, 'nhuộm': 6149, 'lót_dạ': 4743, 'luẩn_quẩn': 4549, 'xí_quách': 10603, 'bịch': 1000, 'gia_tài': 2816, 'đen_đen': 10942, 'robert_journal': 7348, 'la_vie': 4378, 'đồng_ra_đồng_vào': 11565, 'cao_cao': 1146, 'tổng_nha': 9859, 'gội': 3124, 'câm_lặng': 1902, 'hoa_lư': 3243, 'nhức_nhối': 6394, 'tiêu_tan': 8753, 'dọc_ngang': 2664, 'lion': 4435, 'đạo_đức': 11311, 'trong_veo': 8942, 'nói_chung': 6478, 'thương_nhân': 8407, 'sắm': 7871, 'chào_hàng': 1375, 'thô': 8323, 'thương_mến': 8406, 'trĩu': 9085, 'dữ_liệu': 2700, 'hầu_khắp': 3608, 'hải_hành': 3584, 'quấn_quít': 7260, 'nái': 6449, 'giao_dịch': 2842, '95': 267, '10triệu': 18, 'nhô_nhố': 6245, 'vẻn_vẹn': 10336, 'gọt': 3113, 'trần_văn_giàu': 9211, 'ngô_mai_xuân': 5966, 'ghe_xuồng': 2775, 'tư_tưởng': 9642, 'ác_thú': 10769, 'thứa': 8674, 'bảo_ban': 834, 'bình_khê': 672, 'võ_như_tâm': 10184, 'vật_thể': 10317, 'mc': 5126, 'phấn': 7004, 'tương_tự': 9655, 'may_mà': 5119, 'đại_hồng_thủy': 11289, 'quắt_queo': 7281, 'trần_văn_hợi': 9213, 'koar': 4246, 'trang_sức': 8896, 'đối_kháng': 11510, 'chiếm_đóng': 1271, 'hương_phong': 3551, 'lộng_quyền': 4989, 'án_ngữ': 10781, 'lệ_viên': 4949, 'địa_chính': 11464, 'vãng_lai': 10117, 'khen_ngợi': 3904, 'pháo_kích': 6816, 'góc_học_tập': 3054, 'lưu_động': 4821, 'bùa': 736, 'vờ': 10377, 'vòng_tay': 10141, 'cặp_kè': 2231, 'tham_chiến': 8045, 'mét_vuông': 5282, 'máy_hát': 5246, 'xì': 10594, 'lì_lợm': 4719, 'nguyễn_thị_lập': 5834, 'manchester_united': 5100, 'nháy': 6201, 'ác_mộng': 10767, 'phụ_khoa': 7060, 'rúc': 7433, 'thách_đố': 8248, 'bất_động': 885, 'thông_tin_đại_chúng': 8347, 'biểu_tình': 473, 'khe_sanh': 3902, 'giết_hại': 2979, 'mùa_màng': 5334, 'ta_đây': 7970, 'yên_duyên': 10730, 'thúc_thủ': 8369, 'trường_sơn_tây': 9130, 'lufthansa': 4535, 'gan_dạ': 2760, 'cao_thắng': 1163, 'diễn_đạt': 2416, 'đảm_nhận': 11316, 'tiện_lợi': 8842, 'tù_mù': 9587, 'chưng': 1529, 'mật_thiết': 5427, 'tệ_bạc': 9777, 'lẻ': 4930, 'trà_trộn': 8992, 'laser': 4398, 'bùi_kiệm': 739, 'đàm': 11054, 'đây_đó': 11119, 'xởi_lởi': 10699, 'mẫu_mực': 5420, 'tiên_tiến': 8741, 'đặng_trực_ngôn': 11418, 'kênh_truyền_hình': 4278, 'nhất_trí': 6301, 'áp_suất': 10800, 'rạn_nứt': 7467, '1937': 60, 'thư_sinh': 8391, 'nốt_nhạc': 6630, 'ngợp': 6088, 'tăng_bạt_hổ': 9616, 'gài': 3020, 'luống_tuổi': 4559, 'mù_lòa': 5330, 'áo_dài': 10788, 'ngặt_nghèo': 6054, 'chảo': 1555, 'gối_đầu': 3117, 'khốn': 4126, 'thường_niên': 8418, 'có_lý': 1939, 'kết_nghĩa': 4324, 'lặng_ngắt': 4922, 'hủy_hoại': 3789, 'geneva': 2772, 'động_lực': 11630, 'tiến_thân': 8762, 'choạch': 1310, 'chào_mời': 1377, 'bấn_loạn': 856, 'ken': 3879, 'đường_nhựa': 11262, 'mặt_mũi': 5451, 'phạm_tiến_dũng': 6975, 'bars': 412, 'ápphích': 10803, 'bàn_ghế': 564, 'kiên_quyết': 4198, 'chuyên_đề': 1341, 'bye': 542, 'bào_chế': 582, 'thăng_tiến': 8383, 'dắt_gái': 2631, 'tim_page': 8712, 'cự_li': 2344, 'nói_mê': 6483, 'gán': 3032, 'bs': 508, 'xìa': 10598, 'nghĩa_phát': 5697, 'bản_doanh': 819, 'chiêu_đãi': 1268, 'bầu_không_khí': 903, 'luyện_tập': 4545, 'nương_rẫy': 6545, 'vô_tận': 10165, 'hữu_nghị': 3803, '88': 259, 'thất_lạc': 8465, 'đệ_tử': 11457, 'huồi_tụ': 3357, 'nổ_mìn': 6639, 'nô_nức': 6501, 'ayun_pa': 353, 'sông_nước': 7788, 'úp': 10869, 'không_tài_nào': 4072, 'ác_nghiệt': 10768, 'cất_bước': 2166, 'trung_đoàn': 8967, 'vị_thế': 10354, 'nghìn_vạn': 5686, 'ấm_ức': 11715, 'tinh_khiết': 8725, 'virus': 10036, 'dự_báo': 2703, 'cancer': 1134, 'đưa_ma': 11241, 'lách': 4617, 'tán_thưởng': 9453, 'cục_mịch': 2296, 'đỏ_hoe': 11496, 'gìn_giữ': 3045, 'phản_xạ': 6998, 'n_': 5598, 'năm_châu': 6526, 'bát_quái': 626, 'tức_tốc': 9915, 'hỏi_han': 3685, 'ẩn_chứa': 11730, 'thụ_tinh_nhân_tạo': 8634, 'châu_thành': 1417, 'liềm': 4468, 'mềm_nhũn': 5470, 'nguyễn_viết_cường': 5857, 'lip': 4436, 'nguyễn_chậm': 5786, 'lá_mặt_lá_trái': 4615, 'tử_thần': 9934, 'nổi_giận': 6646, 'cau': 1185, 'chế_ngự': 1623, 'nhớn_nhác': 6383, 'cấm_cung': 2154, 'im_ắng': 3822, '1529': 35, 'lục_đục': 5030, 'liên_hiệp': 4444, 'tuân': 9368, 'chằm_chằm': 1604, 'kèm_cặp': 4264, 'mặt_chữ': 5447, 'mã': 5261, 'giật_thót': 2971, 'kiến_thiết': 4214, 'nguy_kịch': 5765, 'tiếp_tế': 8784, 'đồn_bót': 11539, 'tối_tân': 9818, 'bảo_ly': 839, 'nguyễn_đình_phúc': 5901, 'va': 9995, '7x': 248, 'điền_phong': 10977, 'iraq': 3842, 'khét_lẹt': 4024, 'bực_mình': 1103, 'khải_hoàn': 4089, 'đường_tàu': 11267, 'đổ_máu': 11582, 'hiện_thực': 3220, 'kết_hôn': 4321, 'guitar': 3012, 'cực_khổ': 2349, 'garô': 2766, 'e_ngại': 2716, 'ngược_lại': 6014, 'nước_lã': 6553, 'thăm_thẳm': 8377, 'tccn': 8021, 'họ_đạo': 3656, '30ngàn': 164, 'giấy_nhám': 2960, 'việc_gì': 10046, 'hưng_xá': 3545, 'ngọc_đáng': 6061, 'chuyên_trách': 1338, 'phân_bua': 6843, 'đóng_cửa': 11169, 'nơ_trang_long': 6542, 'trói': 9052, 'nhà_ăn': 6189, 'nén': 6464, 'thích_hợp': 8315, 'lễ_phép': 4943, 'băngca': 769, 'tơ_tằm': 9624, 'hiếu_kỳ': 3197, 'afc': 283, 'danh_vọng': 2383, 'chông_chênh': 1480, 'đông_đảo': 11208, 'có_điều': 1949, 'tuyên': 9342, 'đáng_giá': 11083, 'chặc_lưỡi': 1613, 'thổ_lộ': 8596, 'trơ_khấc': 9089, 'đốm': 11523, '1945': 68, 'đô_thành': 11175, 'côi': 1966, 'công_thức': 1998, 'đáng_lẽ': 11085, 'muộn_phiền': 5207, 'cải_tiến': 2124, 'phấn_chấn': 7005, 'đinh_bộ_lĩnh': 10955, 'nồng_nặc': 6636, 'mùa_vụ': 5335, 'so_ji_sub': 7655, 'thỏi': 8586, 'tin_lành': 8717, 'bộ_chế_hòa_khí': 1056, 'quân_trang': 7200, 'khang': 3894, 'nhà_lao': 6160, 'tiếp_nối': 8778, 'tha_phương_cầu_thực': 8039, 'ba_lô': 364, 'catalogue': 1183, 'phan_thanh_giản': 6737, 'hikosuke_tamasu': 3179, 'sophie_quinn': 7671, 'tuyên_huấn': 9346, 'bít': 698, 'như_ý': 6267, 'bán_sỉ': 603, 'ngay_thẳng': 5642, 'phan_văn_đu': 6744, 'công_cộng': 1980, 'dân_vận': 2508, 'bước_tiến': 786, 'việt_mậu': 10057, 'đường_hầm': 11260, 'tân_thành': 9487, 'dễ_dãi': 2647, 'xắn': 10677, '600nghìn': 225, 'quảng': 7248, 'đánh_lừa': 11099, 'nhà_ga': 6155, 'tiêu_hóa': 8750, 'ngốc': 6068, 'bất_lợi': 875, 'hỏa_lực': 3679, 'mành': 5216, '2032ts': 135, 'cận_cảnh': 2210, 'sa_cơ': 7565, 'muôn_thuở': 5199, 'xông_pha': 10631, 'trùng': 9065, 'cứng_cựa': 2312, 'số_là': 7895, 'trần_minh_trí': 9181, 'trần_phước_đặng': 9187, 'thất_cơ_lỡ_vận': 8463, 'gọn_nhẹ': 3111, 'phan_trong_đoàn': 6741, 'mỹ_nghệ': 5588, 'hy_sinh': 3374, 'vá_chằng_vá_đụp': 10104, 'thông_cảm': 8335, 'hải_ngoại': 3587, 'cheil_communications': 1228, 'lệ_phí': 4946, 'súng_ống': 7799, 'cóc': 1950, 'nguyễn_văn_chiêu': 5862, 'ê_chề': 10824, 'tin_vui': 8720, 'tai_mắt': 7977, 'lý_luận': 4775, 'bước_đi': 787, 'bạch_nga': 798, 'khỏe_khoắn': 4120, 'apec': 339, 'sửa_sai': 7954, 'ngượng': 6016, 'mục_tiêu': 5570, 'thẩm_định': 8498, 'tế_nhị': 9768, 'bán_nước': 602, 'hò_hét': 3481, 'tổn_hao': 9844, 'trần_văn_dư': 9210, 'cẩn': 2205, 'đề_bạt': 11440, 'xao_động': 10441, 'son_phấn': 7663, 'oai_vệ': 6695, 'cổ_tay': 2264, 'đồ_tể': 11534, 'chua_ngọt': 1317, 'xộc_xệch': 10698, 'sống_chết': 7902, 'vẫy_vùng': 10301, 'trần_vàng_sao': 9207, 'phúc_thẩm': 6929, 'soi': 7658, 'vô_tri_vô_giác': 10161, 'la_cà': 4374, 'lưu_diễn': 4812, 'thái_thú': 8259, 'trọng_tội': 9260, 'trạng_thái': 9147, 'tu': 9325, 'hiếp_dâm': 3193, 'lánh_mặt': 4628, 'nguyễn_lâm': 5799, 'bùng_phát': 752, 'inch': 3827, 'nói_toẹt': 6487, 'nguyễn_thế_chánh': 5820, 'phát_tán': 6837, 'ưu_phiền': 11683, 'won_bin': 10423, 'hội_trường': 3754, 'í_ới': 10833, 'hoàng_xuân_đường': 3307, 'cầu_kinh': 2189, 'giam_cầm': 2824, 'nhắm_nhe': 6337, 'ngờ_vực': 6083, 'rách_việc': 7390, 'buffet': 511, 'cùng_cực': 2020, 'thao_thức': 8080, 'thủy_chung': 8658, 'cây_cảnh': 1912, 'số_hiệu': 7893, 'vải_vóc': 10286, 'mạn': 5383, 'tự_giác': 9945, 'đặc_quyền': 11407, 'ir59606': 3840, 'khoai_lang': 3927, 'quy_tắc': 7144, 'tất_tần_tật': 9713, 'nhớ_đi_nhớ_lại': 6382, 'trương_văn_xuân': 9110, 'ghi_ghi': 2781, 'nguyễn_văn_hòa': 5872, 'to_nhỏ': 8854, 'cay_sè': 1192, '131': 26, 'ăn_chay': 10886, 'đêm_tối': 11140, 'cá_tính': 1860, 'bờ_rào': 1074, 'bào': 581, 'trương_thanh_sĩ': 9103, 'ba_miên': 365, 'già_lầu': 2861, 'ôm_chân': 10848, 'ì_ì': 10832, 'rày_đây_mai_đó': 7385, 'ứa': 11783, 'cá_ngừ': 1857, 'rút_cục': 7436, 'nhầm': 6303, 'sới': 7915, 'đỏ_chói': 11495, 'thời_cuộc': 8607, 'thiêm_thiếp': 8106, 'thủ_thành': 8647, 'lon': 4500, 'hà_quang_dự': 3383, 'phá_án': 6806, 'tiểu_đường': 8832, 'bao_cấp': 402, 'hững_hờ': 3799, 'nhỏ_nhắn': 6368, 'mè': 5275, 'vogue': 10064, 'chứng_chỉ': 1730, 'ấu': 11723, 'chỉ_trỏ': 1641, 'bụ_bẫm': 1079, 'tiêu_hủy': 8751, 'tài_tử': 9409, 'mất_ăn_mất_ngủ': 5409, 'nguyễn_trọng_tuyển': 5853, 'cháy_bỏng': 1394, 'chói': 1468, 'cấp_phát': 2159, 'nước_nôi': 6561, 'thề_thốt': 8546, 'ranh_giới': 7321, 'bửu_chánh': 1097, 'tiến_triển': 8763, 'triệt_để': 8928, 'thẻ_tín_dụng': 8531, 'keng_đu': 3880, 'bàn_thảo': 571, 'cao_siếc': 1160, 'chông_văn': 1481, 'nông_nhàn': 6510, 'hà_nam': 3380, 'thực_địa': 8706, 'nguyễn_ngọc_trực': 5806, 'bồi_hồi': 1039, 'mau_mắn': 5116, 'tha_phương': 8038, 'ngao_ngán': 5638, 'quỉ': 7288, 'mệt_nhoài': 5479, 'kiêu_hùng': 4205, 'sakai': 7572, 'tiếng_tăm': 8770, 'vừa_vặn': 10400, 'chắt_chiu': 1603, 'lẹt_xẹt': 4929, 'ghê_rợn': 2795, 'phanh': 6748, 'thường_thường': 8419, 'sóng_thần': 7777, 'tươi_rói': 9649, 'xả_láng': 10666, 'bảo_thắng': 843, 'ngoan_cố': 5729, 'niệm': 6412, 'hữu': 3800, 'phước_hải': 6948, 'lòa': 4731, 'sần_sùi': 7862, 'ngây_ngất': 5948, 'ungaro': 9979, 'rocket': 7351, 'xuân_nguyên': 10529, 'bò_sữa': 702, 'mé': 5277, 'yên_đổ': 10739, 'vèo': 10118, 'aegis_defence_services': 282, 'thị_trưởng': 8569, 'gầy_dựng': 3086, 'chư_sê': 1526, 'thụ_lý': 8633, 'đền_mạng': 11448, 'đại_đội_trưởng': 11306, 'vinh_quanh': 10034, 'biệt_tài': 481, 'nhập_tịch': 6325, 'kết_nạp': 4325, 'tư_thục': 9640, 'song_phi': 7666, 'tong_tong': 8863, 'giám_ốc': 2887, 'thẳng_cánh': 8525, 'quả_cảm': 7235, 'tối_tăm': 9819, 'somsak': 7661, 'biệt_tăm': 483, '30_triệu': 163, 'sum_suê': 7683, 'chau': 1220, 'ngang_ngửa': 5636, 'thực_ra': 8696, 'cấp_thiết': 2160, 'truồi': 8985, 'bục': 1080, 'vui_thú': 10077, 'y_tiêng': 10716, 'thủ_đức': 8654, 'quân_ngũ': 7194, 'u_buồn': 9965, 'duy': 2458, 'bao_vây': 410, 'tươm_tất': 9653, 'freddie_lowry': 2747, 'phù_mỹ': 6907, 'bộ_môn': 1058, 'tỉnh_táo': 9794, 'tiểu_vùng': 8830, 'suy_tư': 7702, 'xô_viết': 10624, 'che_mưa_che_nắng': 1227, 'dương_văn_nam': 2580, 'szabados': 7711, '400nghìn': 187, 'khiêu_dâm': 3910, 'ngửi': 6099, 'bấy_lâu': 891, 'cười_cười': 2096, 'thu_dọn': 8167, 'động_kinh': 11628, 'ủy_quyền': 11781, 'phủ_nhận': 7075, 'hành_tín_tây': 3424, 'bạc_liêu': 792, 'thành_lệ': 8233, 'ít_lâu': 10835, 'bến_phú_lâm': 968, 'điếng': 10971, 'uy_tín': 9984, 'thõng_thẹo': 8350, 'ngoại_hạng': 5743, 'nảy_sinh': 6574, 'cuồn_cuộn': 1824, 'khắc_nghiệt': 4108, 'tam': 7981, 'vinh_hạnh': 10032, 'khò': 4035, 'hạ_đẳng': 3571, 'hỏi_cung': 3684, 'lửng': 5053, 'miền_nam': 5163, 'già_khọm': 2859, 'cắp': 2223, 'đông_bắc': 11189, 'hất': 3602, 'bền_gan': 981, 'đầu_đinh': 11369, 'phấn_son': 7008, 'cầm_đầu': 2181, 'lê_thánh_tôn': 4684, 'thiết_yếu': 8131, 'thòng': 8320, 'hồng_hà': 3719, 'bét': 655, 'vô_tình': 10163, 'thời_cơ': 8608, '194': 62, 'đương_nhiên': 11249, 'ủ_dột': 11776, 'thanh_quang': 8068, 'truyện_tranh': 8984, 'đưa_đẩy': 11246, 'trú_ngụ': 9069, 'nể_trọng': 6615, 'xuống_nước': 10553, 'cải_thiện': 2123, 'nghèn_nghẹn': 5681, 'cử_chỉ': 2327, 'rốt_ráo': 7514, 'ngũ_hiệp': 5986, 'thụt': 8637, 'mập_mạp': 5422, 'xê': 10593, 'sẻ_chia': 7885, 'gượng': 3070, 'áo_giáp': 10789, '128': 24, 'nguyễn_hồng_th': 5792, 'nhân_ái': 6220, 'vùng_đệm': 10212, 'bừng': 1094, 'trí_lực': 9039, 'nguyễn_thanh_hòa': 5811, 'ưu_tư': 11686, 'quá_tải': 7174, 'lò_rèn': 4730, 'nhạc_cụ': 6276, 'thế_thái_nhân_tình': 8543, 'nhơ': 6253, 'tích_tiểu_thành_đại': 9540, 'hổ_phụ_sinh_hổ_tử': 3726, 'sám_hối': 7727, 'sản_lượng': 7851, 'cảnh_báo': 2145, 'inmasco': 3831, 'cảnh_cáo': 2146, 'sở_tại': 7924, 'nhầm_lẫn': 6304, 'nam_vang': 5617, 'kình_địch': 4286, 'kỳ_thú': 4353, 'hoàn_hảo': 3276, 'buồn_rượi': 530, 'sẻ': 7884, 'tì_nữ': 9509, 'thợ_máy': 8628, 'xuân_phước': 10530, 'chia_cắt': 1249, 'tâm_khảm': 9462, 'ngồi_bó_gối': 6070, 'mải': 5393, 'kiểm_định': 4229, 'nguyễn_chí_thanh': 5785, 'bao_bọc': 398, 'dosul_entertainment': 2437, 'câm': 1901, 'tha_thẩn': 8041, 'mật_danh': 5425, 'muôn': 5197, 'tuấn_anh': 9374, 'thi_thể': 8101, 'hỗn_hợp': 3731, '502': 207, 'trắng_trắng': 9236, 'trường_xuân': 9133, 'ẩn_ức': 11733, 'chánh_văn_phòng': 1388, 'tiêu_cực': 8748, 'chinh': 1257, 'tự_túc': 9955, 'nhiễm_trùng': 6129, 'xô_đẩy': 10625, 'lên_đời': 4715, 'mỏng_tanh': 5495, 'thần_tốc': 8487, 'mãnh_lực': 5272, 'world': 10425, 'thoang_thoảng': 8148, 'không_thể_nào': 4070, 'lê_thị_ngơi': 4689, 'chửi_bới': 1744, 'di_vật': 2404, 'dân_chủ': 2493, 'xơ': 10646, 'dâu_con': 2513, 'xuất_tinh': 10548, 'đỉnh_điểm': 11462, 'sơn_tây': 7828, 'nhận_thức': 6314, 'mai_hoàng_mỹ_trang': 5081, 'nguyễn_văn_hưu': 5874, 'đất_nung': 11331, 'nam_quốc_cang': 5614, 'chất_ngất': 1573, 'thùy_linh': 8357, 'gây_mê': 3039, 'sống_khôn_thác_thiêng': 7903, 'rộn_ràng': 7527, 'dịch_bệnh': 2655, 'nguyễn_văn_châu': 5864, 'tồn': 9834, 'ngẫu_nhiên': 6035, 'tiền_lân': 8805, 'tiếp_lời': 8776, 'thồ': 8594, 'xử_phạt': 10706, 'ông_cụ': 10856, 'sinh_sau_đẻ_muộn': 7638, 'khán_đài': 3996, 'hoàng_tiến': 3299, 'đâu_đâu': 11116, 'nikkor': 6403, 'chay': 1221, 'hạ_tầng': 3570, 'chất_liệu': 1571, '1944': 67, 'tài_khoản': 9401, 'hùng_thắng': 3520, 'bạo_lực': 813, 'thù_lao': 8351, 'đua_đòi': 11036, 'hạn': 3575, 'ước_vọng': 11699, 'trần_minh_duân': 9180, 'thiên_hạ': 8109, 'võ_văn_giàu': 10194, 'ậm_ừ': 11735, 'du_thuyền': 2449, 'bậc_tam_cấp': 910, 'vựa_lúa': 10408, 'xiêu_xiêu': 10485, 'hổn_hển': 3728, 'cố_vấn': 2244, 'lepto': 4418, 'thiểu_não': 8140, 'nguyễn_thị_bích': 5823, 'ky_cóp': 4260, 'like': 4425, 'võ_minh_hoài': 10183, 'chỉnh': 1645, 'lạc_hậu': 4853, 'gộp': 3125, 'hội_trưởng': 3755, 'design': 2392, 'dấu_hỏi': 2607, 'lết': 4936, 'đoàn_minh_tơ': 11024, 'cấp_bách': 2156, 'vại': 10277, 'giới_hạn': 2991, 'tiền_của': 8802, 'mới_toanh': 5545, 'thuộc_địa': 8226, 'hiềm_khích': 3199, 'hương_vị': 3554, 'nhà_rông': 6170, 'chào_hỏi': 1376, 'lạng_sơn': 4859, 'ngoan_ngoãn': 5731, 'tờ_mờ': 9878, 'phúc_lợi': 6928, 'chứng_cớ': 1731, 'khưu_thị_hồng': 4085, 'hụt_hẫng': 3785, '4triệu': 204, 'chấp_chới': 1565, 'giả_định': 2928, 'dương_minh': 2574, 'thơm_thảo': 8388, 'khổ_qua': 4136, 'bèo': 646, 'thủ_đoạn': 8652, 'nóng_bức': 6494, 'man': 5097, 'chúng_mày': 1495, 'đưa_mắt': 11242, 'frankfurt': 2745, 'cạnh_tranh': 2114, 'mái_hiên': 5230, 'tuồng_như': 9385, 'nghẹt': 5704, 'cao_tay': 1162, 'hơ': 3531, 'hỗn_độn': 3733, 'oi_bức': 6702, 'rối': 7506, 'ca_nhạc': 1112, 'đồng_cảm': 11549, 'tình_dục': 9518, 'tin_vịt': 8721, '201': 133, 'sơ_khai': 7815, 'xỉu': 10689, 'vế': 10338, 'nguyễn_thành_phương': 5816, 'đàm_phán': 11055, 'xơi': 10648, 'chào_đời': 1380, 'gian_khó': 2829, 'vận_tải_biển': 10306, 'mẹc': 5461, 'tràm': 8994, 'văn_miếu': 10221, 'tụm_năm_tụm_bảy': 9890, 'lẹp_nhẹp': 4928, 'kênh_rạch': 4277, 'lích_tích': 4721, 'nườm_nượp': 6566, 'mỏi_mệt': 5492, 'vodka': 10063, 'tổng_thống': 9862, 'cáo_già': 1890, 'triệu_hoàng_văn': 8931, 'xâu_xé': 10575, 'thạnh_hưng': 8437, 'săn_đuổi': 7807, 'lùng_bùng': 4756, 'hoàng_xuân_dần': 3305, 'môi_trường_sinh_thái': 5316, 'nối_kết': 6624, 'phú_quốc': 6917, 'quân_số': 7197, 'ian_halperin': 3809, 'phồn_hoa': 7043, 'hữu_dụng': 3802, 'rũ': 7442, 'nhẩn_nha': 6307, 'vững_vàng': 10406, 'hd': 3163, 'mã_vạch': 5266, 'chuyên_viên': 1339, 'lục_soát': 5026, 'đông_thượng': 11201, 'andrew': 322, 'càn_khôn': 1842, 'trồng_trọt': 9274, 'thiêu_đốt': 8122, 'bản_năng': 822, '1982': 104, 'õng_ẹo': 10863, 'chất_phác': 1574, 'ba_vân': 379, 'tối_mịt': 9813, 'hồng_gai': 3718, 'rặng': 7493, 'a321': 273, 'mi_ca': 5137, 'ngồi_thiền': 6072, 'hửng': 3798, 'thiên_tai': 8114, 'dư_lượng': 2564, '9a': 271, 'chuỗi': 1362, 'nguyện': 5909, 'trình_chiếu': 9033, 'hồ_văn_huê': 3702, 'bánh_rán': 611, 'xế_chiều': 10682, 'vỗ_béo': 10367, 'tình_ái': 9534, 'lặp_đi_lặp_lại': 4925, 'khuất_tất': 3974, 'máy_quay_phim': 5252, 'độc_tôn': 11612, 'tàu_há_mồm': 9424, 'soulivanh': 7672, 'đinh_tuấn_đạt': 10960, 'an_nghỉ': 309, 'japanese_style': 3848, 'phim_truyện': 6769, '1329': 28, 'xíu': 10608, 'dào_dạt': 2480, 'chín_suối': 1449, 'mủi_lòng': 5574, 'lục': 5024, 'trọc': 9251, 'dồi_dào': 2673, 'thẽ_thọt': 8532, 'bạn_thân': 810, 'hào_hùng': 3428, 'thượng_đế': 8433, 'hàm_ninh': 3395, 'thibaut': 8105, 'tắm_táp': 9754, 'son': 7662, 'sen': 7609, 'vương_quốc': 10265, 'chào_giá': 1374, 'ngọt': 6065, 'dịu_dàng': 2659, 'thượng_hải': 8425, 'chức_vụ': 1728, 'bộ_tư_lệnh': 1063, 'nguyễn_trọng_nghĩa': 5852, 'chắc_hẳn': 1596, 'chôn_nhau_cắt_rốn': 1479, 'đèn_xanh': 11130, 'hướng_dương': 3559, 'nhân_tài': 6216, 'ái_hữu': 10771, 'club': 1767, 'rầu': 7482, 'to_kềnh': 8852, 'thất_thanh': 8467, 'trung_lân': 8954, 'dâu': 2512, 'tiêu_điều': 8755, 'sớm_mai': 7917, 'tung_tích': 9335, 'kiệm': 4235, 'náo': 6450, 'cảnh_giới': 2148, 'nam_nhi': 5611, 'lúc_nhúc': 4761, 'thở_ngắn_than_dài': 8623, 'năm_xá': 6536, 'mềm_mại': 5469, 'tam_kỳ': 7985, 'mất_giá': 5399, 'cá_độ': 1861, 'ngút_ngàn': 5979, 'khói_lửa': 4049, 'huỳnh_nga': 3362, 'báu_vật': 627, 'mệt_lử': 5477, 'đấm_bóp': 11326, 'world_cup': 10426, 'ba_chân_bốn_cẳng': 359, 'chơi_đểu': 1523, 'châu_lục': 1415, 'thoát_y_vũ': 8158, 'grunberg': 3007, 'cụng': 2299, 'hô_hấp': 3506, 'tiểu_chủ': 8822, 'sầm_sơn': 7859, 'võ_thanh_nghị': 10188, 'khoán': 3941, 'nhà_thờ': 6178, 'nông_nổi': 6511, 'lún': 4764, 'minh_châu': 5143, 'nhạy_cảm': 6281, 'thuốc_lào': 8210, 'bặm': 958, 'lê_đông': 4707, 'xuất_quân': 10545, 'lỗ_hổng': 4974, 'đến_nơi': 11437, 'kịch_chiến': 4337, 'vcd': 10010, 'tếu': 9773, 'âm_ỉ': 10813, 'trương_tấn_quang': 9108, 'rằm': 7491, 'đứng_tên': 11667, 'tang': 7995, 'kem': 3878, 'rọc': 7504, 'thiết_thực': 8130, 'dù_sao': 2546, 'hoài_ân': 3272, 'cầu_xin': 2200, 'dị_dạng': 2652, 'giựt': 3003, 'lolita_lampicka': 4499, 'ba_tháng': 374, 'xơi_tái': 10649, 'nhơn_nhơn': 6256, 'cao_viết_hạnh': 1168, 'hỉ_hoan': 3653, 'bất_chính': 860, 'sh': 7617, 'ít_nhiều': 10836, 'cô_dâu': 1960, '1981': 103, 'phì_cười': 6865, 'dưỡng_sức': 2587, 'venice_beach': 10013, 'nguyễn_thanh_đức': 5814, 'bệ_rạc': 984, 'giẫm_đạp': 2963, 'giai_thoại': 2821, 'nắng_gió': 6587, 'rau_sạch': 7329, 'kuala_setepang': 4257, 'bài_tiết': 556, 'lý_tưởng': 4783, 'california': 1120, 'thằng_cha': 8521, 'quận_ủy': 7277, 'khám_xét': 3993, 'vạn_chài': 10279, 'tự_thuật': 9951, 'đầu_xanh': 11367, 'tức_thời': 9913, 'ngỡ': 6086, 'phổ_hiệp': 7048, 'hippi': 3181, 'tròng_trành': 9051, 'lợi_dụng': 5015, 'ghi_nhận': 2782, '30triệu': 165, 'tham': 8044, 'trắm_cỏ': 9232, 'chập_tối': 1588, 'quốc_nội': 7294, 'bô_lão': 724, 'mụt': 5572, 'trăm_ngàn': 9079, 'chạy_việt_dã': 1547, 'ủ_bệnh': 11775, 'phát_dục': 6828, 'elle': 2722, 'đào_hòa_bình': 11068, 'nỡ': 6674, 'hồ_xuân_hòa': 3703, 'fregat': 2750, 'lương_văn_khả': 4829, 'tiểu_ngạch': 8826, 'giai_cấp': 2820, 'vân_nam': 10110, 'rộn_rã': 7528, 'khởi_công': 4142, 'xung_kích': 10512, 'chọc_ghẹo': 1658, 'atâu': 348, 'tì': 9508, 'vét': 10122, 'cố_hữu': 2242, 'né': 6461, 'vệ_sinh_vệ_sống': 10344, 'cồng_kềnh': 2257, 'thốc': 8587, 'khuyến_khích': 3966, 'kpuih_vêl': 4251, 'nội_bộ': 6656, 'ethiopia': 2734, 'ống_quyển': 11755, 'tơi_bời': 9626, 'bướm': 789, 'nguyễn_viết_tân': 5858, 'tối_qua': 9815, 'chuột_nhắt': 1365, 'tháp_tùng': 8269, 'hồng_quân': 3722, 'liveshow': 4439, 'đen_nhẻm': 10939, 'đề_cập': 11441, 'trầm_lắng': 9163, 'đánh_liều': 11098, 'cúm_gia_cầm': 2025, 'nguyễn_thị_lợi': 5835, 'khẩu_phần': 4103, 'xúm_xít': 10640, 'há_hốc': 3433, 'xay': 10443, 'khoái_trá': 3940, 'nguyễn_văn_chơi': 5865, 'thương_hại': 8403, 'lee_suh_jin': 4409, 'máng': 5232, 'trinh_trinh': 8917, 'thần_kinh': 8484, '018': 2, 'xác_thịt': 10565, 'hồ_hởi': 3699, 'nói_gì': 6482, 'gyeongy_ri': 3017, 'phân_cách': 6846, 'chuyên_chở': 1331, 'bỗng_chốc': 1051, 'hoàn_lão': 3277, 'đưa_tang': 11243, 'ngách': 5936, 'tạ_văn_minh': 9675, 'địa_phận': 11473, 'khoa_học_kỹ_thuật': 3924, 'biến_tấu': 455, 'hai_tư': 3147, 'bất_chợt': 861, 'qui_đổi': 7138, 'bực_dọc': 1102, 'uy_nghi': 9983, 'công_ích': 2009, 'thảo_tư_hành': 8455, 'đường_đất': 11270, 'êm_ru': 10828, 'ca_hát': 1108, 'cánh_quạt': 1887, 'đồng_vốn': 11574, 'hải_lộ': 3586, 'lâu_nay': 4645, 'địa_đạo': 11476, 'kíp': 4295, 'ngữ_cảnh': 6101, 'cuarơ': 1808, 'cảm_thương': 2133, 'ba_trăm_rưởi': 378, 'cơ_hàn': 2056, 'cảng_hàng_không': 2143, 'horst': 3266, 'ra_ràng': 7312, 'vỡ_lẽ': 10383, 'tái_lập': 9440, 'vang_vọng': 10005, 'quách': 7176, 'cóp_nhặt': 1953, 'thể_chất': 8550, 'mười_sáu': 5371, 'la_brea': 4372, 'lẳng': 4915, 'xấp_xỉ': 10669, 'vắng_hoe': 10326, 'nguyễn_văn_vượng': 5895, 'dao_mổ': 2387, 'rổn_rảng': 7522, 'của_cải': 2305, 'burberry': 514, 'lê_thị_tuyết_ngọc': 4691, 'chợ_búa': 1692, 'nhận_thầu': 6313, 'tết_nguyên_đán': 9771, 'phịch': 7035, 'quan_lại': 7102, 'là_là': 4568, 'văn_đình_quang': 10226, 'quét_dọn': 7206, 'bóp_chết': 721, 'rời_rã': 7539, 'thu_hình': 8171, 'trổ_tài': 9276, 'híp': 3478, 'ir': 3839, 'trà_cú': 8989, 'thực_tình': 8702, 'nội_đồng': 6666, 'nhún_vai': 6249, 'nội_ngoại_thành': 6659, 'vấp_ngã': 10291, 'con_tính': 1794, 'nguyễn_thế_hùng': 5821, 'kay': 3876, 'sara_odori': 7592, 'gửi_gắm': 3136, 'ào_ạt': 10762, 'hiu_hiu': 3184, 'tăm': 9610, 'gian_truân': 2832, 'san_jose': 7576, 'lãng_quên': 4652, 'sình_lầy': 7769, 'râu_quai_nón': 7399, 'bôn': 727, 'cọp': 2235, 'parinya_jaroenphon': 6714, 'mã_lai': 5263, 'di_hoa_cung': 2399, 'ngọc_bích': 6057, 'thừng': 8682, 'nbf342': 5627, 'tùy_ý': 9592, 'bmw': 486, 'tan_tành': 7991, 'manh_nha': 5108, 'nguyễn_đức_hải': 5908, 'youn': 10726, 'khư_khư': 4084, 'lãnh_tụ': 4656, 'thăng_long': 8380, 'tuyên_giáo': 9345, 'dắt_díu': 2630, 'bàn_ủi': 577, 'khó_lòng': 4039, 'ganh_tị': 2764, 'ọe': 11746, 'thiếu_phụ': 8137, 'tàu_tuần_tiễu': 9426, 'quý_giá': 7224, 'thú_nhận': 8361, 'thê_thảm': 8299, 'chư_gông': 1524, 'rổ_rá': 7521, 'ủa': 11777, 'sống_động': 7906, 'nức_nở': 6679, 'cổ_lỗ': 2262, 'giải_phẫu': 2936, 'lũ_lượt': 4797, 'chả_là': 1554, 'bật_mí': 917, 'xe_hàng': 10449, 'hòm_hòm': 3492, 'ô_răng': 10843, 'râu': 7398, 'phạm_minh_hương': 6961, 'nguyễn_biểu': 5781, 'xía': 10605, 'lê_đức_dục': 4708, 'ừng_ực': 11786, 'danh_giá': 2374, 'đậu_xanh': 11384, 'cấu_kết': 2171, 'rập_rình': 7488, 'nguyên_khôi': 5770, 'kliết_a': 4240, 'hầu': 3606, 'oanh_tạc': 6698, 'một_hai': 5528, 'nhoà': 6140, 'vật_lý': 10313, 'khởi_sắc': 4146, 'lui_tới': 4538, 'chứng_giám': 1733, 'ngoại_thành': 5749, 'bần_thần': 899, 'diễn_tả': 2413, 'cầm_quân': 2179, 'lưu_học_sinh': 4814, 'cách_trở': 1871, 'binh': 436, 'phim_hoạt_hình': 6765, 'boeing': 490, 'chanel_no5': 1212, 'vừng': 10402, 'đàm_văn': 11057, 'bẵng': 957, 'dạn_dày': 2594, 'nhụy': 6391, 'bán_đảo': 606, 'nguyễn_thị_nhung': 5838, 'bang': 394, 'nguyễn_quốc_thái': 5808, 'ba_trăm_ngàn': 377, 'êm_ái': 10829, 'quốc_tịch': 7298, 'làng_mạc': 4600, 'huệ': 3354, 'niên_học': 6409, 'ức_hiếp': 11784, 'thực_vật': 8704, 'đồi_núi': 11537, 'lữ_đoàn': 5054, 'võng_lọng': 10202, 'đứng_đường': 11668, 'phân_khối': 6849, 'sát_khí': 7745, 'nản_lòng': 6572, 'tăng_hùng_bô': 9619, 'lê_văn_tiền': 4700, 'cá_biệt': 1852, 'ngu': 5760, 'quế_sơn': 7286, 'giếng_khoan': 2977, 'quốv_việt': 7300, 'trà_cuôn': 8988, 'kéo_co': 4269, 'dầu_mỏ': 2618, 'đối_phó': 11513, 'phổ_khánh': 7049, 'lễ_nghĩa': 4942, 'nài_ép': 6442, 'tô_linh': 9566, 'đường_thủy': 11266, 'trối_chết': 9264, 'pipop': 7081, 'võ_kim_cương': 10182, 'tấm_tắc': 9702, 'cưng_chiều': 2082, 'địa_cầu': 11467, 'đen_đúa': 10943, 'trác_táng': 9005, 'triều_tiên': 8923, 'bùi_trọng_linh': 746, 'duy_lợi': 2461, '1955': 77, 'miễn_sao': 5168, 'tút': 9608, 'nhấn_chìm': 6291, 'ôsin': 10861, 'giải_nghệ': 2932, 'neo_đơn': 5630, '16a': 40, 'gỗ_ván': 3123, 'bonsai': 496, 'non_choẹt': 6423, 'dỗ_dành': 2676, 'trường_vốn': 9132, 'lành_lành': 4607, 'sinh_mạng': 7634, 'bê_bối': 658, 'chồi': 1672, 'khiếu': 3919, 'mũ_tai_bèo': 5343, 'ngọng': 6064, 'olympic_hertha': 6706, 'quyền_lực': 7160, 'thái_nguyên': 8258, 'hayashi': 3158, 'rã_ngũ': 7401, 'nam_khoa': 5608, 'nhấm_nháy': 6289, 'rành_rẽ': 7380, 'ám': 10775, 'dột': 2677, 'chung_thân': 1326, 'cường_tráng': 2106, 'nghi_án': 5656, 'vang_lừng': 10004, 'sinh_bệnh': 7629, 'kiêng_khem': 4202, 'thỏa': 8580, 'nupak': 6432, 'cãi_cọ': 1925, 'vũ_trụ': 10250, 'hitoshi_kihara': 3183, 'toạc': 8881, 'km2': 4242, 'wonderful': 10424, 'ô_tô': 10844, 'áo_mưa': 10793, 'thánh_nhân': 8264, 'nhiêu_khê': 6124, 'tan_vỡ': 7993, 'yang_chua': 10722, 'thâm_u': 8275, 'hòa_lợi': 3487, '457': 196, 'quái_kiệt': 7179, 'chủ_chốt': 1708, 'nhắn_gửi': 6339, 'môn_sinh': 5319, 'lặng_thinh': 4923, 'sunny': 7693, 'bươi': 782, 'làm_tới': 4590, 'lán_trại': 4624, 'dằn': 2632, 'độ_ph': 11601, 'hư_hại': 3536, 'đìa': 11142, 'hải_tiến': 3592, 'sinh_nhựt': 7637, 'đay_nghiến': 10930, 'nhiễm_độc': 6130, 'trung_tá': 8963, 'ngày_kia': 5925, 'chuyển_đổi': 1351, 'giao_hảo': 2844, 'canh_cánh': 1138, 'đánh_bắt': 11090, 'chân_phương': 1405, 'đổ_dồn': 11581, 'vinataba': 10028, 'đổ_bộ': 11580, 'quyết_chiến': 7150, 'dấu_chấm_than': 2605, 'resort': 7336, 'phên_nứa': 6864, 'hoàn': 3273, 'sâu_đậm': 7766, 'quí_phái': 7220, 'miklos_szabados': 5139, 'mất_công': 5398, 'tân_hòa': 9478, 'cha_in_pyo': 1202, 'pritsvin': 7086, 'dềnh_dàng': 2642, 'gợi_tình': 3131, 'tia_cực_tím': 8708, 'vĩ_đại': 10232, 'trịnh_thị_mùi': 9249, 'chép_chép': 1429, 'địa_danh': 11468, 'tom_cruise': 8861, 'đấu_trí': 11342, 'bảy_muôn': 851, 'học_giả': 3662, 'mon_men': 5178, 'bằng_được': 956, 'đỗ_minh_lắm': 11590, 'đọng': 11492, 'trao_tặng': 8910, 'tải_điện': 9696, 'dấu_yêu': 2610, 'rốt_cuộc': 7512, 'bài_thuốc': 555, 'vân': 10109, 'miệt_mài': 5171, 'shop': 7620, 'lặc_lè': 4917, 'mộ_phần': 5514, 'rầy': 7485, 'van': 10001, 'hoàng_trung_hải': 3300, 'đem_lòng': 10935, 'hoa_lợi': 3245, 'tíu_tít': 9553, 'hăm_hở': 3525, 'thẩm_lậu': 8495, 'nướng': 6565, 'nung_nấu': 6431, 'ăn_chặn': 10888, 'lộn_gan': 4985, 'tiết_canh': 8789, 'dịu_hiền': 2660, 'giáp_ranh': 2900, 'ưỡn': 11705, 'đại_ân': 11301, 'cát_chánh': 1895, 'nặng_lòng': 6600, 'hào_quang': 3431, 'đường_đột': 11272, 'đôi_khi': 11180, 'tri_kỷ': 8914, 'tái_phạm': 9443, 'rơi_rụng': 7445, 'nguyễn_văn_chiếu': 5863, 'djugaden': 2424, 'chướng_ngại': 1533, 'phạm_văn_sang': 6986, 'thìa': 8309, 'ám_chỉ': 10776, 'nguyên_thủ': 5773, 'đám_ma': 11080, 'chầu': 1581, 'cướp_giật': 2093, 'diện_kiến': 2419, 'xe_buýt': 10445, 'báo_vụ': 622, 'chùn': 1484, 'mọi_khi': 5486, 'sơn_hà': 7826, 'nghiệp_đoàn': 5679, 'vinh_danh': 10030, 'xavannakhẹt': 10442, 'cưỡng_chế': 2110, 'cù_lao': 2016, 'bae_tu_na': 382, 'sức_sống': 7946, 'hăng_máu': 3528, 'cent': 1196, 'côn_sơn': 1969, 'ngoác': 5738, 'hannover': 3152, 'truyện': 8983, 'lẩm_bẩm': 4887, 'quyền_sở_hữu': 7161, 'chan_chứa': 1211, 'nước_khoáng': 6552, 'long_sơn': 4508, 'sơn_la': 7827, 'lê_đình_sót': 4705, 'đỏ_hỏn': 11497, 'cay_cay': 1188, 'vàng_hoe': 10095, 'nước_mũi': 6556, 'huỳnh_văn_hằng': 3371, 'kiếm_ăn': 4210, 'yên_ả': 10740, 'dông_dài': 2541, 'dựng_đứng': 2714, 'ngất_xỉu': 6026, 'loại_hình': 4522, 'thân_mật': 8279, 'ngọt_ngào': 6066, 'sáp': 7742, 'ậng': 11736, 'chẳng_nhẽ': 1610, 'sưng': 7834, 'mời_gọi': 5555, 'ảo_thuật': 11710, 'du_học_sinh': 2444, 'tôn_hoa_sen': 9579, 'nhà_thiết_kế': 6175, 'ông_hoàng': 10858, 'nhúng_tay': 6250, 'tổn_thất': 9847, 'tăm_tối': 9614, 'như_chơi': 6260, 'té_ra': 9503, 'hóa_thân': 3500, 'trường_lớp': 9126, 'tỉnh_lộ': 9792, 'aceh': 278, 'tông': 9584, 'đắc_địa': 11389, 'inoue': 3832, 'hậu_phương': 3619, 'mạch_máu': 5380, 'bao_bố': 399, 'lầm': 4878, 'khoảnh': 3947, 'chích_choác': 1447, 'hiệu_trưởng': 3234, 'thanh_mảnh': 8065, 'tự_trung': 9953, 'blv_absolute': 485, 'trần_đình_quế': 9221, 'tube_entertainment': 9331, 'thể_hình': 8554, 'nhà_tắm': 6184, 'đại_lễ': 11292, 'khác_nào': 3982, 'chụt_chụt': 1705, 'tụt': 9892, 'chuột': 1364, 'co_giật': 1770, 'vững_chắc': 10404, 'bừa': 1093, 'nhèm_nhẹp': 6228, 'uỷ_ban': 9994, 'lỡ_lời': 5013, 'chậm_trễ': 1585, 'chính_trị_viên': 1459, 'trung_lương': 8955, 'xót_đau': 10622, 'phạm_thế_hiển': 6967, 'thẩm_phán': 8496, 'đặng_đức_hiền': 11420, 'yên_thân': 10736, 'lủi': 5039, 'mốc': 5496, 'lê_hồng_dung': 4670, 'dương_gian': 2569, 'xích_lô': 10607, 'hổ_mang': 3725, 'binh_chủng': 437, 'trần_thị_hoàng': 9194, 'canh_chừng': 1137, 'loằng_ngoằng': 4531, 'thẳng_băng': 8524, 'hà_xuân_dũng': 3388, 'chìa_khóa': 1436, 'noi': 6420, 'má_mì': 5226, 'lười': 4834, 'bằng_lặng': 954, 'trầy_trụa': 9225, 'tình_tứ': 9531, 'lợi_hại': 5016, 'lê_hồng_phong': 4671, 'mộng_mị': 5524, '364': 177, 'mo_ray': 5174, 'perak': 6724, 'cay': 1187, 'phan_sông_ngân': 6736, 'làm_giá': 4574, 'kín_mít': 4290, 'làm_mai': 4578, 'thiếc': 8123, 'clarim': 1763, 'giám_thị': 2885, 'luồn': 4560, 'xót': 10618, 'eng': 2728, 'chêm': 1432, 'xếp_hạng': 10685, 'linh_kiện': 4431, 'massage': 5112, 'trí_nhớ': 9040, 'nặn': 6596, 'tôm_càng': 9574, 'dương_lễ_thư': 2573, 'tự_cao': 9942, 'bôi_trơn': 726, 'phó_trưởng': 6891, 'ca_múa': 1110, 'đóng_băng': 11168, 'chàng_trai': 1372, 'cưng': 2081, 'nguyễn_xuân_kháng': 5897, 'chớm': 1683, 'kinh_điển': 4191, 'dưỡng_sinh': 2586, 'hương_xuân': 3555, 'tí_chút': 9536, 'kim_tử_long': 4178, 'dominic_armstrong': 2433, 'động_thái': 11631, 'chơi_chơi': 1519, 'án_mạng': 10780, 'xì_ke': 10596, 'sưng_húp': 7835, 'chồm': 1673, 'ăn_nhờ_ở_đậu': 10894, 'bậm': 911, 'mật_ong': 5426, 'vô_danh': 10149, 'toàn_cảnh': 8869, 'cơ_mà': 2059, 'hoàng_văn_tuấn': 3302, 'toan': 8858, 'ngăn_cản': 5984, 'kinh_qua': 4189, 'spring': 7677, 'mồn_một': 5509, 'làm_lụng': 4577, 'khỏa_lấp': 4117, 'tam_hải': 7984, 'bàn_phím': 569, 'thời_bình': 8605, 'chai_sạn': 1207, 'tiềm_ẩn': 8798, 'công_đoạn': 2012, 'chạy_sô': 1546, 'tâm_linh': 9463, 'từ_bỏ': 9917, 'duy_linh': 2460, 'nguyễn_ngọc_sơn': 5804, 'hội_đoàn': 3757, 'tuyệt_diệu': 9362, 'tây_du_ký': 9494, 'dấn_thân': 2603, 'cốt_truyện': 2255, 'cửa_nhà': 2339, 'lừa_đảo': 5046, 'tháng_chạp': 8263, 't1': 7967, 'quỹ': 7303, 'thẫn_thờ': 8500, 'binh_nguyên': 439, '574': 218, 'chết_điếng': 1632, 'đang_tâm': 10916, 'hướng_hóa': 3562, 'lê_văn_hinh': 4694, 'ký_túc_xá': 4303, 'se_se': 7605, 'bình_chánh': 666, 'du_học': 2443, 'xe_lam': 10453, 'ben_ben': 421, 'choai': 1304, 'vàng_danh': 10093, 'phổ_cường': 7046, 'uyên_ương': 9986, 'vững_lòng': 10405, 'syd_ball': 7710, 'liêm_khiết': 4441, 'pho': 6779, 'nguyễn_đàm_thanh': 5899, 'quốc_thiều': 7296, 'long_biên': 4503, 'ngoại_cảnh': 5741, 'anger': 323, 'trương_quyền': 9102, 'phạm_văn_lắm': 6984, 'cống_hộp': 2252, 'đường_hàng_không': 11259, 'quan_sát_viên': 7105, 'thình_thịch': 8310, 'vượt_bậc': 10273, 'vớ_vẩn': 10373, 'trạng_nguyên': 9146, 'lụm_khụm': 5032, 'đôi_mươi': 11183, 'tiền_nhân': 8809, 'lập_trình': 4900, 'tầng_nấc': 9725, 'chế_phẩm': 1624, 'tốc': 9806, 'láu_lỉnh': 4630, 'trời_biển': 9286, 'lủ_khủ': 5038, 'nguyễn_văn_thượng': 5888, 'văng_tục': 10228, 'bất_khả_xâm_phạm': 871, 'hiện_vật': 3224, 'hai_cố_đô': 3142, 'hoạt_hình': 3316, 'diệp': 2421, 'liên_hợp': 4449, 'nghiện_ngập': 5674, 'trù_tính': 9062, 'bần_hàn': 898, 'điêu_đứng': 10970, 'thành_sơn': 8238, 'ma_sát': 5070, 'loang_lổ': 4493, 'qui_cách': 7129, 'sê_pôn': 7768, 'quanh_quất': 7115, 'chúa_tể': 1488, 'bánh_tẻ': 613, 'kế_thừa': 4316, 'kết_tội': 4329, 'bá': 588, 'mainichi_daily_news': 5093, 'trạm_trưởng': 9144, 'kiểng': 4230, 'ám_hiệu': 10777, 'long_bào': 4504, 'hồi_sinh': 3711, 'tough': 8865, 'kondo_jaiji_co': 4248, 'orbis': 6710, 'xáo_măng': 10571, 'đính': 11150, 'thời_vụ': 8617, 'mỵ_duy_linh': 5581, 'phiền_toái': 6777, '527': 209, 'thao_thao_bất_tuyệt': 8079, 'rú': 7432, 'bờ_bụi': 1073, 'rườm_rà': 7454, 'trầm_tư': 9167, 'tần_ngần': 9722, 'tinh_quái': 8729, 'canxi': 1144, 'logic': 4497, 'như_không': 6261, 'phán_đoán': 6814, 'tạng': 9686, 'trần_văn_ba': 9208, 'phớt': 7052, 'xầm_xì': 10674, 'hoang_phế': 3256, 'trương_thị_ánh': 9104, 'xen': 10468, 'bhd': 426, 'đẹp_mắt': 11429, 'lloyd': 4479, 'xình_xịch': 10600, 'tang_gia': 7996, 'răm_rắp': 7439, 'bàng_quang': 580, 'trương_vĩnh_các': 9111, 'giập': 2966, 'tvm': 9393, 'xác_đáng': 10566, 'quắt': 7280, 'chủng_loại': 1721, 'úa': 10867, 'bóng_điện': 717, 'táo_bạo': 9456, 'cựu_binh': 2356, 'cói': 1951, 'nhỏ_giọt': 6366, 'tiền_đề': 8819, 'lê_như_thanh': 4676, 'cầu_kỳ': 2190, 'tập_trận': 9744, 'chiều_tối': 1297, 'tú_tài': 9593, 'lách_tách': 4619, 'què': 7204, 'dốc_miếu': 2669, 'ngầm': 6027, 'gái_gọi': 3030, 'súng_lục': 7796, 'mẩu': 5416, 'tây_học': 9495, 'châm_cứu': 1399, 'bàn_môn_điếm': 568, 'man_rợ': 5099, 'xe_bò': 10446, 'đĩa_bay': 11228, 'hào_nhoáng': 3430, 'lạnh_tanh': 4864, 'nheo_nhóc': 6120, 'không_trung': 4071, 'đảm_trách': 11317, 'phụ_cấp': 7056, 'đồng_nội': 11562, 'sắm_sửa': 7872, 'kháu_khỉnh': 4015, 'chấu': 1579, 'chất_xám': 1577, 'trại_viên': 9142, 'ba_sao': 371, 'rối_như_tơ_vò': 7508, 'đối_thoại': 11515, 'lay_lắt': 4402, 'thư_điện_tử': 8395, 'bóp_nắn': 723, 'samrong': 7574, 'lô_tô': 4745, 'johnny_leach': 3855, 'rạch_ròi': 7465, 'đỗ_thành_liêm': 11593, 'đầu_sóng_ngọn_gió': 11361, 'động_lòng': 11629, 'đích_thị': 11147, 'bút_tích': 760, 'khai_giảng': 3887, 'kế_toán': 4318, 'tọa_độ': 9798, 'xuân_đức': 10531, 'rường_cột': 7455, 'hấp_hối': 3601, 'xẹc_tây': 10678, 'bần': 895, 'dị': 2651, 'hôm_kia': 3510, 'lấy_lòng': 4876, 'chép_miệng': 1430, 'markovic': 5110, 'trữ': 9314, 'khan_hiếm': 3893, 'bia_rượu': 434, '76': 243, 'choson': 1306, 'thị_thành': 8567, 'phồng': 7044, 'nhão_nhoét': 6226, 'tám_trăm': 9448, 'khuynh_hướng': 3959, 'điện_lực': 11001, 'germany': 2773, 'khắc_khoải': 4106, 'lãnh_hải': 4655, 'xoăn': 10505, 'katoey': 3874, 'làng_ngòi': 4602, 'tuồn': 9383, 'holywood': 3260, 'shiri': 7619, 'chợ_trời': 1699, 'kén_chọn': 4267, 'tấy': 9715, 'nhà_nghỉ': 6165, 'yến_trinh': 10754, 'sơ_suất': 7816, 'trần_thế_lễ': 9193, 'tàm_tạm': 9412, 'tự_nhủ': 9949, 'tabert': 7972, 'tứ_tung': 9906, 'hành_lang_pháp_lý': 3417, 'thùy_dương': 8356, 'sâu_lắng': 7762, 'nguyễn_hữu_chí': 5793, 'tôm_sú': 9576, 'dylan': 2471, 'trung_hạn': 8951, 'căn_cứ_quân_sự': 2037, 'thúc_giục': 8368, 'xem_ra': 10466, 'tật': 9749, 'mạnh_dạn': 5387, 'đội_viên': 11624, 'gió_táp_mưa_sa': 2912, 'chung_ang': 1322, 'chân_lý': 1404, 'sức_khoẻ': 7940, 'trần_trung_nhật': 9204, 'chi_đoàn': 1247, 'vê': 10123, 'lubbock': 4534, 'phong_kiến': 6786, 'võ_dũng': 10179, 'lưu_đức_phương': 4822, 'ới': 11766, 'dẫn_giải': 2623, 'manh_mối': 5107, 'thời_khắc': 8611, 'nữ_kiệt': 6687, 'hoàng_vũ_tân': 3304, 'tọa_lạc': 9797, 'luyến': 4543, 'rối_rít': 7510, 'bảo_kê': 838, 'góp_mặt': 3058, 'sound': 7673, 'bấm_bụng': 855, 'chắp_vá': 1601, 'lòng_đường': 4735, 'nghệ_sĩ_ưu_tú': 5714, 'dẻ': 2639, 'cổ_họng': 2260, '106': 16, 'gây_dựng': 3038, 'giòn_giã': 2906, 'tỷ_trọng': 9963, 'duy_ninh': 2463, 'già_yếu': 2864, '1938': 61, 'xua': 10508, 'đỗ_thị_thuận': 11594, 'thừa_mứa': 8679, 'triền': 8921, 'nhà_nhà': 6166, 'phi_pháp': 6758, 'tụng': 9891, 'rã_rời': 7402, 'hai_chục': 3141, 'phượng_nga': 6956, 'xứng': 10702, 'ghé_vai': 2789, 'môn_học': 5318, 'bảo_nam': 841, 'xướng_ngôn_viên': 10660, 'rề': 7498, 'vĩ_mô': 10231, 'kỵ': 4357, 'đàm_thị_nguyệt': 11056, 'pgs': 6727, 'chọi': 1660, 'án_treo': 10783, 'cơ_đồ': 2068, 'như_ai': 6258, 'khác_thường': 3983, 'mại': 5381, 'the_ruby': 8090, 'ngày_đường': 5935, 'sunda': 7686, 'dang': 2369, 'chĩa': 1516, 'horst_faas': 3267, 'búp_bê': 757, 'toàn_thân': 8875, 'đau_nhức': 10923, 'thú_thực': 8364, 'tắt_ngấm': 9756, 'yêu_quí': 10747, 'thời_tiết': 8615, 'song_sinh': 7667, 'nương_tựa': 6547, 'giác_ngộ': 2881, '79': 245, 'chợ_nổi': 1697, 'bản_chất': 818, 'tinh_dịch': 8724, 'khoẻ': 3949, 'phong_thanh': 6790, 'bổ_nhiệm': 1046, 'thăng_nguyễn': 8381, 'bánh_tráng': 612, 'bạt_ngàn': 815, 'bất_an': 859, 'học_viện': 3672, 'đĩnh_đạc': 11229, 'trong_sạch': 8939, 'liều_lĩnh': 4471, 'chăm_lo': 1510, 'gừng': 3134, 'nhún_nhảy': 6248, 'chúng_bạn': 1494, 'um_tùm': 9974, 'làu_làu': 4612, 'tự_dưng': 9944, 'vĩnh_biệt': 10233, 'that': 8082, 'chợ_chiều': 1693, 'crayen': 1803, 'huỳnh_công_út': 3358, 'hang_ổ': 3151, 'cổ_trang': 2265, 'đôi_co': 11179, 'bảo_quản': 842, 'sủi': 7937, 'mây_mưa': 5260, 'milano': 5141, 'cằm': 2226, 'sơ_tán': 7820, 'mỹ_nhân': 5589, 'khinh_khi': 3906, 'care': 1176, 'sừng_sửng': 7949, 'chống_nạnh': 1670, 'loại_trừ': 4523, 'bãi_nại': 637, 'bóng_lộn': 713, 'kim_ngạch': 4169, 'ta_thán': 7969, 'sao_sa': 7590, 'thân_mến': 8280, 'độc_thân': 11610, 'vest': 10017}\n"
          ]
        }
      ]
    },
    {
      "cell_type": "code",
      "source": [
        "Train_X, Test_X, Train_Y, Test_Y = train_test_split(wordvec, all_tags,test_size=0.2, random_state = 5)"
      ],
      "metadata": {
        "id": "Er-boD0HfEm-"
      },
      "execution_count": null,
      "outputs": []
    },
    {
      "cell_type": "code",
      "source": [
        "print(Train_X.shape)\n",
        "print(Test_X.shape)"
      ],
      "metadata": {
        "colab": {
          "base_uri": "https://localhost:8080/"
        },
        "id": "B7g_klocfYkT",
        "outputId": "f317bf08-7827-489a-ad70-6efb1d04279e"
      },
      "execution_count": null,
      "outputs": [
        {
          "output_type": "stream",
          "name": "stdout",
          "text": [
            "(138009, 11788)\n",
            "(34503, 11788)\n"
          ]
        }
      ]
    },
    {
      "cell_type": "code",
      "source": [
        "classifier_lgr = LogisticRegression()\n",
        "classifier_lgr.fit(Train_X,Train_Y)"
      ],
      "metadata": {
        "colab": {
          "base_uri": "https://localhost:8080/"
        },
        "id": "f0Al4zXakSP5",
        "outputId": "515d76b0-1c62-4807-dff7-b4ec3816e99a"
      },
      "execution_count": null,
      "outputs": [
        {
          "output_type": "stream",
          "name": "stderr",
          "text": [
            "/usr/local/lib/python3.8/dist-packages/sklearn/linear_model/_logistic.py:814: ConvergenceWarning: lbfgs failed to converge (status=1):\n",
            "STOP: TOTAL NO. of ITERATIONS REACHED LIMIT.\n",
            "\n",
            "Increase the number of iterations (max_iter) or scale the data as shown in:\n",
            "    https://scikit-learn.org/stable/modules/preprocessing.html\n",
            "Please also refer to the documentation for alternative solver options:\n",
            "    https://scikit-learn.org/stable/modules/linear_model.html#logistic-regression\n",
            "  n_iter_i = _check_optimize_result(\n"
          ]
        },
        {
          "output_type": "execute_result",
          "data": {
            "text/plain": [
              "LogisticRegression()"
            ]
          },
          "metadata": {},
          "execution_count": 147
        }
      ]
    },
    {
      "cell_type": "code",
      "source": [
        "predictions_LGR = classifier_lgr.predict(Test_X)\n",
        "accuracy_score(predictions_LGR, Test_Y)"
      ],
      "metadata": {
        "colab": {
          "base_uri": "https://localhost:8080/"
        },
        "id": "JJLx7fsskXO0",
        "outputId": "cb7a49c5-f4db-47f8-9367-a0c8f05a32e2"
      },
      "execution_count": null,
      "outputs": [
        {
          "output_type": "execute_result",
          "data": {
            "text/plain": [
              "0.7788018433179723"
            ]
          },
          "metadata": {},
          "execution_count": 149
        }
      ]
    },
    {
      "cell_type": "code",
      "source": [
        "from sklearn.metrics import classification_report"
      ],
      "metadata": {
        "id": "x542HN-KktW_"
      },
      "execution_count": null,
      "outputs": []
    },
    {
      "cell_type": "code",
      "source": [
        "print(classification_report(predictions_LGR, Test_Y))"
      ],
      "metadata": {
        "colab": {
          "base_uri": "https://localhost:8080/"
        },
        "id": "6ToD3W1HulMt",
        "outputId": "30ef7312-a987-4baf-b742-69372c612882"
      },
      "execution_count": null,
      "outputs": [
        {
          "output_type": "stream",
          "name": "stderr",
          "text": [
            "/usr/local/lib/python3.8/dist-packages/sklearn/metrics/_classification.py:1318: UndefinedMetricWarning: Recall and F-score are ill-defined and being set to 0.0 in labels with no true samples. Use `zero_division` parameter to control this behavior.\n",
            "  _warn_prf(average, modifier, msg_start, len(result))\n"
          ]
        },
        {
          "output_type": "stream",
          "name": "stdout",
          "text": [
            "              precision    recall  f1-score   support\n",
            "\n",
            "        </s>       0.00      0.00      0.00         0\n",
            "         <s>       1.00      0.32      0.48      6904\n",
            "           A       0.65      0.91      0.76      1620\n",
            "           B       0.00      0.00      0.00         0\n",
            "           C       0.80      0.96      0.87      1009\n",
            "           E       0.89      0.80      0.84      2518\n",
            "           I       0.20      0.27      0.23        11\n",
            "           L       0.96      1.00      0.98       643\n",
            "           M       0.78      0.97      0.86      1031\n",
            "           N       0.91      0.89      0.90      8555\n",
            "          Nb       0.37      1.00      0.54        26\n",
            "          Nc       0.46      0.77      0.58       516\n",
            "          Np       0.59      0.93      0.72       845\n",
            "          Nu       0.50      0.85      0.63        85\n",
            "          Ny       0.79      0.80      0.79       155\n",
            "           P       0.93      0.96      0.95      1456\n",
            "           R       0.82      0.88      0.85      2363\n",
            "           S       0.56      0.94      0.70        16\n",
            "           T       0.34      0.50      0.40       151\n",
            "           V       0.86      0.91      0.88      6560\n",
            "          Vb       0.00      0.00      0.00         0\n",
            "          Vy       0.00      0.00      0.00         0\n",
            "           X       0.23      0.79      0.36        39\n",
            "           Y       0.00      0.00      0.00         0\n",
            "\n",
            "    accuracy                           0.78     34503\n",
            "   macro avg       0.53      0.64      0.56     34503\n",
            "weighted avg       0.87      0.78      0.79     34503\n",
            "\n"
          ]
        },
        {
          "output_type": "stream",
          "name": "stderr",
          "text": [
            "/usr/local/lib/python3.8/dist-packages/sklearn/metrics/_classification.py:1318: UndefinedMetricWarning: Recall and F-score are ill-defined and being set to 0.0 in labels with no true samples. Use `zero_division` parameter to control this behavior.\n",
            "  _warn_prf(average, modifier, msg_start, len(result))\n",
            "/usr/local/lib/python3.8/dist-packages/sklearn/metrics/_classification.py:1318: UndefinedMetricWarning: Recall and F-score are ill-defined and being set to 0.0 in labels with no true samples. Use `zero_division` parameter to control this behavior.\n",
            "  _warn_prf(average, modifier, msg_start, len(result))\n"
          ]
        }
      ]
    },
    {
      "cell_type": "code",
      "source": [],
      "metadata": {
        "id": "zQ_AQLxnurTZ"
      },
      "execution_count": null,
      "outputs": []
    }
  ],
  "metadata": {
    "kernelspec": {
      "display_name": "Python 3",
      "language": "python",
      "name": "python3"
    },
    "language_info": {
      "codemirror_mode": {
        "name": "ipython",
        "version": 3
      },
      "file_extension": ".py",
      "mimetype": "text/x-python",
      "name": "python",
      "nbconvert_exporter": "python",
      "pygments_lexer": "ipython3",
      "version": "3.10.6"
    },
    "orig_nbformat": 4,
    "vscode": {
      "interpreter": {
        "hash": "27f6fea6f47ae512550f0b8facdbd035a93e1dd89633f7bf2dd00a2502c71d0d"
      }
    },
    "colab": {
      "provenance": []
    }
  },
  "nbformat": 4,
  "nbformat_minor": 0
}