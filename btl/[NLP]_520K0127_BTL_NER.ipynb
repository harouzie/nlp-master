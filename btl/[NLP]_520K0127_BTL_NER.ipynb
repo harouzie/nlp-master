{
  "cells": [
    {
      "cell_type": "code",
      "execution_count": 1,
      "metadata": {
        "colab": {
          "base_uri": "https://localhost:8080/"
        },
        "id": "AOqfvsQAs1X0",
        "outputId": "901d921e-6792-4290-f5e5-78de251e920c"
      },
      "outputs": [
        {
          "name": "stderr",
          "output_type": "stream",
          "text": [
            "\n",
            "[notice] A new release of pip available: 22.3.1 -> 23.0\n",
            "[notice] To update, run: python.exe -m pip install --upgrade pip\n",
            "\n",
            "[notice] A new release of pip available: 22.3.1 -> 23.0\n",
            "[notice] To update, run: python.exe -m pip install --upgrade pip\n",
            "\n",
            "[notice] A new release of pip available: 22.3.1 -> 23.0\n",
            "[notice] To update, run: python.exe -m pip install --upgrade pip\n"
          ]
        }
      ],
      "source": [
        "!pip install ndjson --quiet\n",
        "!pip install underthesea --quiet\n",
        "!pip install sklearn_crfsuite --quiet"
      ]
    },
    {
      "cell_type": "code",
      "execution_count": 2,
      "metadata": {
        "id": "HIpWWCEssy2S"
      },
      "outputs": [],
      "source": [
        "import ndjson\n",
        "import underthesea\n",
        "import nltk\n",
        "import re\n",
        "from sklearn_crfsuite import CRF\n",
        "from sklearn.metrics import f1_score, accuracy_score\n",
        "from sklearn.model_selection import train_test_split"
      ]
    },
    {
      "cell_type": "markdown",
      "metadata": {
        "id": "L1yhn-3JuEkL"
      },
      "source": [
        "# Load dataset\n",
        "[link data set on github](https://github.com/VinAIResearch/PhoNER_COVID19)\n",
        "## **COVID-19 Named Entity Recognition for Vietnamese**\n",
        "PhoNER_COVID19 is a dataset for recognizing COVID-19 related named entities in Vietnamese, consisting of 35K entities over 10K sentences. We define 10 entity types with the aim of extracting key information related to COVID-19 patients, which are especially useful in downstream applications. In general, these entity types can be used in the context of not only the COVID-19 pandemic but also in other future epidemics:"
      ]
    },
    {
      "cell_type": "markdown",
      "metadata": {
        "id": "uJ9IPPAWrH37"
      },
      "source": [
        "![](https://user-images.githubusercontent.com/2412555/112276540-741ca100-8cb3-11eb-8191-9ba6cb83c72c.png)"
      ]
    },
    {
      "cell_type": "code",
      "execution_count": 5,
      "metadata": {
        "id": "2-Wc1FAwgop7"
      },
      "outputs": [],
      "source": [
        "path = \"D:/04. code/nlp/phoNER_covid19/PhoNER_COVID19/data/word/\"\n",
        "file_names = [\n",
        "    \"dev_word.json\",\n",
        "    \"test_word.json\",\n",
        "    \"train_word.json\"\n",
        "]"
      ]
    },
    {
      "cell_type": "code",
      "execution_count": 7,
      "metadata": {
        "id": "zbTQHUwQrL8M"
      },
      "outputs": [],
      "source": [
        "with open(path + file_names[0], encoding='utf-8') as devfile:\n",
        "    dev = ndjson.load(devfile)\n",
        "\n",
        "with open(path + file_names[1], encoding='utf-8') as testfile:\n",
        "    test = ndjson.load(testfile)\n",
        "\n",
        "with open(path + file_names[2], encoding='utf-8') as trainfile:\n",
        "    train = ndjson.load(trainfile)"
      ]
    },
    {
      "cell_type": "code",
      "execution_count": 8,
      "metadata": {
        "colab": {
          "base_uri": "https://localhost:8080/"
        },
        "id": "QDydz5zNtoJT",
        "outputId": "08339282-3c69-4908-f589-14453d813929"
      },
      "outputs": [
        {
          "data": {
            "text/plain": [
              "(2000, 3000, 5027)"
            ]
          },
          "execution_count": 8,
          "metadata": {},
          "output_type": "execute_result"
        }
      ],
      "source": [
        "len(dev), len(test), len(train)"
      ]
    },
    {
      "cell_type": "code",
      "execution_count": 9,
      "metadata": {
        "id": "1W6pznn4ttQH"
      },
      "outputs": [],
      "source": [
        "all_sents = []\n",
        "for para in dev:\n",
        "    all_sents.append(list(zip(para[\"words\"], para[\"tags\"])))\n",
        "\n",
        "for para in test:\n",
        "    all_sents.append(list(zip(para[\"words\"], para[\"tags\"])))\n",
        "\n",
        "for para in train:\n",
        "    all_sents.append(list(zip(para[\"words\"], para[\"tags\"])))"
      ]
    },
    {
      "cell_type": "code",
      "execution_count": 10,
      "metadata": {
        "colab": {
          "base_uri": "https://localhost:8080/"
        },
        "id": "HR7CzsMKd-TN",
        "outputId": "0ac25a90-979b-4614-af64-42b80010223c"
      },
      "outputs": [
        {
          "name": "stdout",
          "output_type": "stream",
          "text": [
            "10027\n"
          ]
        }
      ],
      "source": [
        "print(len(all_sents))"
      ]
    },
    {
      "cell_type": "markdown",
      "metadata": {
        "id": "lHUuEcmSc_fp"
      },
      "source": [
        "---"
      ]
    },
    {
      "cell_type": "code",
      "execution_count": 11,
      "metadata": {
        "id": "7AdN9BqqeSa8"
      },
      "outputs": [],
      "source": [
        "train_set, test_set = train_test_split(all_sents, test_size=0.2, shuffle=False)"
      ]
    },
    {
      "cell_type": "code",
      "execution_count": 12,
      "metadata": {
        "colab": {
          "base_uri": "https://localhost:8080/"
        },
        "id": "NusJFv-rfFWu",
        "outputId": "00a6675e-26d3-43c4-ea37-b987caf3cbfd"
      },
      "outputs": [
        {
          "name": "stdout",
          "output_type": "stream",
          "text": [
            "trainset size 8021\n",
            "testset size 2006\n"
          ]
        }
      ],
      "source": [
        "print(\"trainset size\",len(train_set))\n",
        "print(\"testset size\",len(test_set))"
      ]
    },
    {
      "cell_type": "code",
      "execution_count": 13,
      "metadata": {
        "id": "XlzwqAmZc_G0"
      },
      "outputs": [],
      "source": [
        "test_word = []\n",
        "test_tag = []\n",
        "for sent in test_set:\n",
        "    for word, tag in sent:\n",
        "        test_word.append(word)\n",
        "        test_tag.append(tag)"
      ]
    },
    {
      "cell_type": "code",
      "execution_count": 14,
      "metadata": {
        "colab": {
          "base_uri": "https://localhost:8080/"
        },
        "id": "HeDTvl4Kf34K",
        "outputId": "746c0acf-b670-4b78-e0af-e3e6ce9ebf2d"
      },
      "outputs": [
        {
          "data": {
            "text/plain": [
              "53209"
            ]
          },
          "execution_count": 14,
          "metadata": {},
          "output_type": "execute_result"
        }
      ],
      "source": [
        "len(test_word)"
      ]
    },
    {
      "cell_type": "code",
      "execution_count": 43,
      "metadata": {},
      "outputs": [
        {
          "data": {
            "text/plain": [
              "[[('Bác_sĩ', 'O'),\n",
              "  ('Nguyễn_Trung_Nguyên', 'O'),\n",
              "  (',', 'O'),\n",
              "  ('Giám_đốc', 'O'),\n",
              "  ('Trung_tâm', 'B-ORGANIZATION'),\n",
              "  ('Chống', 'I-ORGANIZATION'),\n",
              "  ('độc', 'I-ORGANIZATION'),\n",
              "  (',', 'I-ORGANIZATION'),\n",
              "  ('Bệnh_viện', 'I-ORGANIZATION'),\n",
              "  ('Bạch_Mai', 'I-ORGANIZATION'),\n",
              "  (',', 'O'),\n",
              "  ('cho', 'O'),\n",
              "  ('biết', 'O'),\n",
              "  ('bệnh_nhân', 'O'),\n",
              "  ('được', 'O'),\n",
              "  ('chuyển', 'O'),\n",
              "  ('đến', 'O'),\n",
              "  ('bệnh_viện', 'O'),\n",
              "  ('ngày', 'O'),\n",
              "  ('7/3', 'B-DATE'),\n",
              "  (',', 'O'),\n",
              "  ('chẩn_đoán', 'O'),\n",
              "  ('ngộ_độc', 'B-SYMPTOM_AND_DISEASE'),\n",
              "  ('thuốc', 'I-SYMPTOM_AND_DISEASE'),\n",
              "  ('điều_trị', 'O'),\n",
              "  ('sốt_rét', 'O'),\n",
              "  ('chloroquine', 'O'),\n",
              "  ('.', 'O')],\n",
              " [('\"', 'O'),\n",
              "  ('Bệnh_nhân', 'O'),\n",
              "  ('812', 'B-PATIENT_ID'),\n",
              "  ('\"', 'O'),\n",
              "  (',', 'O'),\n",
              "  ('nam', 'B-GENDER'),\n",
              "  (',', 'O'),\n",
              "  ('62', 'B-AGE'),\n",
              "  ('tuổi', 'O'),\n",
              "  (',', 'O'),\n",
              "  ('là', 'O'),\n",
              "  ('nhân_viên', 'B-JOB'),\n",
              "  ('giao', 'I-JOB'),\n",
              "  ('bánh', 'I-JOB'),\n",
              "  ('tiệm', 'B-LOCATION'),\n",
              "  ('pizza', 'I-LOCATION'),\n",
              "  ('phố', 'I-LOCATION'),\n",
              "  ('Trần_Thái_Tông', 'I-LOCATION'),\n",
              "  (',', 'O'),\n",
              "  ('Hà_Nội', 'B-LOCATION'),\n",
              "  (',', 'O'),\n",
              "  ('trú', 'O'),\n",
              "  ('tại', 'O'),\n",
              "  ('quận', 'B-LOCATION'),\n",
              "  ('Bắc_Từ_Liêm', 'I-LOCATION'),\n",
              "  (',', 'O'),\n",
              "  ('lây', 'O'),\n",
              "  ('từ', 'O'),\n",
              "  ('\"', 'O'),\n",
              "  ('bệnh_nhân', 'O'),\n",
              "  ('447', 'B-PATIENT_ID'),\n",
              "  ('\"', 'O'),\n",
              "  ('(', 'O'),\n",
              "  ('cũng', 'O'),\n",
              "  ('là', 'O'),\n",
              "  ('nhân_viên', 'B-JOB'),\n",
              "  ('tiệm', 'I-JOB'),\n",
              "  ('bánh', 'I-JOB'),\n",
              "  (',', 'O'),\n",
              "  ('đi', 'O'),\n",
              "  ('du_lịch', 'O'),\n",
              "  ('Đà_Nẵng', 'B-LOCATION'),\n",
              "  (')', 'O'),\n",
              "  ('.', 'O')]]"
            ]
          },
          "execution_count": 43,
          "metadata": {},
          "output_type": "execute_result"
        }
      ],
      "source": [
        "train_set[:2]\n",
        "# 🥲🥲🥲🥲🥲🥲🥲🥲🥲"
      ]
    },
    {
      "cell_type": "markdown",
      "metadata": {
        "id": "pPqNZFtU1WWy"
      },
      "source": [
        "# Modeling\n",
        "## 1. HMM"
      ]
    },
    {
      "cell_type": "code",
      "execution_count": 15,
      "metadata": {
        "id": "opGbTH3o1aKM"
      },
      "outputs": [],
      "source": [
        "tagger = nltk.HiddenMarkovModelTagger.train(train_set)"
      ]
    },
    {
      "cell_type": "code",
      "execution_count": 16,
      "metadata": {
        "id": "FwF7Y98gcFRH"
      },
      "outputs": [],
      "source": [
        "y_pred_hmm_ner = [tag for _,tag in tagger.tag(test_word)]"
      ]
    },
    {
      "cell_type": "code",
      "execution_count": 17,
      "metadata": {
        "colab": {
          "base_uri": "https://localhost:8080/"
        },
        "id": "LaWeGE60dK9Y",
        "outputId": "e703183e-beb6-426d-e4cf-51b9ea56e71e"
      },
      "outputs": [
        {
          "data": {
            "text/plain": [
              "0.9411453046546298"
            ]
          },
          "execution_count": 17,
          "metadata": {},
          "output_type": "execute_result"
        }
      ],
      "source": [
        "f1_score(y_pred=y_pred_hmm_ner, y_true=test_tag,average='weighted')"
      ]
    },
    {
      "cell_type": "code",
      "execution_count": 18,
      "metadata": {
        "colab": {
          "base_uri": "https://localhost:8080/"
        },
        "id": "xKrLPRPrhIjv",
        "outputId": "93689b60-cadf-4e75-b447-e025edd5137c"
      },
      "outputs": [
        {
          "data": {
            "text/plain": [
              "0.9391080456313782"
            ]
          },
          "execution_count": 18,
          "metadata": {},
          "output_type": "execute_result"
        }
      ],
      "source": [
        "accuracy_score(y_pred=y_pred_hmm_ner, y_true=test_tag)"
      ]
    },
    {
      "cell_type": "markdown",
      "metadata": {
        "id": "aPxjR4AY1bI5"
      },
      "source": [
        "# 2. CRF"
      ]
    },
    {
      "cell_type": "code",
      "execution_count": 19,
      "metadata": {
        "id": "yBfdNu_21d70"
      },
      "outputs": [],
      "source": [
        "def features(sentence,index):\n",
        "    return {\n",
        "        # 'is_first_capital':int(sentence[index][0].isupper()),\n",
        "        'is_first_word': int(index==0),\n",
        "        'is_last_word':int(index==len(sentence)-1),\n",
        "        'is_complete_capital': int(sentence[index].upper()==sentence[index]),\n",
        "        'prev_word':'' if index==0 else sentence[index-1],\n",
        "        'next_word':'' if index==len(sentence)-1 else sentence[index+1],\n",
        "        'is_numeric':int(sentence[index].isdigit()),\n",
        "        'is_alphanumeric': int(bool((re.match('^(?=.*[0-9]$)(?=.*[a-zA-Z])',sentence[index])))),\n",
        "        # 'word_has_hyphen': 1 if '-' in sentence[index] else 0\n",
        "    }\n",
        "  \n",
        "def prepareData(tagged_sentences):\n",
        "    X=[]\n",
        "    for sentences in tagged_sentences:\n",
        "        X.append([features(sentences, index) for index in range(len(sentences))])\n",
        "    return X"
      ]
    },
    {
      "cell_type": "code",
      "execution_count": 20,
      "metadata": {
        "id": "Eog6sNvvZUes"
      },
      "outputs": [],
      "source": [
        "sentences = []\n",
        "tags = []\n",
        "for sent in train_set:\n",
        "    sent_word = []\n",
        "    sent_tag = []\n",
        "    for word, tag in sent:\n",
        "        sent_word.append(word)\n",
        "        sent_tag.append(tag)\n",
        "    \n",
        "    sentences.append(sent_word)\n",
        "    tags.append(sent_tag)"
      ]
    },
    {
      "cell_type": "code",
      "execution_count": 21,
      "metadata": {
        "colab": {
          "base_uri": "https://localhost:8080/"
        },
        "id": "BMv5GkopZhyt",
        "outputId": "959e2a77-9360-4999-a44f-e865c7f574a1"
      },
      "outputs": [
        {
          "data": {
            "text/plain": [
              "8021"
            ]
          },
          "execution_count": 21,
          "metadata": {},
          "output_type": "execute_result"
        }
      ],
      "source": [
        "len(sentences)"
      ]
    },
    {
      "cell_type": "code",
      "execution_count": 22,
      "metadata": {
        "id": "x7UOlWivZjbk"
      },
      "outputs": [],
      "source": [
        "train_sentences, test_sentences, train_tags, test_tags = train_test_split(sentences, tags, test_size=0.2)"
      ]
    },
    {
      "cell_type": "code",
      "execution_count": 23,
      "metadata": {
        "id": "Um23GYpEZlmK"
      },
      "outputs": [],
      "source": [
        "X_train = prepareData(train_sentences)\n",
        "y_train = train_tags\n",
        "X_test = prepareData(test_sentences)\n",
        "y_test =  test_tags"
      ]
    },
    {
      "cell_type": "code",
      "execution_count": 24,
      "metadata": {
        "id": "CxV6PHQaZnNd"
      },
      "outputs": [],
      "source": [
        "crf = CRF(\n",
        "    algorithm='lbfgs',\n",
        "    c1=0.01,\n",
        "    c2=0.1,\n",
        "    max_iterations=100,\n",
        "    all_possible_transitions=True\n",
        ")\n",
        "try:\n",
        "    crf.fit(X_train, y_train)\n",
        "except AttributeError:\n",
        "    pass"
      ]
    },
    {
      "cell_type": "code",
      "execution_count": 25,
      "metadata": {
        "id": "-Fo_s66fZrGL"
      },
      "outputs": [],
      "source": [
        "y_pred=crf.predict(X_test)\n",
        "y_pred_train=crf.predict(X_train)"
      ]
    },
    {
      "cell_type": "code",
      "execution_count": 26,
      "metadata": {
        "colab": {
          "base_uri": "https://localhost:8080/"
        },
        "id": "XpebeqS4Zsk7",
        "outputId": "35a69ad9-b78e-45d3-f88c-91ca7b3c1094"
      },
      "outputs": [
        {
          "name": "stdout",
          "output_type": "stream",
          "text": [
            "0.943701969574168\n",
            "0.9456862523965265\n"
          ]
        }
      ],
      "source": [
        "from sklearn_crfsuite import metrics\n",
        "from sklearn_crfsuite import scorers\n",
        "\n",
        "#F1 score test\n",
        "print(metrics.flat_f1_score(y_test, y_pred,average='weighted',labels=crf.classes_))\n",
        "#Accuracy score test\n",
        "print(metrics.flat_accuracy_score(y_test,y_pred))"
      ]
    },
    {
      "cell_type": "code",
      "execution_count": 27,
      "metadata": {
        "colab": {
          "base_uri": "https://localhost:8080/"
        },
        "id": "mGwZs0eHZybM",
        "outputId": "09486334-2fed-436d-b4c0-ed115232a5bd"
      },
      "outputs": [
        {
          "name": "stdout",
          "output_type": "stream",
          "text": [
            "0.9635470757254156\n",
            "0.9646070718032194\n"
          ]
        }
      ],
      "source": [
        "#F1 score train\n",
        "print(metrics.flat_f1_score(y_train, y_pred_train,average='weighted',labels=crf.classes_))\n",
        "#Accuracy score train\n",
        "print(metrics.flat_accuracy_score(y_train,y_pred_train))"
      ]
    },
    {
      "cell_type": "code",
      "execution_count": 28,
      "metadata": {
        "colab": {
          "base_uri": "https://localhost:8080/"
        },
        "id": "oaGXCDePZ1lL",
        "outputId": "6db97243-68ea-4147-f40c-a7fccee95708"
      },
      "outputs": [
        {
          "data": {
            "text/plain": [
              "['O',\n",
              " 'B-PATIENT_ID',\n",
              " 'B-ORGANIZATION',\n",
              " 'I-ORGANIZATION',\n",
              " 'B-LOCATION',\n",
              " 'B-GENDER',\n",
              " 'B-AGE',\n",
              " 'B-SYMPTOM_AND_DISEASE',\n",
              " 'I-SYMPTOM_AND_DISEASE',\n",
              " 'B-DATE',\n",
              " 'I-LOCATION',\n",
              " 'B-TRANSPORTATION',\n",
              " 'I-TRANSPORTATION',\n",
              " 'B-NAME',\n",
              " 'B-JOB',\n",
              " 'I-JOB',\n",
              " 'I-DATE',\n",
              " 'I-NAME',\n",
              " 'I-PATIENT_ID',\n",
              " 'I-AGE']"
            ]
          },
          "execution_count": 28,
          "metadata": {},
          "output_type": "execute_result"
        }
      ],
      "source": [
        "labels1=crf.classes_\n",
        "labels1"
      ]
    },
    {
      "cell_type": "markdown",
      "metadata": {
        "id": "URp2Y5vh1gwT"
      },
      "source": [
        "## 3. Logistic Regression"
      ]
    },
    {
      "cell_type": "code",
      "execution_count": 29,
      "metadata": {
        "id": "GC-KyRKY1loT"
      },
      "outputs": [],
      "source": [
        "from sklearn.feature_extraction.text import TfidfVectorizer\n",
        "from sklearn.feature_extraction import DictVectorizer\n",
        "from sklearn.linear_model import LogisticRegression\n",
        "from sklearn.preprocessing import LabelEncoder"
      ]
    },
    {
      "cell_type": "code",
      "execution_count": 30,
      "metadata": {
        "id": "-B1-TNuAxifM"
      },
      "outputs": [],
      "source": [
        "Encoder = LabelEncoder()\n",
        "Tfidf_vect = TfidfVectorizer()"
      ]
    },
    {
      "cell_type": "code",
      "execution_count": 31,
      "metadata": {
        "id": "utEG02tJyLfn"
      },
      "outputs": [],
      "source": [
        "all_tags = []\n",
        "all_words = []\n",
        "\n",
        "for sent in all_sents:\n",
        "    sent_word = []\n",
        "    sent_tag = []\n",
        "    for word, tag in sent:\n",
        "        sent_word.append(word)\n",
        "        sent_tag.append(tag)\n",
        "    \n",
        "    all_words.extend(sent_word)\n",
        "    all_tags.extend(sent_tag)"
      ]
    },
    {
      "cell_type": "code",
      "execution_count": 32,
      "metadata": {
        "colab": {
          "base_uri": "https://localhost:8080/"
        },
        "id": "TGkiY09ZzECx",
        "outputId": "b41093f0-c1dc-4a0c-a535-bf91d2ad26b4"
      },
      "outputs": [
        {
          "data": {
            "text/plain": [
              "(274472, 274472)"
            ]
          },
          "execution_count": 32,
          "metadata": {},
          "output_type": "execute_result"
        }
      ],
      "source": [
        "len(all_words), len(all_tags)"
      ]
    },
    {
      "cell_type": "code",
      "execution_count": 33,
      "metadata": {
        "colab": {
          "base_uri": "https://localhost:8080/"
        },
        "id": "6WN8N3W5xnGI",
        "outputId": "795b84d9-aa0a-4569-efe7-9ae4aee3d190"
      },
      "outputs": [
        {
          "data": {
            "text/plain": [
              "(274472, 6493)"
            ]
          },
          "execution_count": 33,
          "metadata": {},
          "output_type": "execute_result"
        }
      ],
      "source": [
        "wordvec = Tfidf_vect.fit_transform(all_words)\n",
        "wordvec.shape"
      ]
    },
    {
      "cell_type": "code",
      "execution_count": 34,
      "metadata": {
        "colab": {
          "base_uri": "https://localhost:8080/"
        },
        "id": "tLHVrNhKzPlC",
        "outputId": "80228286-1038-45cb-e9e2-54a5f17c75b3"
      },
      "outputs": [
        {
          "data": {
            "text/plain": [
              "6493"
            ]
          },
          "execution_count": 34,
          "metadata": {},
          "output_type": "execute_result"
        }
      ],
      "source": [
        "len(Tfidf_vect.vocabulary_)\n",
        "# print(Tfidf_vect.vocabulary_)"
      ]
    },
    {
      "cell_type": "code",
      "execution_count": 35,
      "metadata": {
        "id": "4Uk5TS3azLL5"
      },
      "outputs": [],
      "source": [
        "Train_X, Test_X, Train_Y, Test_Y = train_test_split(wordvec, all_tags,test_size=0.2, random_state = 5)"
      ]
    },
    {
      "cell_type": "code",
      "execution_count": 36,
      "metadata": {
        "colab": {
          "base_uri": "https://localhost:8080/"
        },
        "id": "cSv06C4wzRp-",
        "outputId": "eb027fd4-9196-49dd-9051-ed16fe4df8dd"
      },
      "outputs": [
        {
          "name": "stderr",
          "output_type": "stream",
          "text": [
            "c:\\Users\\ASUS\\AppData\\Local\\Programs\\Python\\Python310\\lib\\site-packages\\sklearn\\linear_model\\_logistic.py:444: ConvergenceWarning: lbfgs failed to converge (status=1):\n",
            "STOP: TOTAL NO. of ITERATIONS REACHED LIMIT.\n",
            "\n",
            "Increase the number of iterations (max_iter) or scale the data as shown in:\n",
            "    https://scikit-learn.org/stable/modules/preprocessing.html\n",
            "Please also refer to the documentation for alternative solver options:\n",
            "    https://scikit-learn.org/stable/modules/linear_model.html#logistic-regression\n",
            "  n_iter_i = _check_optimize_result(\n"
          ]
        },
        {
          "data": {
            "text/html": [
              "<style>#sk-container-id-1 {color: black;background-color: white;}#sk-container-id-1 pre{padding: 0;}#sk-container-id-1 div.sk-toggleable {background-color: white;}#sk-container-id-1 label.sk-toggleable__label {cursor: pointer;display: block;width: 100%;margin-bottom: 0;padding: 0.3em;box-sizing: border-box;text-align: center;}#sk-container-id-1 label.sk-toggleable__label-arrow:before {content: \"▸\";float: left;margin-right: 0.25em;color: #696969;}#sk-container-id-1 label.sk-toggleable__label-arrow:hover:before {color: black;}#sk-container-id-1 div.sk-estimator:hover label.sk-toggleable__label-arrow:before {color: black;}#sk-container-id-1 div.sk-toggleable__content {max-height: 0;max-width: 0;overflow: hidden;text-align: left;background-color: #f0f8ff;}#sk-container-id-1 div.sk-toggleable__content pre {margin: 0.2em;color: black;border-radius: 0.25em;background-color: #f0f8ff;}#sk-container-id-1 input.sk-toggleable__control:checked~div.sk-toggleable__content {max-height: 200px;max-width: 100%;overflow: auto;}#sk-container-id-1 input.sk-toggleable__control:checked~label.sk-toggleable__label-arrow:before {content: \"▾\";}#sk-container-id-1 div.sk-estimator input.sk-toggleable__control:checked~label.sk-toggleable__label {background-color: #d4ebff;}#sk-container-id-1 div.sk-label input.sk-toggleable__control:checked~label.sk-toggleable__label {background-color: #d4ebff;}#sk-container-id-1 input.sk-hidden--visually {border: 0;clip: rect(1px 1px 1px 1px);clip: rect(1px, 1px, 1px, 1px);height: 1px;margin: -1px;overflow: hidden;padding: 0;position: absolute;width: 1px;}#sk-container-id-1 div.sk-estimator {font-family: monospace;background-color: #f0f8ff;border: 1px dotted black;border-radius: 0.25em;box-sizing: border-box;margin-bottom: 0.5em;}#sk-container-id-1 div.sk-estimator:hover {background-color: #d4ebff;}#sk-container-id-1 div.sk-parallel-item::after {content: \"\";width: 100%;border-bottom: 1px solid gray;flex-grow: 1;}#sk-container-id-1 div.sk-label:hover label.sk-toggleable__label {background-color: #d4ebff;}#sk-container-id-1 div.sk-serial::before {content: \"\";position: absolute;border-left: 1px solid gray;box-sizing: border-box;top: 0;bottom: 0;left: 50%;z-index: 0;}#sk-container-id-1 div.sk-serial {display: flex;flex-direction: column;align-items: center;background-color: white;padding-right: 0.2em;padding-left: 0.2em;position: relative;}#sk-container-id-1 div.sk-item {position: relative;z-index: 1;}#sk-container-id-1 div.sk-parallel {display: flex;align-items: stretch;justify-content: center;background-color: white;position: relative;}#sk-container-id-1 div.sk-item::before, #sk-container-id-1 div.sk-parallel-item::before {content: \"\";position: absolute;border-left: 1px solid gray;box-sizing: border-box;top: 0;bottom: 0;left: 50%;z-index: -1;}#sk-container-id-1 div.sk-parallel-item {display: flex;flex-direction: column;z-index: 1;position: relative;background-color: white;}#sk-container-id-1 div.sk-parallel-item:first-child::after {align-self: flex-end;width: 50%;}#sk-container-id-1 div.sk-parallel-item:last-child::after {align-self: flex-start;width: 50%;}#sk-container-id-1 div.sk-parallel-item:only-child::after {width: 0;}#sk-container-id-1 div.sk-dashed-wrapped {border: 1px dashed gray;margin: 0 0.4em 0.5em 0.4em;box-sizing: border-box;padding-bottom: 0.4em;background-color: white;}#sk-container-id-1 div.sk-label label {font-family: monospace;font-weight: bold;display: inline-block;line-height: 1.2em;}#sk-container-id-1 div.sk-label-container {text-align: center;}#sk-container-id-1 div.sk-container {/* jupyter's `normalize.less` sets `[hidden] { display: none; }` but bootstrap.min.css set `[hidden] { display: none !important; }` so we also need the `!important` here to be able to override the default hidden behavior on the sphinx rendered scikit-learn.org. See: https://github.com/scikit-learn/scikit-learn/issues/21755 */display: inline-block !important;position: relative;}#sk-container-id-1 div.sk-text-repr-fallback {display: none;}</style><div id=\"sk-container-id-1\" class=\"sk-top-container\"><div class=\"sk-text-repr-fallback\"><pre>LogisticRegression()</pre><b>In a Jupyter environment, please rerun this cell to show the HTML representation or trust the notebook. <br />On GitHub, the HTML representation is unable to render, please try loading this page with nbviewer.org.</b></div><div class=\"sk-container\" hidden><div class=\"sk-item\"><div class=\"sk-estimator sk-toggleable\"><input class=\"sk-toggleable__control sk-hidden--visually\" id=\"sk-estimator-id-1\" type=\"checkbox\" checked><label for=\"sk-estimator-id-1\" class=\"sk-toggleable__label sk-toggleable__label-arrow\">LogisticRegression</label><div class=\"sk-toggleable__content\"><pre>LogisticRegression()</pre></div></div></div></div></div>"
            ],
            "text/plain": [
              "LogisticRegression()"
            ]
          },
          "execution_count": 36,
          "metadata": {},
          "output_type": "execute_result"
        }
      ],
      "source": [
        "classifier_lgr = LogisticRegression()\n",
        "classifier_lgr.fit(Train_X,Train_Y)"
      ]
    },
    {
      "cell_type": "code",
      "execution_count": 37,
      "metadata": {
        "colab": {
          "base_uri": "https://localhost:8080/"
        },
        "id": "I5fYsK4tzYKY",
        "outputId": "a32ffb74-4284-4a5f-d8ba-05a023e1cd8e"
      },
      "outputs": [
        {
          "data": {
            "text/plain": [
              "0.8633573185171691"
            ]
          },
          "execution_count": 37,
          "metadata": {},
          "output_type": "execute_result"
        }
      ],
      "source": [
        "predictions_LGR = classifier_lgr.predict(Test_X)\n",
        "accuracy_score(predictions_LGR, Test_Y)"
      ]
    },
    {
      "cell_type": "code",
      "execution_count": 38,
      "metadata": {
        "id": "qN90acYBzZkt"
      },
      "outputs": [],
      "source": [
        "from sklearn.metrics import classification_report"
      ]
    },
    {
      "cell_type": "code",
      "execution_count": 39,
      "metadata": {
        "colab": {
          "base_uri": "https://localhost:8080/"
        },
        "id": "6ToD3W1HulMt",
        "outputId": "67e26a45-f49e-4e40-f9ef-7a1976025c9a"
      },
      "outputs": [
        {
          "name": "stderr",
          "output_type": "stream",
          "text": [
            "c:\\Users\\ASUS\\AppData\\Local\\Programs\\Python\\Python310\\lib\\site-packages\\sklearn\\metrics\\_classification.py:1334: UndefinedMetricWarning: Recall and F-score are ill-defined and being set to 0.0 in labels with no true samples. Use `zero_division` parameter to control this behavior.\n",
            "  _warn_prf(average, modifier, msg_start, len(result))\n"
          ]
        },
        {
          "name": "stdout",
          "output_type": "stream",
          "text": [
            "                       precision    recall  f1-score   support\n",
            "\n",
            "                B-AGE       0.40      0.56      0.47       218\n",
            "               B-DATE       0.66      0.65      0.65      1082\n",
            "             B-GENDER       0.94      0.74      0.83       321\n",
            "                B-JOB       0.26      0.67      0.37        36\n",
            "           B-LOCATION       0.69      0.64      0.66      2769\n",
            "               B-NAME       0.10      1.00      0.18        16\n",
            "       B-ORGANIZATION       0.67      0.68      0.67       476\n",
            "         B-PATIENT_ID       0.57      0.83      0.68       889\n",
            "B-SYMPTOM_AND_DISEASE       0.82      0.79      0.80       649\n",
            "     B-TRANSPORTATION       0.41      0.95      0.58        42\n",
            "                I-AGE       0.00      0.00      0.00         0\n",
            "               I-DATE       0.00      0.67      0.00         3\n",
            "                I-JOB       0.00      0.00      0.00         0\n",
            "           I-LOCATION       0.49      0.66      0.56      2008\n",
            "               I-NAME       0.00      0.00      0.00         0\n",
            "       I-ORGANIZATION       0.39      0.65      0.49       736\n",
            "         I-PATIENT_ID       0.00      0.00      0.00         0\n",
            "I-SYMPTOM_AND_DISEASE       0.55      0.63      0.58       697\n",
            "     I-TRANSPORTATION       0.26      1.00      0.41         7\n",
            "                    O       0.97      0.90      0.93     44946\n",
            "\n",
            "             accuracy                           0.86     54895\n",
            "            macro avg       0.41      0.60      0.44     54895\n",
            "         weighted avg       0.90      0.86      0.88     54895\n",
            "\n"
          ]
        },
        {
          "name": "stderr",
          "output_type": "stream",
          "text": [
            "c:\\Users\\ASUS\\AppData\\Local\\Programs\\Python\\Python310\\lib\\site-packages\\sklearn\\metrics\\_classification.py:1334: UndefinedMetricWarning: Recall and F-score are ill-defined and being set to 0.0 in labels with no true samples. Use `zero_division` parameter to control this behavior.\n",
            "  _warn_prf(average, modifier, msg_start, len(result))\n",
            "c:\\Users\\ASUS\\AppData\\Local\\Programs\\Python\\Python310\\lib\\site-packages\\sklearn\\metrics\\_classification.py:1334: UndefinedMetricWarning: Recall and F-score are ill-defined and being set to 0.0 in labels with no true samples. Use `zero_division` parameter to control this behavior.\n",
            "  _warn_prf(average, modifier, msg_start, len(result))\n"
          ]
        }
      ],
      "source": [
        "print(classification_report(predictions_LGR, Test_Y))"
      ]
    }
  ],
  "metadata": {
    "colab": {
      "provenance": []
    },
    "kernelspec": {
      "display_name": "Python 3",
      "language": "python",
      "name": "python3"
    },
    "language_info": {
      "codemirror_mode": {
        "name": "ipython",
        "version": 3
      },
      "file_extension": ".py",
      "mimetype": "text/x-python",
      "name": "python",
      "nbconvert_exporter": "python",
      "pygments_lexer": "ipython3",
      "version": "3.10.6"
    },
    "vscode": {
      "interpreter": {
        "hash": "27f6fea6f47ae512550f0b8facdbd035a93e1dd89633f7bf2dd00a2502c71d0d"
      }
    }
  },
  "nbformat": 4,
  "nbformat_minor": 0
}
