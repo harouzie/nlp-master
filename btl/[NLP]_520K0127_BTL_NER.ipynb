{
  "nbformat": 4,
  "nbformat_minor": 0,
  "metadata": {
    "colab": {
      "provenance": []
    },
    "kernelspec": {
      "name": "python3",
      "display_name": "Python 3"
    },
    "language_info": {
      "name": "python"
    }
  },
  "cells": [
    {
      "cell_type": "code",
      "source": [
        "!pip install ndjson --quiet\n",
        "!pip install underthesea --quiet\n",
        "!pip install sklearn_crfsuite --quiet"
      ],
      "metadata": {
        "id": "AOqfvsQAs1X0",
        "colab": {
          "base_uri": "https://localhost:8080/"
        },
        "outputId": "901d921e-6792-4290-f5e5-78de251e920c"
      },
      "execution_count": null,
      "outputs": [
        {
          "output_type": "stream",
          "name": "stdout",
          "text": [
            "\u001b[2K     \u001b[90m━━━━━━━━━━━━━━━━━━━━━━━━━━━━━━━━━━━━━━━━\u001b[0m \u001b[32m11.0/11.0 MB\u001b[0m \u001b[31m43.9 MB/s\u001b[0m eta \u001b[36m0:00:00\u001b[0m\n",
            "\u001b[2K     \u001b[90m━━━━━━━━━━━━━━━━━━━━━━━━━━━━━━━━━━━━━━━━\u001b[0m \u001b[32m1.0/1.0 MB\u001b[0m \u001b[31m54.6 MB/s\u001b[0m eta \u001b[36m0:00:00\u001b[0m\n",
            "\u001b[2K     \u001b[90m━━━━━━━━━━━━━━━━━━━━━━━━━━━━━━━━━━━━━━\u001b[0m \u001b[32m591.3/591.3 KB\u001b[0m \u001b[31m35.4 MB/s\u001b[0m eta \u001b[36m0:00:00\u001b[0m\n",
            "\u001b[?25h"
          ]
        }
      ]
    },
    {
      "cell_type": "code",
      "source": [
        "import ndjson\n",
        "import underthesea\n",
        "import nltk\n",
        "import re\n",
        "from sklearn_crfsuite import CRF\n",
        "from sklearn.metrics import f1_score, accuracy_score\n",
        "from sklearn.model_selection import train_test_split"
      ],
      "metadata": {
        "id": "HIpWWCEssy2S"
      },
      "execution_count": null,
      "outputs": []
    },
    {
      "cell_type": "markdown",
      "source": [
        "# Load dataset\n",
        "[link data set on github](https://github.com/VinAIResearch/PhoNER_COVID19)\n",
        "## **COVID-19 Named Entity Recognition for Vietnamese**\n",
        "PhoNER_COVID19 is a dataset for recognizing COVID-19 related named entities in Vietnamese, consisting of 35K entities over 10K sentences. We define 10 entity types with the aim of extracting key information related to COVID-19 patients, which are especially useful in downstream applications. In general, these entity types can be used in the context of not only the COVID-19 pandemic but also in other future epidemics:"
      ],
      "metadata": {
        "id": "L1yhn-3JuEkL"
      }
    },
    {
      "cell_type": "markdown",
      "source": [
        "![](https://user-images.githubusercontent.com/2412555/112276540-741ca100-8cb3-11eb-8191-9ba6cb83c72c.png)"
      ],
      "metadata": {
        "id": "uJ9IPPAWrH37"
      }
    },
    {
      "cell_type": "code",
      "source": [
        "path = \"/content/drive/MyDrive/[postgrad] S1Y3/NLP/dataset/BTL/\"\n",
        "file_names = [\n",
        "    \"dev_word.json\",\n",
        "    \"test_word.json\",\n",
        "    \"train_word.json\"\n",
        "]"
      ],
      "metadata": {
        "id": "2-Wc1FAwgop7"
      },
      "execution_count": null,
      "outputs": []
    },
    {
      "cell_type": "code",
      "source": [
        "with open(path + file_names[0]) as devfile:\n",
        "    dev = ndjson.load(devfile)\n",
        "\n",
        "with open(path + file_names[1]) as testfile:\n",
        "    test = ndjson.load(testfile)\n",
        "\n",
        "with open(path + file_names[2]) as trainfile:\n",
        "    train = ndjson.load(trainfile)"
      ],
      "metadata": {
        "id": "zbTQHUwQrL8M"
      },
      "execution_count": null,
      "outputs": []
    },
    {
      "cell_type": "code",
      "source": [
        "len(dev), len(test), len(train)"
      ],
      "metadata": {
        "colab": {
          "base_uri": "https://localhost:8080/"
        },
        "id": "QDydz5zNtoJT",
        "outputId": "08339282-3c69-4908-f589-14453d813929"
      },
      "execution_count": null,
      "outputs": [
        {
          "output_type": "execute_result",
          "data": {
            "text/plain": [
              "(2000, 3000, 5027)"
            ]
          },
          "metadata": {},
          "execution_count": 5
        }
      ]
    },
    {
      "cell_type": "markdown",
      "source": [
        "# Preprocessing"
      ],
      "metadata": {
        "id": "nRYKvRNzyN1f"
      }
    },
    {
      "cell_type": "code",
      "source": [
        "all_sents = []\n",
        "for para in dev:\n",
        "    all_sents.append(list(zip(para[\"words\"], para[\"tags\"])))\n",
        "\n",
        "for para in test:\n",
        "    all_sents.append(list(zip(para[\"words\"], para[\"tags\"])))\n",
        "\n",
        "for para in train:\n",
        "    all_sents.append(list(zip(para[\"words\"], para[\"tags\"])))"
      ],
      "metadata": {
        "id": "1W6pznn4ttQH"
      },
      "execution_count": null,
      "outputs": []
    },
    {
      "cell_type": "code",
      "source": [
        "print(len(all_sents))"
      ],
      "metadata": {
        "colab": {
          "base_uri": "https://localhost:8080/"
        },
        "id": "HR7CzsMKd-TN",
        "outputId": "0ac25a90-979b-4614-af64-42b80010223c"
      },
      "execution_count": null,
      "outputs": [
        {
          "output_type": "stream",
          "name": "stdout",
          "text": [
            "10027\n"
          ]
        }
      ]
    },
    {
      "cell_type": "markdown",
      "source": [
        "---"
      ],
      "metadata": {
        "id": "lHUuEcmSc_fp"
      }
    },
    {
      "cell_type": "code",
      "source": [
        "train_set, test_set = train_test_split(all_sents, test_size=0.2, random_state=27)"
      ],
      "metadata": {
        "id": "7AdN9BqqeSa8"
      },
      "execution_count": null,
      "outputs": []
    },
    {
      "cell_type": "code",
      "source": [
        "print(\"trainset size\",len(train_set))\n",
        "print(\"testset size\",len(test_set))"
      ],
      "metadata": {
        "colab": {
          "base_uri": "https://localhost:8080/"
        },
        "id": "NusJFv-rfFWu",
        "outputId": "00a6675e-26d3-43c4-ea37-b987caf3cbfd"
      },
      "execution_count": null,
      "outputs": [
        {
          "output_type": "stream",
          "name": "stdout",
          "text": [
            "trainset size 8021\n",
            "testset size 2006\n"
          ]
        }
      ]
    },
    {
      "cell_type": "code",
      "source": [
        "test_word = []\n",
        "test_tag = []\n",
        "for sent in test_set:\n",
        "    for word, tag in sent:\n",
        "        test_word.append(word)\n",
        "        test_tag.append(tag)"
      ],
      "metadata": {
        "id": "XlzwqAmZc_G0"
      },
      "execution_count": null,
      "outputs": []
    },
    {
      "cell_type": "code",
      "source": [
        "len(test_word)"
      ],
      "metadata": {
        "colab": {
          "base_uri": "https://localhost:8080/"
        },
        "id": "HeDTvl4Kf34K",
        "outputId": "746c0acf-b670-4b78-e0af-e3e6ce9ebf2d"
      },
      "execution_count": null,
      "outputs": [
        {
          "output_type": "execute_result",
          "data": {
            "text/plain": [
              "54948"
            ]
          },
          "metadata": {},
          "execution_count": 11
        }
      ]
    },
    {
      "cell_type": "markdown",
      "source": [
        "# Modeling\n",
        "## 1. HMM"
      ],
      "metadata": {
        "id": "pPqNZFtU1WWy"
      }
    },
    {
      "cell_type": "code",
      "source": [
        "tagger = nltk.HiddenMarkovModelTagger.train(train_set)"
      ],
      "metadata": {
        "id": "opGbTH3o1aKM"
      },
      "execution_count": null,
      "outputs": []
    },
    {
      "cell_type": "code",
      "source": [
        "y_pred_hmm_ner = [tag for _,tag in tagger.tag(test_word)]"
      ],
      "metadata": {
        "id": "FwF7Y98gcFRH"
      },
      "execution_count": null,
      "outputs": []
    },
    {
      "cell_type": "code",
      "source": [
        "f1_score(y_pred=y_pred_hmm_ner, y_true=test_tag,average='weighted')"
      ],
      "metadata": {
        "colab": {
          "base_uri": "https://localhost:8080/"
        },
        "id": "LaWeGE60dK9Y",
        "outputId": "e703183e-beb6-426d-e4cf-51b9ea56e71e"
      },
      "execution_count": null,
      "outputs": [
        {
          "output_type": "execute_result",
          "data": {
            "text/plain": [
              "0.9340708973163566"
            ]
          },
          "metadata": {},
          "execution_count": 14
        }
      ]
    },
    {
      "cell_type": "code",
      "source": [
        "accuracy_score(y_pred=y_pred_hmm_ner, y_true=test_tag)"
      ],
      "metadata": {
        "colab": {
          "base_uri": "https://localhost:8080/"
        },
        "id": "xKrLPRPrhIjv",
        "outputId": "93689b60-cadf-4e75-b447-e025edd5137c"
      },
      "execution_count": null,
      "outputs": [
        {
          "output_type": "execute_result",
          "data": {
            "text/plain": [
              "0.9325726141078838"
            ]
          },
          "metadata": {},
          "execution_count": 15
        }
      ]
    },
    {
      "cell_type": "markdown",
      "source": [
        "# 2. CRF"
      ],
      "metadata": {
        "id": "aPxjR4AY1bI5"
      }
    },
    {
      "cell_type": "code",
      "source": [
        "def features(sentence,index):\n",
        "    return {\n",
        "        # 'is_first_capital':int(sentence[index][0].isupper()),\n",
        "        'is_first_word': int(index==0),\n",
        "        'is_last_word':int(index==len(sentence)-1),\n",
        "        'is_complete_capital': int(sentence[index].upper()==sentence[index]),\n",
        "        'prev_word':'' if index==0 else sentence[index-1],\n",
        "        'next_word':'' if index==len(sentence)-1 else sentence[index+1],\n",
        "        'is_numeric':int(sentence[index].isdigit()),\n",
        "        'is_alphanumeric': int(bool((re.match('^(?=.*[0-9]$)(?=.*[a-zA-Z])',sentence[index])))),\n",
        "        'word_has_hyphen': 1 if '-' in sentence[index] else 0\n",
        "    }\n",
        "  \n",
        "def prepareData(tagged_sentences):\n",
        "    X=[]\n",
        "    for sentences in tagged_sentences:\n",
        "        X.append([features(sentences, index) for index in range(len(sentences))])\n",
        "    return X"
      ],
      "metadata": {
        "id": "yBfdNu_21d70"
      },
      "execution_count": null,
      "outputs": []
    },
    {
      "cell_type": "code",
      "source": [
        "sentences = []\n",
        "tags = []\n",
        "for sent in train_set:\n",
        "    sent_word = []\n",
        "    sent_tag = []\n",
        "    for word, tag in sent:\n",
        "        sent_word.append(word)\n",
        "        sent_tag.append(tag)\n",
        "    \n",
        "    sentences.append(sent_word)\n",
        "    tags.append(sent_tag)"
      ],
      "metadata": {
        "id": "Eog6sNvvZUes"
      },
      "execution_count": null,
      "outputs": []
    },
    {
      "cell_type": "code",
      "source": [
        "len(sentences)"
      ],
      "metadata": {
        "colab": {
          "base_uri": "https://localhost:8080/"
        },
        "id": "BMv5GkopZhyt",
        "outputId": "959e2a77-9360-4999-a44f-e865c7f574a1"
      },
      "execution_count": null,
      "outputs": [
        {
          "output_type": "execute_result",
          "data": {
            "text/plain": [
              "8021"
            ]
          },
          "metadata": {},
          "execution_count": 18
        }
      ]
    },
    {
      "cell_type": "code",
      "source": [
        "train_sentences, test_sentences, train_tags, test_tags = train_test_split(sentences, tags, test_size=0.2)"
      ],
      "metadata": {
        "id": "x7UOlWivZjbk"
      },
      "execution_count": null,
      "outputs": []
    },
    {
      "cell_type": "code",
      "source": [
        "X_train = prepareData(train_sentences)\n",
        "y_train = train_tags\n",
        "X_test = prepareData(test_sentences)\n",
        "y_test =  test_tags"
      ],
      "metadata": {
        "id": "Um23GYpEZlmK"
      },
      "execution_count": null,
      "outputs": []
    },
    {
      "cell_type": "code",
      "source": [
        "crf = CRF(\n",
        "    algorithm='lbfgs',\n",
        "    c1=0.01,\n",
        "    c2=0.1,\n",
        "    max_iterations=100,\n",
        "    all_possible_transitions=True\n",
        ")\n",
        "try:\n",
        "    crf.fit(X_train, y_train)\n",
        "except AttributeError:\n",
        "    pass"
      ],
      "metadata": {
        "id": "CxV6PHQaZnNd"
      },
      "execution_count": null,
      "outputs": []
    },
    {
      "cell_type": "code",
      "source": [
        "y_pred=crf.predict(X_test)\n",
        "y_pred_train=crf.predict(X_train)"
      ],
      "metadata": {
        "id": "-Fo_s66fZrGL"
      },
      "execution_count": null,
      "outputs": []
    },
    {
      "cell_type": "code",
      "source": [
        "from sklearn_crfsuite import metrics\n",
        "from sklearn_crfsuite import scorers\n",
        "\n",
        "#F1 score test\n",
        "print(metrics.flat_f1_score(y_test, y_pred,average='weighted',labels=crf.classes_))\n",
        "#Accuracy score test\n",
        "print(metrics.flat_accuracy_score(y_test,y_pred))"
      ],
      "metadata": {
        "id": "XpebeqS4Zsk7",
        "colab": {
          "base_uri": "https://localhost:8080/"
        },
        "outputId": "35a69ad9-b78e-45d3-f88c-91ca7b3c1094"
      },
      "execution_count": null,
      "outputs": [
        {
          "output_type": "stream",
          "name": "stdout",
          "text": [
            "0.9436121185932743\n",
            "0.9457307919756175\n"
          ]
        }
      ]
    },
    {
      "cell_type": "code",
      "source": [
        "#F1 score train\n",
        "print(metrics.flat_f1_score(y_train, y_pred_train,average='weighted',labels=crf.classes_))\n",
        "#Accuracy score train\n",
        "print(metrics.flat_accuracy_score(y_train,y_pred_train))"
      ],
      "metadata": {
        "id": "mGwZs0eHZybM",
        "colab": {
          "base_uri": "https://localhost:8080/"
        },
        "outputId": "09486334-2fed-436d-b4c0-ed115232a5bd"
      },
      "execution_count": null,
      "outputs": [
        {
          "output_type": "stream",
          "name": "stdout",
          "text": [
            "0.9647870421058468\n",
            "0.965789083949464\n"
          ]
        }
      ]
    },
    {
      "cell_type": "code",
      "source": [
        "labels1=crf.classes_\n",
        "labels1"
      ],
      "metadata": {
        "id": "oaGXCDePZ1lL",
        "colab": {
          "base_uri": "https://localhost:8080/"
        },
        "outputId": "6db97243-68ea-4147-f40c-a7fccee95708"
      },
      "execution_count": null,
      "outputs": [
        {
          "output_type": "execute_result",
          "data": {
            "text/plain": [
              "['O',\n",
              " 'B-DATE',\n",
              " 'B-LOCATION',\n",
              " 'I-LOCATION',\n",
              " 'B-SYMPTOM_AND_DISEASE',\n",
              " 'I-SYMPTOM_AND_DISEASE',\n",
              " 'I-DATE',\n",
              " 'B-PATIENT_ID',\n",
              " 'B-NAME',\n",
              " 'B-AGE',\n",
              " 'B-JOB',\n",
              " 'B-ORGANIZATION',\n",
              " 'I-ORGANIZATION',\n",
              " 'B-GENDER',\n",
              " 'B-TRANSPORTATION',\n",
              " 'I-JOB',\n",
              " 'I-TRANSPORTATION',\n",
              " 'I-NAME',\n",
              " 'I-PATIENT_ID',\n",
              " 'I-AGE']"
            ]
          },
          "metadata": {},
          "execution_count": 28
        }
      ]
    },
    {
      "cell_type": "markdown",
      "source": [
        "## 3. Logistic Regression"
      ],
      "metadata": {
        "id": "URp2Y5vh1gwT"
      }
    },
    {
      "cell_type": "code",
      "source": [
        "from sklearn.feature_extraction.text import TfidfVectorizer\n",
        "from sklearn.feature_extraction import DictVectorizer\n",
        "from sklearn.linear_model import LogisticRegression\n",
        "from sklearn.preprocessing import LabelEncoder"
      ],
      "metadata": {
        "id": "GC-KyRKY1loT"
      },
      "execution_count": null,
      "outputs": []
    },
    {
      "cell_type": "code",
      "source": [
        "Encoder = LabelEncoder()\n",
        "Tfidf_vect = TfidfVectorizer()"
      ],
      "metadata": {
        "id": "-B1-TNuAxifM"
      },
      "execution_count": null,
      "outputs": []
    },
    {
      "cell_type": "code",
      "source": [
        "all_tags = []\n",
        "all_words = []\n",
        "\n",
        "for sent in all_sents:\n",
        "    sent_word = []\n",
        "    sent_tag = []\n",
        "    for word, tag in sent:\n",
        "        sent_word.append(word)\n",
        "        sent_tag.append(tag)\n",
        "    \n",
        "    all_words.extend(sent_word)\n",
        "    all_tags.extend(sent_tag)"
      ],
      "metadata": {
        "id": "utEG02tJyLfn"
      },
      "execution_count": null,
      "outputs": []
    },
    {
      "cell_type": "code",
      "source": [
        "len(all_words), len(all_tags)"
      ],
      "metadata": {
        "colab": {
          "base_uri": "https://localhost:8080/"
        },
        "id": "TGkiY09ZzECx",
        "outputId": "b41093f0-c1dc-4a0c-a535-bf91d2ad26b4"
      },
      "execution_count": null,
      "outputs": [
        {
          "output_type": "execute_result",
          "data": {
            "text/plain": [
              "(274472, 274472)"
            ]
          },
          "metadata": {},
          "execution_count": 37
        }
      ]
    },
    {
      "cell_type": "code",
      "source": [
        "wordvec = Tfidf_vect.fit_transform(all_words)\n",
        "wordvec.shape"
      ],
      "metadata": {
        "colab": {
          "base_uri": "https://localhost:8080/"
        },
        "id": "6WN8N3W5xnGI",
        "outputId": "795b84d9-aa0a-4569-efe7-9ae4aee3d190"
      },
      "execution_count": null,
      "outputs": [
        {
          "output_type": "execute_result",
          "data": {
            "text/plain": [
              "(274472, 6493)"
            ]
          },
          "metadata": {},
          "execution_count": 38
        }
      ]
    },
    {
      "cell_type": "code",
      "source": [
        "len(Tfidf_vect.vocabulary_)\n",
        "# print(Tfidf_vect.vocabulary_)"
      ],
      "metadata": {
        "colab": {
          "base_uri": "https://localhost:8080/"
        },
        "id": "tLHVrNhKzPlC",
        "outputId": "80228286-1038-45cb-e9e2-54a5f17c75b3"
      },
      "execution_count": null,
      "outputs": [
        {
          "output_type": "execute_result",
          "data": {
            "text/plain": [
              "6493"
            ]
          },
          "metadata": {},
          "execution_count": 41
        }
      ]
    },
    {
      "cell_type": "code",
      "source": [
        "Train_X, Test_X, Train_Y, Test_Y = train_test_split(wordvec, all_tags,test_size=0.2, random_state = 5)"
      ],
      "metadata": {
        "id": "4Uk5TS3azLL5"
      },
      "execution_count": null,
      "outputs": []
    },
    {
      "cell_type": "code",
      "source": [
        "classifier_lgr = LogisticRegression()\n",
        "classifier_lgr.fit(Train_X,Train_Y)"
      ],
      "metadata": {
        "colab": {
          "base_uri": "https://localhost:8080/"
        },
        "id": "cSv06C4wzRp-",
        "outputId": "eb027fd4-9196-49dd-9051-ed16fe4df8dd"
      },
      "execution_count": null,
      "outputs": [
        {
          "output_type": "stream",
          "name": "stderr",
          "text": [
            "/usr/local/lib/python3.8/dist-packages/sklearn/linear_model/_logistic.py:814: ConvergenceWarning: lbfgs failed to converge (status=1):\n",
            "STOP: TOTAL NO. of ITERATIONS REACHED LIMIT.\n",
            "\n",
            "Increase the number of iterations (max_iter) or scale the data as shown in:\n",
            "    https://scikit-learn.org/stable/modules/preprocessing.html\n",
            "Please also refer to the documentation for alternative solver options:\n",
            "    https://scikit-learn.org/stable/modules/linear_model.html#logistic-regression\n",
            "  n_iter_i = _check_optimize_result(\n"
          ]
        },
        {
          "output_type": "execute_result",
          "data": {
            "text/plain": [
              "LogisticRegression()"
            ]
          },
          "metadata": {},
          "execution_count": 42
        }
      ]
    },
    {
      "cell_type": "code",
      "source": [
        "predictions_LGR = classifier_lgr.predict(Test_X)\n",
        "accuracy_score(predictions_LGR, Test_Y)"
      ],
      "metadata": {
        "colab": {
          "base_uri": "https://localhost:8080/"
        },
        "id": "I5fYsK4tzYKY",
        "outputId": "a32ffb74-4284-4a5f-d8ba-05a023e1cd8e"
      },
      "execution_count": null,
      "outputs": [
        {
          "output_type": "execute_result",
          "data": {
            "text/plain": [
              "0.8633573185171691"
            ]
          },
          "metadata": {},
          "execution_count": 43
        }
      ]
    },
    {
      "cell_type": "code",
      "source": [
        "from sklearn.metrics import classification_report"
      ],
      "metadata": {
        "id": "qN90acYBzZkt"
      },
      "execution_count": null,
      "outputs": []
    },
    {
      "cell_type": "code",
      "source": [
        "print(classification_report(predictions_LGR, Test_Y))"
      ],
      "metadata": {
        "colab": {
          "base_uri": "https://localhost:8080/"
        },
        "id": "6ToD3W1HulMt",
        "outputId": "67e26a45-f49e-4e40-f9ef-7a1976025c9a"
      },
      "execution_count": null,
      "outputs": [
        {
          "output_type": "stream",
          "name": "stderr",
          "text": [
            "/usr/local/lib/python3.8/dist-packages/sklearn/metrics/_classification.py:1318: UndefinedMetricWarning: Recall and F-score are ill-defined and being set to 0.0 in labels with no true samples. Use `zero_division` parameter to control this behavior.\n",
            "  _warn_prf(average, modifier, msg_start, len(result))\n",
            "/usr/local/lib/python3.8/dist-packages/sklearn/metrics/_classification.py:1318: UndefinedMetricWarning: Recall and F-score are ill-defined and being set to 0.0 in labels with no true samples. Use `zero_division` parameter to control this behavior.\n",
            "  _warn_prf(average, modifier, msg_start, len(result))\n"
          ]
        },
        {
          "output_type": "stream",
          "name": "stdout",
          "text": [
            "                       precision    recall  f1-score   support\n",
            "\n",
            "                B-AGE       0.40      0.56      0.47       218\n",
            "               B-DATE       0.66      0.65      0.65      1082\n",
            "             B-GENDER       0.94      0.74      0.83       321\n",
            "                B-JOB       0.26      0.67      0.37        36\n",
            "           B-LOCATION       0.69      0.64      0.66      2769\n",
            "               B-NAME       0.10      1.00      0.18        16\n",
            "       B-ORGANIZATION       0.67      0.68      0.67       476\n",
            "         B-PATIENT_ID       0.57      0.83      0.68       889\n",
            "B-SYMPTOM_AND_DISEASE       0.82      0.79      0.80       649\n",
            "     B-TRANSPORTATION       0.41      0.95      0.58        42\n",
            "                I-AGE       0.00      0.00      0.00         0\n",
            "               I-DATE       0.00      0.67      0.00         3\n",
            "                I-JOB       0.00      0.00      0.00         0\n",
            "           I-LOCATION       0.49      0.66      0.56      2008\n",
            "               I-NAME       0.00      0.00      0.00         0\n",
            "       I-ORGANIZATION       0.39      0.65      0.49       736\n",
            "         I-PATIENT_ID       0.00      0.00      0.00         0\n",
            "I-SYMPTOM_AND_DISEASE       0.55      0.63      0.58       697\n",
            "     I-TRANSPORTATION       0.26      1.00      0.41         7\n",
            "                    O       0.97      0.90      0.93     44946\n",
            "\n",
            "             accuracy                           0.86     54895\n",
            "            macro avg       0.41      0.60      0.44     54895\n",
            "         weighted avg       0.90      0.86      0.88     54895\n",
            "\n"
          ]
        },
        {
          "output_type": "stream",
          "name": "stderr",
          "text": [
            "/usr/local/lib/python3.8/dist-packages/sklearn/metrics/_classification.py:1318: UndefinedMetricWarning: Recall and F-score are ill-defined and being set to 0.0 in labels with no true samples. Use `zero_division` parameter to control this behavior.\n",
            "  _warn_prf(average, modifier, msg_start, len(result))\n"
          ]
        }
      ]
    },
    {
      "cell_type": "code",
      "source": [],
      "metadata": {
        "id": "BzrIdgtvzdRU"
      },
      "execution_count": null,
      "outputs": []
    }
  ]
}